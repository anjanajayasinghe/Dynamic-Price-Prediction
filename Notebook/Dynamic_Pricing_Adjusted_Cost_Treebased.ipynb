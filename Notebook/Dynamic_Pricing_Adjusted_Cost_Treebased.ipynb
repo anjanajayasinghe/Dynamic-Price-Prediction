{
  "nbformat": 4,
  "nbformat_minor": 0,
  "metadata": {
    "colab": {
      "provenance": [],
      "gpuType": "T4"
    },
    "kernelspec": {
      "name": "python3",
      "display_name": "Python 3"
    },
    "language_info": {
      "name": "python"
    },
    "accelerator": "GPU"
  },
  "cells": [
    {
      "cell_type": "markdown",
      "source": [
        "# Dynamic pricing\n",
        "\n",
        "Your goal is to build a dynamic pricing model that incorporates the provided features to predict optimal fares for rides in real-time. The model must consider factors such as demand patterns and supply availability."
      ],
      "metadata": {
        "id": "y7OasRv2p_my"
      }
    },
    {
      "cell_type": "code",
      "execution_count": null,
      "metadata": {
        "colab": {
          "base_uri": "https://localhost:8080/"
        },
        "id": "wHLTtEcNpjnE",
        "outputId": "3fb6d756-b276-42c9-e7fc-ab82986ce20d"
      },
      "outputs": [
        {
          "output_type": "stream",
          "name": "stdout",
          "text": [
            "Mounted at /content/drive\n"
          ]
        }
      ],
      "source": [
        "from google.colab import drive\n",
        "drive.mount('/content/drive')\n"
      ]
    },
    {
      "cell_type": "code",
      "source": [
        "#Importing Libraries\n",
        "import pandas as pd\n",
        "import numpy as np\n",
        "import matplotlib.pyplot as plt\n",
        "import seaborn as sns\n"
      ],
      "metadata": {
        "id": "EIMyV-XPrseX"
      },
      "execution_count": null,
      "outputs": []
    },
    {
      "cell_type": "code",
      "source": [
        "#Importing the data\n",
        "main=pd.read_csv(\"/content/drive/MyDrive/Colab Notebooks/FINAL PROJECT/df_1.csv\", index_col=0)\n",
        "backup=pd.read_csv(\"/content/drive/MyDrive/Colab Notebooks/FINAL PROJECT/df_1.csv\", index_col=0)"
      ],
      "metadata": {
        "id": "vjhkdEiUrC9X"
      },
      "execution_count": null,
      "outputs": []
    },
    {
      "cell_type": "code",
      "source": [
        "df=main\n",
        "\n",
        "df.head(6)"
      ],
      "metadata": {
        "colab": {
          "base_uri": "https://localhost:8080/",
          "height": 257
        },
        "id": "29z7IhXXrDNp",
        "outputId": "56afa8d0-cec0-4131-94a2-4ab4db052b8b"
      },
      "execution_count": null,
      "outputs": [
        {
          "output_type": "execute_result",
          "data": {
            "text/plain": [
              "   Number_of_Riders  Number_of_Drivers Location_Category  \\\n",
              "0                90                 45             Urban   \n",
              "1                58                 39          Suburban   \n",
              "2                42                 31             Rural   \n",
              "3                89                 28             Rural   \n",
              "4                78                 22             Rural   \n",
              "5                59                 35             Urban   \n",
              "\n",
              "  Customer_Loyalty_Status  Number_of_Past_Rides  Average_Ratings  \\\n",
              "0                  Silver                    13             4.47   \n",
              "1                  Silver                    72             4.06   \n",
              "2                  Silver                     0             3.99   \n",
              "3                 Regular                    67             4.31   \n",
              "4                 Regular                    74             3.77   \n",
              "5                  Silver                    83             3.51   \n",
              "\n",
              "  Time_of_Booking Vehicle_Type  Expected_Ride_Duration  adjusted_ride_cost  \n",
              "0           Night      Premium                      90          266.710528  \n",
              "1         Evening      Economy                      43          245.653817  \n",
              "2       Afternoon      Premium                      76          424.478684  \n",
              "3       Afternoon      Premium                     134          701.155452  \n",
              "4       Afternoon      Economy                     149         1952.472427  \n",
              "5           Night      Economy                     128          544.414227  "
            ],
            "text/html": [
              "\n",
              "  <div id=\"df-5ef615bd-565c-4655-ba08-7e109f02ced5\" class=\"colab-df-container\">\n",
              "    <div>\n",
              "<style scoped>\n",
              "    .dataframe tbody tr th:only-of-type {\n",
              "        vertical-align: middle;\n",
              "    }\n",
              "\n",
              "    .dataframe tbody tr th {\n",
              "        vertical-align: top;\n",
              "    }\n",
              "\n",
              "    .dataframe thead th {\n",
              "        text-align: right;\n",
              "    }\n",
              "</style>\n",
              "<table border=\"1\" class=\"dataframe\">\n",
              "  <thead>\n",
              "    <tr style=\"text-align: right;\">\n",
              "      <th></th>\n",
              "      <th>Number_of_Riders</th>\n",
              "      <th>Number_of_Drivers</th>\n",
              "      <th>Location_Category</th>\n",
              "      <th>Customer_Loyalty_Status</th>\n",
              "      <th>Number_of_Past_Rides</th>\n",
              "      <th>Average_Ratings</th>\n",
              "      <th>Time_of_Booking</th>\n",
              "      <th>Vehicle_Type</th>\n",
              "      <th>Expected_Ride_Duration</th>\n",
              "      <th>adjusted_ride_cost</th>\n",
              "    </tr>\n",
              "  </thead>\n",
              "  <tbody>\n",
              "    <tr>\n",
              "      <th>0</th>\n",
              "      <td>90</td>\n",
              "      <td>45</td>\n",
              "      <td>Urban</td>\n",
              "      <td>Silver</td>\n",
              "      <td>13</td>\n",
              "      <td>4.47</td>\n",
              "      <td>Night</td>\n",
              "      <td>Premium</td>\n",
              "      <td>90</td>\n",
              "      <td>266.710528</td>\n",
              "    </tr>\n",
              "    <tr>\n",
              "      <th>1</th>\n",
              "      <td>58</td>\n",
              "      <td>39</td>\n",
              "      <td>Suburban</td>\n",
              "      <td>Silver</td>\n",
              "      <td>72</td>\n",
              "      <td>4.06</td>\n",
              "      <td>Evening</td>\n",
              "      <td>Economy</td>\n",
              "      <td>43</td>\n",
              "      <td>245.653817</td>\n",
              "    </tr>\n",
              "    <tr>\n",
              "      <th>2</th>\n",
              "      <td>42</td>\n",
              "      <td>31</td>\n",
              "      <td>Rural</td>\n",
              "      <td>Silver</td>\n",
              "      <td>0</td>\n",
              "      <td>3.99</td>\n",
              "      <td>Afternoon</td>\n",
              "      <td>Premium</td>\n",
              "      <td>76</td>\n",
              "      <td>424.478684</td>\n",
              "    </tr>\n",
              "    <tr>\n",
              "      <th>3</th>\n",
              "      <td>89</td>\n",
              "      <td>28</td>\n",
              "      <td>Rural</td>\n",
              "      <td>Regular</td>\n",
              "      <td>67</td>\n",
              "      <td>4.31</td>\n",
              "      <td>Afternoon</td>\n",
              "      <td>Premium</td>\n",
              "      <td>134</td>\n",
              "      <td>701.155452</td>\n",
              "    </tr>\n",
              "    <tr>\n",
              "      <th>4</th>\n",
              "      <td>78</td>\n",
              "      <td>22</td>\n",
              "      <td>Rural</td>\n",
              "      <td>Regular</td>\n",
              "      <td>74</td>\n",
              "      <td>3.77</td>\n",
              "      <td>Afternoon</td>\n",
              "      <td>Economy</td>\n",
              "      <td>149</td>\n",
              "      <td>1952.472427</td>\n",
              "    </tr>\n",
              "    <tr>\n",
              "      <th>5</th>\n",
              "      <td>59</td>\n",
              "      <td>35</td>\n",
              "      <td>Urban</td>\n",
              "      <td>Silver</td>\n",
              "      <td>83</td>\n",
              "      <td>3.51</td>\n",
              "      <td>Night</td>\n",
              "      <td>Economy</td>\n",
              "      <td>128</td>\n",
              "      <td>544.414227</td>\n",
              "    </tr>\n",
              "  </tbody>\n",
              "</table>\n",
              "</div>\n",
              "    <div class=\"colab-df-buttons\">\n",
              "\n",
              "  <div class=\"colab-df-container\">\n",
              "    <button class=\"colab-df-convert\" onclick=\"convertToInteractive('df-5ef615bd-565c-4655-ba08-7e109f02ced5')\"\n",
              "            title=\"Convert this dataframe to an interactive table.\"\n",
              "            style=\"display:none;\">\n",
              "\n",
              "  <svg xmlns=\"http://www.w3.org/2000/svg\" height=\"24px\" viewBox=\"0 -960 960 960\">\n",
              "    <path d=\"M120-120v-720h720v720H120Zm60-500h600v-160H180v160Zm220 220h160v-160H400v160Zm0 220h160v-160H400v160ZM180-400h160v-160H180v160Zm440 0h160v-160H620v160ZM180-180h160v-160H180v160Zm440 0h160v-160H620v160Z\"/>\n",
              "  </svg>\n",
              "    </button>\n",
              "\n",
              "  <style>\n",
              "    .colab-df-container {\n",
              "      display:flex;\n",
              "      gap: 12px;\n",
              "    }\n",
              "\n",
              "    .colab-df-convert {\n",
              "      background-color: #E8F0FE;\n",
              "      border: none;\n",
              "      border-radius: 50%;\n",
              "      cursor: pointer;\n",
              "      display: none;\n",
              "      fill: #1967D2;\n",
              "      height: 32px;\n",
              "      padding: 0 0 0 0;\n",
              "      width: 32px;\n",
              "    }\n",
              "\n",
              "    .colab-df-convert:hover {\n",
              "      background-color: #E2EBFA;\n",
              "      box-shadow: 0px 1px 2px rgba(60, 64, 67, 0.3), 0px 1px 3px 1px rgba(60, 64, 67, 0.15);\n",
              "      fill: #174EA6;\n",
              "    }\n",
              "\n",
              "    .colab-df-buttons div {\n",
              "      margin-bottom: 4px;\n",
              "    }\n",
              "\n",
              "    [theme=dark] .colab-df-convert {\n",
              "      background-color: #3B4455;\n",
              "      fill: #D2E3FC;\n",
              "    }\n",
              "\n",
              "    [theme=dark] .colab-df-convert:hover {\n",
              "      background-color: #434B5C;\n",
              "      box-shadow: 0px 1px 3px 1px rgba(0, 0, 0, 0.15);\n",
              "      filter: drop-shadow(0px 1px 2px rgba(0, 0, 0, 0.3));\n",
              "      fill: #FFFFFF;\n",
              "    }\n",
              "  </style>\n",
              "\n",
              "    <script>\n",
              "      const buttonEl =\n",
              "        document.querySelector('#df-5ef615bd-565c-4655-ba08-7e109f02ced5 button.colab-df-convert');\n",
              "      buttonEl.style.display =\n",
              "        google.colab.kernel.accessAllowed ? 'block' : 'none';\n",
              "\n",
              "      async function convertToInteractive(key) {\n",
              "        const element = document.querySelector('#df-5ef615bd-565c-4655-ba08-7e109f02ced5');\n",
              "        const dataTable =\n",
              "          await google.colab.kernel.invokeFunction('convertToInteractive',\n",
              "                                                    [key], {});\n",
              "        if (!dataTable) return;\n",
              "\n",
              "        const docLinkHtml = 'Like what you see? Visit the ' +\n",
              "          '<a target=\"_blank\" href=https://colab.research.google.com/notebooks/data_table.ipynb>data table notebook</a>'\n",
              "          + ' to learn more about interactive tables.';\n",
              "        element.innerHTML = '';\n",
              "        dataTable['output_type'] = 'display_data';\n",
              "        await google.colab.output.renderOutput(dataTable, element);\n",
              "        const docLink = document.createElement('div');\n",
              "        docLink.innerHTML = docLinkHtml;\n",
              "        element.appendChild(docLink);\n",
              "      }\n",
              "    </script>\n",
              "  </div>\n",
              "\n",
              "\n",
              "<div id=\"df-602f3a3f-a843-48cc-98b9-17084b436208\">\n",
              "  <button class=\"colab-df-quickchart\" onclick=\"quickchart('df-602f3a3f-a843-48cc-98b9-17084b436208')\"\n",
              "            title=\"Suggest charts\"\n",
              "            style=\"display:none;\">\n",
              "\n",
              "<svg xmlns=\"http://www.w3.org/2000/svg\" height=\"24px\"viewBox=\"0 0 24 24\"\n",
              "     width=\"24px\">\n",
              "    <g>\n",
              "        <path d=\"M19 3H5c-1.1 0-2 .9-2 2v14c0 1.1.9 2 2 2h14c1.1 0 2-.9 2-2V5c0-1.1-.9-2-2-2zM9 17H7v-7h2v7zm4 0h-2V7h2v10zm4 0h-2v-4h2v4z\"/>\n",
              "    </g>\n",
              "</svg>\n",
              "  </button>\n",
              "\n",
              "<style>\n",
              "  .colab-df-quickchart {\n",
              "      --bg-color: #E8F0FE;\n",
              "      --fill-color: #1967D2;\n",
              "      --hover-bg-color: #E2EBFA;\n",
              "      --hover-fill-color: #174EA6;\n",
              "      --disabled-fill-color: #AAA;\n",
              "      --disabled-bg-color: #DDD;\n",
              "  }\n",
              "\n",
              "  [theme=dark] .colab-df-quickchart {\n",
              "      --bg-color: #3B4455;\n",
              "      --fill-color: #D2E3FC;\n",
              "      --hover-bg-color: #434B5C;\n",
              "      --hover-fill-color: #FFFFFF;\n",
              "      --disabled-bg-color: #3B4455;\n",
              "      --disabled-fill-color: #666;\n",
              "  }\n",
              "\n",
              "  .colab-df-quickchart {\n",
              "    background-color: var(--bg-color);\n",
              "    border: none;\n",
              "    border-radius: 50%;\n",
              "    cursor: pointer;\n",
              "    display: none;\n",
              "    fill: var(--fill-color);\n",
              "    height: 32px;\n",
              "    padding: 0;\n",
              "    width: 32px;\n",
              "  }\n",
              "\n",
              "  .colab-df-quickchart:hover {\n",
              "    background-color: var(--hover-bg-color);\n",
              "    box-shadow: 0 1px 2px rgba(60, 64, 67, 0.3), 0 1px 3px 1px rgba(60, 64, 67, 0.15);\n",
              "    fill: var(--button-hover-fill-color);\n",
              "  }\n",
              "\n",
              "  .colab-df-quickchart-complete:disabled,\n",
              "  .colab-df-quickchart-complete:disabled:hover {\n",
              "    background-color: var(--disabled-bg-color);\n",
              "    fill: var(--disabled-fill-color);\n",
              "    box-shadow: none;\n",
              "  }\n",
              "\n",
              "  .colab-df-spinner {\n",
              "    border: 2px solid var(--fill-color);\n",
              "    border-color: transparent;\n",
              "    border-bottom-color: var(--fill-color);\n",
              "    animation:\n",
              "      spin 1s steps(1) infinite;\n",
              "  }\n",
              "\n",
              "  @keyframes spin {\n",
              "    0% {\n",
              "      border-color: transparent;\n",
              "      border-bottom-color: var(--fill-color);\n",
              "      border-left-color: var(--fill-color);\n",
              "    }\n",
              "    20% {\n",
              "      border-color: transparent;\n",
              "      border-left-color: var(--fill-color);\n",
              "      border-top-color: var(--fill-color);\n",
              "    }\n",
              "    30% {\n",
              "      border-color: transparent;\n",
              "      border-left-color: var(--fill-color);\n",
              "      border-top-color: var(--fill-color);\n",
              "      border-right-color: var(--fill-color);\n",
              "    }\n",
              "    40% {\n",
              "      border-color: transparent;\n",
              "      border-right-color: var(--fill-color);\n",
              "      border-top-color: var(--fill-color);\n",
              "    }\n",
              "    60% {\n",
              "      border-color: transparent;\n",
              "      border-right-color: var(--fill-color);\n",
              "    }\n",
              "    80% {\n",
              "      border-color: transparent;\n",
              "      border-right-color: var(--fill-color);\n",
              "      border-bottom-color: var(--fill-color);\n",
              "    }\n",
              "    90% {\n",
              "      border-color: transparent;\n",
              "      border-bottom-color: var(--fill-color);\n",
              "    }\n",
              "  }\n",
              "</style>\n",
              "\n",
              "  <script>\n",
              "    async function quickchart(key) {\n",
              "      const quickchartButtonEl =\n",
              "        document.querySelector('#' + key + ' button');\n",
              "      quickchartButtonEl.disabled = true;  // To prevent multiple clicks.\n",
              "      quickchartButtonEl.classList.add('colab-df-spinner');\n",
              "      try {\n",
              "        const charts = await google.colab.kernel.invokeFunction(\n",
              "            'suggestCharts', [key], {});\n",
              "      } catch (error) {\n",
              "        console.error('Error during call to suggestCharts:', error);\n",
              "      }\n",
              "      quickchartButtonEl.classList.remove('colab-df-spinner');\n",
              "      quickchartButtonEl.classList.add('colab-df-quickchart-complete');\n",
              "    }\n",
              "    (() => {\n",
              "      let quickchartButtonEl =\n",
              "        document.querySelector('#df-602f3a3f-a843-48cc-98b9-17084b436208 button');\n",
              "      quickchartButtonEl.style.display =\n",
              "        google.colab.kernel.accessAllowed ? 'block' : 'none';\n",
              "    })();\n",
              "  </script>\n",
              "</div>\n",
              "\n",
              "    </div>\n",
              "  </div>\n"
            ],
            "application/vnd.google.colaboratory.intrinsic+json": {
              "type": "dataframe",
              "variable_name": "df",
              "summary": "{\n  \"name\": \"df\",\n  \"rows\": 1000,\n  \"fields\": [\n    {\n      \"column\": \"Number_of_Riders\",\n      \"properties\": {\n        \"dtype\": \"number\",\n        \"std\": 23,\n        \"min\": 20,\n        \"max\": 100,\n        \"num_unique_values\": 81,\n        \"samples\": [\n          68,\n          90,\n          48\n        ],\n        \"semantic_type\": \"\",\n        \"description\": \"\"\n      }\n    },\n    {\n      \"column\": \"Number_of_Drivers\",\n      \"properties\": {\n        \"dtype\": \"number\",\n        \"std\": 19,\n        \"min\": 5,\n        \"max\": 89,\n        \"num_unique_values\": 79,\n        \"samples\": [\n          55,\n          45,\n          9\n        ],\n        \"semantic_type\": \"\",\n        \"description\": \"\"\n      }\n    },\n    {\n      \"column\": \"Location_Category\",\n      \"properties\": {\n        \"dtype\": \"category\",\n        \"num_unique_values\": 3,\n        \"samples\": [\n          \"Urban\",\n          \"Suburban\",\n          \"Rural\"\n        ],\n        \"semantic_type\": \"\",\n        \"description\": \"\"\n      }\n    },\n    {\n      \"column\": \"Customer_Loyalty_Status\",\n      \"properties\": {\n        \"dtype\": \"category\",\n        \"num_unique_values\": 3,\n        \"samples\": [\n          \"Silver\",\n          \"Regular\",\n          \"Gold\"\n        ],\n        \"semantic_type\": \"\",\n        \"description\": \"\"\n      }\n    },\n    {\n      \"column\": \"Number_of_Past_Rides\",\n      \"properties\": {\n        \"dtype\": \"number\",\n        \"std\": 29,\n        \"min\": 0,\n        \"max\": 100,\n        \"num_unique_values\": 101,\n        \"samples\": [\n          42,\n          31,\n          90\n        ],\n        \"semantic_type\": \"\",\n        \"description\": \"\"\n      }\n    },\n    {\n      \"column\": \"Average_Ratings\",\n      \"properties\": {\n        \"dtype\": \"number\",\n        \"std\": 0.4357808813802833,\n        \"min\": 3.5,\n        \"max\": 5.0,\n        \"num_unique_values\": 151,\n        \"samples\": [\n          4.26,\n          4.82,\n          4.91\n        ],\n        \"semantic_type\": \"\",\n        \"description\": \"\"\n      }\n    },\n    {\n      \"column\": \"Time_of_Booking\",\n      \"properties\": {\n        \"dtype\": \"category\",\n        \"num_unique_values\": 4,\n        \"samples\": [\n          \"Evening\",\n          \"Morning\",\n          \"Night\"\n        ],\n        \"semantic_type\": \"\",\n        \"description\": \"\"\n      }\n    },\n    {\n      \"column\": \"Vehicle_Type\",\n      \"properties\": {\n        \"dtype\": \"category\",\n        \"num_unique_values\": 2,\n        \"samples\": [\n          \"Economy\",\n          \"Premium\"\n        ],\n        \"semantic_type\": \"\",\n        \"description\": \"\"\n      }\n    },\n    {\n      \"column\": \"Expected_Ride_Duration\",\n      \"properties\": {\n        \"dtype\": \"number\",\n        \"std\": 49,\n        \"min\": 10,\n        \"max\": 180,\n        \"num_unique_values\": 171,\n        \"samples\": [\n          145,\n          28\n        ],\n        \"semantic_type\": \"\",\n        \"description\": \"\"\n      }\n    },\n    {\n      \"column\": \"adjusted_ride_cost\",\n      \"properties\": {\n        \"dtype\": \"number\",\n        \"std\": 482.6081982762366,\n        \"min\": 32.354312522312306,\n        \"max\": 3321.9005109614272,\n        \"num_unique_values\": 1000,\n        \"samples\": [\n          614.288912211575,\n          619.5712719421487\n        ],\n        \"semantic_type\": \"\",\n        \"description\": \"\"\n      }\n    }\n  ]\n}"
            }
          },
          "metadata": {},
          "execution_count": 4
        }
      ]
    },
    {
      "cell_type": "code",
      "source": [
        "df.shape"
      ],
      "metadata": {
        "colab": {
          "base_uri": "https://localhost:8080/"
        },
        "id": "1kumP41qt2IS",
        "outputId": "0dc351f6-7b2b-4f6f-84ad-b528d29e9b98"
      },
      "execution_count": null,
      "outputs": [
        {
          "output_type": "execute_result",
          "data": {
            "text/plain": [
              "(1000, 10)"
            ]
          },
          "metadata": {},
          "execution_count": 5
        }
      ]
    },
    {
      "cell_type": "code",
      "source": [
        "df.info()"
      ],
      "metadata": {
        "colab": {
          "base_uri": "https://localhost:8080/"
        },
        "id": "3SvsYM9irDVr",
        "outputId": "a3027e8b-b8c2-4cde-8d87-53680a9f630b"
      },
      "execution_count": null,
      "outputs": [
        {
          "output_type": "stream",
          "name": "stdout",
          "text": [
            "<class 'pandas.core.frame.DataFrame'>\n",
            "Int64Index: 1000 entries, 0 to 999\n",
            "Data columns (total 10 columns):\n",
            " #   Column                   Non-Null Count  Dtype  \n",
            "---  ------                   --------------  -----  \n",
            " 0   Number_of_Riders         1000 non-null   int64  \n",
            " 1   Number_of_Drivers        1000 non-null   int64  \n",
            " 2   Location_Category        1000 non-null   object \n",
            " 3   Customer_Loyalty_Status  1000 non-null   object \n",
            " 4   Number_of_Past_Rides     1000 non-null   int64  \n",
            " 5   Average_Ratings          1000 non-null   float64\n",
            " 6   Time_of_Booking          1000 non-null   object \n",
            " 7   Vehicle_Type             1000 non-null   object \n",
            " 8   Expected_Ride_Duration   1000 non-null   int64  \n",
            " 9   adjusted_ride_cost       1000 non-null   float64\n",
            "dtypes: float64(2), int64(4), object(4)\n",
            "memory usage: 85.9+ KB\n"
          ]
        }
      ]
    },
    {
      "cell_type": "code",
      "source": [
        "df.describe()"
      ],
      "metadata": {
        "colab": {
          "base_uri": "https://localhost:8080/",
          "height": 300
        },
        "id": "7R_ifo97vB-j",
        "outputId": "29d3cd0a-2df1-4388-e060-b2cfab7ac46e"
      },
      "execution_count": null,
      "outputs": [
        {
          "output_type": "execute_result",
          "data": {
            "text/plain": [
              "       Number_of_Riders  Number_of_Drivers  Number_of_Past_Rides  \\\n",
              "count       1000.000000        1000.000000           1000.000000   \n",
              "mean          60.372000          27.076000             50.031000   \n",
              "std           23.701506          19.068346             29.313774   \n",
              "min           20.000000           5.000000              0.000000   \n",
              "25%           40.000000          11.000000             25.000000   \n",
              "50%           60.000000          22.000000             51.000000   \n",
              "75%           81.000000          38.000000             75.000000   \n",
              "max          100.000000          89.000000            100.000000   \n",
              "\n",
              "       Average_Ratings  Expected_Ride_Duration  adjusted_ride_cost  \n",
              "count      1000.000000              1000.00000         1000.000000  \n",
              "mean          4.257220                99.58800          681.140017  \n",
              "std           0.435781                49.16545          482.608198  \n",
              "min           3.500000                10.00000           32.354313  \n",
              "25%           3.870000                59.75000          340.636194  \n",
              "50%           4.270000               102.00000          583.988691  \n",
              "75%           4.632500               143.00000          889.630274  \n",
              "max           5.000000               180.00000         3321.900511  "
            ],
            "text/html": [
              "\n",
              "  <div id=\"df-9859c824-35d9-498d-911e-4100b244b115\" class=\"colab-df-container\">\n",
              "    <div>\n",
              "<style scoped>\n",
              "    .dataframe tbody tr th:only-of-type {\n",
              "        vertical-align: middle;\n",
              "    }\n",
              "\n",
              "    .dataframe tbody tr th {\n",
              "        vertical-align: top;\n",
              "    }\n",
              "\n",
              "    .dataframe thead th {\n",
              "        text-align: right;\n",
              "    }\n",
              "</style>\n",
              "<table border=\"1\" class=\"dataframe\">\n",
              "  <thead>\n",
              "    <tr style=\"text-align: right;\">\n",
              "      <th></th>\n",
              "      <th>Number_of_Riders</th>\n",
              "      <th>Number_of_Drivers</th>\n",
              "      <th>Number_of_Past_Rides</th>\n",
              "      <th>Average_Ratings</th>\n",
              "      <th>Expected_Ride_Duration</th>\n",
              "      <th>adjusted_ride_cost</th>\n",
              "    </tr>\n",
              "  </thead>\n",
              "  <tbody>\n",
              "    <tr>\n",
              "      <th>count</th>\n",
              "      <td>1000.000000</td>\n",
              "      <td>1000.000000</td>\n",
              "      <td>1000.000000</td>\n",
              "      <td>1000.000000</td>\n",
              "      <td>1000.00000</td>\n",
              "      <td>1000.000000</td>\n",
              "    </tr>\n",
              "    <tr>\n",
              "      <th>mean</th>\n",
              "      <td>60.372000</td>\n",
              "      <td>27.076000</td>\n",
              "      <td>50.031000</td>\n",
              "      <td>4.257220</td>\n",
              "      <td>99.58800</td>\n",
              "      <td>681.140017</td>\n",
              "    </tr>\n",
              "    <tr>\n",
              "      <th>std</th>\n",
              "      <td>23.701506</td>\n",
              "      <td>19.068346</td>\n",
              "      <td>29.313774</td>\n",
              "      <td>0.435781</td>\n",
              "      <td>49.16545</td>\n",
              "      <td>482.608198</td>\n",
              "    </tr>\n",
              "    <tr>\n",
              "      <th>min</th>\n",
              "      <td>20.000000</td>\n",
              "      <td>5.000000</td>\n",
              "      <td>0.000000</td>\n",
              "      <td>3.500000</td>\n",
              "      <td>10.00000</td>\n",
              "      <td>32.354313</td>\n",
              "    </tr>\n",
              "    <tr>\n",
              "      <th>25%</th>\n",
              "      <td>40.000000</td>\n",
              "      <td>11.000000</td>\n",
              "      <td>25.000000</td>\n",
              "      <td>3.870000</td>\n",
              "      <td>59.75000</td>\n",
              "      <td>340.636194</td>\n",
              "    </tr>\n",
              "    <tr>\n",
              "      <th>50%</th>\n",
              "      <td>60.000000</td>\n",
              "      <td>22.000000</td>\n",
              "      <td>51.000000</td>\n",
              "      <td>4.270000</td>\n",
              "      <td>102.00000</td>\n",
              "      <td>583.988691</td>\n",
              "    </tr>\n",
              "    <tr>\n",
              "      <th>75%</th>\n",
              "      <td>81.000000</td>\n",
              "      <td>38.000000</td>\n",
              "      <td>75.000000</td>\n",
              "      <td>4.632500</td>\n",
              "      <td>143.00000</td>\n",
              "      <td>889.630274</td>\n",
              "    </tr>\n",
              "    <tr>\n",
              "      <th>max</th>\n",
              "      <td>100.000000</td>\n",
              "      <td>89.000000</td>\n",
              "      <td>100.000000</td>\n",
              "      <td>5.000000</td>\n",
              "      <td>180.00000</td>\n",
              "      <td>3321.900511</td>\n",
              "    </tr>\n",
              "  </tbody>\n",
              "</table>\n",
              "</div>\n",
              "    <div class=\"colab-df-buttons\">\n",
              "\n",
              "  <div class=\"colab-df-container\">\n",
              "    <button class=\"colab-df-convert\" onclick=\"convertToInteractive('df-9859c824-35d9-498d-911e-4100b244b115')\"\n",
              "            title=\"Convert this dataframe to an interactive table.\"\n",
              "            style=\"display:none;\">\n",
              "\n",
              "  <svg xmlns=\"http://www.w3.org/2000/svg\" height=\"24px\" viewBox=\"0 -960 960 960\">\n",
              "    <path d=\"M120-120v-720h720v720H120Zm60-500h600v-160H180v160Zm220 220h160v-160H400v160Zm0 220h160v-160H400v160ZM180-400h160v-160H180v160Zm440 0h160v-160H620v160ZM180-180h160v-160H180v160Zm440 0h160v-160H620v160Z\"/>\n",
              "  </svg>\n",
              "    </button>\n",
              "\n",
              "  <style>\n",
              "    .colab-df-container {\n",
              "      display:flex;\n",
              "      gap: 12px;\n",
              "    }\n",
              "\n",
              "    .colab-df-convert {\n",
              "      background-color: #E8F0FE;\n",
              "      border: none;\n",
              "      border-radius: 50%;\n",
              "      cursor: pointer;\n",
              "      display: none;\n",
              "      fill: #1967D2;\n",
              "      height: 32px;\n",
              "      padding: 0 0 0 0;\n",
              "      width: 32px;\n",
              "    }\n",
              "\n",
              "    .colab-df-convert:hover {\n",
              "      background-color: #E2EBFA;\n",
              "      box-shadow: 0px 1px 2px rgba(60, 64, 67, 0.3), 0px 1px 3px 1px rgba(60, 64, 67, 0.15);\n",
              "      fill: #174EA6;\n",
              "    }\n",
              "\n",
              "    .colab-df-buttons div {\n",
              "      margin-bottom: 4px;\n",
              "    }\n",
              "\n",
              "    [theme=dark] .colab-df-convert {\n",
              "      background-color: #3B4455;\n",
              "      fill: #D2E3FC;\n",
              "    }\n",
              "\n",
              "    [theme=dark] .colab-df-convert:hover {\n",
              "      background-color: #434B5C;\n",
              "      box-shadow: 0px 1px 3px 1px rgba(0, 0, 0, 0.15);\n",
              "      filter: drop-shadow(0px 1px 2px rgba(0, 0, 0, 0.3));\n",
              "      fill: #FFFFFF;\n",
              "    }\n",
              "  </style>\n",
              "\n",
              "    <script>\n",
              "      const buttonEl =\n",
              "        document.querySelector('#df-9859c824-35d9-498d-911e-4100b244b115 button.colab-df-convert');\n",
              "      buttonEl.style.display =\n",
              "        google.colab.kernel.accessAllowed ? 'block' : 'none';\n",
              "\n",
              "      async function convertToInteractive(key) {\n",
              "        const element = document.querySelector('#df-9859c824-35d9-498d-911e-4100b244b115');\n",
              "        const dataTable =\n",
              "          await google.colab.kernel.invokeFunction('convertToInteractive',\n",
              "                                                    [key], {});\n",
              "        if (!dataTable) return;\n",
              "\n",
              "        const docLinkHtml = 'Like what you see? Visit the ' +\n",
              "          '<a target=\"_blank\" href=https://colab.research.google.com/notebooks/data_table.ipynb>data table notebook</a>'\n",
              "          + ' to learn more about interactive tables.';\n",
              "        element.innerHTML = '';\n",
              "        dataTable['output_type'] = 'display_data';\n",
              "        await google.colab.output.renderOutput(dataTable, element);\n",
              "        const docLink = document.createElement('div');\n",
              "        docLink.innerHTML = docLinkHtml;\n",
              "        element.appendChild(docLink);\n",
              "      }\n",
              "    </script>\n",
              "  </div>\n",
              "\n",
              "\n",
              "<div id=\"df-b9ee3fad-e029-4eeb-8722-e9d4f063c107\">\n",
              "  <button class=\"colab-df-quickchart\" onclick=\"quickchart('df-b9ee3fad-e029-4eeb-8722-e9d4f063c107')\"\n",
              "            title=\"Suggest charts\"\n",
              "            style=\"display:none;\">\n",
              "\n",
              "<svg xmlns=\"http://www.w3.org/2000/svg\" height=\"24px\"viewBox=\"0 0 24 24\"\n",
              "     width=\"24px\">\n",
              "    <g>\n",
              "        <path d=\"M19 3H5c-1.1 0-2 .9-2 2v14c0 1.1.9 2 2 2h14c1.1 0 2-.9 2-2V5c0-1.1-.9-2-2-2zM9 17H7v-7h2v7zm4 0h-2V7h2v10zm4 0h-2v-4h2v4z\"/>\n",
              "    </g>\n",
              "</svg>\n",
              "  </button>\n",
              "\n",
              "<style>\n",
              "  .colab-df-quickchart {\n",
              "      --bg-color: #E8F0FE;\n",
              "      --fill-color: #1967D2;\n",
              "      --hover-bg-color: #E2EBFA;\n",
              "      --hover-fill-color: #174EA6;\n",
              "      --disabled-fill-color: #AAA;\n",
              "      --disabled-bg-color: #DDD;\n",
              "  }\n",
              "\n",
              "  [theme=dark] .colab-df-quickchart {\n",
              "      --bg-color: #3B4455;\n",
              "      --fill-color: #D2E3FC;\n",
              "      --hover-bg-color: #434B5C;\n",
              "      --hover-fill-color: #FFFFFF;\n",
              "      --disabled-bg-color: #3B4455;\n",
              "      --disabled-fill-color: #666;\n",
              "  }\n",
              "\n",
              "  .colab-df-quickchart {\n",
              "    background-color: var(--bg-color);\n",
              "    border: none;\n",
              "    border-radius: 50%;\n",
              "    cursor: pointer;\n",
              "    display: none;\n",
              "    fill: var(--fill-color);\n",
              "    height: 32px;\n",
              "    padding: 0;\n",
              "    width: 32px;\n",
              "  }\n",
              "\n",
              "  .colab-df-quickchart:hover {\n",
              "    background-color: var(--hover-bg-color);\n",
              "    box-shadow: 0 1px 2px rgba(60, 64, 67, 0.3), 0 1px 3px 1px rgba(60, 64, 67, 0.15);\n",
              "    fill: var(--button-hover-fill-color);\n",
              "  }\n",
              "\n",
              "  .colab-df-quickchart-complete:disabled,\n",
              "  .colab-df-quickchart-complete:disabled:hover {\n",
              "    background-color: var(--disabled-bg-color);\n",
              "    fill: var(--disabled-fill-color);\n",
              "    box-shadow: none;\n",
              "  }\n",
              "\n",
              "  .colab-df-spinner {\n",
              "    border: 2px solid var(--fill-color);\n",
              "    border-color: transparent;\n",
              "    border-bottom-color: var(--fill-color);\n",
              "    animation:\n",
              "      spin 1s steps(1) infinite;\n",
              "  }\n",
              "\n",
              "  @keyframes spin {\n",
              "    0% {\n",
              "      border-color: transparent;\n",
              "      border-bottom-color: var(--fill-color);\n",
              "      border-left-color: var(--fill-color);\n",
              "    }\n",
              "    20% {\n",
              "      border-color: transparent;\n",
              "      border-left-color: var(--fill-color);\n",
              "      border-top-color: var(--fill-color);\n",
              "    }\n",
              "    30% {\n",
              "      border-color: transparent;\n",
              "      border-left-color: var(--fill-color);\n",
              "      border-top-color: var(--fill-color);\n",
              "      border-right-color: var(--fill-color);\n",
              "    }\n",
              "    40% {\n",
              "      border-color: transparent;\n",
              "      border-right-color: var(--fill-color);\n",
              "      border-top-color: var(--fill-color);\n",
              "    }\n",
              "    60% {\n",
              "      border-color: transparent;\n",
              "      border-right-color: var(--fill-color);\n",
              "    }\n",
              "    80% {\n",
              "      border-color: transparent;\n",
              "      border-right-color: var(--fill-color);\n",
              "      border-bottom-color: var(--fill-color);\n",
              "    }\n",
              "    90% {\n",
              "      border-color: transparent;\n",
              "      border-bottom-color: var(--fill-color);\n",
              "    }\n",
              "  }\n",
              "</style>\n",
              "\n",
              "  <script>\n",
              "    async function quickchart(key) {\n",
              "      const quickchartButtonEl =\n",
              "        document.querySelector('#' + key + ' button');\n",
              "      quickchartButtonEl.disabled = true;  // To prevent multiple clicks.\n",
              "      quickchartButtonEl.classList.add('colab-df-spinner');\n",
              "      try {\n",
              "        const charts = await google.colab.kernel.invokeFunction(\n",
              "            'suggestCharts', [key], {});\n",
              "      } catch (error) {\n",
              "        console.error('Error during call to suggestCharts:', error);\n",
              "      }\n",
              "      quickchartButtonEl.classList.remove('colab-df-spinner');\n",
              "      quickchartButtonEl.classList.add('colab-df-quickchart-complete');\n",
              "    }\n",
              "    (() => {\n",
              "      let quickchartButtonEl =\n",
              "        document.querySelector('#df-b9ee3fad-e029-4eeb-8722-e9d4f063c107 button');\n",
              "      quickchartButtonEl.style.display =\n",
              "        google.colab.kernel.accessAllowed ? 'block' : 'none';\n",
              "    })();\n",
              "  </script>\n",
              "</div>\n",
              "\n",
              "    </div>\n",
              "  </div>\n"
            ],
            "application/vnd.google.colaboratory.intrinsic+json": {
              "type": "dataframe",
              "summary": "{\n  \"name\": \"df\",\n  \"rows\": 8,\n  \"fields\": [\n    {\n      \"column\": \"Number_of_Riders\",\n      \"properties\": {\n        \"dtype\": \"number\",\n        \"std\": 335.2107999243274,\n        \"min\": 20.0,\n        \"max\": 1000.0,\n        \"num_unique_values\": 8,\n        \"samples\": [\n          60.372,\n          60.0,\n          1000.0\n        ],\n        \"semantic_type\": \"\",\n        \"description\": \"\"\n      }\n    },\n    {\n      \"column\": \"Number_of_Drivers\",\n      \"properties\": {\n        \"dtype\": \"number\",\n        \"std\": 343.8714218161568,\n        \"min\": 5.0,\n        \"max\": 1000.0,\n        \"num_unique_values\": 8,\n        \"samples\": [\n          27.076,\n          22.0,\n          1000.0\n        ],\n        \"semantic_type\": \"\",\n        \"description\": \"\"\n      }\n    },\n    {\n      \"column\": \"Number_of_Past_Rides\",\n      \"properties\": {\n        \"dtype\": \"number\",\n        \"std\": 338.2700202372605,\n        \"min\": 0.0,\n        \"max\": 1000.0,\n        \"num_unique_values\": 8,\n        \"samples\": [\n          50.031,\n          51.0,\n          1000.0\n        ],\n        \"semantic_type\": \"\",\n        \"description\": \"\"\n      }\n    },\n    {\n      \"column\": \"Average_Ratings\",\n      \"properties\": {\n        \"dtype\": \"number\",\n        \"std\": 352.2447571461208,\n        \"min\": 0.4357808813802833,\n        \"max\": 1000.0,\n        \"num_unique_values\": 8,\n        \"samples\": [\n          4.25722,\n          4.27,\n          1000.0\n        ],\n        \"semantic_type\": \"\",\n        \"description\": \"\"\n      }\n    },\n    {\n      \"column\": \"Expected_Ride_Duration\",\n      \"properties\": {\n        \"dtype\": \"number\",\n        \"std\": 325.4930600251677,\n        \"min\": 10.0,\n        \"max\": 1000.0,\n        \"num_unique_values\": 8,\n        \"samples\": [\n          99.588,\n          102.0,\n          1000.0\n        ],\n        \"semantic_type\": \"\",\n        \"description\": \"\"\n      }\n    },\n    {\n      \"column\": \"adjusted_ride_cost\",\n      \"properties\": {\n        \"dtype\": \"number\",\n        \"std\": 1018.4861840403361,\n        \"min\": 32.354312522312306,\n        \"max\": 3321.9005109614272,\n        \"num_unique_values\": 8,\n        \"samples\": [\n          681.1400173925437,\n          583.9886905956894,\n          1000.0\n        ],\n        \"semantic_type\": \"\",\n        \"description\": \"\"\n      }\n    }\n  ]\n}"
            }
          },
          "metadata": {},
          "execution_count": 7
        }
      ]
    },
    {
      "cell_type": "code",
      "source": [
        "from sklearn.model_selection import train_test_split\n",
        "X = df.drop('adjusted_ride_cost',axis=1)\n",
        "y = df['adjusted_ride_cost']\n",
        "X_train, X_test, y_train, y_test = train_test_split(X, y, test_size=0.2, random_state=0)"
      ],
      "metadata": {
        "id": "rMt4JiiyvCNn"
      },
      "execution_count": null,
      "outputs": []
    },
    {
      "cell_type": "code",
      "source": [
        "df['Customer_Loyalty_Status'].unique()"
      ],
      "metadata": {
        "id": "_1K4Xk8KJMVP",
        "colab": {
          "base_uri": "https://localhost:8080/"
        },
        "outputId": "8cc36a4c-fe44-4481-e2af-9279443f7075"
      },
      "execution_count": null,
      "outputs": [
        {
          "output_type": "execute_result",
          "data": {
            "text/plain": [
              "array(['Silver', 'Regular', 'Gold'], dtype=object)"
            ]
          },
          "metadata": {},
          "execution_count": 9
        }
      ]
    },
    {
      "cell_type": "code",
      "source": [
        "df['Location_Category'].unique()"
      ],
      "metadata": {
        "id": "jAK7VNB0Nrcy",
        "colab": {
          "base_uri": "https://localhost:8080/"
        },
        "outputId": "81d4ba74-902c-49e0-a9c1-29e51c00fae6"
      },
      "execution_count": null,
      "outputs": [
        {
          "output_type": "execute_result",
          "data": {
            "text/plain": [
              "array(['Urban', 'Suburban', 'Rural'], dtype=object)"
            ]
          },
          "metadata": {},
          "execution_count": 10
        }
      ]
    },
    {
      "cell_type": "code",
      "source": [
        "df['Time_of_Booking'].unique()"
      ],
      "metadata": {
        "id": "je2SrqLKNrok",
        "colab": {
          "base_uri": "https://localhost:8080/"
        },
        "outputId": "676dd229-21a9-436c-9f2c-55e8cb0f788f"
      },
      "execution_count": null,
      "outputs": [
        {
          "output_type": "execute_result",
          "data": {
            "text/plain": [
              "array(['Night', 'Evening', 'Afternoon', 'Morning'], dtype=object)"
            ]
          },
          "metadata": {},
          "execution_count": 11
        }
      ]
    },
    {
      "cell_type": "code",
      "source": [
        "df['Vehicle_Type'].unique()"
      ],
      "metadata": {
        "id": "FSbIeq-HNr3x",
        "colab": {
          "base_uri": "https://localhost:8080/"
        },
        "outputId": "dc852154-baf7-4450-868f-03badfead2c9"
      },
      "execution_count": null,
      "outputs": [
        {
          "output_type": "execute_result",
          "data": {
            "text/plain": [
              "array(['Premium', 'Economy'], dtype=object)"
            ]
          },
          "metadata": {},
          "execution_count": 12
        }
      ]
    },
    {
      "cell_type": "markdown",
      "source": [
        "## Pipeline (Encoding)"
      ],
      "metadata": {
        "id": "zHWBdQEovd0J"
      }
    },
    {
      "cell_type": "code",
      "source": [
        "from sklearn.preprocessing import StandardScaler, OrdinalEncoder, OneHotEncoder\n",
        "from sklearn.compose import ColumnTransformer\n",
        "from sklearn.pipeline import Pipeline"
      ],
      "metadata": {
        "id": "TEHWPHJ2vCRd"
      },
      "execution_count": null,
      "outputs": []
    },
    {
      "cell_type": "code",
      "source": [
        "numeric_features = ['Number_of_Riders','Number_of_Drivers','Number_of_Past_Rides','Average_Ratings','Expected_Ride_Duration']\n",
        "ordinal_features = ['Customer_Loyalty_Status','Vehicle_Type']\n",
        "nominal_features = ['Location_Category' ,'Time_of_Booking']"
      ],
      "metadata": {
        "id": "UsqnLzYbvCT1"
      },
      "execution_count": null,
      "outputs": []
    },
    {
      "cell_type": "code",
      "source": [
        "numeric_transformer = StandardScaler()\n"
      ],
      "metadata": {
        "id": "MwjFc_IuvCXX"
      },
      "execution_count": null,
      "outputs": []
    },
    {
      "cell_type": "code",
      "source": [
        "encoder_loy = OrdinalEncoder(categories = [['Regular', 'Silver', 'Gold']])\n",
        "encoder_veh = OrdinalEncoder(categories = [['Economy', 'Premium']])\n",
        "nominal_transformer = OneHotEncoder()\n"
      ],
      "metadata": {
        "id": "vq6GYiKEtWjp"
      },
      "execution_count": null,
      "outputs": []
    },
    {
      "cell_type": "code",
      "source": [
        "preprocessor = ColumnTransformer(transformers=[\n",
        "                                        ('num',numeric_transformer,numeric_features),\n",
        "                                        ('loyl',encoder_loy,['Customer_Loyalty_Status']),\n",
        "                                        ('vehi',encoder_veh, ['Vehicle_Type']),\n",
        "                                        ('nomi',nominal_transformer,nominal_features)\n",
        "                                             ])"
      ],
      "metadata": {
        "id": "ZL9rj9VxvCZx"
      },
      "execution_count": null,
      "outputs": []
    },
    {
      "cell_type": "markdown",
      "source": [
        "# Regression Trees"
      ],
      "metadata": {
        "id": "GMWeEhBQNBYn"
      }
    },
    {
      "cell_type": "markdown",
      "source": [
        "## Decision Tree"
      ],
      "metadata": {
        "id": "soeIA-vNJTta"
      }
    },
    {
      "cell_type": "markdown",
      "source": [
        "## Creating the model"
      ],
      "metadata": {
        "id": "dEeuS2k_N1Yt"
      }
    },
    {
      "cell_type": "code",
      "source": [
        "from sklearn.tree import DecisionTreeRegressor\n",
        "pipeline = Pipeline(steps = [('preprocessor', preprocessor),('regressor',DecisionTreeRegressor(random_state=42)) ])"
      ],
      "metadata": {
        "id": "wN5bl5cXNJIi"
      },
      "execution_count": null,
      "outputs": []
    },
    {
      "cell_type": "code",
      "source": [
        "DT_model = pipeline.fit(X_train, y_train)"
      ],
      "metadata": {
        "id": "6aLVMSblNSWC"
      },
      "execution_count": null,
      "outputs": []
    },
    {
      "cell_type": "code",
      "source": [
        "DT_model"
      ],
      "metadata": {
        "colab": {
          "base_uri": "https://localhost:8080/",
          "height": 194
        },
        "id": "XVpHKVeJNVMg",
        "outputId": "d6418832-086a-4804-a0fd-b856de804706"
      },
      "execution_count": null,
      "outputs": [
        {
          "output_type": "execute_result",
          "data": {
            "text/plain": [
              "Pipeline(steps=[('preprocessor',\n",
              "                 ColumnTransformer(transformers=[('num', StandardScaler(),\n",
              "                                                  ['Number_of_Riders',\n",
              "                                                   'Number_of_Drivers',\n",
              "                                                   'Number_of_Past_Rides',\n",
              "                                                   'Average_Ratings',\n",
              "                                                   'Expected_Ride_Duration']),\n",
              "                                                 ('loyl',\n",
              "                                                  OrdinalEncoder(categories=[['Regular',\n",
              "                                                                              'Silver',\n",
              "                                                                              'Gold']]),\n",
              "                                                  ['Customer_Loyalty_Status']),\n",
              "                                                 ('vehi',\n",
              "                                                  OrdinalEncoder(categories=[['Economy',\n",
              "                                                                              'Premium']]),\n",
              "                                                  ['Vehicle_Type']),\n",
              "                                                 ('nomi', OneHotEncoder(),\n",
              "                                                  ['Location_Category',\n",
              "                                                   'Time_of_Booking'])])),\n",
              "                ('regressor', DecisionTreeRegressor(random_state=42))])"
            ],
            "text/html": [
              "<style>#sk-container-id-1 {color: black;background-color: white;}#sk-container-id-1 pre{padding: 0;}#sk-container-id-1 div.sk-toggleable {background-color: white;}#sk-container-id-1 label.sk-toggleable__label {cursor: pointer;display: block;width: 100%;margin-bottom: 0;padding: 0.3em;box-sizing: border-box;text-align: center;}#sk-container-id-1 label.sk-toggleable__label-arrow:before {content: \"▸\";float: left;margin-right: 0.25em;color: #696969;}#sk-container-id-1 label.sk-toggleable__label-arrow:hover:before {color: black;}#sk-container-id-1 div.sk-estimator:hover label.sk-toggleable__label-arrow:before {color: black;}#sk-container-id-1 div.sk-toggleable__content {max-height: 0;max-width: 0;overflow: hidden;text-align: left;background-color: #f0f8ff;}#sk-container-id-1 div.sk-toggleable__content pre {margin: 0.2em;color: black;border-radius: 0.25em;background-color: #f0f8ff;}#sk-container-id-1 input.sk-toggleable__control:checked~div.sk-toggleable__content {max-height: 200px;max-width: 100%;overflow: auto;}#sk-container-id-1 input.sk-toggleable__control:checked~label.sk-toggleable__label-arrow:before {content: \"▾\";}#sk-container-id-1 div.sk-estimator input.sk-toggleable__control:checked~label.sk-toggleable__label {background-color: #d4ebff;}#sk-container-id-1 div.sk-label input.sk-toggleable__control:checked~label.sk-toggleable__label {background-color: #d4ebff;}#sk-container-id-1 input.sk-hidden--visually {border: 0;clip: rect(1px 1px 1px 1px);clip: rect(1px, 1px, 1px, 1px);height: 1px;margin: -1px;overflow: hidden;padding: 0;position: absolute;width: 1px;}#sk-container-id-1 div.sk-estimator {font-family: monospace;background-color: #f0f8ff;border: 1px dotted black;border-radius: 0.25em;box-sizing: border-box;margin-bottom: 0.5em;}#sk-container-id-1 div.sk-estimator:hover {background-color: #d4ebff;}#sk-container-id-1 div.sk-parallel-item::after {content: \"\";width: 100%;border-bottom: 1px solid gray;flex-grow: 1;}#sk-container-id-1 div.sk-label:hover label.sk-toggleable__label {background-color: #d4ebff;}#sk-container-id-1 div.sk-serial::before {content: \"\";position: absolute;border-left: 1px solid gray;box-sizing: border-box;top: 0;bottom: 0;left: 50%;z-index: 0;}#sk-container-id-1 div.sk-serial {display: flex;flex-direction: column;align-items: center;background-color: white;padding-right: 0.2em;padding-left: 0.2em;position: relative;}#sk-container-id-1 div.sk-item {position: relative;z-index: 1;}#sk-container-id-1 div.sk-parallel {display: flex;align-items: stretch;justify-content: center;background-color: white;position: relative;}#sk-container-id-1 div.sk-item::before, #sk-container-id-1 div.sk-parallel-item::before {content: \"\";position: absolute;border-left: 1px solid gray;box-sizing: border-box;top: 0;bottom: 0;left: 50%;z-index: -1;}#sk-container-id-1 div.sk-parallel-item {display: flex;flex-direction: column;z-index: 1;position: relative;background-color: white;}#sk-container-id-1 div.sk-parallel-item:first-child::after {align-self: flex-end;width: 50%;}#sk-container-id-1 div.sk-parallel-item:last-child::after {align-self: flex-start;width: 50%;}#sk-container-id-1 div.sk-parallel-item:only-child::after {width: 0;}#sk-container-id-1 div.sk-dashed-wrapped {border: 1px dashed gray;margin: 0 0.4em 0.5em 0.4em;box-sizing: border-box;padding-bottom: 0.4em;background-color: white;}#sk-container-id-1 div.sk-label label {font-family: monospace;font-weight: bold;display: inline-block;line-height: 1.2em;}#sk-container-id-1 div.sk-label-container {text-align: center;}#sk-container-id-1 div.sk-container {/* jupyter's `normalize.less` sets `[hidden] { display: none; }` but bootstrap.min.css set `[hidden] { display: none !important; }` so we also need the `!important` here to be able to override the default hidden behavior on the sphinx rendered scikit-learn.org. See: https://github.com/scikit-learn/scikit-learn/issues/21755 */display: inline-block !important;position: relative;}#sk-container-id-1 div.sk-text-repr-fallback {display: none;}</style><div id=\"sk-container-id-1\" class=\"sk-top-container\"><div class=\"sk-text-repr-fallback\"><pre>Pipeline(steps=[(&#x27;preprocessor&#x27;,\n",
              "                 ColumnTransformer(transformers=[(&#x27;num&#x27;, StandardScaler(),\n",
              "                                                  [&#x27;Number_of_Riders&#x27;,\n",
              "                                                   &#x27;Number_of_Drivers&#x27;,\n",
              "                                                   &#x27;Number_of_Past_Rides&#x27;,\n",
              "                                                   &#x27;Average_Ratings&#x27;,\n",
              "                                                   &#x27;Expected_Ride_Duration&#x27;]),\n",
              "                                                 (&#x27;loyl&#x27;,\n",
              "                                                  OrdinalEncoder(categories=[[&#x27;Regular&#x27;,\n",
              "                                                                              &#x27;Silver&#x27;,\n",
              "                                                                              &#x27;Gold&#x27;]]),\n",
              "                                                  [&#x27;Customer_Loyalty_Status&#x27;]),\n",
              "                                                 (&#x27;vehi&#x27;,\n",
              "                                                  OrdinalEncoder(categories=[[&#x27;Economy&#x27;,\n",
              "                                                                              &#x27;Premium&#x27;]]),\n",
              "                                                  [&#x27;Vehicle_Type&#x27;]),\n",
              "                                                 (&#x27;nomi&#x27;, OneHotEncoder(),\n",
              "                                                  [&#x27;Location_Category&#x27;,\n",
              "                                                   &#x27;Time_of_Booking&#x27;])])),\n",
              "                (&#x27;regressor&#x27;, DecisionTreeRegressor(random_state=42))])</pre><b>In a Jupyter environment, please rerun this cell to show the HTML representation or trust the notebook. <br />On GitHub, the HTML representation is unable to render, please try loading this page with nbviewer.org.</b></div><div class=\"sk-container\" hidden><div class=\"sk-item sk-dashed-wrapped\"><div class=\"sk-label-container\"><div class=\"sk-label sk-toggleable\"><input class=\"sk-toggleable__control sk-hidden--visually\" id=\"sk-estimator-id-1\" type=\"checkbox\" ><label for=\"sk-estimator-id-1\" class=\"sk-toggleable__label sk-toggleable__label-arrow\">Pipeline</label><div class=\"sk-toggleable__content\"><pre>Pipeline(steps=[(&#x27;preprocessor&#x27;,\n",
              "                 ColumnTransformer(transformers=[(&#x27;num&#x27;, StandardScaler(),\n",
              "                                                  [&#x27;Number_of_Riders&#x27;,\n",
              "                                                   &#x27;Number_of_Drivers&#x27;,\n",
              "                                                   &#x27;Number_of_Past_Rides&#x27;,\n",
              "                                                   &#x27;Average_Ratings&#x27;,\n",
              "                                                   &#x27;Expected_Ride_Duration&#x27;]),\n",
              "                                                 (&#x27;loyl&#x27;,\n",
              "                                                  OrdinalEncoder(categories=[[&#x27;Regular&#x27;,\n",
              "                                                                              &#x27;Silver&#x27;,\n",
              "                                                                              &#x27;Gold&#x27;]]),\n",
              "                                                  [&#x27;Customer_Loyalty_Status&#x27;]),\n",
              "                                                 (&#x27;vehi&#x27;,\n",
              "                                                  OrdinalEncoder(categories=[[&#x27;Economy&#x27;,\n",
              "                                                                              &#x27;Premium&#x27;]]),\n",
              "                                                  [&#x27;Vehicle_Type&#x27;]),\n",
              "                                                 (&#x27;nomi&#x27;, OneHotEncoder(),\n",
              "                                                  [&#x27;Location_Category&#x27;,\n",
              "                                                   &#x27;Time_of_Booking&#x27;])])),\n",
              "                (&#x27;regressor&#x27;, DecisionTreeRegressor(random_state=42))])</pre></div></div></div><div class=\"sk-serial\"><div class=\"sk-item sk-dashed-wrapped\"><div class=\"sk-label-container\"><div class=\"sk-label sk-toggleable\"><input class=\"sk-toggleable__control sk-hidden--visually\" id=\"sk-estimator-id-2\" type=\"checkbox\" ><label for=\"sk-estimator-id-2\" class=\"sk-toggleable__label sk-toggleable__label-arrow\">preprocessor: ColumnTransformer</label><div class=\"sk-toggleable__content\"><pre>ColumnTransformer(transformers=[(&#x27;num&#x27;, StandardScaler(),\n",
              "                                 [&#x27;Number_of_Riders&#x27;, &#x27;Number_of_Drivers&#x27;,\n",
              "                                  &#x27;Number_of_Past_Rides&#x27;, &#x27;Average_Ratings&#x27;,\n",
              "                                  &#x27;Expected_Ride_Duration&#x27;]),\n",
              "                                (&#x27;loyl&#x27;,\n",
              "                                 OrdinalEncoder(categories=[[&#x27;Regular&#x27;,\n",
              "                                                             &#x27;Silver&#x27;,\n",
              "                                                             &#x27;Gold&#x27;]]),\n",
              "                                 [&#x27;Customer_Loyalty_Status&#x27;]),\n",
              "                                (&#x27;vehi&#x27;,\n",
              "                                 OrdinalEncoder(categories=[[&#x27;Economy&#x27;,\n",
              "                                                             &#x27;Premium&#x27;]]),\n",
              "                                 [&#x27;Vehicle_Type&#x27;]),\n",
              "                                (&#x27;nomi&#x27;, OneHotEncoder(),\n",
              "                                 [&#x27;Location_Category&#x27;, &#x27;Time_of_Booking&#x27;])])</pre></div></div></div><div class=\"sk-parallel\"><div class=\"sk-parallel-item\"><div class=\"sk-item\"><div class=\"sk-label-container\"><div class=\"sk-label sk-toggleable\"><input class=\"sk-toggleable__control sk-hidden--visually\" id=\"sk-estimator-id-3\" type=\"checkbox\" ><label for=\"sk-estimator-id-3\" class=\"sk-toggleable__label sk-toggleable__label-arrow\">num</label><div class=\"sk-toggleable__content\"><pre>[&#x27;Number_of_Riders&#x27;, &#x27;Number_of_Drivers&#x27;, &#x27;Number_of_Past_Rides&#x27;, &#x27;Average_Ratings&#x27;, &#x27;Expected_Ride_Duration&#x27;]</pre></div></div></div><div class=\"sk-serial\"><div class=\"sk-item\"><div class=\"sk-estimator sk-toggleable\"><input class=\"sk-toggleable__control sk-hidden--visually\" id=\"sk-estimator-id-4\" type=\"checkbox\" ><label for=\"sk-estimator-id-4\" class=\"sk-toggleable__label sk-toggleable__label-arrow\">StandardScaler</label><div class=\"sk-toggleable__content\"><pre>StandardScaler()</pre></div></div></div></div></div></div><div class=\"sk-parallel-item\"><div class=\"sk-item\"><div class=\"sk-label-container\"><div class=\"sk-label sk-toggleable\"><input class=\"sk-toggleable__control sk-hidden--visually\" id=\"sk-estimator-id-5\" type=\"checkbox\" ><label for=\"sk-estimator-id-5\" class=\"sk-toggleable__label sk-toggleable__label-arrow\">loyl</label><div class=\"sk-toggleable__content\"><pre>[&#x27;Customer_Loyalty_Status&#x27;]</pre></div></div></div><div class=\"sk-serial\"><div class=\"sk-item\"><div class=\"sk-estimator sk-toggleable\"><input class=\"sk-toggleable__control sk-hidden--visually\" id=\"sk-estimator-id-6\" type=\"checkbox\" ><label for=\"sk-estimator-id-6\" class=\"sk-toggleable__label sk-toggleable__label-arrow\">OrdinalEncoder</label><div class=\"sk-toggleable__content\"><pre>OrdinalEncoder(categories=[[&#x27;Regular&#x27;, &#x27;Silver&#x27;, &#x27;Gold&#x27;]])</pre></div></div></div></div></div></div><div class=\"sk-parallel-item\"><div class=\"sk-item\"><div class=\"sk-label-container\"><div class=\"sk-label sk-toggleable\"><input class=\"sk-toggleable__control sk-hidden--visually\" id=\"sk-estimator-id-7\" type=\"checkbox\" ><label for=\"sk-estimator-id-7\" class=\"sk-toggleable__label sk-toggleable__label-arrow\">vehi</label><div class=\"sk-toggleable__content\"><pre>[&#x27;Vehicle_Type&#x27;]</pre></div></div></div><div class=\"sk-serial\"><div class=\"sk-item\"><div class=\"sk-estimator sk-toggleable\"><input class=\"sk-toggleable__control sk-hidden--visually\" id=\"sk-estimator-id-8\" type=\"checkbox\" ><label for=\"sk-estimator-id-8\" class=\"sk-toggleable__label sk-toggleable__label-arrow\">OrdinalEncoder</label><div class=\"sk-toggleable__content\"><pre>OrdinalEncoder(categories=[[&#x27;Economy&#x27;, &#x27;Premium&#x27;]])</pre></div></div></div></div></div></div><div class=\"sk-parallel-item\"><div class=\"sk-item\"><div class=\"sk-label-container\"><div class=\"sk-label sk-toggleable\"><input class=\"sk-toggleable__control sk-hidden--visually\" id=\"sk-estimator-id-9\" type=\"checkbox\" ><label for=\"sk-estimator-id-9\" class=\"sk-toggleable__label sk-toggleable__label-arrow\">nomi</label><div class=\"sk-toggleable__content\"><pre>[&#x27;Location_Category&#x27;, &#x27;Time_of_Booking&#x27;]</pre></div></div></div><div class=\"sk-serial\"><div class=\"sk-item\"><div class=\"sk-estimator sk-toggleable\"><input class=\"sk-toggleable__control sk-hidden--visually\" id=\"sk-estimator-id-10\" type=\"checkbox\" ><label for=\"sk-estimator-id-10\" class=\"sk-toggleable__label sk-toggleable__label-arrow\">OneHotEncoder</label><div class=\"sk-toggleable__content\"><pre>OneHotEncoder()</pre></div></div></div></div></div></div></div></div><div class=\"sk-item\"><div class=\"sk-estimator sk-toggleable\"><input class=\"sk-toggleable__control sk-hidden--visually\" id=\"sk-estimator-id-11\" type=\"checkbox\" ><label for=\"sk-estimator-id-11\" class=\"sk-toggleable__label sk-toggleable__label-arrow\">DecisionTreeRegressor</label><div class=\"sk-toggleable__content\"><pre>DecisionTreeRegressor(random_state=42)</pre></div></div></div></div></div></div></div>"
            ]
          },
          "metadata": {},
          "execution_count": 20
        }
      ]
    },
    {
      "cell_type": "markdown",
      "source": [
        "## Model accuracy without tuning"
      ],
      "metadata": {
        "id": "CkQFyZmBN9VT"
      }
    },
    {
      "cell_type": "code",
      "source": [
        "from sklearn.metrics import r2_score\n",
        "from sklearn.metrics import mean_squared_error"
      ],
      "metadata": {
        "id": "v1msLWtKN8V8"
      },
      "execution_count": null,
      "outputs": []
    },
    {
      "cell_type": "code",
      "source": [
        "y_pred_test = DT_model.predict(X_test)\n",
        "y_pred_train = DT_model.predict(X_train)\n",
        "\n",
        "# Evaluate the model\n",
        "\n",
        "# Calculate R2 scores\n",
        "r2_score_test = r2_score(y_test, y_pred_test)\n",
        "r2_score_train = r2_score(y_train, y_pred_train)\n",
        "\n",
        "# Calculate mean squared error\n",
        "mse_test = mean_squared_error(y_test, y_pred_test)\n",
        "mse_train = mean_squared_error(y_train, y_pred_train)\n",
        "\n",
        "# Print the evaluation metrics\n",
        "print(\"Decision Tree w/o tuning: \\n\")\n",
        "print(f\"R2 Score (Test): {r2_score_test:.4f}\")\n",
        "print(f\"R2 Score (Train): {r2_score_train:.4f}\")\n",
        "print(f\"RMSE (Test): {np.sqrt(mse_test):.4f}\")\n",
        "print(f\"RMSE (Train):{np.sqrt( mse_train):.4f}\")\n",
        "print(\"\\n\")"
      ],
      "metadata": {
        "colab": {
          "base_uri": "https://localhost:8080/"
        },
        "id": "kEIMgcLdOGFY",
        "outputId": "dcabd495-7bcf-4e4a-d222-db3a143eed8c"
      },
      "execution_count": null,
      "outputs": [
        {
          "output_type": "stream",
          "name": "stdout",
          "text": [
            "Decision Tree w/o tuning: \n",
            "\n",
            "R2 Score (Test): 0.7030\n",
            "R2 Score (Train): 1.0000\n",
            "RMSE (Test): 253.0858\n",
            "RMSE (Train):0.0000\n",
            "\n",
            "\n"
          ]
        }
      ]
    },
    {
      "cell_type": "markdown",
      "source": [
        "## Grid Search"
      ],
      "metadata": {
        "id": "hodunKZDOUOC"
      }
    },
    {
      "cell_type": "code",
      "source": [
        "from sklearn.model_selection import GridSearchCV\n",
        "\n",
        "params = {\n",
        "    'regressor__max_depth' : list(range(3,15,3)),\n",
        "    'regressor__min_samples_split' : list(range(10,100,25)),\n",
        "    'regressor__min_samples_leaf' : list(range(5,50,10))\n",
        "\n",
        "}"
      ],
      "metadata": {
        "id": "JG-fzBpSJkrd"
      },
      "execution_count": null,
      "outputs": []
    },
    {
      "cell_type": "code",
      "source": [
        "DT_grid = GridSearchCV(estimator= pipeline, param_grid=params, cv=5, n_jobs=-1, verbose=1)"
      ],
      "metadata": {
        "id": "kzF3SlErOXKT"
      },
      "execution_count": null,
      "outputs": []
    },
    {
      "cell_type": "code",
      "source": [
        "# Fitting  GridSearchCV Object\n",
        "DT_grid.fit(X_train, y_train)"
      ],
      "metadata": {
        "colab": {
          "base_uri": "https://localhost:8080/",
          "height": 238
        },
        "id": "ZXMQFXmcOuBt",
        "outputId": "ce850b96-d831-4632-d298-c159deb42589"
      },
      "execution_count": null,
      "outputs": [
        {
          "output_type": "stream",
          "name": "stdout",
          "text": [
            "Fitting 5 folds for each of 80 candidates, totalling 400 fits\n"
          ]
        },
        {
          "output_type": "execute_result",
          "data": {
            "text/plain": [
              "GridSearchCV(cv=5,\n",
              "             estimator=Pipeline(steps=[('preprocessor',\n",
              "                                        ColumnTransformer(transformers=[('num',\n",
              "                                                                         StandardScaler(),\n",
              "                                                                         ['Number_of_Riders',\n",
              "                                                                          'Number_of_Drivers',\n",
              "                                                                          'Number_of_Past_Rides',\n",
              "                                                                          'Average_Ratings',\n",
              "                                                                          'Expected_Ride_Duration']),\n",
              "                                                                        ('loyl',\n",
              "                                                                         OrdinalEncoder(categories=[['Regular',\n",
              "                                                                                                     'Silver',\n",
              "                                                                                                     'Gold']]),\n",
              "                                                                         ['Customer_Loyalty_Status']),\n",
              "                                                                        ('vehi',\n",
              "                                                                         OrdinalEncoder(categories=[['Economy',\n",
              "                                                                                                     'Premium']]),\n",
              "                                                                         ['Vehicle_Type']),\n",
              "                                                                        ('nomi',\n",
              "                                                                         OneHotEncoder(),\n",
              "                                                                         ['Location_Category',\n",
              "                                                                          'Time_of_Booking'])])),\n",
              "                                       ('regressor',\n",
              "                                        DecisionTreeRegressor(random_state=42))]),\n",
              "             n_jobs=-1,\n",
              "             param_grid={'regressor__max_depth': [3, 6, 9, 12],\n",
              "                         'regressor__min_samples_leaf': [5, 15, 25, 35, 45],\n",
              "                         'regressor__min_samples_split': [10, 35, 60, 85]},\n",
              "             verbose=1)"
            ],
            "text/html": [
              "<style>#sk-container-id-2 {color: black;background-color: white;}#sk-container-id-2 pre{padding: 0;}#sk-container-id-2 div.sk-toggleable {background-color: white;}#sk-container-id-2 label.sk-toggleable__label {cursor: pointer;display: block;width: 100%;margin-bottom: 0;padding: 0.3em;box-sizing: border-box;text-align: center;}#sk-container-id-2 label.sk-toggleable__label-arrow:before {content: \"▸\";float: left;margin-right: 0.25em;color: #696969;}#sk-container-id-2 label.sk-toggleable__label-arrow:hover:before {color: black;}#sk-container-id-2 div.sk-estimator:hover label.sk-toggleable__label-arrow:before {color: black;}#sk-container-id-2 div.sk-toggleable__content {max-height: 0;max-width: 0;overflow: hidden;text-align: left;background-color: #f0f8ff;}#sk-container-id-2 div.sk-toggleable__content pre {margin: 0.2em;color: black;border-radius: 0.25em;background-color: #f0f8ff;}#sk-container-id-2 input.sk-toggleable__control:checked~div.sk-toggleable__content {max-height: 200px;max-width: 100%;overflow: auto;}#sk-container-id-2 input.sk-toggleable__control:checked~label.sk-toggleable__label-arrow:before {content: \"▾\";}#sk-container-id-2 div.sk-estimator input.sk-toggleable__control:checked~label.sk-toggleable__label {background-color: #d4ebff;}#sk-container-id-2 div.sk-label input.sk-toggleable__control:checked~label.sk-toggleable__label {background-color: #d4ebff;}#sk-container-id-2 input.sk-hidden--visually {border: 0;clip: rect(1px 1px 1px 1px);clip: rect(1px, 1px, 1px, 1px);height: 1px;margin: -1px;overflow: hidden;padding: 0;position: absolute;width: 1px;}#sk-container-id-2 div.sk-estimator {font-family: monospace;background-color: #f0f8ff;border: 1px dotted black;border-radius: 0.25em;box-sizing: border-box;margin-bottom: 0.5em;}#sk-container-id-2 div.sk-estimator:hover {background-color: #d4ebff;}#sk-container-id-2 div.sk-parallel-item::after {content: \"\";width: 100%;border-bottom: 1px solid gray;flex-grow: 1;}#sk-container-id-2 div.sk-label:hover label.sk-toggleable__label {background-color: #d4ebff;}#sk-container-id-2 div.sk-serial::before {content: \"\";position: absolute;border-left: 1px solid gray;box-sizing: border-box;top: 0;bottom: 0;left: 50%;z-index: 0;}#sk-container-id-2 div.sk-serial {display: flex;flex-direction: column;align-items: center;background-color: white;padding-right: 0.2em;padding-left: 0.2em;position: relative;}#sk-container-id-2 div.sk-item {position: relative;z-index: 1;}#sk-container-id-2 div.sk-parallel {display: flex;align-items: stretch;justify-content: center;background-color: white;position: relative;}#sk-container-id-2 div.sk-item::before, #sk-container-id-2 div.sk-parallel-item::before {content: \"\";position: absolute;border-left: 1px solid gray;box-sizing: border-box;top: 0;bottom: 0;left: 50%;z-index: -1;}#sk-container-id-2 div.sk-parallel-item {display: flex;flex-direction: column;z-index: 1;position: relative;background-color: white;}#sk-container-id-2 div.sk-parallel-item:first-child::after {align-self: flex-end;width: 50%;}#sk-container-id-2 div.sk-parallel-item:last-child::after {align-self: flex-start;width: 50%;}#sk-container-id-2 div.sk-parallel-item:only-child::after {width: 0;}#sk-container-id-2 div.sk-dashed-wrapped {border: 1px dashed gray;margin: 0 0.4em 0.5em 0.4em;box-sizing: border-box;padding-bottom: 0.4em;background-color: white;}#sk-container-id-2 div.sk-label label {font-family: monospace;font-weight: bold;display: inline-block;line-height: 1.2em;}#sk-container-id-2 div.sk-label-container {text-align: center;}#sk-container-id-2 div.sk-container {/* jupyter's `normalize.less` sets `[hidden] { display: none; }` but bootstrap.min.css set `[hidden] { display: none !important; }` so we also need the `!important` here to be able to override the default hidden behavior on the sphinx rendered scikit-learn.org. See: https://github.com/scikit-learn/scikit-learn/issues/21755 */display: inline-block !important;position: relative;}#sk-container-id-2 div.sk-text-repr-fallback {display: none;}</style><div id=\"sk-container-id-2\" class=\"sk-top-container\"><div class=\"sk-text-repr-fallback\"><pre>GridSearchCV(cv=5,\n",
              "             estimator=Pipeline(steps=[(&#x27;preprocessor&#x27;,\n",
              "                                        ColumnTransformer(transformers=[(&#x27;num&#x27;,\n",
              "                                                                         StandardScaler(),\n",
              "                                                                         [&#x27;Number_of_Riders&#x27;,\n",
              "                                                                          &#x27;Number_of_Drivers&#x27;,\n",
              "                                                                          &#x27;Number_of_Past_Rides&#x27;,\n",
              "                                                                          &#x27;Average_Ratings&#x27;,\n",
              "                                                                          &#x27;Expected_Ride_Duration&#x27;]),\n",
              "                                                                        (&#x27;loyl&#x27;,\n",
              "                                                                         OrdinalEncoder(categories=[[&#x27;Regular&#x27;,\n",
              "                                                                                                     &#x27;Silver&#x27;,\n",
              "                                                                                                     &#x27;Gold&#x27;]]),\n",
              "                                                                         [&#x27;Customer_Loyalty_Status&#x27;]),\n",
              "                                                                        (&#x27;vehi&#x27;,\n",
              "                                                                         OrdinalEncoder(categories=[[&#x27;Economy&#x27;,\n",
              "                                                                                                     &#x27;Premium&#x27;]]),\n",
              "                                                                         [&#x27;Vehicle_Type&#x27;]),\n",
              "                                                                        (&#x27;nomi&#x27;,\n",
              "                                                                         OneHotEncoder(),\n",
              "                                                                         [&#x27;Location_Category&#x27;,\n",
              "                                                                          &#x27;Time_of_Booking&#x27;])])),\n",
              "                                       (&#x27;regressor&#x27;,\n",
              "                                        DecisionTreeRegressor(random_state=42))]),\n",
              "             n_jobs=-1,\n",
              "             param_grid={&#x27;regressor__max_depth&#x27;: [3, 6, 9, 12],\n",
              "                         &#x27;regressor__min_samples_leaf&#x27;: [5, 15, 25, 35, 45],\n",
              "                         &#x27;regressor__min_samples_split&#x27;: [10, 35, 60, 85]},\n",
              "             verbose=1)</pre><b>In a Jupyter environment, please rerun this cell to show the HTML representation or trust the notebook. <br />On GitHub, the HTML representation is unable to render, please try loading this page with nbviewer.org.</b></div><div class=\"sk-container\" hidden><div class=\"sk-item sk-dashed-wrapped\"><div class=\"sk-label-container\"><div class=\"sk-label sk-toggleable\"><input class=\"sk-toggleable__control sk-hidden--visually\" id=\"sk-estimator-id-12\" type=\"checkbox\" ><label for=\"sk-estimator-id-12\" class=\"sk-toggleable__label sk-toggleable__label-arrow\">GridSearchCV</label><div class=\"sk-toggleable__content\"><pre>GridSearchCV(cv=5,\n",
              "             estimator=Pipeline(steps=[(&#x27;preprocessor&#x27;,\n",
              "                                        ColumnTransformer(transformers=[(&#x27;num&#x27;,\n",
              "                                                                         StandardScaler(),\n",
              "                                                                         [&#x27;Number_of_Riders&#x27;,\n",
              "                                                                          &#x27;Number_of_Drivers&#x27;,\n",
              "                                                                          &#x27;Number_of_Past_Rides&#x27;,\n",
              "                                                                          &#x27;Average_Ratings&#x27;,\n",
              "                                                                          &#x27;Expected_Ride_Duration&#x27;]),\n",
              "                                                                        (&#x27;loyl&#x27;,\n",
              "                                                                         OrdinalEncoder(categories=[[&#x27;Regular&#x27;,\n",
              "                                                                                                     &#x27;Silver&#x27;,\n",
              "                                                                                                     &#x27;Gold&#x27;]]),\n",
              "                                                                         [&#x27;Customer_Loyalty_Status&#x27;]),\n",
              "                                                                        (&#x27;vehi&#x27;,\n",
              "                                                                         OrdinalEncoder(categories=[[&#x27;Economy&#x27;,\n",
              "                                                                                                     &#x27;Premium&#x27;]]),\n",
              "                                                                         [&#x27;Vehicle_Type&#x27;]),\n",
              "                                                                        (&#x27;nomi&#x27;,\n",
              "                                                                         OneHotEncoder(),\n",
              "                                                                         [&#x27;Location_Category&#x27;,\n",
              "                                                                          &#x27;Time_of_Booking&#x27;])])),\n",
              "                                       (&#x27;regressor&#x27;,\n",
              "                                        DecisionTreeRegressor(random_state=42))]),\n",
              "             n_jobs=-1,\n",
              "             param_grid={&#x27;regressor__max_depth&#x27;: [3, 6, 9, 12],\n",
              "                         &#x27;regressor__min_samples_leaf&#x27;: [5, 15, 25, 35, 45],\n",
              "                         &#x27;regressor__min_samples_split&#x27;: [10, 35, 60, 85]},\n",
              "             verbose=1)</pre></div></div></div><div class=\"sk-parallel\"><div class=\"sk-parallel-item\"><div class=\"sk-item\"><div class=\"sk-label-container\"><div class=\"sk-label sk-toggleable\"><input class=\"sk-toggleable__control sk-hidden--visually\" id=\"sk-estimator-id-13\" type=\"checkbox\" ><label for=\"sk-estimator-id-13\" class=\"sk-toggleable__label sk-toggleable__label-arrow\">estimator: Pipeline</label><div class=\"sk-toggleable__content\"><pre>Pipeline(steps=[(&#x27;preprocessor&#x27;,\n",
              "                 ColumnTransformer(transformers=[(&#x27;num&#x27;, StandardScaler(),\n",
              "                                                  [&#x27;Number_of_Riders&#x27;,\n",
              "                                                   &#x27;Number_of_Drivers&#x27;,\n",
              "                                                   &#x27;Number_of_Past_Rides&#x27;,\n",
              "                                                   &#x27;Average_Ratings&#x27;,\n",
              "                                                   &#x27;Expected_Ride_Duration&#x27;]),\n",
              "                                                 (&#x27;loyl&#x27;,\n",
              "                                                  OrdinalEncoder(categories=[[&#x27;Regular&#x27;,\n",
              "                                                                              &#x27;Silver&#x27;,\n",
              "                                                                              &#x27;Gold&#x27;]]),\n",
              "                                                  [&#x27;Customer_Loyalty_Status&#x27;]),\n",
              "                                                 (&#x27;vehi&#x27;,\n",
              "                                                  OrdinalEncoder(categories=[[&#x27;Economy&#x27;,\n",
              "                                                                              &#x27;Premium&#x27;]]),\n",
              "                                                  [&#x27;Vehicle_Type&#x27;]),\n",
              "                                                 (&#x27;nomi&#x27;, OneHotEncoder(),\n",
              "                                                  [&#x27;Location_Category&#x27;,\n",
              "                                                   &#x27;Time_of_Booking&#x27;])])),\n",
              "                (&#x27;regressor&#x27;, DecisionTreeRegressor(random_state=42))])</pre></div></div></div><div class=\"sk-serial\"><div class=\"sk-item\"><div class=\"sk-serial\"><div class=\"sk-item sk-dashed-wrapped\"><div class=\"sk-label-container\"><div class=\"sk-label sk-toggleable\"><input class=\"sk-toggleable__control sk-hidden--visually\" id=\"sk-estimator-id-14\" type=\"checkbox\" ><label for=\"sk-estimator-id-14\" class=\"sk-toggleable__label sk-toggleable__label-arrow\">preprocessor: ColumnTransformer</label><div class=\"sk-toggleable__content\"><pre>ColumnTransformer(transformers=[(&#x27;num&#x27;, StandardScaler(),\n",
              "                                 [&#x27;Number_of_Riders&#x27;, &#x27;Number_of_Drivers&#x27;,\n",
              "                                  &#x27;Number_of_Past_Rides&#x27;, &#x27;Average_Ratings&#x27;,\n",
              "                                  &#x27;Expected_Ride_Duration&#x27;]),\n",
              "                                (&#x27;loyl&#x27;,\n",
              "                                 OrdinalEncoder(categories=[[&#x27;Regular&#x27;,\n",
              "                                                             &#x27;Silver&#x27;,\n",
              "                                                             &#x27;Gold&#x27;]]),\n",
              "                                 [&#x27;Customer_Loyalty_Status&#x27;]),\n",
              "                                (&#x27;vehi&#x27;,\n",
              "                                 OrdinalEncoder(categories=[[&#x27;Economy&#x27;,\n",
              "                                                             &#x27;Premium&#x27;]]),\n",
              "                                 [&#x27;Vehicle_Type&#x27;]),\n",
              "                                (&#x27;nomi&#x27;, OneHotEncoder(),\n",
              "                                 [&#x27;Location_Category&#x27;, &#x27;Time_of_Booking&#x27;])])</pre></div></div></div><div class=\"sk-parallel\"><div class=\"sk-parallel-item\"><div class=\"sk-item\"><div class=\"sk-label-container\"><div class=\"sk-label sk-toggleable\"><input class=\"sk-toggleable__control sk-hidden--visually\" id=\"sk-estimator-id-15\" type=\"checkbox\" ><label for=\"sk-estimator-id-15\" class=\"sk-toggleable__label sk-toggleable__label-arrow\">num</label><div class=\"sk-toggleable__content\"><pre>[&#x27;Number_of_Riders&#x27;, &#x27;Number_of_Drivers&#x27;, &#x27;Number_of_Past_Rides&#x27;, &#x27;Average_Ratings&#x27;, &#x27;Expected_Ride_Duration&#x27;]</pre></div></div></div><div class=\"sk-serial\"><div class=\"sk-item\"><div class=\"sk-estimator sk-toggleable\"><input class=\"sk-toggleable__control sk-hidden--visually\" id=\"sk-estimator-id-16\" type=\"checkbox\" ><label for=\"sk-estimator-id-16\" class=\"sk-toggleable__label sk-toggleable__label-arrow\">StandardScaler</label><div class=\"sk-toggleable__content\"><pre>StandardScaler()</pre></div></div></div></div></div></div><div class=\"sk-parallel-item\"><div class=\"sk-item\"><div class=\"sk-label-container\"><div class=\"sk-label sk-toggleable\"><input class=\"sk-toggleable__control sk-hidden--visually\" id=\"sk-estimator-id-17\" type=\"checkbox\" ><label for=\"sk-estimator-id-17\" class=\"sk-toggleable__label sk-toggleable__label-arrow\">loyl</label><div class=\"sk-toggleable__content\"><pre>[&#x27;Customer_Loyalty_Status&#x27;]</pre></div></div></div><div class=\"sk-serial\"><div class=\"sk-item\"><div class=\"sk-estimator sk-toggleable\"><input class=\"sk-toggleable__control sk-hidden--visually\" id=\"sk-estimator-id-18\" type=\"checkbox\" ><label for=\"sk-estimator-id-18\" class=\"sk-toggleable__label sk-toggleable__label-arrow\">OrdinalEncoder</label><div class=\"sk-toggleable__content\"><pre>OrdinalEncoder(categories=[[&#x27;Regular&#x27;, &#x27;Silver&#x27;, &#x27;Gold&#x27;]])</pre></div></div></div></div></div></div><div class=\"sk-parallel-item\"><div class=\"sk-item\"><div class=\"sk-label-container\"><div class=\"sk-label sk-toggleable\"><input class=\"sk-toggleable__control sk-hidden--visually\" id=\"sk-estimator-id-19\" type=\"checkbox\" ><label for=\"sk-estimator-id-19\" class=\"sk-toggleable__label sk-toggleable__label-arrow\">vehi</label><div class=\"sk-toggleable__content\"><pre>[&#x27;Vehicle_Type&#x27;]</pre></div></div></div><div class=\"sk-serial\"><div class=\"sk-item\"><div class=\"sk-estimator sk-toggleable\"><input class=\"sk-toggleable__control sk-hidden--visually\" id=\"sk-estimator-id-20\" type=\"checkbox\" ><label for=\"sk-estimator-id-20\" class=\"sk-toggleable__label sk-toggleable__label-arrow\">OrdinalEncoder</label><div class=\"sk-toggleable__content\"><pre>OrdinalEncoder(categories=[[&#x27;Economy&#x27;, &#x27;Premium&#x27;]])</pre></div></div></div></div></div></div><div class=\"sk-parallel-item\"><div class=\"sk-item\"><div class=\"sk-label-container\"><div class=\"sk-label sk-toggleable\"><input class=\"sk-toggleable__control sk-hidden--visually\" id=\"sk-estimator-id-21\" type=\"checkbox\" ><label for=\"sk-estimator-id-21\" class=\"sk-toggleable__label sk-toggleable__label-arrow\">nomi</label><div class=\"sk-toggleable__content\"><pre>[&#x27;Location_Category&#x27;, &#x27;Time_of_Booking&#x27;]</pre></div></div></div><div class=\"sk-serial\"><div class=\"sk-item\"><div class=\"sk-estimator sk-toggleable\"><input class=\"sk-toggleable__control sk-hidden--visually\" id=\"sk-estimator-id-22\" type=\"checkbox\" ><label for=\"sk-estimator-id-22\" class=\"sk-toggleable__label sk-toggleable__label-arrow\">OneHotEncoder</label><div class=\"sk-toggleable__content\"><pre>OneHotEncoder()</pre></div></div></div></div></div></div></div></div><div class=\"sk-item\"><div class=\"sk-estimator sk-toggleable\"><input class=\"sk-toggleable__control sk-hidden--visually\" id=\"sk-estimator-id-23\" type=\"checkbox\" ><label for=\"sk-estimator-id-23\" class=\"sk-toggleable__label sk-toggleable__label-arrow\">DecisionTreeRegressor</label><div class=\"sk-toggleable__content\"><pre>DecisionTreeRegressor(random_state=42)</pre></div></div></div></div></div></div></div></div></div></div></div></div>"
            ]
          },
          "metadata": {},
          "execution_count": 25
        }
      ]
    },
    {
      "cell_type": "code",
      "source": [
        "# Get the best parameters and model from the grid search\n",
        "best_params = DT_grid.best_params_\n",
        "best_model = DT_grid.best_estimator_\n",
        "\n",
        "\n",
        "\n",
        "# Print the best parameters\n",
        "print(\"Best Parameters:\", best_params)\n"
      ],
      "metadata": {
        "colab": {
          "base_uri": "https://localhost:8080/"
        },
        "id": "bFLjlheGO1k9",
        "outputId": "80b15730-38e3-4d6d-d431-3651dcf1c0e6"
      },
      "execution_count": null,
      "outputs": [
        {
          "output_type": "stream",
          "name": "stdout",
          "text": [
            "Best Parameters: {'regressor__max_depth': 6, 'regressor__min_samples_leaf': 15, 'regressor__min_samples_split': 10}\n"
          ]
        }
      ]
    },
    {
      "cell_type": "code",
      "source": [
        "\n",
        "# Predict on the test data using the best model\n",
        "y_pred_train = best_model.predict(X_test)\n",
        "y_pred_train = best_model.predict(X_train)\n",
        "\n",
        "\n",
        "# Evaluate the model\n",
        "\n",
        "# Calculate R2 scores\n",
        "r2_score_test = r2_score(y_test, y_pred_test)\n",
        "r2_score_train = r2_score(y_train, y_pred_train)\n",
        "\n",
        "# Calculate mean squared error\n",
        "mse_test = mean_squared_error(y_test, y_pred_test)\n",
        "mse_train = mean_squared_error(y_train, y_pred_train)\n",
        "\n",
        "# Print the evaluation metrics\n",
        "print(\"Decision Trees with tuning: \\n\")\n",
        "print(f\"R2 Score (Test): {r2_score_test:.4f}\")\n",
        "print(f\"R2 Score (Train): {r2_score_train:.4f}\")\n",
        "print(f\"RMSE (Test): {np.sqrt(mse_test):.4f}\")\n",
        "print(f\"RMSE (Train):{np.sqrt( mse_train):.4f}\")\n",
        "print(\"\\n\")\n"
      ],
      "metadata": {
        "colab": {
          "base_uri": "https://localhost:8080/"
        },
        "id": "K7qUENT6O6rZ",
        "outputId": "6e6c3dac-9de9-4a52-db4a-80ecd870c8b2"
      },
      "execution_count": null,
      "outputs": [
        {
          "output_type": "stream",
          "name": "stdout",
          "text": [
            "Decision Trees with tuning: \n",
            "\n",
            "R2 Score (Test): 0.7030\n",
            "R2 Score (Train): 0.8311\n",
            "RMSE (Test): 253.0858\n",
            "RMSE (Train):200.0465\n",
            "\n",
            "\n"
          ]
        }
      ]
    },
    {
      "cell_type": "markdown",
      "source": [
        "# Random Forest"
      ],
      "metadata": {
        "id": "3JnXwT7fR6ku"
      }
    },
    {
      "cell_type": "markdown",
      "source": [
        "## Creating the model"
      ],
      "metadata": {
        "id": "auU-VlMh1ZAH"
      }
    },
    {
      "cell_type": "code",
      "source": [
        "from sklearn.ensemble import RandomForestRegressor\n",
        "pipeline = Pipeline(steps = [('preprocessor', preprocessor),('regressor',RandomForestRegressor(random_state=42)) ])"
      ],
      "metadata": {
        "id": "bQaVg_CWvCdK"
      },
      "execution_count": null,
      "outputs": []
    },
    {
      "cell_type": "code",
      "source": [
        "RF_model = pipeline.fit(X_train, y_train)"
      ],
      "metadata": {
        "id": "5a3XzUvGvCgT"
      },
      "execution_count": null,
      "outputs": []
    },
    {
      "cell_type": "code",
      "source": [
        "RF_model"
      ],
      "metadata": {
        "colab": {
          "base_uri": "https://localhost:8080/",
          "height": 194
        },
        "id": "IY-j2POjvCjM",
        "outputId": "5b2ed593-41df-4c4a-ca3a-65e60086a9fb"
      },
      "execution_count": null,
      "outputs": [
        {
          "output_type": "execute_result",
          "data": {
            "text/plain": [
              "Pipeline(steps=[('preprocessor',\n",
              "                 ColumnTransformer(transformers=[('num', StandardScaler(),\n",
              "                                                  ['Number_of_Riders',\n",
              "                                                   'Number_of_Drivers',\n",
              "                                                   'Number_of_Past_Rides',\n",
              "                                                   'Average_Ratings',\n",
              "                                                   'Expected_Ride_Duration']),\n",
              "                                                 ('loyl',\n",
              "                                                  OrdinalEncoder(categories=[['Regular',\n",
              "                                                                              'Silver',\n",
              "                                                                              'Gold']]),\n",
              "                                                  ['Customer_Loyalty_Status']),\n",
              "                                                 ('vehi',\n",
              "                                                  OrdinalEncoder(categories=[['Economy',\n",
              "                                                                              'Premium']]),\n",
              "                                                  ['Vehicle_Type']),\n",
              "                                                 ('nomi', OneHotEncoder(),\n",
              "                                                  ['Location_Category',\n",
              "                                                   'Time_of_Booking'])])),\n",
              "                ('regressor', RandomForestRegressor(random_state=42))])"
            ],
            "text/html": [
              "<style>#sk-container-id-3 {color: black;background-color: white;}#sk-container-id-3 pre{padding: 0;}#sk-container-id-3 div.sk-toggleable {background-color: white;}#sk-container-id-3 label.sk-toggleable__label {cursor: pointer;display: block;width: 100%;margin-bottom: 0;padding: 0.3em;box-sizing: border-box;text-align: center;}#sk-container-id-3 label.sk-toggleable__label-arrow:before {content: \"▸\";float: left;margin-right: 0.25em;color: #696969;}#sk-container-id-3 label.sk-toggleable__label-arrow:hover:before {color: black;}#sk-container-id-3 div.sk-estimator:hover label.sk-toggleable__label-arrow:before {color: black;}#sk-container-id-3 div.sk-toggleable__content {max-height: 0;max-width: 0;overflow: hidden;text-align: left;background-color: #f0f8ff;}#sk-container-id-3 div.sk-toggleable__content pre {margin: 0.2em;color: black;border-radius: 0.25em;background-color: #f0f8ff;}#sk-container-id-3 input.sk-toggleable__control:checked~div.sk-toggleable__content {max-height: 200px;max-width: 100%;overflow: auto;}#sk-container-id-3 input.sk-toggleable__control:checked~label.sk-toggleable__label-arrow:before {content: \"▾\";}#sk-container-id-3 div.sk-estimator input.sk-toggleable__control:checked~label.sk-toggleable__label {background-color: #d4ebff;}#sk-container-id-3 div.sk-label input.sk-toggleable__control:checked~label.sk-toggleable__label {background-color: #d4ebff;}#sk-container-id-3 input.sk-hidden--visually {border: 0;clip: rect(1px 1px 1px 1px);clip: rect(1px, 1px, 1px, 1px);height: 1px;margin: -1px;overflow: hidden;padding: 0;position: absolute;width: 1px;}#sk-container-id-3 div.sk-estimator {font-family: monospace;background-color: #f0f8ff;border: 1px dotted black;border-radius: 0.25em;box-sizing: border-box;margin-bottom: 0.5em;}#sk-container-id-3 div.sk-estimator:hover {background-color: #d4ebff;}#sk-container-id-3 div.sk-parallel-item::after {content: \"\";width: 100%;border-bottom: 1px solid gray;flex-grow: 1;}#sk-container-id-3 div.sk-label:hover label.sk-toggleable__label {background-color: #d4ebff;}#sk-container-id-3 div.sk-serial::before {content: \"\";position: absolute;border-left: 1px solid gray;box-sizing: border-box;top: 0;bottom: 0;left: 50%;z-index: 0;}#sk-container-id-3 div.sk-serial {display: flex;flex-direction: column;align-items: center;background-color: white;padding-right: 0.2em;padding-left: 0.2em;position: relative;}#sk-container-id-3 div.sk-item {position: relative;z-index: 1;}#sk-container-id-3 div.sk-parallel {display: flex;align-items: stretch;justify-content: center;background-color: white;position: relative;}#sk-container-id-3 div.sk-item::before, #sk-container-id-3 div.sk-parallel-item::before {content: \"\";position: absolute;border-left: 1px solid gray;box-sizing: border-box;top: 0;bottom: 0;left: 50%;z-index: -1;}#sk-container-id-3 div.sk-parallel-item {display: flex;flex-direction: column;z-index: 1;position: relative;background-color: white;}#sk-container-id-3 div.sk-parallel-item:first-child::after {align-self: flex-end;width: 50%;}#sk-container-id-3 div.sk-parallel-item:last-child::after {align-self: flex-start;width: 50%;}#sk-container-id-3 div.sk-parallel-item:only-child::after {width: 0;}#sk-container-id-3 div.sk-dashed-wrapped {border: 1px dashed gray;margin: 0 0.4em 0.5em 0.4em;box-sizing: border-box;padding-bottom: 0.4em;background-color: white;}#sk-container-id-3 div.sk-label label {font-family: monospace;font-weight: bold;display: inline-block;line-height: 1.2em;}#sk-container-id-3 div.sk-label-container {text-align: center;}#sk-container-id-3 div.sk-container {/* jupyter's `normalize.less` sets `[hidden] { display: none; }` but bootstrap.min.css set `[hidden] { display: none !important; }` so we also need the `!important` here to be able to override the default hidden behavior on the sphinx rendered scikit-learn.org. See: https://github.com/scikit-learn/scikit-learn/issues/21755 */display: inline-block !important;position: relative;}#sk-container-id-3 div.sk-text-repr-fallback {display: none;}</style><div id=\"sk-container-id-3\" class=\"sk-top-container\"><div class=\"sk-text-repr-fallback\"><pre>Pipeline(steps=[(&#x27;preprocessor&#x27;,\n",
              "                 ColumnTransformer(transformers=[(&#x27;num&#x27;, StandardScaler(),\n",
              "                                                  [&#x27;Number_of_Riders&#x27;,\n",
              "                                                   &#x27;Number_of_Drivers&#x27;,\n",
              "                                                   &#x27;Number_of_Past_Rides&#x27;,\n",
              "                                                   &#x27;Average_Ratings&#x27;,\n",
              "                                                   &#x27;Expected_Ride_Duration&#x27;]),\n",
              "                                                 (&#x27;loyl&#x27;,\n",
              "                                                  OrdinalEncoder(categories=[[&#x27;Regular&#x27;,\n",
              "                                                                              &#x27;Silver&#x27;,\n",
              "                                                                              &#x27;Gold&#x27;]]),\n",
              "                                                  [&#x27;Customer_Loyalty_Status&#x27;]),\n",
              "                                                 (&#x27;vehi&#x27;,\n",
              "                                                  OrdinalEncoder(categories=[[&#x27;Economy&#x27;,\n",
              "                                                                              &#x27;Premium&#x27;]]),\n",
              "                                                  [&#x27;Vehicle_Type&#x27;]),\n",
              "                                                 (&#x27;nomi&#x27;, OneHotEncoder(),\n",
              "                                                  [&#x27;Location_Category&#x27;,\n",
              "                                                   &#x27;Time_of_Booking&#x27;])])),\n",
              "                (&#x27;regressor&#x27;, RandomForestRegressor(random_state=42))])</pre><b>In a Jupyter environment, please rerun this cell to show the HTML representation or trust the notebook. <br />On GitHub, the HTML representation is unable to render, please try loading this page with nbviewer.org.</b></div><div class=\"sk-container\" hidden><div class=\"sk-item sk-dashed-wrapped\"><div class=\"sk-label-container\"><div class=\"sk-label sk-toggleable\"><input class=\"sk-toggleable__control sk-hidden--visually\" id=\"sk-estimator-id-24\" type=\"checkbox\" ><label for=\"sk-estimator-id-24\" class=\"sk-toggleable__label sk-toggleable__label-arrow\">Pipeline</label><div class=\"sk-toggleable__content\"><pre>Pipeline(steps=[(&#x27;preprocessor&#x27;,\n",
              "                 ColumnTransformer(transformers=[(&#x27;num&#x27;, StandardScaler(),\n",
              "                                                  [&#x27;Number_of_Riders&#x27;,\n",
              "                                                   &#x27;Number_of_Drivers&#x27;,\n",
              "                                                   &#x27;Number_of_Past_Rides&#x27;,\n",
              "                                                   &#x27;Average_Ratings&#x27;,\n",
              "                                                   &#x27;Expected_Ride_Duration&#x27;]),\n",
              "                                                 (&#x27;loyl&#x27;,\n",
              "                                                  OrdinalEncoder(categories=[[&#x27;Regular&#x27;,\n",
              "                                                                              &#x27;Silver&#x27;,\n",
              "                                                                              &#x27;Gold&#x27;]]),\n",
              "                                                  [&#x27;Customer_Loyalty_Status&#x27;]),\n",
              "                                                 (&#x27;vehi&#x27;,\n",
              "                                                  OrdinalEncoder(categories=[[&#x27;Economy&#x27;,\n",
              "                                                                              &#x27;Premium&#x27;]]),\n",
              "                                                  [&#x27;Vehicle_Type&#x27;]),\n",
              "                                                 (&#x27;nomi&#x27;, OneHotEncoder(),\n",
              "                                                  [&#x27;Location_Category&#x27;,\n",
              "                                                   &#x27;Time_of_Booking&#x27;])])),\n",
              "                (&#x27;regressor&#x27;, RandomForestRegressor(random_state=42))])</pre></div></div></div><div class=\"sk-serial\"><div class=\"sk-item sk-dashed-wrapped\"><div class=\"sk-label-container\"><div class=\"sk-label sk-toggleable\"><input class=\"sk-toggleable__control sk-hidden--visually\" id=\"sk-estimator-id-25\" type=\"checkbox\" ><label for=\"sk-estimator-id-25\" class=\"sk-toggleable__label sk-toggleable__label-arrow\">preprocessor: ColumnTransformer</label><div class=\"sk-toggleable__content\"><pre>ColumnTransformer(transformers=[(&#x27;num&#x27;, StandardScaler(),\n",
              "                                 [&#x27;Number_of_Riders&#x27;, &#x27;Number_of_Drivers&#x27;,\n",
              "                                  &#x27;Number_of_Past_Rides&#x27;, &#x27;Average_Ratings&#x27;,\n",
              "                                  &#x27;Expected_Ride_Duration&#x27;]),\n",
              "                                (&#x27;loyl&#x27;,\n",
              "                                 OrdinalEncoder(categories=[[&#x27;Regular&#x27;,\n",
              "                                                             &#x27;Silver&#x27;,\n",
              "                                                             &#x27;Gold&#x27;]]),\n",
              "                                 [&#x27;Customer_Loyalty_Status&#x27;]),\n",
              "                                (&#x27;vehi&#x27;,\n",
              "                                 OrdinalEncoder(categories=[[&#x27;Economy&#x27;,\n",
              "                                                             &#x27;Premium&#x27;]]),\n",
              "                                 [&#x27;Vehicle_Type&#x27;]),\n",
              "                                (&#x27;nomi&#x27;, OneHotEncoder(),\n",
              "                                 [&#x27;Location_Category&#x27;, &#x27;Time_of_Booking&#x27;])])</pre></div></div></div><div class=\"sk-parallel\"><div class=\"sk-parallel-item\"><div class=\"sk-item\"><div class=\"sk-label-container\"><div class=\"sk-label sk-toggleable\"><input class=\"sk-toggleable__control sk-hidden--visually\" id=\"sk-estimator-id-26\" type=\"checkbox\" ><label for=\"sk-estimator-id-26\" class=\"sk-toggleable__label sk-toggleable__label-arrow\">num</label><div class=\"sk-toggleable__content\"><pre>[&#x27;Number_of_Riders&#x27;, &#x27;Number_of_Drivers&#x27;, &#x27;Number_of_Past_Rides&#x27;, &#x27;Average_Ratings&#x27;, &#x27;Expected_Ride_Duration&#x27;]</pre></div></div></div><div class=\"sk-serial\"><div class=\"sk-item\"><div class=\"sk-estimator sk-toggleable\"><input class=\"sk-toggleable__control sk-hidden--visually\" id=\"sk-estimator-id-27\" type=\"checkbox\" ><label for=\"sk-estimator-id-27\" class=\"sk-toggleable__label sk-toggleable__label-arrow\">StandardScaler</label><div class=\"sk-toggleable__content\"><pre>StandardScaler()</pre></div></div></div></div></div></div><div class=\"sk-parallel-item\"><div class=\"sk-item\"><div class=\"sk-label-container\"><div class=\"sk-label sk-toggleable\"><input class=\"sk-toggleable__control sk-hidden--visually\" id=\"sk-estimator-id-28\" type=\"checkbox\" ><label for=\"sk-estimator-id-28\" class=\"sk-toggleable__label sk-toggleable__label-arrow\">loyl</label><div class=\"sk-toggleable__content\"><pre>[&#x27;Customer_Loyalty_Status&#x27;]</pre></div></div></div><div class=\"sk-serial\"><div class=\"sk-item\"><div class=\"sk-estimator sk-toggleable\"><input class=\"sk-toggleable__control sk-hidden--visually\" id=\"sk-estimator-id-29\" type=\"checkbox\" ><label for=\"sk-estimator-id-29\" class=\"sk-toggleable__label sk-toggleable__label-arrow\">OrdinalEncoder</label><div class=\"sk-toggleable__content\"><pre>OrdinalEncoder(categories=[[&#x27;Regular&#x27;, &#x27;Silver&#x27;, &#x27;Gold&#x27;]])</pre></div></div></div></div></div></div><div class=\"sk-parallel-item\"><div class=\"sk-item\"><div class=\"sk-label-container\"><div class=\"sk-label sk-toggleable\"><input class=\"sk-toggleable__control sk-hidden--visually\" id=\"sk-estimator-id-30\" type=\"checkbox\" ><label for=\"sk-estimator-id-30\" class=\"sk-toggleable__label sk-toggleable__label-arrow\">vehi</label><div class=\"sk-toggleable__content\"><pre>[&#x27;Vehicle_Type&#x27;]</pre></div></div></div><div class=\"sk-serial\"><div class=\"sk-item\"><div class=\"sk-estimator sk-toggleable\"><input class=\"sk-toggleable__control sk-hidden--visually\" id=\"sk-estimator-id-31\" type=\"checkbox\" ><label for=\"sk-estimator-id-31\" class=\"sk-toggleable__label sk-toggleable__label-arrow\">OrdinalEncoder</label><div class=\"sk-toggleable__content\"><pre>OrdinalEncoder(categories=[[&#x27;Economy&#x27;, &#x27;Premium&#x27;]])</pre></div></div></div></div></div></div><div class=\"sk-parallel-item\"><div class=\"sk-item\"><div class=\"sk-label-container\"><div class=\"sk-label sk-toggleable\"><input class=\"sk-toggleable__control sk-hidden--visually\" id=\"sk-estimator-id-32\" type=\"checkbox\" ><label for=\"sk-estimator-id-32\" class=\"sk-toggleable__label sk-toggleable__label-arrow\">nomi</label><div class=\"sk-toggleable__content\"><pre>[&#x27;Location_Category&#x27;, &#x27;Time_of_Booking&#x27;]</pre></div></div></div><div class=\"sk-serial\"><div class=\"sk-item\"><div class=\"sk-estimator sk-toggleable\"><input class=\"sk-toggleable__control sk-hidden--visually\" id=\"sk-estimator-id-33\" type=\"checkbox\" ><label for=\"sk-estimator-id-33\" class=\"sk-toggleable__label sk-toggleable__label-arrow\">OneHotEncoder</label><div class=\"sk-toggleable__content\"><pre>OneHotEncoder()</pre></div></div></div></div></div></div></div></div><div class=\"sk-item\"><div class=\"sk-estimator sk-toggleable\"><input class=\"sk-toggleable__control sk-hidden--visually\" id=\"sk-estimator-id-34\" type=\"checkbox\" ><label for=\"sk-estimator-id-34\" class=\"sk-toggleable__label sk-toggleable__label-arrow\">RandomForestRegressor</label><div class=\"sk-toggleable__content\"><pre>RandomForestRegressor(random_state=42)</pre></div></div></div></div></div></div></div>"
            ]
          },
          "metadata": {},
          "execution_count": 30
        }
      ]
    },
    {
      "cell_type": "markdown",
      "source": [
        "# model accuracy without tuning"
      ],
      "metadata": {
        "id": "2fCaLkmE1-e0"
      }
    },
    {
      "cell_type": "code",
      "source": [
        "from sklearn.metrics import r2_score\n",
        "from sklearn.metrics import mean_squared_error\n",
        "\n"
      ],
      "metadata": {
        "id": "OOrY0iK8vCnK"
      },
      "execution_count": null,
      "outputs": []
    },
    {
      "cell_type": "code",
      "source": [],
      "metadata": {
        "id": "WtcZCyox4Djq"
      },
      "execution_count": null,
      "outputs": []
    },
    {
      "cell_type": "code",
      "source": [
        "y_pred_test = RF_model.predict(X_test)\n",
        "y_pred_train = RF_model.predict(X_train)\n",
        "\n",
        "# Evaluate the model\n",
        "\n",
        "# Calculate R2 scores\n",
        "r2_score_test = r2_score(y_test, y_pred_test)\n",
        "r2_score_train = r2_score(y_train, y_pred_train)\n",
        "\n",
        "# Calculate mean squared error\n",
        "mse_test = mean_squared_error(y_test, y_pred_test)\n",
        "mse_train = mean_squared_error(y_train, y_pred_train)\n",
        "\n",
        "# Print the evaluation metrics\n",
        "print(\"Random forest w/o tuning: \\n\")\n",
        "print(f\"R2 Score (Test): {r2_score_test:.4f}\")\n",
        "print(f\"R2 Score (Train): {r2_score_train:.4f}\")\n",
        "print(f\"RMSE (Test): {np.sqrt(mse_test):.4f}\")\n",
        "print(f\"RMSE (Train):{np.sqrt( mse_train):.4f}\")\n",
        "print(\"\\n\")\n"
      ],
      "metadata": {
        "colab": {
          "base_uri": "https://localhost:8080/"
        },
        "id": "skYFI7-A2wjJ",
        "outputId": "62dee361-4d9f-4a60-df11-108d6ca79578"
      },
      "execution_count": null,
      "outputs": [
        {
          "output_type": "stream",
          "name": "stdout",
          "text": [
            "Random forest w/o tuning: \n",
            "\n",
            "R2 Score (Test): 0.8761\n",
            "R2 Score (Train): 0.9779\n",
            "RMSE (Test): 163.4659\n",
            "RMSE (Train):72.2979\n",
            "\n",
            "\n"
          ]
        }
      ]
    },
    {
      "cell_type": "markdown",
      "source": [
        "## Gridsearch"
      ],
      "metadata": {
        "id": "oYuIPIa2SFEU"
      }
    },
    {
      "cell_type": "code",
      "source": [
        "from sklearn.model_selection import GridSearchCV\n",
        "\n",
        "params = {\n",
        "    'regressor__n_estimators' : list(range(100,180,20)),\n",
        "    'regressor__max_features' : ['auto','sqrt',0.7],\n",
        "    'regressor__max_depth' : list(range(5,15,5)),\n",
        "    'regressor__min_samples_split' : list(range(10,100,50)),\n",
        "    'regressor__min_samples_leaf' : list(range(5,50,10))\n",
        "\n",
        "}"
      ],
      "metadata": {
        "id": "JOf4REjcLOFR"
      },
      "execution_count": null,
      "outputs": []
    },
    {
      "cell_type": "code",
      "source": [
        "# @title\n",
        "from sklearn.model_selection import GridSearchCV\n",
        "\n",
        "params = {\n",
        "    'regressor__n_estimators' : [25,50,100,125,150],\n",
        "    'regressor__max_features' : ['auto','sqrt'],\n",
        "    'regressor__max_depth' : [10,20,30],\n",
        "    'regressor__min_samples_split' : [5, 10],\n",
        "    'regressor__min_samples_leaf' : [5,10]\n",
        "\n",
        "}"
      ],
      "metadata": {
        "id": "d1jvwtf_vCuc",
        "cellView": "form"
      },
      "execution_count": null,
      "outputs": []
    },
    {
      "cell_type": "code",
      "source": [
        "RF_grid = GridSearchCV(estimator= pipeline, param_grid=params, cv=5, n_jobs=5, verbose=1)"
      ],
      "metadata": {
        "id": "YFd7_Mq9vCxx"
      },
      "execution_count": null,
      "outputs": []
    },
    {
      "cell_type": "code",
      "source": [
        "# Fitting  GridSearchCV Object\n",
        "RF_grid.fit(X_train, y_train)"
      ],
      "metadata": {
        "colab": {
          "base_uri": "https://localhost:8080/",
          "height": 293
        },
        "id": "NDy0fGq_vC4x",
        "outputId": "f359713b-43b7-4116-bb4a-698a503d0385"
      },
      "execution_count": null,
      "outputs": [
        {
          "output_type": "stream",
          "name": "stdout",
          "text": [
            "Fitting 5 folds for each of 240 candidates, totalling 1200 fits\n"
          ]
        },
        {
          "output_type": "stream",
          "name": "stderr",
          "text": [
            "/usr/local/lib/python3.10/dist-packages/sklearn/ensemble/_forest.py:413: FutureWarning: `max_features='auto'` has been deprecated in 1.1 and will be removed in 1.3. To keep the past behaviour, explicitly set `max_features=1.0` or remove this parameter as it is also the default value for RandomForestRegressors and ExtraTreesRegressors.\n",
            "  warn(\n"
          ]
        },
        {
          "output_type": "execute_result",
          "data": {
            "text/plain": [
              "GridSearchCV(cv=5,\n",
              "             estimator=Pipeline(steps=[('preprocessor',\n",
              "                                        ColumnTransformer(transformers=[('num',\n",
              "                                                                         StandardScaler(),\n",
              "                                                                         ['Number_of_Riders',\n",
              "                                                                          'Number_of_Drivers',\n",
              "                                                                          'Number_of_Past_Rides',\n",
              "                                                                          'Average_Ratings',\n",
              "                                                                          'Expected_Ride_Duration']),\n",
              "                                                                        ('loyl',\n",
              "                                                                         OrdinalEncoder(categories=[['Regular',\n",
              "                                                                                                     'Silver',\n",
              "                                                                                                     'Gold']]),\n",
              "                                                                         ['Customer_Loyalty_Status']),\n",
              "                                                                        ('vehi',\n",
              "                                                                         OrdinalEncoder(categorie...\n",
              "                                                                         OneHotEncoder(),\n",
              "                                                                         ['Location_Category',\n",
              "                                                                          'Time_of_Booking'])])),\n",
              "                                       ('regressor',\n",
              "                                        RandomForestRegressor(random_state=42))]),\n",
              "             n_jobs=5,\n",
              "             param_grid={'regressor__max_depth': [5, 10],\n",
              "                         'regressor__max_features': ['auto', 'sqrt', 0.7],\n",
              "                         'regressor__min_samples_leaf': [5, 15, 25, 35, 45],\n",
              "                         'regressor__min_samples_split': [10, 60],\n",
              "                         'regressor__n_estimators': [100, 120, 140, 160]},\n",
              "             verbose=1)"
            ],
            "text/html": [
              "<style>#sk-container-id-4 {color: black;background-color: white;}#sk-container-id-4 pre{padding: 0;}#sk-container-id-4 div.sk-toggleable {background-color: white;}#sk-container-id-4 label.sk-toggleable__label {cursor: pointer;display: block;width: 100%;margin-bottom: 0;padding: 0.3em;box-sizing: border-box;text-align: center;}#sk-container-id-4 label.sk-toggleable__label-arrow:before {content: \"▸\";float: left;margin-right: 0.25em;color: #696969;}#sk-container-id-4 label.sk-toggleable__label-arrow:hover:before {color: black;}#sk-container-id-4 div.sk-estimator:hover label.sk-toggleable__label-arrow:before {color: black;}#sk-container-id-4 div.sk-toggleable__content {max-height: 0;max-width: 0;overflow: hidden;text-align: left;background-color: #f0f8ff;}#sk-container-id-4 div.sk-toggleable__content pre {margin: 0.2em;color: black;border-radius: 0.25em;background-color: #f0f8ff;}#sk-container-id-4 input.sk-toggleable__control:checked~div.sk-toggleable__content {max-height: 200px;max-width: 100%;overflow: auto;}#sk-container-id-4 input.sk-toggleable__control:checked~label.sk-toggleable__label-arrow:before {content: \"▾\";}#sk-container-id-4 div.sk-estimator input.sk-toggleable__control:checked~label.sk-toggleable__label {background-color: #d4ebff;}#sk-container-id-4 div.sk-label input.sk-toggleable__control:checked~label.sk-toggleable__label {background-color: #d4ebff;}#sk-container-id-4 input.sk-hidden--visually {border: 0;clip: rect(1px 1px 1px 1px);clip: rect(1px, 1px, 1px, 1px);height: 1px;margin: -1px;overflow: hidden;padding: 0;position: absolute;width: 1px;}#sk-container-id-4 div.sk-estimator {font-family: monospace;background-color: #f0f8ff;border: 1px dotted black;border-radius: 0.25em;box-sizing: border-box;margin-bottom: 0.5em;}#sk-container-id-4 div.sk-estimator:hover {background-color: #d4ebff;}#sk-container-id-4 div.sk-parallel-item::after {content: \"\";width: 100%;border-bottom: 1px solid gray;flex-grow: 1;}#sk-container-id-4 div.sk-label:hover label.sk-toggleable__label {background-color: #d4ebff;}#sk-container-id-4 div.sk-serial::before {content: \"\";position: absolute;border-left: 1px solid gray;box-sizing: border-box;top: 0;bottom: 0;left: 50%;z-index: 0;}#sk-container-id-4 div.sk-serial {display: flex;flex-direction: column;align-items: center;background-color: white;padding-right: 0.2em;padding-left: 0.2em;position: relative;}#sk-container-id-4 div.sk-item {position: relative;z-index: 1;}#sk-container-id-4 div.sk-parallel {display: flex;align-items: stretch;justify-content: center;background-color: white;position: relative;}#sk-container-id-4 div.sk-item::before, #sk-container-id-4 div.sk-parallel-item::before {content: \"\";position: absolute;border-left: 1px solid gray;box-sizing: border-box;top: 0;bottom: 0;left: 50%;z-index: -1;}#sk-container-id-4 div.sk-parallel-item {display: flex;flex-direction: column;z-index: 1;position: relative;background-color: white;}#sk-container-id-4 div.sk-parallel-item:first-child::after {align-self: flex-end;width: 50%;}#sk-container-id-4 div.sk-parallel-item:last-child::after {align-self: flex-start;width: 50%;}#sk-container-id-4 div.sk-parallel-item:only-child::after {width: 0;}#sk-container-id-4 div.sk-dashed-wrapped {border: 1px dashed gray;margin: 0 0.4em 0.5em 0.4em;box-sizing: border-box;padding-bottom: 0.4em;background-color: white;}#sk-container-id-4 div.sk-label label {font-family: monospace;font-weight: bold;display: inline-block;line-height: 1.2em;}#sk-container-id-4 div.sk-label-container {text-align: center;}#sk-container-id-4 div.sk-container {/* jupyter's `normalize.less` sets `[hidden] { display: none; }` but bootstrap.min.css set `[hidden] { display: none !important; }` so we also need the `!important` here to be able to override the default hidden behavior on the sphinx rendered scikit-learn.org. See: https://github.com/scikit-learn/scikit-learn/issues/21755 */display: inline-block !important;position: relative;}#sk-container-id-4 div.sk-text-repr-fallback {display: none;}</style><div id=\"sk-container-id-4\" class=\"sk-top-container\"><div class=\"sk-text-repr-fallback\"><pre>GridSearchCV(cv=5,\n",
              "             estimator=Pipeline(steps=[(&#x27;preprocessor&#x27;,\n",
              "                                        ColumnTransformer(transformers=[(&#x27;num&#x27;,\n",
              "                                                                         StandardScaler(),\n",
              "                                                                         [&#x27;Number_of_Riders&#x27;,\n",
              "                                                                          &#x27;Number_of_Drivers&#x27;,\n",
              "                                                                          &#x27;Number_of_Past_Rides&#x27;,\n",
              "                                                                          &#x27;Average_Ratings&#x27;,\n",
              "                                                                          &#x27;Expected_Ride_Duration&#x27;]),\n",
              "                                                                        (&#x27;loyl&#x27;,\n",
              "                                                                         OrdinalEncoder(categories=[[&#x27;Regular&#x27;,\n",
              "                                                                                                     &#x27;Silver&#x27;,\n",
              "                                                                                                     &#x27;Gold&#x27;]]),\n",
              "                                                                         [&#x27;Customer_Loyalty_Status&#x27;]),\n",
              "                                                                        (&#x27;vehi&#x27;,\n",
              "                                                                         OrdinalEncoder(categorie...\n",
              "                                                                         OneHotEncoder(),\n",
              "                                                                         [&#x27;Location_Category&#x27;,\n",
              "                                                                          &#x27;Time_of_Booking&#x27;])])),\n",
              "                                       (&#x27;regressor&#x27;,\n",
              "                                        RandomForestRegressor(random_state=42))]),\n",
              "             n_jobs=5,\n",
              "             param_grid={&#x27;regressor__max_depth&#x27;: [5, 10],\n",
              "                         &#x27;regressor__max_features&#x27;: [&#x27;auto&#x27;, &#x27;sqrt&#x27;, 0.7],\n",
              "                         &#x27;regressor__min_samples_leaf&#x27;: [5, 15, 25, 35, 45],\n",
              "                         &#x27;regressor__min_samples_split&#x27;: [10, 60],\n",
              "                         &#x27;regressor__n_estimators&#x27;: [100, 120, 140, 160]},\n",
              "             verbose=1)</pre><b>In a Jupyter environment, please rerun this cell to show the HTML representation or trust the notebook. <br />On GitHub, the HTML representation is unable to render, please try loading this page with nbviewer.org.</b></div><div class=\"sk-container\" hidden><div class=\"sk-item sk-dashed-wrapped\"><div class=\"sk-label-container\"><div class=\"sk-label sk-toggleable\"><input class=\"sk-toggleable__control sk-hidden--visually\" id=\"sk-estimator-id-35\" type=\"checkbox\" ><label for=\"sk-estimator-id-35\" class=\"sk-toggleable__label sk-toggleable__label-arrow\">GridSearchCV</label><div class=\"sk-toggleable__content\"><pre>GridSearchCV(cv=5,\n",
              "             estimator=Pipeline(steps=[(&#x27;preprocessor&#x27;,\n",
              "                                        ColumnTransformer(transformers=[(&#x27;num&#x27;,\n",
              "                                                                         StandardScaler(),\n",
              "                                                                         [&#x27;Number_of_Riders&#x27;,\n",
              "                                                                          &#x27;Number_of_Drivers&#x27;,\n",
              "                                                                          &#x27;Number_of_Past_Rides&#x27;,\n",
              "                                                                          &#x27;Average_Ratings&#x27;,\n",
              "                                                                          &#x27;Expected_Ride_Duration&#x27;]),\n",
              "                                                                        (&#x27;loyl&#x27;,\n",
              "                                                                         OrdinalEncoder(categories=[[&#x27;Regular&#x27;,\n",
              "                                                                                                     &#x27;Silver&#x27;,\n",
              "                                                                                                     &#x27;Gold&#x27;]]),\n",
              "                                                                         [&#x27;Customer_Loyalty_Status&#x27;]),\n",
              "                                                                        (&#x27;vehi&#x27;,\n",
              "                                                                         OrdinalEncoder(categorie...\n",
              "                                                                         OneHotEncoder(),\n",
              "                                                                         [&#x27;Location_Category&#x27;,\n",
              "                                                                          &#x27;Time_of_Booking&#x27;])])),\n",
              "                                       (&#x27;regressor&#x27;,\n",
              "                                        RandomForestRegressor(random_state=42))]),\n",
              "             n_jobs=5,\n",
              "             param_grid={&#x27;regressor__max_depth&#x27;: [5, 10],\n",
              "                         &#x27;regressor__max_features&#x27;: [&#x27;auto&#x27;, &#x27;sqrt&#x27;, 0.7],\n",
              "                         &#x27;regressor__min_samples_leaf&#x27;: [5, 15, 25, 35, 45],\n",
              "                         &#x27;regressor__min_samples_split&#x27;: [10, 60],\n",
              "                         &#x27;regressor__n_estimators&#x27;: [100, 120, 140, 160]},\n",
              "             verbose=1)</pre></div></div></div><div class=\"sk-parallel\"><div class=\"sk-parallel-item\"><div class=\"sk-item\"><div class=\"sk-label-container\"><div class=\"sk-label sk-toggleable\"><input class=\"sk-toggleable__control sk-hidden--visually\" id=\"sk-estimator-id-36\" type=\"checkbox\" ><label for=\"sk-estimator-id-36\" class=\"sk-toggleable__label sk-toggleable__label-arrow\">estimator: Pipeline</label><div class=\"sk-toggleable__content\"><pre>Pipeline(steps=[(&#x27;preprocessor&#x27;,\n",
              "                 ColumnTransformer(transformers=[(&#x27;num&#x27;, StandardScaler(),\n",
              "                                                  [&#x27;Number_of_Riders&#x27;,\n",
              "                                                   &#x27;Number_of_Drivers&#x27;,\n",
              "                                                   &#x27;Number_of_Past_Rides&#x27;,\n",
              "                                                   &#x27;Average_Ratings&#x27;,\n",
              "                                                   &#x27;Expected_Ride_Duration&#x27;]),\n",
              "                                                 (&#x27;loyl&#x27;,\n",
              "                                                  OrdinalEncoder(categories=[[&#x27;Regular&#x27;,\n",
              "                                                                              &#x27;Silver&#x27;,\n",
              "                                                                              &#x27;Gold&#x27;]]),\n",
              "                                                  [&#x27;Customer_Loyalty_Status&#x27;]),\n",
              "                                                 (&#x27;vehi&#x27;,\n",
              "                                                  OrdinalEncoder(categories=[[&#x27;Economy&#x27;,\n",
              "                                                                              &#x27;Premium&#x27;]]),\n",
              "                                                  [&#x27;Vehicle_Type&#x27;]),\n",
              "                                                 (&#x27;nomi&#x27;, OneHotEncoder(),\n",
              "                                                  [&#x27;Location_Category&#x27;,\n",
              "                                                   &#x27;Time_of_Booking&#x27;])])),\n",
              "                (&#x27;regressor&#x27;, RandomForestRegressor(random_state=42))])</pre></div></div></div><div class=\"sk-serial\"><div class=\"sk-item\"><div class=\"sk-serial\"><div class=\"sk-item sk-dashed-wrapped\"><div class=\"sk-label-container\"><div class=\"sk-label sk-toggleable\"><input class=\"sk-toggleable__control sk-hidden--visually\" id=\"sk-estimator-id-37\" type=\"checkbox\" ><label for=\"sk-estimator-id-37\" class=\"sk-toggleable__label sk-toggleable__label-arrow\">preprocessor: ColumnTransformer</label><div class=\"sk-toggleable__content\"><pre>ColumnTransformer(transformers=[(&#x27;num&#x27;, StandardScaler(),\n",
              "                                 [&#x27;Number_of_Riders&#x27;, &#x27;Number_of_Drivers&#x27;,\n",
              "                                  &#x27;Number_of_Past_Rides&#x27;, &#x27;Average_Ratings&#x27;,\n",
              "                                  &#x27;Expected_Ride_Duration&#x27;]),\n",
              "                                (&#x27;loyl&#x27;,\n",
              "                                 OrdinalEncoder(categories=[[&#x27;Regular&#x27;,\n",
              "                                                             &#x27;Silver&#x27;,\n",
              "                                                             &#x27;Gold&#x27;]]),\n",
              "                                 [&#x27;Customer_Loyalty_Status&#x27;]),\n",
              "                                (&#x27;vehi&#x27;,\n",
              "                                 OrdinalEncoder(categories=[[&#x27;Economy&#x27;,\n",
              "                                                             &#x27;Premium&#x27;]]),\n",
              "                                 [&#x27;Vehicle_Type&#x27;]),\n",
              "                                (&#x27;nomi&#x27;, OneHotEncoder(),\n",
              "                                 [&#x27;Location_Category&#x27;, &#x27;Time_of_Booking&#x27;])])</pre></div></div></div><div class=\"sk-parallel\"><div class=\"sk-parallel-item\"><div class=\"sk-item\"><div class=\"sk-label-container\"><div class=\"sk-label sk-toggleable\"><input class=\"sk-toggleable__control sk-hidden--visually\" id=\"sk-estimator-id-38\" type=\"checkbox\" ><label for=\"sk-estimator-id-38\" class=\"sk-toggleable__label sk-toggleable__label-arrow\">num</label><div class=\"sk-toggleable__content\"><pre>[&#x27;Number_of_Riders&#x27;, &#x27;Number_of_Drivers&#x27;, &#x27;Number_of_Past_Rides&#x27;, &#x27;Average_Ratings&#x27;, &#x27;Expected_Ride_Duration&#x27;]</pre></div></div></div><div class=\"sk-serial\"><div class=\"sk-item\"><div class=\"sk-estimator sk-toggleable\"><input class=\"sk-toggleable__control sk-hidden--visually\" id=\"sk-estimator-id-39\" type=\"checkbox\" ><label for=\"sk-estimator-id-39\" class=\"sk-toggleable__label sk-toggleable__label-arrow\">StandardScaler</label><div class=\"sk-toggleable__content\"><pre>StandardScaler()</pre></div></div></div></div></div></div><div class=\"sk-parallel-item\"><div class=\"sk-item\"><div class=\"sk-label-container\"><div class=\"sk-label sk-toggleable\"><input class=\"sk-toggleable__control sk-hidden--visually\" id=\"sk-estimator-id-40\" type=\"checkbox\" ><label for=\"sk-estimator-id-40\" class=\"sk-toggleable__label sk-toggleable__label-arrow\">loyl</label><div class=\"sk-toggleable__content\"><pre>[&#x27;Customer_Loyalty_Status&#x27;]</pre></div></div></div><div class=\"sk-serial\"><div class=\"sk-item\"><div class=\"sk-estimator sk-toggleable\"><input class=\"sk-toggleable__control sk-hidden--visually\" id=\"sk-estimator-id-41\" type=\"checkbox\" ><label for=\"sk-estimator-id-41\" class=\"sk-toggleable__label sk-toggleable__label-arrow\">OrdinalEncoder</label><div class=\"sk-toggleable__content\"><pre>OrdinalEncoder(categories=[[&#x27;Regular&#x27;, &#x27;Silver&#x27;, &#x27;Gold&#x27;]])</pre></div></div></div></div></div></div><div class=\"sk-parallel-item\"><div class=\"sk-item\"><div class=\"sk-label-container\"><div class=\"sk-label sk-toggleable\"><input class=\"sk-toggleable__control sk-hidden--visually\" id=\"sk-estimator-id-42\" type=\"checkbox\" ><label for=\"sk-estimator-id-42\" class=\"sk-toggleable__label sk-toggleable__label-arrow\">vehi</label><div class=\"sk-toggleable__content\"><pre>[&#x27;Vehicle_Type&#x27;]</pre></div></div></div><div class=\"sk-serial\"><div class=\"sk-item\"><div class=\"sk-estimator sk-toggleable\"><input class=\"sk-toggleable__control sk-hidden--visually\" id=\"sk-estimator-id-43\" type=\"checkbox\" ><label for=\"sk-estimator-id-43\" class=\"sk-toggleable__label sk-toggleable__label-arrow\">OrdinalEncoder</label><div class=\"sk-toggleable__content\"><pre>OrdinalEncoder(categories=[[&#x27;Economy&#x27;, &#x27;Premium&#x27;]])</pre></div></div></div></div></div></div><div class=\"sk-parallel-item\"><div class=\"sk-item\"><div class=\"sk-label-container\"><div class=\"sk-label sk-toggleable\"><input class=\"sk-toggleable__control sk-hidden--visually\" id=\"sk-estimator-id-44\" type=\"checkbox\" ><label for=\"sk-estimator-id-44\" class=\"sk-toggleable__label sk-toggleable__label-arrow\">nomi</label><div class=\"sk-toggleable__content\"><pre>[&#x27;Location_Category&#x27;, &#x27;Time_of_Booking&#x27;]</pre></div></div></div><div class=\"sk-serial\"><div class=\"sk-item\"><div class=\"sk-estimator sk-toggleable\"><input class=\"sk-toggleable__control sk-hidden--visually\" id=\"sk-estimator-id-45\" type=\"checkbox\" ><label for=\"sk-estimator-id-45\" class=\"sk-toggleable__label sk-toggleable__label-arrow\">OneHotEncoder</label><div class=\"sk-toggleable__content\"><pre>OneHotEncoder()</pre></div></div></div></div></div></div></div></div><div class=\"sk-item\"><div class=\"sk-estimator sk-toggleable\"><input class=\"sk-toggleable__control sk-hidden--visually\" id=\"sk-estimator-id-46\" type=\"checkbox\" ><label for=\"sk-estimator-id-46\" class=\"sk-toggleable__label sk-toggleable__label-arrow\">RandomForestRegressor</label><div class=\"sk-toggleable__content\"><pre>RandomForestRegressor(random_state=42)</pre></div></div></div></div></div></div></div></div></div></div></div></div>"
            ]
          },
          "metadata": {},
          "execution_count": 35
        }
      ]
    },
    {
      "cell_type": "markdown",
      "source": [
        "## best parameters"
      ],
      "metadata": {
        "id": "-gKO7otRSOYO"
      }
    },
    {
      "cell_type": "code",
      "source": [
        "# Get the best parameters and model from the grid search\n",
        "best_params = RF_grid.best_params_\n",
        "best_model = RF_grid.best_estimator_\n",
        "\n",
        "\n",
        "\n",
        "# Print the best parameters\n",
        "print(\"Best Parameters:\", best_params)\n",
        "\n"
      ],
      "metadata": {
        "colab": {
          "base_uri": "https://localhost:8080/"
        },
        "id": "RB_Fkez4vC8u",
        "outputId": "9cfddb31-caac-4d45-ae59-307920082fd8"
      },
      "execution_count": null,
      "outputs": [
        {
          "output_type": "stream",
          "name": "stdout",
          "text": [
            "Best Parameters: {'regressor__max_depth': 10, 'regressor__max_features': 'auto', 'regressor__min_samples_leaf': 5, 'regressor__min_samples_split': 10, 'regressor__n_estimators': 120}\n"
          ]
        }
      ]
    },
    {
      "cell_type": "markdown",
      "source": [
        "### model performance after tuning"
      ],
      "metadata": {
        "id": "tmwuGCoCSXYt"
      }
    },
    {
      "cell_type": "code",
      "source": [
        "# Predict on the test data using the best model\n",
        "y_pred_train = best_model.predict(X_test)\n",
        "y_pred_train = best_model.predict(X_train)\n",
        "\n",
        "\n",
        "# Evaluate the model\n",
        "\n",
        "# Calculate R2 scores\n",
        "r2_score_test = r2_score(y_test, y_pred_test)\n",
        "r2_score_train = r2_score(y_train, y_pred_train)\n",
        "\n",
        "# Calculate mean squared error\n",
        "mse_test = mean_squared_error(y_test, y_pred_test)\n",
        "mse_train = mean_squared_error(y_train, y_pred_train)\n",
        "\n",
        "# Print the evaluation metrics\n",
        "print(\"Random Forest with tuning: \\n\")\n",
        "print(f\"R2 Score (Test): {r2_score_test:.4f}\")\n",
        "print(f\"R2 Score (Train): {r2_score_train:.4f}\")\n",
        "print(f\"RMSE (Test): {np.sqrt(mse_test):.4f}\")\n",
        "print(f\"RMSE (Train):{np.sqrt( mse_train):.4f}\")\n",
        "print(\"\\n\")"
      ],
      "metadata": {
        "colab": {
          "base_uri": "https://localhost:8080/"
        },
        "id": "J9TOHOrUvDAN",
        "outputId": "1f27f064-5959-47b9-9a93-200a36d320e3"
      },
      "execution_count": null,
      "outputs": [
        {
          "output_type": "stream",
          "name": "stdout",
          "text": [
            "Random Forest with tuning: \n",
            "\n",
            "R2 Score (Test): 0.8761\n",
            "R2 Score (Train): 0.9251\n",
            "RMSE (Test): 163.4659\n",
            "RMSE (Train):133.2283\n",
            "\n",
            "\n"
          ]
        }
      ]
    },
    {
      "cell_type": "markdown",
      "source": [
        "# Gradient Boosting - XGB"
      ],
      "metadata": {
        "id": "26l5cR9pSdZg"
      }
    },
    {
      "cell_type": "markdown",
      "source": [
        "## Creating the model"
      ],
      "metadata": {
        "id": "zNQjJZoKTB2M"
      }
    },
    {
      "cell_type": "code",
      "source": [
        "from sklearn.ensemble import GradientBoostingRegressor\n",
        "pipeline = Pipeline(steps = [('preprocessor', preprocessor),('regressor',GradientBoostingRegressor(random_state=10)) ])"
      ],
      "metadata": {
        "id": "5aAjMTlgTB2k"
      },
      "execution_count": null,
      "outputs": []
    },
    {
      "cell_type": "code",
      "source": [
        "XG_model = pipeline.fit(X_train, y_train)"
      ],
      "metadata": {
        "id": "9KI8DiVnTB2k"
      },
      "execution_count": null,
      "outputs": []
    },
    {
      "cell_type": "code",
      "source": [
        "XG_model"
      ],
      "metadata": {
        "colab": {
          "base_uri": "https://localhost:8080/",
          "height": 194
        },
        "outputId": "8769f2ae-bda2-4bad-aa36-82216672954e",
        "id": "4-eNj8jSTB2k"
      },
      "execution_count": null,
      "outputs": [
        {
          "output_type": "execute_result",
          "data": {
            "text/plain": [
              "Pipeline(steps=[('preprocessor',\n",
              "                 ColumnTransformer(transformers=[('num', StandardScaler(),\n",
              "                                                  ['Number_of_Riders',\n",
              "                                                   'Number_of_Drivers',\n",
              "                                                   'Number_of_Past_Rides',\n",
              "                                                   'Average_Ratings',\n",
              "                                                   'Expected_Ride_Duration']),\n",
              "                                                 ('loyl',\n",
              "                                                  OrdinalEncoder(categories=[['Regular',\n",
              "                                                                              'Silver',\n",
              "                                                                              'Gold']]),\n",
              "                                                  ['Customer_Loyalty_Status']),\n",
              "                                                 ('vehi',\n",
              "                                                  OrdinalEncoder(categories=[['Economy',\n",
              "                                                                              'Premium']]),\n",
              "                                                  ['Vehicle_Type']),\n",
              "                                                 ('nomi', OneHotEncoder(),\n",
              "                                                  ['Location_Category',\n",
              "                                                   'Time_of_Booking'])])),\n",
              "                ('regressor', GradientBoostingRegressor(random_state=10))])"
            ],
            "text/html": [
              "<style>#sk-container-id-5 {color: black;background-color: white;}#sk-container-id-5 pre{padding: 0;}#sk-container-id-5 div.sk-toggleable {background-color: white;}#sk-container-id-5 label.sk-toggleable__label {cursor: pointer;display: block;width: 100%;margin-bottom: 0;padding: 0.3em;box-sizing: border-box;text-align: center;}#sk-container-id-5 label.sk-toggleable__label-arrow:before {content: \"▸\";float: left;margin-right: 0.25em;color: #696969;}#sk-container-id-5 label.sk-toggleable__label-arrow:hover:before {color: black;}#sk-container-id-5 div.sk-estimator:hover label.sk-toggleable__label-arrow:before {color: black;}#sk-container-id-5 div.sk-toggleable__content {max-height: 0;max-width: 0;overflow: hidden;text-align: left;background-color: #f0f8ff;}#sk-container-id-5 div.sk-toggleable__content pre {margin: 0.2em;color: black;border-radius: 0.25em;background-color: #f0f8ff;}#sk-container-id-5 input.sk-toggleable__control:checked~div.sk-toggleable__content {max-height: 200px;max-width: 100%;overflow: auto;}#sk-container-id-5 input.sk-toggleable__control:checked~label.sk-toggleable__label-arrow:before {content: \"▾\";}#sk-container-id-5 div.sk-estimator input.sk-toggleable__control:checked~label.sk-toggleable__label {background-color: #d4ebff;}#sk-container-id-5 div.sk-label input.sk-toggleable__control:checked~label.sk-toggleable__label {background-color: #d4ebff;}#sk-container-id-5 input.sk-hidden--visually {border: 0;clip: rect(1px 1px 1px 1px);clip: rect(1px, 1px, 1px, 1px);height: 1px;margin: -1px;overflow: hidden;padding: 0;position: absolute;width: 1px;}#sk-container-id-5 div.sk-estimator {font-family: monospace;background-color: #f0f8ff;border: 1px dotted black;border-radius: 0.25em;box-sizing: border-box;margin-bottom: 0.5em;}#sk-container-id-5 div.sk-estimator:hover {background-color: #d4ebff;}#sk-container-id-5 div.sk-parallel-item::after {content: \"\";width: 100%;border-bottom: 1px solid gray;flex-grow: 1;}#sk-container-id-5 div.sk-label:hover label.sk-toggleable__label {background-color: #d4ebff;}#sk-container-id-5 div.sk-serial::before {content: \"\";position: absolute;border-left: 1px solid gray;box-sizing: border-box;top: 0;bottom: 0;left: 50%;z-index: 0;}#sk-container-id-5 div.sk-serial {display: flex;flex-direction: column;align-items: center;background-color: white;padding-right: 0.2em;padding-left: 0.2em;position: relative;}#sk-container-id-5 div.sk-item {position: relative;z-index: 1;}#sk-container-id-5 div.sk-parallel {display: flex;align-items: stretch;justify-content: center;background-color: white;position: relative;}#sk-container-id-5 div.sk-item::before, #sk-container-id-5 div.sk-parallel-item::before {content: \"\";position: absolute;border-left: 1px solid gray;box-sizing: border-box;top: 0;bottom: 0;left: 50%;z-index: -1;}#sk-container-id-5 div.sk-parallel-item {display: flex;flex-direction: column;z-index: 1;position: relative;background-color: white;}#sk-container-id-5 div.sk-parallel-item:first-child::after {align-self: flex-end;width: 50%;}#sk-container-id-5 div.sk-parallel-item:last-child::after {align-self: flex-start;width: 50%;}#sk-container-id-5 div.sk-parallel-item:only-child::after {width: 0;}#sk-container-id-5 div.sk-dashed-wrapped {border: 1px dashed gray;margin: 0 0.4em 0.5em 0.4em;box-sizing: border-box;padding-bottom: 0.4em;background-color: white;}#sk-container-id-5 div.sk-label label {font-family: monospace;font-weight: bold;display: inline-block;line-height: 1.2em;}#sk-container-id-5 div.sk-label-container {text-align: center;}#sk-container-id-5 div.sk-container {/* jupyter's `normalize.less` sets `[hidden] { display: none; }` but bootstrap.min.css set `[hidden] { display: none !important; }` so we also need the `!important` here to be able to override the default hidden behavior on the sphinx rendered scikit-learn.org. See: https://github.com/scikit-learn/scikit-learn/issues/21755 */display: inline-block !important;position: relative;}#sk-container-id-5 div.sk-text-repr-fallback {display: none;}</style><div id=\"sk-container-id-5\" class=\"sk-top-container\"><div class=\"sk-text-repr-fallback\"><pre>Pipeline(steps=[(&#x27;preprocessor&#x27;,\n",
              "                 ColumnTransformer(transformers=[(&#x27;num&#x27;, StandardScaler(),\n",
              "                                                  [&#x27;Number_of_Riders&#x27;,\n",
              "                                                   &#x27;Number_of_Drivers&#x27;,\n",
              "                                                   &#x27;Number_of_Past_Rides&#x27;,\n",
              "                                                   &#x27;Average_Ratings&#x27;,\n",
              "                                                   &#x27;Expected_Ride_Duration&#x27;]),\n",
              "                                                 (&#x27;loyl&#x27;,\n",
              "                                                  OrdinalEncoder(categories=[[&#x27;Regular&#x27;,\n",
              "                                                                              &#x27;Silver&#x27;,\n",
              "                                                                              &#x27;Gold&#x27;]]),\n",
              "                                                  [&#x27;Customer_Loyalty_Status&#x27;]),\n",
              "                                                 (&#x27;vehi&#x27;,\n",
              "                                                  OrdinalEncoder(categories=[[&#x27;Economy&#x27;,\n",
              "                                                                              &#x27;Premium&#x27;]]),\n",
              "                                                  [&#x27;Vehicle_Type&#x27;]),\n",
              "                                                 (&#x27;nomi&#x27;, OneHotEncoder(),\n",
              "                                                  [&#x27;Location_Category&#x27;,\n",
              "                                                   &#x27;Time_of_Booking&#x27;])])),\n",
              "                (&#x27;regressor&#x27;, GradientBoostingRegressor(random_state=10))])</pre><b>In a Jupyter environment, please rerun this cell to show the HTML representation or trust the notebook. <br />On GitHub, the HTML representation is unable to render, please try loading this page with nbviewer.org.</b></div><div class=\"sk-container\" hidden><div class=\"sk-item sk-dashed-wrapped\"><div class=\"sk-label-container\"><div class=\"sk-label sk-toggleable\"><input class=\"sk-toggleable__control sk-hidden--visually\" id=\"sk-estimator-id-47\" type=\"checkbox\" ><label for=\"sk-estimator-id-47\" class=\"sk-toggleable__label sk-toggleable__label-arrow\">Pipeline</label><div class=\"sk-toggleable__content\"><pre>Pipeline(steps=[(&#x27;preprocessor&#x27;,\n",
              "                 ColumnTransformer(transformers=[(&#x27;num&#x27;, StandardScaler(),\n",
              "                                                  [&#x27;Number_of_Riders&#x27;,\n",
              "                                                   &#x27;Number_of_Drivers&#x27;,\n",
              "                                                   &#x27;Number_of_Past_Rides&#x27;,\n",
              "                                                   &#x27;Average_Ratings&#x27;,\n",
              "                                                   &#x27;Expected_Ride_Duration&#x27;]),\n",
              "                                                 (&#x27;loyl&#x27;,\n",
              "                                                  OrdinalEncoder(categories=[[&#x27;Regular&#x27;,\n",
              "                                                                              &#x27;Silver&#x27;,\n",
              "                                                                              &#x27;Gold&#x27;]]),\n",
              "                                                  [&#x27;Customer_Loyalty_Status&#x27;]),\n",
              "                                                 (&#x27;vehi&#x27;,\n",
              "                                                  OrdinalEncoder(categories=[[&#x27;Economy&#x27;,\n",
              "                                                                              &#x27;Premium&#x27;]]),\n",
              "                                                  [&#x27;Vehicle_Type&#x27;]),\n",
              "                                                 (&#x27;nomi&#x27;, OneHotEncoder(),\n",
              "                                                  [&#x27;Location_Category&#x27;,\n",
              "                                                   &#x27;Time_of_Booking&#x27;])])),\n",
              "                (&#x27;regressor&#x27;, GradientBoostingRegressor(random_state=10))])</pre></div></div></div><div class=\"sk-serial\"><div class=\"sk-item sk-dashed-wrapped\"><div class=\"sk-label-container\"><div class=\"sk-label sk-toggleable\"><input class=\"sk-toggleable__control sk-hidden--visually\" id=\"sk-estimator-id-48\" type=\"checkbox\" ><label for=\"sk-estimator-id-48\" class=\"sk-toggleable__label sk-toggleable__label-arrow\">preprocessor: ColumnTransformer</label><div class=\"sk-toggleable__content\"><pre>ColumnTransformer(transformers=[(&#x27;num&#x27;, StandardScaler(),\n",
              "                                 [&#x27;Number_of_Riders&#x27;, &#x27;Number_of_Drivers&#x27;,\n",
              "                                  &#x27;Number_of_Past_Rides&#x27;, &#x27;Average_Ratings&#x27;,\n",
              "                                  &#x27;Expected_Ride_Duration&#x27;]),\n",
              "                                (&#x27;loyl&#x27;,\n",
              "                                 OrdinalEncoder(categories=[[&#x27;Regular&#x27;,\n",
              "                                                             &#x27;Silver&#x27;,\n",
              "                                                             &#x27;Gold&#x27;]]),\n",
              "                                 [&#x27;Customer_Loyalty_Status&#x27;]),\n",
              "                                (&#x27;vehi&#x27;,\n",
              "                                 OrdinalEncoder(categories=[[&#x27;Economy&#x27;,\n",
              "                                                             &#x27;Premium&#x27;]]),\n",
              "                                 [&#x27;Vehicle_Type&#x27;]),\n",
              "                                (&#x27;nomi&#x27;, OneHotEncoder(),\n",
              "                                 [&#x27;Location_Category&#x27;, &#x27;Time_of_Booking&#x27;])])</pre></div></div></div><div class=\"sk-parallel\"><div class=\"sk-parallel-item\"><div class=\"sk-item\"><div class=\"sk-label-container\"><div class=\"sk-label sk-toggleable\"><input class=\"sk-toggleable__control sk-hidden--visually\" id=\"sk-estimator-id-49\" type=\"checkbox\" ><label for=\"sk-estimator-id-49\" class=\"sk-toggleable__label sk-toggleable__label-arrow\">num</label><div class=\"sk-toggleable__content\"><pre>[&#x27;Number_of_Riders&#x27;, &#x27;Number_of_Drivers&#x27;, &#x27;Number_of_Past_Rides&#x27;, &#x27;Average_Ratings&#x27;, &#x27;Expected_Ride_Duration&#x27;]</pre></div></div></div><div class=\"sk-serial\"><div class=\"sk-item\"><div class=\"sk-estimator sk-toggleable\"><input class=\"sk-toggleable__control sk-hidden--visually\" id=\"sk-estimator-id-50\" type=\"checkbox\" ><label for=\"sk-estimator-id-50\" class=\"sk-toggleable__label sk-toggleable__label-arrow\">StandardScaler</label><div class=\"sk-toggleable__content\"><pre>StandardScaler()</pre></div></div></div></div></div></div><div class=\"sk-parallel-item\"><div class=\"sk-item\"><div class=\"sk-label-container\"><div class=\"sk-label sk-toggleable\"><input class=\"sk-toggleable__control sk-hidden--visually\" id=\"sk-estimator-id-51\" type=\"checkbox\" ><label for=\"sk-estimator-id-51\" class=\"sk-toggleable__label sk-toggleable__label-arrow\">loyl</label><div class=\"sk-toggleable__content\"><pre>[&#x27;Customer_Loyalty_Status&#x27;]</pre></div></div></div><div class=\"sk-serial\"><div class=\"sk-item\"><div class=\"sk-estimator sk-toggleable\"><input class=\"sk-toggleable__control sk-hidden--visually\" id=\"sk-estimator-id-52\" type=\"checkbox\" ><label for=\"sk-estimator-id-52\" class=\"sk-toggleable__label sk-toggleable__label-arrow\">OrdinalEncoder</label><div class=\"sk-toggleable__content\"><pre>OrdinalEncoder(categories=[[&#x27;Regular&#x27;, &#x27;Silver&#x27;, &#x27;Gold&#x27;]])</pre></div></div></div></div></div></div><div class=\"sk-parallel-item\"><div class=\"sk-item\"><div class=\"sk-label-container\"><div class=\"sk-label sk-toggleable\"><input class=\"sk-toggleable__control sk-hidden--visually\" id=\"sk-estimator-id-53\" type=\"checkbox\" ><label for=\"sk-estimator-id-53\" class=\"sk-toggleable__label sk-toggleable__label-arrow\">vehi</label><div class=\"sk-toggleable__content\"><pre>[&#x27;Vehicle_Type&#x27;]</pre></div></div></div><div class=\"sk-serial\"><div class=\"sk-item\"><div class=\"sk-estimator sk-toggleable\"><input class=\"sk-toggleable__control sk-hidden--visually\" id=\"sk-estimator-id-54\" type=\"checkbox\" ><label for=\"sk-estimator-id-54\" class=\"sk-toggleable__label sk-toggleable__label-arrow\">OrdinalEncoder</label><div class=\"sk-toggleable__content\"><pre>OrdinalEncoder(categories=[[&#x27;Economy&#x27;, &#x27;Premium&#x27;]])</pre></div></div></div></div></div></div><div class=\"sk-parallel-item\"><div class=\"sk-item\"><div class=\"sk-label-container\"><div class=\"sk-label sk-toggleable\"><input class=\"sk-toggleable__control sk-hidden--visually\" id=\"sk-estimator-id-55\" type=\"checkbox\" ><label for=\"sk-estimator-id-55\" class=\"sk-toggleable__label sk-toggleable__label-arrow\">nomi</label><div class=\"sk-toggleable__content\"><pre>[&#x27;Location_Category&#x27;, &#x27;Time_of_Booking&#x27;]</pre></div></div></div><div class=\"sk-serial\"><div class=\"sk-item\"><div class=\"sk-estimator sk-toggleable\"><input class=\"sk-toggleable__control sk-hidden--visually\" id=\"sk-estimator-id-56\" type=\"checkbox\" ><label for=\"sk-estimator-id-56\" class=\"sk-toggleable__label sk-toggleable__label-arrow\">OneHotEncoder</label><div class=\"sk-toggleable__content\"><pre>OneHotEncoder()</pre></div></div></div></div></div></div></div></div><div class=\"sk-item\"><div class=\"sk-estimator sk-toggleable\"><input class=\"sk-toggleable__control sk-hidden--visually\" id=\"sk-estimator-id-57\" type=\"checkbox\" ><label for=\"sk-estimator-id-57\" class=\"sk-toggleable__label sk-toggleable__label-arrow\">GradientBoostingRegressor</label><div class=\"sk-toggleable__content\"><pre>GradientBoostingRegressor(random_state=10)</pre></div></div></div></div></div></div></div>"
            ]
          },
          "metadata": {},
          "execution_count": 40
        }
      ]
    },
    {
      "cell_type": "code",
      "source": [],
      "metadata": {
        "id": "Fx8tw2XwRzPX"
      },
      "execution_count": null,
      "outputs": []
    },
    {
      "cell_type": "markdown",
      "source": [
        "# model accuracy without tuning"
      ],
      "metadata": {
        "id": "NIyfreSEVBfb"
      }
    },
    {
      "cell_type": "code",
      "source": [],
      "metadata": {
        "id": "vof67smhVBgM"
      },
      "execution_count": null,
      "outputs": []
    },
    {
      "cell_type": "code",
      "source": [
        "y_pred_test = XG_model.predict(X_test)\n",
        "y_pred_train = XG_model.predict(X_train)\n",
        "\n",
        "# Evaluate the model\n",
        "\n",
        "# Calculate R2 scores\n",
        "r2_score_test = r2_score(y_test, y_pred_test)\n",
        "r2_score_train = r2_score(y_train, y_pred_train)\n",
        "\n",
        "# Calculate mean squared error\n",
        "mse_test = mean_squared_error(y_test, y_pred_test)\n",
        "mse_train = mean_squared_error(y_train, y_pred_train)\n",
        "\n",
        "# Print the evaluation metrics\n",
        "print(\"XGB w/o tuning: \\n\")\n",
        "print(f\"R2 Score (Test): {r2_score_test:.4f}\")\n",
        "print(f\"R2 Score (Train): {r2_score_train:.4f}\")\n",
        "print(f\"RMSE (Test): {np.sqrt(mse_test):.4f}\")\n",
        "print(f\"RMSE (Train):{np.sqrt( mse_train):.4f}\")\n",
        "print(\"\\n\")"
      ],
      "metadata": {
        "colab": {
          "base_uri": "https://localhost:8080/"
        },
        "outputId": "c86cc5a9-d5bd-4c91-ff0c-aabf8b635d89",
        "id": "oSyI7ns8VBgM"
      },
      "execution_count": null,
      "outputs": [
        {
          "output_type": "stream",
          "name": "stdout",
          "text": [
            "XGB w/o tuning: \n",
            "\n",
            "R2 Score (Test): 0.8813\n",
            "R2 Score (Train): 0.9432\n",
            "RMSE (Test): 160.0257\n",
            "RMSE (Train):116.0465\n",
            "\n",
            "\n"
          ]
        }
      ]
    },
    {
      "cell_type": "code",
      "source": [],
      "metadata": {
        "id": "gDxBkPmXRzb_"
      },
      "execution_count": null,
      "outputs": []
    },
    {
      "cell_type": "markdown",
      "metadata": {
        "id": "zm_Hj28U2BGM"
      },
      "source": [
        "## tuning\n"
      ]
    },
    {
      "cell_type": "code",
      "execution_count": null,
      "metadata": {
        "id": "fBTGbg71fHB0"
      },
      "outputs": [],
      "source": [
        "\n",
        "params = {\n",
        "    'regressor__learning_rate' : [0.1,0.15],\n",
        "    'regressor__n_estimators' : [100,150,250],\n",
        "    'regressor__max_features' : ['sqrt',0.7],\n",
        "    'regressor__max_depth' : [5,10],\n",
        "    'regressor__min_samples_split' : [100,150,200],\n",
        "    'regressor__min_samples_leaf' : [10,50,70]\n",
        "\n",
        "}"
      ]
    },
    {
      "cell_type": "code",
      "execution_count": null,
      "metadata": {
        "id": "A-vLce16UoDW"
      },
      "outputs": [],
      "source": [
        "XG_grid = GridSearchCV(estimator= pipeline, param_grid=params, cv=5, n_jobs=-1, verbose=1)"
      ]
    },
    {
      "cell_type": "code",
      "execution_count": null,
      "metadata": {
        "colab": {
          "base_uri": "https://localhost:8080/",
          "height": 238
        },
        "outputId": "8a142faf-b72f-4e1e-e05a-c3018b58d5f5",
        "id": "WRBOaobiUoDW"
      },
      "outputs": [
        {
          "output_type": "stream",
          "name": "stdout",
          "text": [
            "Fitting 5 folds for each of 216 candidates, totalling 1080 fits\n"
          ]
        },
        {
          "output_type": "execute_result",
          "data": {
            "text/plain": [
              "GridSearchCV(cv=5,\n",
              "             estimator=Pipeline(steps=[('preprocessor',\n",
              "                                        ColumnTransformer(transformers=[('num',\n",
              "                                                                         StandardScaler(),\n",
              "                                                                         ['Number_of_Riders',\n",
              "                                                                          'Number_of_Drivers',\n",
              "                                                                          'Number_of_Past_Rides',\n",
              "                                                                          'Average_Ratings',\n",
              "                                                                          'Expected_Ride_Duration']),\n",
              "                                                                        ('loyl',\n",
              "                                                                         OrdinalEncoder(categories=[['Regular',\n",
              "                                                                                                     'Silver',\n",
              "                                                                                                     'Gold']]),\n",
              "                                                                         ['Customer_Loyalty_Status']),\n",
              "                                                                        ('vehi',\n",
              "                                                                         OrdinalEncoder(categorie...\n",
              "                                                                         ['Location_Category',\n",
              "                                                                          'Time_of_Booking'])])),\n",
              "                                       ('regressor',\n",
              "                                        GradientBoostingRegressor(random_state=10))]),\n",
              "             n_jobs=-1,\n",
              "             param_grid={'regressor__learning_rate': [0.1, 0.15],\n",
              "                         'regressor__max_depth': [5, 10],\n",
              "                         'regressor__max_features': ['sqrt', 0.7],\n",
              "                         'regressor__min_samples_leaf': [10, 50, 70],\n",
              "                         'regressor__min_samples_split': [100, 150, 200],\n",
              "                         'regressor__n_estimators': [100, 150, 250]},\n",
              "             verbose=1)"
            ],
            "text/html": [
              "<style>#sk-container-id-6 {color: black;background-color: white;}#sk-container-id-6 pre{padding: 0;}#sk-container-id-6 div.sk-toggleable {background-color: white;}#sk-container-id-6 label.sk-toggleable__label {cursor: pointer;display: block;width: 100%;margin-bottom: 0;padding: 0.3em;box-sizing: border-box;text-align: center;}#sk-container-id-6 label.sk-toggleable__label-arrow:before {content: \"▸\";float: left;margin-right: 0.25em;color: #696969;}#sk-container-id-6 label.sk-toggleable__label-arrow:hover:before {color: black;}#sk-container-id-6 div.sk-estimator:hover label.sk-toggleable__label-arrow:before {color: black;}#sk-container-id-6 div.sk-toggleable__content {max-height: 0;max-width: 0;overflow: hidden;text-align: left;background-color: #f0f8ff;}#sk-container-id-6 div.sk-toggleable__content pre {margin: 0.2em;color: black;border-radius: 0.25em;background-color: #f0f8ff;}#sk-container-id-6 input.sk-toggleable__control:checked~div.sk-toggleable__content {max-height: 200px;max-width: 100%;overflow: auto;}#sk-container-id-6 input.sk-toggleable__control:checked~label.sk-toggleable__label-arrow:before {content: \"▾\";}#sk-container-id-6 div.sk-estimator input.sk-toggleable__control:checked~label.sk-toggleable__label {background-color: #d4ebff;}#sk-container-id-6 div.sk-label input.sk-toggleable__control:checked~label.sk-toggleable__label {background-color: #d4ebff;}#sk-container-id-6 input.sk-hidden--visually {border: 0;clip: rect(1px 1px 1px 1px);clip: rect(1px, 1px, 1px, 1px);height: 1px;margin: -1px;overflow: hidden;padding: 0;position: absolute;width: 1px;}#sk-container-id-6 div.sk-estimator {font-family: monospace;background-color: #f0f8ff;border: 1px dotted black;border-radius: 0.25em;box-sizing: border-box;margin-bottom: 0.5em;}#sk-container-id-6 div.sk-estimator:hover {background-color: #d4ebff;}#sk-container-id-6 div.sk-parallel-item::after {content: \"\";width: 100%;border-bottom: 1px solid gray;flex-grow: 1;}#sk-container-id-6 div.sk-label:hover label.sk-toggleable__label {background-color: #d4ebff;}#sk-container-id-6 div.sk-serial::before {content: \"\";position: absolute;border-left: 1px solid gray;box-sizing: border-box;top: 0;bottom: 0;left: 50%;z-index: 0;}#sk-container-id-6 div.sk-serial {display: flex;flex-direction: column;align-items: center;background-color: white;padding-right: 0.2em;padding-left: 0.2em;position: relative;}#sk-container-id-6 div.sk-item {position: relative;z-index: 1;}#sk-container-id-6 div.sk-parallel {display: flex;align-items: stretch;justify-content: center;background-color: white;position: relative;}#sk-container-id-6 div.sk-item::before, #sk-container-id-6 div.sk-parallel-item::before {content: \"\";position: absolute;border-left: 1px solid gray;box-sizing: border-box;top: 0;bottom: 0;left: 50%;z-index: -1;}#sk-container-id-6 div.sk-parallel-item {display: flex;flex-direction: column;z-index: 1;position: relative;background-color: white;}#sk-container-id-6 div.sk-parallel-item:first-child::after {align-self: flex-end;width: 50%;}#sk-container-id-6 div.sk-parallel-item:last-child::after {align-self: flex-start;width: 50%;}#sk-container-id-6 div.sk-parallel-item:only-child::after {width: 0;}#sk-container-id-6 div.sk-dashed-wrapped {border: 1px dashed gray;margin: 0 0.4em 0.5em 0.4em;box-sizing: border-box;padding-bottom: 0.4em;background-color: white;}#sk-container-id-6 div.sk-label label {font-family: monospace;font-weight: bold;display: inline-block;line-height: 1.2em;}#sk-container-id-6 div.sk-label-container {text-align: center;}#sk-container-id-6 div.sk-container {/* jupyter's `normalize.less` sets `[hidden] { display: none; }` but bootstrap.min.css set `[hidden] { display: none !important; }` so we also need the `!important` here to be able to override the default hidden behavior on the sphinx rendered scikit-learn.org. See: https://github.com/scikit-learn/scikit-learn/issues/21755 */display: inline-block !important;position: relative;}#sk-container-id-6 div.sk-text-repr-fallback {display: none;}</style><div id=\"sk-container-id-6\" class=\"sk-top-container\"><div class=\"sk-text-repr-fallback\"><pre>GridSearchCV(cv=5,\n",
              "             estimator=Pipeline(steps=[(&#x27;preprocessor&#x27;,\n",
              "                                        ColumnTransformer(transformers=[(&#x27;num&#x27;,\n",
              "                                                                         StandardScaler(),\n",
              "                                                                         [&#x27;Number_of_Riders&#x27;,\n",
              "                                                                          &#x27;Number_of_Drivers&#x27;,\n",
              "                                                                          &#x27;Number_of_Past_Rides&#x27;,\n",
              "                                                                          &#x27;Average_Ratings&#x27;,\n",
              "                                                                          &#x27;Expected_Ride_Duration&#x27;]),\n",
              "                                                                        (&#x27;loyl&#x27;,\n",
              "                                                                         OrdinalEncoder(categories=[[&#x27;Regular&#x27;,\n",
              "                                                                                                     &#x27;Silver&#x27;,\n",
              "                                                                                                     &#x27;Gold&#x27;]]),\n",
              "                                                                         [&#x27;Customer_Loyalty_Status&#x27;]),\n",
              "                                                                        (&#x27;vehi&#x27;,\n",
              "                                                                         OrdinalEncoder(categorie...\n",
              "                                                                         [&#x27;Location_Category&#x27;,\n",
              "                                                                          &#x27;Time_of_Booking&#x27;])])),\n",
              "                                       (&#x27;regressor&#x27;,\n",
              "                                        GradientBoostingRegressor(random_state=10))]),\n",
              "             n_jobs=-1,\n",
              "             param_grid={&#x27;regressor__learning_rate&#x27;: [0.1, 0.15],\n",
              "                         &#x27;regressor__max_depth&#x27;: [5, 10],\n",
              "                         &#x27;regressor__max_features&#x27;: [&#x27;sqrt&#x27;, 0.7],\n",
              "                         &#x27;regressor__min_samples_leaf&#x27;: [10, 50, 70],\n",
              "                         &#x27;regressor__min_samples_split&#x27;: [100, 150, 200],\n",
              "                         &#x27;regressor__n_estimators&#x27;: [100, 150, 250]},\n",
              "             verbose=1)</pre><b>In a Jupyter environment, please rerun this cell to show the HTML representation or trust the notebook. <br />On GitHub, the HTML representation is unable to render, please try loading this page with nbviewer.org.</b></div><div class=\"sk-container\" hidden><div class=\"sk-item sk-dashed-wrapped\"><div class=\"sk-label-container\"><div class=\"sk-label sk-toggleable\"><input class=\"sk-toggleable__control sk-hidden--visually\" id=\"sk-estimator-id-58\" type=\"checkbox\" ><label for=\"sk-estimator-id-58\" class=\"sk-toggleable__label sk-toggleable__label-arrow\">GridSearchCV</label><div class=\"sk-toggleable__content\"><pre>GridSearchCV(cv=5,\n",
              "             estimator=Pipeline(steps=[(&#x27;preprocessor&#x27;,\n",
              "                                        ColumnTransformer(transformers=[(&#x27;num&#x27;,\n",
              "                                                                         StandardScaler(),\n",
              "                                                                         [&#x27;Number_of_Riders&#x27;,\n",
              "                                                                          &#x27;Number_of_Drivers&#x27;,\n",
              "                                                                          &#x27;Number_of_Past_Rides&#x27;,\n",
              "                                                                          &#x27;Average_Ratings&#x27;,\n",
              "                                                                          &#x27;Expected_Ride_Duration&#x27;]),\n",
              "                                                                        (&#x27;loyl&#x27;,\n",
              "                                                                         OrdinalEncoder(categories=[[&#x27;Regular&#x27;,\n",
              "                                                                                                     &#x27;Silver&#x27;,\n",
              "                                                                                                     &#x27;Gold&#x27;]]),\n",
              "                                                                         [&#x27;Customer_Loyalty_Status&#x27;]),\n",
              "                                                                        (&#x27;vehi&#x27;,\n",
              "                                                                         OrdinalEncoder(categorie...\n",
              "                                                                         [&#x27;Location_Category&#x27;,\n",
              "                                                                          &#x27;Time_of_Booking&#x27;])])),\n",
              "                                       (&#x27;regressor&#x27;,\n",
              "                                        GradientBoostingRegressor(random_state=10))]),\n",
              "             n_jobs=-1,\n",
              "             param_grid={&#x27;regressor__learning_rate&#x27;: [0.1, 0.15],\n",
              "                         &#x27;regressor__max_depth&#x27;: [5, 10],\n",
              "                         &#x27;regressor__max_features&#x27;: [&#x27;sqrt&#x27;, 0.7],\n",
              "                         &#x27;regressor__min_samples_leaf&#x27;: [10, 50, 70],\n",
              "                         &#x27;regressor__min_samples_split&#x27;: [100, 150, 200],\n",
              "                         &#x27;regressor__n_estimators&#x27;: [100, 150, 250]},\n",
              "             verbose=1)</pre></div></div></div><div class=\"sk-parallel\"><div class=\"sk-parallel-item\"><div class=\"sk-item\"><div class=\"sk-label-container\"><div class=\"sk-label sk-toggleable\"><input class=\"sk-toggleable__control sk-hidden--visually\" id=\"sk-estimator-id-59\" type=\"checkbox\" ><label for=\"sk-estimator-id-59\" class=\"sk-toggleable__label sk-toggleable__label-arrow\">estimator: Pipeline</label><div class=\"sk-toggleable__content\"><pre>Pipeline(steps=[(&#x27;preprocessor&#x27;,\n",
              "                 ColumnTransformer(transformers=[(&#x27;num&#x27;, StandardScaler(),\n",
              "                                                  [&#x27;Number_of_Riders&#x27;,\n",
              "                                                   &#x27;Number_of_Drivers&#x27;,\n",
              "                                                   &#x27;Number_of_Past_Rides&#x27;,\n",
              "                                                   &#x27;Average_Ratings&#x27;,\n",
              "                                                   &#x27;Expected_Ride_Duration&#x27;]),\n",
              "                                                 (&#x27;loyl&#x27;,\n",
              "                                                  OrdinalEncoder(categories=[[&#x27;Regular&#x27;,\n",
              "                                                                              &#x27;Silver&#x27;,\n",
              "                                                                              &#x27;Gold&#x27;]]),\n",
              "                                                  [&#x27;Customer_Loyalty_Status&#x27;]),\n",
              "                                                 (&#x27;vehi&#x27;,\n",
              "                                                  OrdinalEncoder(categories=[[&#x27;Economy&#x27;,\n",
              "                                                                              &#x27;Premium&#x27;]]),\n",
              "                                                  [&#x27;Vehicle_Type&#x27;]),\n",
              "                                                 (&#x27;nomi&#x27;, OneHotEncoder(),\n",
              "                                                  [&#x27;Location_Category&#x27;,\n",
              "                                                   &#x27;Time_of_Booking&#x27;])])),\n",
              "                (&#x27;regressor&#x27;, GradientBoostingRegressor(random_state=10))])</pre></div></div></div><div class=\"sk-serial\"><div class=\"sk-item\"><div class=\"sk-serial\"><div class=\"sk-item sk-dashed-wrapped\"><div class=\"sk-label-container\"><div class=\"sk-label sk-toggleable\"><input class=\"sk-toggleable__control sk-hidden--visually\" id=\"sk-estimator-id-60\" type=\"checkbox\" ><label for=\"sk-estimator-id-60\" class=\"sk-toggleable__label sk-toggleable__label-arrow\">preprocessor: ColumnTransformer</label><div class=\"sk-toggleable__content\"><pre>ColumnTransformer(transformers=[(&#x27;num&#x27;, StandardScaler(),\n",
              "                                 [&#x27;Number_of_Riders&#x27;, &#x27;Number_of_Drivers&#x27;,\n",
              "                                  &#x27;Number_of_Past_Rides&#x27;, &#x27;Average_Ratings&#x27;,\n",
              "                                  &#x27;Expected_Ride_Duration&#x27;]),\n",
              "                                (&#x27;loyl&#x27;,\n",
              "                                 OrdinalEncoder(categories=[[&#x27;Regular&#x27;,\n",
              "                                                             &#x27;Silver&#x27;,\n",
              "                                                             &#x27;Gold&#x27;]]),\n",
              "                                 [&#x27;Customer_Loyalty_Status&#x27;]),\n",
              "                                (&#x27;vehi&#x27;,\n",
              "                                 OrdinalEncoder(categories=[[&#x27;Economy&#x27;,\n",
              "                                                             &#x27;Premium&#x27;]]),\n",
              "                                 [&#x27;Vehicle_Type&#x27;]),\n",
              "                                (&#x27;nomi&#x27;, OneHotEncoder(),\n",
              "                                 [&#x27;Location_Category&#x27;, &#x27;Time_of_Booking&#x27;])])</pre></div></div></div><div class=\"sk-parallel\"><div class=\"sk-parallel-item\"><div class=\"sk-item\"><div class=\"sk-label-container\"><div class=\"sk-label sk-toggleable\"><input class=\"sk-toggleable__control sk-hidden--visually\" id=\"sk-estimator-id-61\" type=\"checkbox\" ><label for=\"sk-estimator-id-61\" class=\"sk-toggleable__label sk-toggleable__label-arrow\">num</label><div class=\"sk-toggleable__content\"><pre>[&#x27;Number_of_Riders&#x27;, &#x27;Number_of_Drivers&#x27;, &#x27;Number_of_Past_Rides&#x27;, &#x27;Average_Ratings&#x27;, &#x27;Expected_Ride_Duration&#x27;]</pre></div></div></div><div class=\"sk-serial\"><div class=\"sk-item\"><div class=\"sk-estimator sk-toggleable\"><input class=\"sk-toggleable__control sk-hidden--visually\" id=\"sk-estimator-id-62\" type=\"checkbox\" ><label for=\"sk-estimator-id-62\" class=\"sk-toggleable__label sk-toggleable__label-arrow\">StandardScaler</label><div class=\"sk-toggleable__content\"><pre>StandardScaler()</pre></div></div></div></div></div></div><div class=\"sk-parallel-item\"><div class=\"sk-item\"><div class=\"sk-label-container\"><div class=\"sk-label sk-toggleable\"><input class=\"sk-toggleable__control sk-hidden--visually\" id=\"sk-estimator-id-63\" type=\"checkbox\" ><label for=\"sk-estimator-id-63\" class=\"sk-toggleable__label sk-toggleable__label-arrow\">loyl</label><div class=\"sk-toggleable__content\"><pre>[&#x27;Customer_Loyalty_Status&#x27;]</pre></div></div></div><div class=\"sk-serial\"><div class=\"sk-item\"><div class=\"sk-estimator sk-toggleable\"><input class=\"sk-toggleable__control sk-hidden--visually\" id=\"sk-estimator-id-64\" type=\"checkbox\" ><label for=\"sk-estimator-id-64\" class=\"sk-toggleable__label sk-toggleable__label-arrow\">OrdinalEncoder</label><div class=\"sk-toggleable__content\"><pre>OrdinalEncoder(categories=[[&#x27;Regular&#x27;, &#x27;Silver&#x27;, &#x27;Gold&#x27;]])</pre></div></div></div></div></div></div><div class=\"sk-parallel-item\"><div class=\"sk-item\"><div class=\"sk-label-container\"><div class=\"sk-label sk-toggleable\"><input class=\"sk-toggleable__control sk-hidden--visually\" id=\"sk-estimator-id-65\" type=\"checkbox\" ><label for=\"sk-estimator-id-65\" class=\"sk-toggleable__label sk-toggleable__label-arrow\">vehi</label><div class=\"sk-toggleable__content\"><pre>[&#x27;Vehicle_Type&#x27;]</pre></div></div></div><div class=\"sk-serial\"><div class=\"sk-item\"><div class=\"sk-estimator sk-toggleable\"><input class=\"sk-toggleable__control sk-hidden--visually\" id=\"sk-estimator-id-66\" type=\"checkbox\" ><label for=\"sk-estimator-id-66\" class=\"sk-toggleable__label sk-toggleable__label-arrow\">OrdinalEncoder</label><div class=\"sk-toggleable__content\"><pre>OrdinalEncoder(categories=[[&#x27;Economy&#x27;, &#x27;Premium&#x27;]])</pre></div></div></div></div></div></div><div class=\"sk-parallel-item\"><div class=\"sk-item\"><div class=\"sk-label-container\"><div class=\"sk-label sk-toggleable\"><input class=\"sk-toggleable__control sk-hidden--visually\" id=\"sk-estimator-id-67\" type=\"checkbox\" ><label for=\"sk-estimator-id-67\" class=\"sk-toggleable__label sk-toggleable__label-arrow\">nomi</label><div class=\"sk-toggleable__content\"><pre>[&#x27;Location_Category&#x27;, &#x27;Time_of_Booking&#x27;]</pre></div></div></div><div class=\"sk-serial\"><div class=\"sk-item\"><div class=\"sk-estimator sk-toggleable\"><input class=\"sk-toggleable__control sk-hidden--visually\" id=\"sk-estimator-id-68\" type=\"checkbox\" ><label for=\"sk-estimator-id-68\" class=\"sk-toggleable__label sk-toggleable__label-arrow\">OneHotEncoder</label><div class=\"sk-toggleable__content\"><pre>OneHotEncoder()</pre></div></div></div></div></div></div></div></div><div class=\"sk-item\"><div class=\"sk-estimator sk-toggleable\"><input class=\"sk-toggleable__control sk-hidden--visually\" id=\"sk-estimator-id-69\" type=\"checkbox\" ><label for=\"sk-estimator-id-69\" class=\"sk-toggleable__label sk-toggleable__label-arrow\">GradientBoostingRegressor</label><div class=\"sk-toggleable__content\"><pre>GradientBoostingRegressor(random_state=10)</pre></div></div></div></div></div></div></div></div></div></div></div></div>"
            ]
          },
          "metadata": {},
          "execution_count": 44
        }
      ],
      "source": [
        "# Fitting  GridSearchCV Object\n",
        "XG_grid.fit(X_train, y_train)"
      ]
    },
    {
      "cell_type": "markdown",
      "metadata": {
        "id": "8PsjprvXUoDX"
      },
      "source": [
        "## best parameters"
      ]
    },
    {
      "cell_type": "code",
      "execution_count": null,
      "metadata": {
        "id": "34FObFHBUoDX",
        "colab": {
          "base_uri": "https://localhost:8080/"
        },
        "outputId": "1720f0ce-64f9-431d-8b9f-9a4df637968e"
      },
      "outputs": [
        {
          "output_type": "stream",
          "name": "stdout",
          "text": [
            "Best Parameters: {'regressor__learning_rate': 0.15, 'regressor__max_depth': 5, 'regressor__max_features': 0.7, 'regressor__min_samples_leaf': 50, 'regressor__min_samples_split': 100, 'regressor__n_estimators': 250}\n"
          ]
        }
      ],
      "source": [
        "# Get the best parameters and model from the grid search\n",
        "best_params = XG_grid.best_params_\n",
        "best_model = XG_grid.best_estimator_\n",
        "\n",
        "\n",
        "\n",
        "# Print the best parameters\n",
        "print(\"Best Parameters:\", best_params)\n",
        "\n"
      ]
    },
    {
      "cell_type": "markdown",
      "metadata": {
        "id": "Omwx1rIfUoDY"
      },
      "source": [
        "## model performance after tuning"
      ]
    },
    {
      "cell_type": "code",
      "execution_count": null,
      "metadata": {
        "id": "qh_6A9T9UoDY",
        "colab": {
          "base_uri": "https://localhost:8080/"
        },
        "outputId": "97703cf2-bf70-490d-8265-ec96532789cd"
      },
      "outputs": [
        {
          "output_type": "stream",
          "name": "stdout",
          "text": [
            "XGB with tuning: \n",
            "\n",
            "R2 Score (Test): 0.8813\n",
            "R2 Score (Train): 0.9759\n",
            "RMSE (Test): 160.0257\n",
            "RMSE (Train):75.6008\n",
            "\n",
            "\n"
          ]
        }
      ],
      "source": [
        "\n",
        "# Predict on the test data using the best model\n",
        "y_pred_train = best_model.predict(X_test)\n",
        "y_pred_train = best_model.predict(X_train)\n",
        "\n",
        "\n",
        "# Evaluate the model\n",
        "\n",
        "# Calculate R2 scores\n",
        "r2_score_test = r2_score(y_test, y_pred_test)\n",
        "r2_score_train = r2_score(y_train, y_pred_train)\n",
        "\n",
        "# Calculate mean squared error\n",
        "mse_test = mean_squared_error(y_test, y_pred_test)\n",
        "mse_train = mean_squared_error(y_train, y_pred_train)\n",
        "\n",
        "# Print the evaluation metrics\n",
        "print(\"XGB with tuning: \\n\")\n",
        "print(f\"R2 Score (Test): {r2_score_test:.4f}\")\n",
        "print(f\"R2 Score (Train): {r2_score_train:.4f}\")\n",
        "print(f\"RMSE (Test): {np.sqrt(mse_test):.4f}\")\n",
        "print(f\"RMSE (Train):{np.sqrt( mse_train):.4f}\")\n",
        "print(\"\\n\")\n"
      ]
    },
    {
      "cell_type": "code",
      "source": [],
      "metadata": {
        "id": "B4UAXxPbRzp2"
      },
      "execution_count": null,
      "outputs": []
    },
    {
      "cell_type": "markdown",
      "source": [
        "# SVM"
      ],
      "metadata": {
        "id": "GK24LCtcS0uP"
      }
    },
    {
      "cell_type": "markdown",
      "source": [
        "## Creating the model"
      ],
      "metadata": {
        "id": "jrEDcALBVfpr"
      }
    },
    {
      "cell_type": "code",
      "source": [
        "from sklearn.svm import SVR\n",
        "pipeline = Pipeline(steps = [('preprocessor', preprocessor),('regressor',SVR()) ])"
      ],
      "metadata": {
        "id": "b-QuRTYNVfqR"
      },
      "execution_count": null,
      "outputs": []
    },
    {
      "cell_type": "code",
      "source": [
        "SV_model = pipeline.fit(X_train, y_train)"
      ],
      "metadata": {
        "id": "yfAmIQDcVfqR"
      },
      "execution_count": null,
      "outputs": []
    },
    {
      "cell_type": "code",
      "source": [
        "SV_model"
      ],
      "metadata": {
        "id": "VujSSXdgVfqS",
        "colab": {
          "base_uri": "https://localhost:8080/",
          "height": 194
        },
        "outputId": "26bd58aa-4943-4630-c6de-559d0e5edf7d"
      },
      "execution_count": null,
      "outputs": [
        {
          "output_type": "execute_result",
          "data": {
            "text/plain": [
              "Pipeline(steps=[('preprocessor',\n",
              "                 ColumnTransformer(transformers=[('num', StandardScaler(),\n",
              "                                                  ['Number_of_Riders',\n",
              "                                                   'Number_of_Drivers',\n",
              "                                                   'Number_of_Past_Rides',\n",
              "                                                   'Average_Ratings',\n",
              "                                                   'Expected_Ride_Duration']),\n",
              "                                                 ('loyl',\n",
              "                                                  OrdinalEncoder(categories=[['Regular',\n",
              "                                                                              'Silver',\n",
              "                                                                              'Gold']]),\n",
              "                                                  ['Customer_Loyalty_Status']),\n",
              "                                                 ('vehi',\n",
              "                                                  OrdinalEncoder(categories=[['Economy',\n",
              "                                                                              'Premium']]),\n",
              "                                                  ['Vehicle_Type']),\n",
              "                                                 ('nomi', OneHotEncoder(),\n",
              "                                                  ['Location_Category',\n",
              "                                                   'Time_of_Booking'])])),\n",
              "                ('regressor', SVR())])"
            ],
            "text/html": [
              "<style>#sk-container-id-7 {color: black;background-color: white;}#sk-container-id-7 pre{padding: 0;}#sk-container-id-7 div.sk-toggleable {background-color: white;}#sk-container-id-7 label.sk-toggleable__label {cursor: pointer;display: block;width: 100%;margin-bottom: 0;padding: 0.3em;box-sizing: border-box;text-align: center;}#sk-container-id-7 label.sk-toggleable__label-arrow:before {content: \"▸\";float: left;margin-right: 0.25em;color: #696969;}#sk-container-id-7 label.sk-toggleable__label-arrow:hover:before {color: black;}#sk-container-id-7 div.sk-estimator:hover label.sk-toggleable__label-arrow:before {color: black;}#sk-container-id-7 div.sk-toggleable__content {max-height: 0;max-width: 0;overflow: hidden;text-align: left;background-color: #f0f8ff;}#sk-container-id-7 div.sk-toggleable__content pre {margin: 0.2em;color: black;border-radius: 0.25em;background-color: #f0f8ff;}#sk-container-id-7 input.sk-toggleable__control:checked~div.sk-toggleable__content {max-height: 200px;max-width: 100%;overflow: auto;}#sk-container-id-7 input.sk-toggleable__control:checked~label.sk-toggleable__label-arrow:before {content: \"▾\";}#sk-container-id-7 div.sk-estimator input.sk-toggleable__control:checked~label.sk-toggleable__label {background-color: #d4ebff;}#sk-container-id-7 div.sk-label input.sk-toggleable__control:checked~label.sk-toggleable__label {background-color: #d4ebff;}#sk-container-id-7 input.sk-hidden--visually {border: 0;clip: rect(1px 1px 1px 1px);clip: rect(1px, 1px, 1px, 1px);height: 1px;margin: -1px;overflow: hidden;padding: 0;position: absolute;width: 1px;}#sk-container-id-7 div.sk-estimator {font-family: monospace;background-color: #f0f8ff;border: 1px dotted black;border-radius: 0.25em;box-sizing: border-box;margin-bottom: 0.5em;}#sk-container-id-7 div.sk-estimator:hover {background-color: #d4ebff;}#sk-container-id-7 div.sk-parallel-item::after {content: \"\";width: 100%;border-bottom: 1px solid gray;flex-grow: 1;}#sk-container-id-7 div.sk-label:hover label.sk-toggleable__label {background-color: #d4ebff;}#sk-container-id-7 div.sk-serial::before {content: \"\";position: absolute;border-left: 1px solid gray;box-sizing: border-box;top: 0;bottom: 0;left: 50%;z-index: 0;}#sk-container-id-7 div.sk-serial {display: flex;flex-direction: column;align-items: center;background-color: white;padding-right: 0.2em;padding-left: 0.2em;position: relative;}#sk-container-id-7 div.sk-item {position: relative;z-index: 1;}#sk-container-id-7 div.sk-parallel {display: flex;align-items: stretch;justify-content: center;background-color: white;position: relative;}#sk-container-id-7 div.sk-item::before, #sk-container-id-7 div.sk-parallel-item::before {content: \"\";position: absolute;border-left: 1px solid gray;box-sizing: border-box;top: 0;bottom: 0;left: 50%;z-index: -1;}#sk-container-id-7 div.sk-parallel-item {display: flex;flex-direction: column;z-index: 1;position: relative;background-color: white;}#sk-container-id-7 div.sk-parallel-item:first-child::after {align-self: flex-end;width: 50%;}#sk-container-id-7 div.sk-parallel-item:last-child::after {align-self: flex-start;width: 50%;}#sk-container-id-7 div.sk-parallel-item:only-child::after {width: 0;}#sk-container-id-7 div.sk-dashed-wrapped {border: 1px dashed gray;margin: 0 0.4em 0.5em 0.4em;box-sizing: border-box;padding-bottom: 0.4em;background-color: white;}#sk-container-id-7 div.sk-label label {font-family: monospace;font-weight: bold;display: inline-block;line-height: 1.2em;}#sk-container-id-7 div.sk-label-container {text-align: center;}#sk-container-id-7 div.sk-container {/* jupyter's `normalize.less` sets `[hidden] { display: none; }` but bootstrap.min.css set `[hidden] { display: none !important; }` so we also need the `!important` here to be able to override the default hidden behavior on the sphinx rendered scikit-learn.org. See: https://github.com/scikit-learn/scikit-learn/issues/21755 */display: inline-block !important;position: relative;}#sk-container-id-7 div.sk-text-repr-fallback {display: none;}</style><div id=\"sk-container-id-7\" class=\"sk-top-container\"><div class=\"sk-text-repr-fallback\"><pre>Pipeline(steps=[(&#x27;preprocessor&#x27;,\n",
              "                 ColumnTransformer(transformers=[(&#x27;num&#x27;, StandardScaler(),\n",
              "                                                  [&#x27;Number_of_Riders&#x27;,\n",
              "                                                   &#x27;Number_of_Drivers&#x27;,\n",
              "                                                   &#x27;Number_of_Past_Rides&#x27;,\n",
              "                                                   &#x27;Average_Ratings&#x27;,\n",
              "                                                   &#x27;Expected_Ride_Duration&#x27;]),\n",
              "                                                 (&#x27;loyl&#x27;,\n",
              "                                                  OrdinalEncoder(categories=[[&#x27;Regular&#x27;,\n",
              "                                                                              &#x27;Silver&#x27;,\n",
              "                                                                              &#x27;Gold&#x27;]]),\n",
              "                                                  [&#x27;Customer_Loyalty_Status&#x27;]),\n",
              "                                                 (&#x27;vehi&#x27;,\n",
              "                                                  OrdinalEncoder(categories=[[&#x27;Economy&#x27;,\n",
              "                                                                              &#x27;Premium&#x27;]]),\n",
              "                                                  [&#x27;Vehicle_Type&#x27;]),\n",
              "                                                 (&#x27;nomi&#x27;, OneHotEncoder(),\n",
              "                                                  [&#x27;Location_Category&#x27;,\n",
              "                                                   &#x27;Time_of_Booking&#x27;])])),\n",
              "                (&#x27;regressor&#x27;, SVR())])</pre><b>In a Jupyter environment, please rerun this cell to show the HTML representation or trust the notebook. <br />On GitHub, the HTML representation is unable to render, please try loading this page with nbviewer.org.</b></div><div class=\"sk-container\" hidden><div class=\"sk-item sk-dashed-wrapped\"><div class=\"sk-label-container\"><div class=\"sk-label sk-toggleable\"><input class=\"sk-toggleable__control sk-hidden--visually\" id=\"sk-estimator-id-70\" type=\"checkbox\" ><label for=\"sk-estimator-id-70\" class=\"sk-toggleable__label sk-toggleable__label-arrow\">Pipeline</label><div class=\"sk-toggleable__content\"><pre>Pipeline(steps=[(&#x27;preprocessor&#x27;,\n",
              "                 ColumnTransformer(transformers=[(&#x27;num&#x27;, StandardScaler(),\n",
              "                                                  [&#x27;Number_of_Riders&#x27;,\n",
              "                                                   &#x27;Number_of_Drivers&#x27;,\n",
              "                                                   &#x27;Number_of_Past_Rides&#x27;,\n",
              "                                                   &#x27;Average_Ratings&#x27;,\n",
              "                                                   &#x27;Expected_Ride_Duration&#x27;]),\n",
              "                                                 (&#x27;loyl&#x27;,\n",
              "                                                  OrdinalEncoder(categories=[[&#x27;Regular&#x27;,\n",
              "                                                                              &#x27;Silver&#x27;,\n",
              "                                                                              &#x27;Gold&#x27;]]),\n",
              "                                                  [&#x27;Customer_Loyalty_Status&#x27;]),\n",
              "                                                 (&#x27;vehi&#x27;,\n",
              "                                                  OrdinalEncoder(categories=[[&#x27;Economy&#x27;,\n",
              "                                                                              &#x27;Premium&#x27;]]),\n",
              "                                                  [&#x27;Vehicle_Type&#x27;]),\n",
              "                                                 (&#x27;nomi&#x27;, OneHotEncoder(),\n",
              "                                                  [&#x27;Location_Category&#x27;,\n",
              "                                                   &#x27;Time_of_Booking&#x27;])])),\n",
              "                (&#x27;regressor&#x27;, SVR())])</pre></div></div></div><div class=\"sk-serial\"><div class=\"sk-item sk-dashed-wrapped\"><div class=\"sk-label-container\"><div class=\"sk-label sk-toggleable\"><input class=\"sk-toggleable__control sk-hidden--visually\" id=\"sk-estimator-id-71\" type=\"checkbox\" ><label for=\"sk-estimator-id-71\" class=\"sk-toggleable__label sk-toggleable__label-arrow\">preprocessor: ColumnTransformer</label><div class=\"sk-toggleable__content\"><pre>ColumnTransformer(transformers=[(&#x27;num&#x27;, StandardScaler(),\n",
              "                                 [&#x27;Number_of_Riders&#x27;, &#x27;Number_of_Drivers&#x27;,\n",
              "                                  &#x27;Number_of_Past_Rides&#x27;, &#x27;Average_Ratings&#x27;,\n",
              "                                  &#x27;Expected_Ride_Duration&#x27;]),\n",
              "                                (&#x27;loyl&#x27;,\n",
              "                                 OrdinalEncoder(categories=[[&#x27;Regular&#x27;,\n",
              "                                                             &#x27;Silver&#x27;,\n",
              "                                                             &#x27;Gold&#x27;]]),\n",
              "                                 [&#x27;Customer_Loyalty_Status&#x27;]),\n",
              "                                (&#x27;vehi&#x27;,\n",
              "                                 OrdinalEncoder(categories=[[&#x27;Economy&#x27;,\n",
              "                                                             &#x27;Premium&#x27;]]),\n",
              "                                 [&#x27;Vehicle_Type&#x27;]),\n",
              "                                (&#x27;nomi&#x27;, OneHotEncoder(),\n",
              "                                 [&#x27;Location_Category&#x27;, &#x27;Time_of_Booking&#x27;])])</pre></div></div></div><div class=\"sk-parallel\"><div class=\"sk-parallel-item\"><div class=\"sk-item\"><div class=\"sk-label-container\"><div class=\"sk-label sk-toggleable\"><input class=\"sk-toggleable__control sk-hidden--visually\" id=\"sk-estimator-id-72\" type=\"checkbox\" ><label for=\"sk-estimator-id-72\" class=\"sk-toggleable__label sk-toggleable__label-arrow\">num</label><div class=\"sk-toggleable__content\"><pre>[&#x27;Number_of_Riders&#x27;, &#x27;Number_of_Drivers&#x27;, &#x27;Number_of_Past_Rides&#x27;, &#x27;Average_Ratings&#x27;, &#x27;Expected_Ride_Duration&#x27;]</pre></div></div></div><div class=\"sk-serial\"><div class=\"sk-item\"><div class=\"sk-estimator sk-toggleable\"><input class=\"sk-toggleable__control sk-hidden--visually\" id=\"sk-estimator-id-73\" type=\"checkbox\" ><label for=\"sk-estimator-id-73\" class=\"sk-toggleable__label sk-toggleable__label-arrow\">StandardScaler</label><div class=\"sk-toggleable__content\"><pre>StandardScaler()</pre></div></div></div></div></div></div><div class=\"sk-parallel-item\"><div class=\"sk-item\"><div class=\"sk-label-container\"><div class=\"sk-label sk-toggleable\"><input class=\"sk-toggleable__control sk-hidden--visually\" id=\"sk-estimator-id-74\" type=\"checkbox\" ><label for=\"sk-estimator-id-74\" class=\"sk-toggleable__label sk-toggleable__label-arrow\">loyl</label><div class=\"sk-toggleable__content\"><pre>[&#x27;Customer_Loyalty_Status&#x27;]</pre></div></div></div><div class=\"sk-serial\"><div class=\"sk-item\"><div class=\"sk-estimator sk-toggleable\"><input class=\"sk-toggleable__control sk-hidden--visually\" id=\"sk-estimator-id-75\" type=\"checkbox\" ><label for=\"sk-estimator-id-75\" class=\"sk-toggleable__label sk-toggleable__label-arrow\">OrdinalEncoder</label><div class=\"sk-toggleable__content\"><pre>OrdinalEncoder(categories=[[&#x27;Regular&#x27;, &#x27;Silver&#x27;, &#x27;Gold&#x27;]])</pre></div></div></div></div></div></div><div class=\"sk-parallel-item\"><div class=\"sk-item\"><div class=\"sk-label-container\"><div class=\"sk-label sk-toggleable\"><input class=\"sk-toggleable__control sk-hidden--visually\" id=\"sk-estimator-id-76\" type=\"checkbox\" ><label for=\"sk-estimator-id-76\" class=\"sk-toggleable__label sk-toggleable__label-arrow\">vehi</label><div class=\"sk-toggleable__content\"><pre>[&#x27;Vehicle_Type&#x27;]</pre></div></div></div><div class=\"sk-serial\"><div class=\"sk-item\"><div class=\"sk-estimator sk-toggleable\"><input class=\"sk-toggleable__control sk-hidden--visually\" id=\"sk-estimator-id-77\" type=\"checkbox\" ><label for=\"sk-estimator-id-77\" class=\"sk-toggleable__label sk-toggleable__label-arrow\">OrdinalEncoder</label><div class=\"sk-toggleable__content\"><pre>OrdinalEncoder(categories=[[&#x27;Economy&#x27;, &#x27;Premium&#x27;]])</pre></div></div></div></div></div></div><div class=\"sk-parallel-item\"><div class=\"sk-item\"><div class=\"sk-label-container\"><div class=\"sk-label sk-toggleable\"><input class=\"sk-toggleable__control sk-hidden--visually\" id=\"sk-estimator-id-78\" type=\"checkbox\" ><label for=\"sk-estimator-id-78\" class=\"sk-toggleable__label sk-toggleable__label-arrow\">nomi</label><div class=\"sk-toggleable__content\"><pre>[&#x27;Location_Category&#x27;, &#x27;Time_of_Booking&#x27;]</pre></div></div></div><div class=\"sk-serial\"><div class=\"sk-item\"><div class=\"sk-estimator sk-toggleable\"><input class=\"sk-toggleable__control sk-hidden--visually\" id=\"sk-estimator-id-79\" type=\"checkbox\" ><label for=\"sk-estimator-id-79\" class=\"sk-toggleable__label sk-toggleable__label-arrow\">OneHotEncoder</label><div class=\"sk-toggleable__content\"><pre>OneHotEncoder()</pre></div></div></div></div></div></div></div></div><div class=\"sk-item\"><div class=\"sk-estimator sk-toggleable\"><input class=\"sk-toggleable__control sk-hidden--visually\" id=\"sk-estimator-id-80\" type=\"checkbox\" ><label for=\"sk-estimator-id-80\" class=\"sk-toggleable__label sk-toggleable__label-arrow\">SVR</label><div class=\"sk-toggleable__content\"><pre>SVR()</pre></div></div></div></div></div></div></div>"
            ]
          },
          "metadata": {},
          "execution_count": 49
        }
      ]
    },
    {
      "cell_type": "markdown",
      "source": [
        "# model accuracy without tuning"
      ],
      "metadata": {
        "id": "paGDYX5aVfqT"
      }
    },
    {
      "cell_type": "code",
      "source": [],
      "metadata": {
        "id": "tsN5ot_5VfqT"
      },
      "execution_count": null,
      "outputs": []
    },
    {
      "cell_type": "code",
      "source": [
        "y_pred_test = SV_model.predict(X_test)\n",
        "y_pred_train = SV_model.predict(X_train)\n",
        "\n",
        "# Evaluate the model\n",
        "\n",
        "# Calculate R2 scores\n",
        "r2_score_test = r2_score(y_test, y_pred_test)\n",
        "r2_score_train = r2_score(y_train, y_pred_train)\n",
        "\n",
        "# Calculate mean squared error\n",
        "mse_test = mean_squared_error(y_test, y_pred_test)\n",
        "mse_train = mean_squared_error(y_train, y_pred_train)\n",
        "\n",
        "# Print the evaluation metrics\n",
        "print(\"SVM w/o tuning: \\n\")\n",
        "print(f\"R2 Score (Test): {r2_score_test:.4f}\")\n",
        "print(f\"R2 Score (Train): {r2_score_train:.4f}\")\n",
        "print(f\"RMSE (Test): {np.sqrt(mse_test):.4f}\")\n",
        "print(f\"RMSE (Train):{np.sqrt( mse_train):.4f}\")\n",
        "print(\"\\n\")"
      ],
      "metadata": {
        "id": "_IovnxAGVfqU",
        "colab": {
          "base_uri": "https://localhost:8080/"
        },
        "outputId": "55de2ccf-c92e-4cd6-b99f-733c7cb914f2"
      },
      "execution_count": null,
      "outputs": [
        {
          "output_type": "stream",
          "name": "stdout",
          "text": [
            "SVM w/o tuning: \n",
            "\n",
            "R2 Score (Test): 0.0223\n",
            "R2 Score (Train): 0.0270\n",
            "RMSE (Test): 459.1890\n",
            "RMSE (Train):480.1273\n",
            "\n",
            "\n"
          ]
        }
      ]
    },
    {
      "cell_type": "code",
      "source": [],
      "metadata": {
        "id": "oqcI1gcJvlDj"
      },
      "execution_count": null,
      "outputs": []
    },
    {
      "cell_type": "markdown",
      "source": [
        "# Feature Importance using best model--> XGB"
      ],
      "metadata": {
        "id": "Hfblf2D2PaEh"
      }
    },
    {
      "cell_type": "code",
      "source": [
        "final_estimator = XG_model.named_steps['regressor']\n",
        "\n",
        "feature_importances = final_estimator.feature_importances_\n",
        "\n",
        "# Get feature names\n",
        "numeric_features = ['Number_of_Riders','Number_of_Drivers','Number_of_Past_Rides','Average_Ratings','Expected_Ride_Duration']\n",
        "ordinal_features = ['Customer_Loyalty_Status','Vehicle_Type']\n",
        "nominal_features = ['Location_Category' ,'Time_of_Booking']\n",
        "\n",
        "feature_names = numeric_features + ordinal_features + list(preprocessor.named_transformers_['nomi'].get_feature_names_out(nominal_features))"
      ],
      "metadata": {
        "id": "kAvFILvYVWGS"
      },
      "execution_count": null,
      "outputs": []
    },
    {
      "cell_type": "code",
      "source": [
        "feature_importances = final_estimator.feature_importances_\n",
        "print(feature_importances)"
      ],
      "metadata": {
        "id": "GlrgPaA-VWQS"
      },
      "execution_count": null,
      "outputs": []
    },
    {
      "cell_type": "code",
      "source": [
        "feature_importance_df = pd.DataFrame({\n",
        "    \"Variable\": feature_names,\n",
        "    \"Importance\": final_estimator.feature_importances_\n",
        "})\n",
        "\n",
        "\n",
        "FI_df_sorted_desc = feature_importance_df.sort_values(by=\"Importance\", ascending=False)\n",
        "\n",
        "FI_df_sorted_desc"
      ],
      "metadata": {
        "id": "Zk-LOqwFVWf8",
        "colab": {
          "base_uri": "https://localhost:8080/",
          "height": 488
        },
        "outputId": "7196b995-7825-4ac4-a4a3-481b860147fb"
      },
      "execution_count": null,
      "outputs": [
        {
          "output_type": "execute_result",
          "data": {
            "text/plain": [
              "                      Variable  Importance\n",
              "4       Expected_Ride_Duration    0.473209\n",
              "1            Number_of_Drivers    0.345600\n",
              "0             Number_of_Riders    0.165465\n",
              "3              Average_Ratings    0.006041\n",
              "6                 Vehicle_Type    0.004386\n",
              "2         Number_of_Past_Rides    0.003179\n",
              "13       Time_of_Booking_Night    0.000629\n",
              "8   Location_Category_Suburban    0.000536\n",
              "10   Time_of_Booking_Afternoon    0.000370\n",
              "7      Location_Category_Rural    0.000248\n",
              "5      Customer_Loyalty_Status    0.000161\n",
              "11     Time_of_Booking_Evening    0.000116\n",
              "9      Location_Category_Urban    0.000050\n",
              "12     Time_of_Booking_Morning    0.000011"
            ],
            "text/html": [
              "\n",
              "  <div id=\"df-6ec6b953-c8fc-4b73-9f83-b0bee113677b\" class=\"colab-df-container\">\n",
              "    <div>\n",
              "<style scoped>\n",
              "    .dataframe tbody tr th:only-of-type {\n",
              "        vertical-align: middle;\n",
              "    }\n",
              "\n",
              "    .dataframe tbody tr th {\n",
              "        vertical-align: top;\n",
              "    }\n",
              "\n",
              "    .dataframe thead th {\n",
              "        text-align: right;\n",
              "    }\n",
              "</style>\n",
              "<table border=\"1\" class=\"dataframe\">\n",
              "  <thead>\n",
              "    <tr style=\"text-align: right;\">\n",
              "      <th></th>\n",
              "      <th>Variable</th>\n",
              "      <th>Importance</th>\n",
              "    </tr>\n",
              "  </thead>\n",
              "  <tbody>\n",
              "    <tr>\n",
              "      <th>4</th>\n",
              "      <td>Expected_Ride_Duration</td>\n",
              "      <td>0.473209</td>\n",
              "    </tr>\n",
              "    <tr>\n",
              "      <th>1</th>\n",
              "      <td>Number_of_Drivers</td>\n",
              "      <td>0.345600</td>\n",
              "    </tr>\n",
              "    <tr>\n",
              "      <th>0</th>\n",
              "      <td>Number_of_Riders</td>\n",
              "      <td>0.165465</td>\n",
              "    </tr>\n",
              "    <tr>\n",
              "      <th>3</th>\n",
              "      <td>Average_Ratings</td>\n",
              "      <td>0.006041</td>\n",
              "    </tr>\n",
              "    <tr>\n",
              "      <th>6</th>\n",
              "      <td>Vehicle_Type</td>\n",
              "      <td>0.004386</td>\n",
              "    </tr>\n",
              "    <tr>\n",
              "      <th>2</th>\n",
              "      <td>Number_of_Past_Rides</td>\n",
              "      <td>0.003179</td>\n",
              "    </tr>\n",
              "    <tr>\n",
              "      <th>13</th>\n",
              "      <td>Time_of_Booking_Night</td>\n",
              "      <td>0.000629</td>\n",
              "    </tr>\n",
              "    <tr>\n",
              "      <th>8</th>\n",
              "      <td>Location_Category_Suburban</td>\n",
              "      <td>0.000536</td>\n",
              "    </tr>\n",
              "    <tr>\n",
              "      <th>10</th>\n",
              "      <td>Time_of_Booking_Afternoon</td>\n",
              "      <td>0.000370</td>\n",
              "    </tr>\n",
              "    <tr>\n",
              "      <th>7</th>\n",
              "      <td>Location_Category_Rural</td>\n",
              "      <td>0.000248</td>\n",
              "    </tr>\n",
              "    <tr>\n",
              "      <th>5</th>\n",
              "      <td>Customer_Loyalty_Status</td>\n",
              "      <td>0.000161</td>\n",
              "    </tr>\n",
              "    <tr>\n",
              "      <th>11</th>\n",
              "      <td>Time_of_Booking_Evening</td>\n",
              "      <td>0.000116</td>\n",
              "    </tr>\n",
              "    <tr>\n",
              "      <th>9</th>\n",
              "      <td>Location_Category_Urban</td>\n",
              "      <td>0.000050</td>\n",
              "    </tr>\n",
              "    <tr>\n",
              "      <th>12</th>\n",
              "      <td>Time_of_Booking_Morning</td>\n",
              "      <td>0.000011</td>\n",
              "    </tr>\n",
              "  </tbody>\n",
              "</table>\n",
              "</div>\n",
              "    <div class=\"colab-df-buttons\">\n",
              "\n",
              "  <div class=\"colab-df-container\">\n",
              "    <button class=\"colab-df-convert\" onclick=\"convertToInteractive('df-6ec6b953-c8fc-4b73-9f83-b0bee113677b')\"\n",
              "            title=\"Convert this dataframe to an interactive table.\"\n",
              "            style=\"display:none;\">\n",
              "\n",
              "  <svg xmlns=\"http://www.w3.org/2000/svg\" height=\"24px\" viewBox=\"0 -960 960 960\">\n",
              "    <path d=\"M120-120v-720h720v720H120Zm60-500h600v-160H180v160Zm220 220h160v-160H400v160Zm0 220h160v-160H400v160ZM180-400h160v-160H180v160Zm440 0h160v-160H620v160ZM180-180h160v-160H180v160Zm440 0h160v-160H620v160Z\"/>\n",
              "  </svg>\n",
              "    </button>\n",
              "\n",
              "  <style>\n",
              "    .colab-df-container {\n",
              "      display:flex;\n",
              "      gap: 12px;\n",
              "    }\n",
              "\n",
              "    .colab-df-convert {\n",
              "      background-color: #E8F0FE;\n",
              "      border: none;\n",
              "      border-radius: 50%;\n",
              "      cursor: pointer;\n",
              "      display: none;\n",
              "      fill: #1967D2;\n",
              "      height: 32px;\n",
              "      padding: 0 0 0 0;\n",
              "      width: 32px;\n",
              "    }\n",
              "\n",
              "    .colab-df-convert:hover {\n",
              "      background-color: #E2EBFA;\n",
              "      box-shadow: 0px 1px 2px rgba(60, 64, 67, 0.3), 0px 1px 3px 1px rgba(60, 64, 67, 0.15);\n",
              "      fill: #174EA6;\n",
              "    }\n",
              "\n",
              "    .colab-df-buttons div {\n",
              "      margin-bottom: 4px;\n",
              "    }\n",
              "\n",
              "    [theme=dark] .colab-df-convert {\n",
              "      background-color: #3B4455;\n",
              "      fill: #D2E3FC;\n",
              "    }\n",
              "\n",
              "    [theme=dark] .colab-df-convert:hover {\n",
              "      background-color: #434B5C;\n",
              "      box-shadow: 0px 1px 3px 1px rgba(0, 0, 0, 0.15);\n",
              "      filter: drop-shadow(0px 1px 2px rgba(0, 0, 0, 0.3));\n",
              "      fill: #FFFFFF;\n",
              "    }\n",
              "  </style>\n",
              "\n",
              "    <script>\n",
              "      const buttonEl =\n",
              "        document.querySelector('#df-6ec6b953-c8fc-4b73-9f83-b0bee113677b button.colab-df-convert');\n",
              "      buttonEl.style.display =\n",
              "        google.colab.kernel.accessAllowed ? 'block' : 'none';\n",
              "\n",
              "      async function convertToInteractive(key) {\n",
              "        const element = document.querySelector('#df-6ec6b953-c8fc-4b73-9f83-b0bee113677b');\n",
              "        const dataTable =\n",
              "          await google.colab.kernel.invokeFunction('convertToInteractive',\n",
              "                                                    [key], {});\n",
              "        if (!dataTable) return;\n",
              "\n",
              "        const docLinkHtml = 'Like what you see? Visit the ' +\n",
              "          '<a target=\"_blank\" href=https://colab.research.google.com/notebooks/data_table.ipynb>data table notebook</a>'\n",
              "          + ' to learn more about interactive tables.';\n",
              "        element.innerHTML = '';\n",
              "        dataTable['output_type'] = 'display_data';\n",
              "        await google.colab.output.renderOutput(dataTable, element);\n",
              "        const docLink = document.createElement('div');\n",
              "        docLink.innerHTML = docLinkHtml;\n",
              "        element.appendChild(docLink);\n",
              "      }\n",
              "    </script>\n",
              "  </div>\n",
              "\n",
              "\n",
              "<div id=\"df-5b770c4d-768d-4066-861b-0e8d407218a3\">\n",
              "  <button class=\"colab-df-quickchart\" onclick=\"quickchart('df-5b770c4d-768d-4066-861b-0e8d407218a3')\"\n",
              "            title=\"Suggest charts\"\n",
              "            style=\"display:none;\">\n",
              "\n",
              "<svg xmlns=\"http://www.w3.org/2000/svg\" height=\"24px\"viewBox=\"0 0 24 24\"\n",
              "     width=\"24px\">\n",
              "    <g>\n",
              "        <path d=\"M19 3H5c-1.1 0-2 .9-2 2v14c0 1.1.9 2 2 2h14c1.1 0 2-.9 2-2V5c0-1.1-.9-2-2-2zM9 17H7v-7h2v7zm4 0h-2V7h2v10zm4 0h-2v-4h2v4z\"/>\n",
              "    </g>\n",
              "</svg>\n",
              "  </button>\n",
              "\n",
              "<style>\n",
              "  .colab-df-quickchart {\n",
              "      --bg-color: #E8F0FE;\n",
              "      --fill-color: #1967D2;\n",
              "      --hover-bg-color: #E2EBFA;\n",
              "      --hover-fill-color: #174EA6;\n",
              "      --disabled-fill-color: #AAA;\n",
              "      --disabled-bg-color: #DDD;\n",
              "  }\n",
              "\n",
              "  [theme=dark] .colab-df-quickchart {\n",
              "      --bg-color: #3B4455;\n",
              "      --fill-color: #D2E3FC;\n",
              "      --hover-bg-color: #434B5C;\n",
              "      --hover-fill-color: #FFFFFF;\n",
              "      --disabled-bg-color: #3B4455;\n",
              "      --disabled-fill-color: #666;\n",
              "  }\n",
              "\n",
              "  .colab-df-quickchart {\n",
              "    background-color: var(--bg-color);\n",
              "    border: none;\n",
              "    border-radius: 50%;\n",
              "    cursor: pointer;\n",
              "    display: none;\n",
              "    fill: var(--fill-color);\n",
              "    height: 32px;\n",
              "    padding: 0;\n",
              "    width: 32px;\n",
              "  }\n",
              "\n",
              "  .colab-df-quickchart:hover {\n",
              "    background-color: var(--hover-bg-color);\n",
              "    box-shadow: 0 1px 2px rgba(60, 64, 67, 0.3), 0 1px 3px 1px rgba(60, 64, 67, 0.15);\n",
              "    fill: var(--button-hover-fill-color);\n",
              "  }\n",
              "\n",
              "  .colab-df-quickchart-complete:disabled,\n",
              "  .colab-df-quickchart-complete:disabled:hover {\n",
              "    background-color: var(--disabled-bg-color);\n",
              "    fill: var(--disabled-fill-color);\n",
              "    box-shadow: none;\n",
              "  }\n",
              "\n",
              "  .colab-df-spinner {\n",
              "    border: 2px solid var(--fill-color);\n",
              "    border-color: transparent;\n",
              "    border-bottom-color: var(--fill-color);\n",
              "    animation:\n",
              "      spin 1s steps(1) infinite;\n",
              "  }\n",
              "\n",
              "  @keyframes spin {\n",
              "    0% {\n",
              "      border-color: transparent;\n",
              "      border-bottom-color: var(--fill-color);\n",
              "      border-left-color: var(--fill-color);\n",
              "    }\n",
              "    20% {\n",
              "      border-color: transparent;\n",
              "      border-left-color: var(--fill-color);\n",
              "      border-top-color: var(--fill-color);\n",
              "    }\n",
              "    30% {\n",
              "      border-color: transparent;\n",
              "      border-left-color: var(--fill-color);\n",
              "      border-top-color: var(--fill-color);\n",
              "      border-right-color: var(--fill-color);\n",
              "    }\n",
              "    40% {\n",
              "      border-color: transparent;\n",
              "      border-right-color: var(--fill-color);\n",
              "      border-top-color: var(--fill-color);\n",
              "    }\n",
              "    60% {\n",
              "      border-color: transparent;\n",
              "      border-right-color: var(--fill-color);\n",
              "    }\n",
              "    80% {\n",
              "      border-color: transparent;\n",
              "      border-right-color: var(--fill-color);\n",
              "      border-bottom-color: var(--fill-color);\n",
              "    }\n",
              "    90% {\n",
              "      border-color: transparent;\n",
              "      border-bottom-color: var(--fill-color);\n",
              "    }\n",
              "  }\n",
              "</style>\n",
              "\n",
              "  <script>\n",
              "    async function quickchart(key) {\n",
              "      const quickchartButtonEl =\n",
              "        document.querySelector('#' + key + ' button');\n",
              "      quickchartButtonEl.disabled = true;  // To prevent multiple clicks.\n",
              "      quickchartButtonEl.classList.add('colab-df-spinner');\n",
              "      try {\n",
              "        const charts = await google.colab.kernel.invokeFunction(\n",
              "            'suggestCharts', [key], {});\n",
              "      } catch (error) {\n",
              "        console.error('Error during call to suggestCharts:', error);\n",
              "      }\n",
              "      quickchartButtonEl.classList.remove('colab-df-spinner');\n",
              "      quickchartButtonEl.classList.add('colab-df-quickchart-complete');\n",
              "    }\n",
              "    (() => {\n",
              "      let quickchartButtonEl =\n",
              "        document.querySelector('#df-5b770c4d-768d-4066-861b-0e8d407218a3 button');\n",
              "      quickchartButtonEl.style.display =\n",
              "        google.colab.kernel.accessAllowed ? 'block' : 'none';\n",
              "    })();\n",
              "  </script>\n",
              "</div>\n",
              "\n",
              "  <div id=\"id_cb360775-1717-4262-9750-59456cad035b\">\n",
              "    <style>\n",
              "      .colab-df-generate {\n",
              "        background-color: #E8F0FE;\n",
              "        border: none;\n",
              "        border-radius: 50%;\n",
              "        cursor: pointer;\n",
              "        display: none;\n",
              "        fill: #1967D2;\n",
              "        height: 32px;\n",
              "        padding: 0 0 0 0;\n",
              "        width: 32px;\n",
              "      }\n",
              "\n",
              "      .colab-df-generate:hover {\n",
              "        background-color: #E2EBFA;\n",
              "        box-shadow: 0px 1px 2px rgba(60, 64, 67, 0.3), 0px 1px 3px 1px rgba(60, 64, 67, 0.15);\n",
              "        fill: #174EA6;\n",
              "      }\n",
              "\n",
              "      [theme=dark] .colab-df-generate {\n",
              "        background-color: #3B4455;\n",
              "        fill: #D2E3FC;\n",
              "      }\n",
              "\n",
              "      [theme=dark] .colab-df-generate:hover {\n",
              "        background-color: #434B5C;\n",
              "        box-shadow: 0px 1px 3px 1px rgba(0, 0, 0, 0.15);\n",
              "        filter: drop-shadow(0px 1px 2px rgba(0, 0, 0, 0.3));\n",
              "        fill: #FFFFFF;\n",
              "      }\n",
              "    </style>\n",
              "    <button class=\"colab-df-generate\" onclick=\"generateWithVariable('FI_df_sorted_desc')\"\n",
              "            title=\"Generate code using this dataframe.\"\n",
              "            style=\"display:none;\">\n",
              "\n",
              "  <svg xmlns=\"http://www.w3.org/2000/svg\" height=\"24px\"viewBox=\"0 0 24 24\"\n",
              "       width=\"24px\">\n",
              "    <path d=\"M7,19H8.4L18.45,9,17,7.55,7,17.6ZM5,21V16.75L18.45,3.32a2,2,0,0,1,2.83,0l1.4,1.43a1.91,1.91,0,0,1,.58,1.4,1.91,1.91,0,0,1-.58,1.4L9.25,21ZM18.45,9,17,7.55Zm-12,3A5.31,5.31,0,0,0,4.9,8.1,5.31,5.31,0,0,0,1,6.5,5.31,5.31,0,0,0,4.9,4.9,5.31,5.31,0,0,0,6.5,1,5.31,5.31,0,0,0,8.1,4.9,5.31,5.31,0,0,0,12,6.5,5.46,5.46,0,0,0,6.5,12Z\"/>\n",
              "  </svg>\n",
              "    </button>\n",
              "    <script>\n",
              "      (() => {\n",
              "      const buttonEl =\n",
              "        document.querySelector('#id_cb360775-1717-4262-9750-59456cad035b button.colab-df-generate');\n",
              "      buttonEl.style.display =\n",
              "        google.colab.kernel.accessAllowed ? 'block' : 'none';\n",
              "\n",
              "      buttonEl.onclick = () => {\n",
              "        google.colab.notebook.generateWithVariable('FI_df_sorted_desc');\n",
              "      }\n",
              "      })();\n",
              "    </script>\n",
              "  </div>\n",
              "\n",
              "    </div>\n",
              "  </div>\n"
            ],
            "application/vnd.google.colaboratory.intrinsic+json": {
              "type": "dataframe",
              "variable_name": "FI_df_sorted_desc",
              "summary": "{\n  \"name\": \"FI_df_sorted_desc\",\n  \"rows\": 14,\n  \"fields\": [\n    {\n      \"column\": \"Variable\",\n      \"properties\": {\n        \"dtype\": \"string\",\n        \"num_unique_values\": 14,\n        \"samples\": [\n          \"Location_Category_Rural\",\n          \"Time_of_Booking_Evening\",\n          \"Expected_Ride_Duration\"\n        ],\n        \"semantic_type\": \"\",\n        \"description\": \"\"\n      }\n    },\n    {\n      \"column\": \"Importance\",\n      \"properties\": {\n        \"dtype\": \"number\",\n        \"std\": 0.1517545494133186,\n        \"min\": 1.1068865338147337e-05,\n        \"max\": 0.47320889448572173,\n        \"num_unique_values\": 14,\n        \"samples\": [\n          0.00024841980545418024,\n          0.00011643282258089587,\n          0.47320889448572173\n        ],\n        \"semantic_type\": \"\",\n        \"description\": \"\"\n      }\n    }\n  ]\n}"
            }
          },
          "metadata": {},
          "execution_count": 56
        }
      ]
    },
    {
      "cell_type": "code",
      "source": [
        "import matplotlib.pyplot as plt\n",
        "\n",
        "FI_df_sorted = feature_importance_df.sort_values(by=\"Importance\", ascending=True)\n",
        "\n",
        "# Plot the feature importances\n",
        "plt.figure(figsize=(10, 6))\n",
        "plt.barh(\"Variable\", \"Importance\",data = FI_df_sorted, color='skyblue')\n",
        "plt.xlabel('Importance')\n",
        "plt.ylabel('Variable')\n",
        "plt.title('Feature Importances')\n",
        "\n",
        "plt.show()"
      ],
      "metadata": {
        "colab": {
          "base_uri": "https://localhost:8080/",
          "height": 564
        },
        "id": "Yboy4_X1wvhO",
        "outputId": "5c6cad8c-f726-4e74-f717-89b7cb2db470"
      },
      "execution_count": null,
      "outputs": [
        {
          "output_type": "display_data",
          "data": {
            "text/plain": [
              "<Figure size 1000x600 with 1 Axes>"
            ],
            "image/png": "[encoded data removed]"
          },
          "metadata": {}
        }
      ]
    },
    {
      "cell_type": "code",
      "source": [
        "column_headers=['Number_of_Riders','Number_of_Drivers','Number_of_Past_Rides','Average_Ratings','Expected_Ride_Duration','Customer_Loyalty_Status','Vehicle_Type','Location_Category','Time_of_Booking']\n",
        "importance=[feature_importances[0],feature_importances[1],feature_importances[2],feature_importances[3],feature_importances[4],feature_importances[5],feature_importances[6],sum(feature_importances[7:10]),sum(feature_importances[10:14])]\n",
        "important = pd.DataFrame({'name':column_headers, 'y':importance})\n",
        "important\n",
        "plt.subplots()\n",
        "plt.subplots_adjust(bottom=0.3)\n",
        "plt.bar(important.name, important.y )\n",
        "plt.xticks(rotation='vertical',fontsize=8)\n",
        "plt.xlabel('Fetures')\n",
        "plt.ylabel('% importance')\n",
        "plt.title('Feature Importance Best Model')\n",
        "plt.show()"
      ],
      "metadata": {
        "id": "WHIh1LJqRsee",
        "colab": {
          "base_uri": "https://localhost:8080/",
          "height": 508
        },
        "outputId": "2d825300-95de-4e7d-e4f9-4b9b5b6d3d20"
      },
      "execution_count": null,
      "outputs": [
        {
          "output_type": "display_data",
          "data": {
            "text/plain": [
              "<Figure size 640x480 with 1 Axes>"
            ],
            "image/png": "[encoded data removed]"
          },
          "metadata": {}
        }
      ]
    },
    {
      "cell_type": "code",
      "source": [],
      "metadata": {
        "id": "sjQF4sLswt2x"
      },
      "execution_count": null,
      "outputs": []
    },
    {
      "cell_type": "markdown",
      "source": [
        "## Partial Dependencies"
      ],
      "metadata": {
        "id": "kb24ayAMUv5e"
      }
    },
    {
      "cell_type": "code",
      "source": [
        "X_train.info()"
      ],
      "metadata": {
        "colab": {
          "base_uri": "https://localhost:8080/"
        },
        "id": "Gr7BITWHvtYW",
        "outputId": "2a5adb12-b933-47e3-8b54-50265d0f07af"
      },
      "execution_count": null,
      "outputs": [
        {
          "output_type": "stream",
          "name": "stdout",
          "text": [
            "<class 'pandas.core.frame.DataFrame'>\n",
            "Int64Index: 800 entries, 687 to 684\n",
            "Data columns (total 9 columns):\n",
            " #   Column                   Non-Null Count  Dtype  \n",
            "---  ------                   --------------  -----  \n",
            " 0   Number_of_Riders         800 non-null    int64  \n",
            " 1   Number_of_Drivers        800 non-null    int64  \n",
            " 2   Location_Category        800 non-null    object \n",
            " 3   Customer_Loyalty_Status  800 non-null    object \n",
            " 4   Number_of_Past_Rides     800 non-null    int64  \n",
            " 5   Average_Ratings          800 non-null    float64\n",
            " 6   Time_of_Booking          800 non-null    object \n",
            " 7   Vehicle_Type             800 non-null    object \n",
            " 8   Expected_Ride_Duration   800 non-null    int64  \n",
            "dtypes: float64(1), int64(4), object(4)\n",
            "memory usage: 62.5+ KB\n"
          ]
        }
      ]
    },
    {
      "cell_type": "code",
      "source": [
        "fig, ax = plt.subplots(figsize=(15, 10))\n",
        "ax.set_title(\"Partial Dependence Plots\")\n",
        "PartialDependenceDisplay.from_estimator(\n",
        "    estimator=XG_model,\n",
        "    X=X_train,\n",
        "    features=[0, 1, 4, 5, 8],\n",
        "    random_state=5,\n",
        "    ax=ax,\n",
        "    )\n",
        "plt.show()"
      ],
      "metadata": {
        "colab": {
          "base_uri": "https://localhost:8080/",
          "height": 872
        },
        "id": "G0bSIgdwqHJN",
        "outputId": "8f0922f3-946a-491b-9d8c-3d773a0895a3"
      },
      "execution_count": null,
      "outputs": [
        {
          "output_type": "display_data",
          "data": {
            "text/plain": [
              "<Figure size 1500x1000 with 6 Axes>"
            ],
            "image/png": "[encoded data removed]"
          },
          "metadata": {}
        }
      ]
    },
    {
      "cell_type": "code",
      "source": [
        "fig, ax = plt.subplots(figsize=(15, 10))\n",
        "ax.set_title(\"Partial Dependence Plots\")\n",
        "PartialDependenceDisplay.from_estimator(\n",
        "    estimator=XG_model,\n",
        "    X=X_train,\n",
        "    features=[0, 1, 4, 5, 8],\n",
        "    grid_resolution=10,\n",
        "    kind=\"average\",\n",
        "    method='brute',\n",
        "    random_state=5,\n",
        "    ax=ax,\n",
        "    )\n",
        "plt.show()"
      ],
      "metadata": {
        "colab": {
          "base_uri": "https://localhost:8080/",
          "height": 872
        },
        "id": "6LS0Cx4_xvKE",
        "outputId": "c2382446-f2c6-4ede-8591-dd37cb046078"
      },
      "execution_count": null,
      "outputs": [
        {
          "output_type": "display_data",
          "data": {
            "text/plain": [
              "<Figure size 1500x1000 with 6 Axes>"
            ],
            "image/png": "[encoded data removed]"
          },
          "metadata": {}
        }
      ]
    },
    {
      "cell_type": "code",
      "source": [
        "from sklearn.inspection import PartialDependenceDisplay\n",
        "features=[0]\n",
        "PartialDependenceDisplay.from_estimator(XG_model, X_train, features, grid_resolution=10,kind=\"average\",method='brute')"
      ],
      "metadata": {
        "id": "5Bvby6mxUx8a",
        "colab": {
          "base_uri": "https://localhost:8080/",
          "height": 467
        },
        "outputId": "dff1a02b-3e62-464b-d4a7-cf5d2f6910b5"
      },
      "execution_count": null,
      "outputs": [
        {
          "output_type": "execute_result",
          "data": {
            "text/plain": [
              "<sklearn.inspection._plot.partial_dependence.PartialDependenceDisplay at 0x7d8c18473580>"
            ]
          },
          "metadata": {},
          "execution_count": 59
        },
        {
          "output_type": "display_data",
          "data": {
            "text/plain": [
              "<Figure size 640x480 with 2 Axes>"
            ],
            "image/png": "[encoded data removed]"
          },
          "metadata": {}
        }
      ]
    },
    {
      "cell_type": "code",
      "source": [
        "from sklearn.inspection import PartialDependenceDisplay\n",
        "features=[1]\n",
        "PartialDependenceDisplay.from_estimator(XG_model, X_train, features, grid_resolution=10,kind=\"average\",method='brute')"
      ],
      "metadata": {
        "id": "Mlis8AlrVHiR",
        "colab": {
          "base_uri": "https://localhost:8080/",
          "height": 467
        },
        "outputId": "ab0edfcf-9d4d-4584-fc22-24e37f6ae77d"
      },
      "execution_count": null,
      "outputs": [
        {
          "output_type": "execute_result",
          "data": {
            "text/plain": [
              "<sklearn.inspection._plot.partial_dependence.PartialDependenceDisplay at 0x7d8c19aa23b0>"
            ]
          },
          "metadata": {},
          "execution_count": 60
        },
        {
          "output_type": "display_data",
          "data": {
            "text/plain": [
              "<Figure size 640x480 with 2 Axes>"
            ],
            "image/png": "[encoded data removed]"
          },
          "metadata": {}
        }
      ]
    },
    {
      "cell_type": "code",
      "source": [
        "from sklearn.inspection import PartialDependenceDisplay\n",
        "features=[5]\n",
        "PartialDependenceDisplay.from_estimator(XG_model, X_train, features, grid_resolution=10,kind=\"average\",method='brute')"
      ],
      "metadata": {
        "id": "QO5cnxj8VSVL",
        "colab": {
          "base_uri": "https://localhost:8080/",
          "height": 467
        },
        "outputId": "cc0f4b3d-c20e-401a-fe45-684de1d3a524"
      },
      "execution_count": null,
      "outputs": [
        {
          "output_type": "execute_result",
          "data": {
            "text/plain": [
              "<sklearn.inspection._plot.partial_dependence.PartialDependenceDisplay at 0x7d8c1ad48640>"
            ]
          },
          "metadata": {},
          "execution_count": 61
        },
        {
          "output_type": "display_data",
          "data": {
            "text/plain": [
              "<Figure size 640x480 with 2 Axes>"
            ],
            "image/png": "[encoded data removed]"
          },
          "metadata": {}
        }
      ]
    },
    {
      "cell_type": "code",
      "source": [
        "from sklearn.inspection import PartialDependenceDisplay\n",
        "features=[8\n",
        "          ]\n",
        "PartialDependenceDisplay.from_estimator(XG_model, X_train, features, grid_resolution=10,kind=\"average\",method='brute')"
      ],
      "metadata": {
        "id": "-UgFmMZKVyFG",
        "colab": {
          "base_uri": "https://localhost:8080/",
          "height": 467
        },
        "outputId": "b7cba559-37c3-418a-94a8-ac0198276d40"
      },
      "execution_count": null,
      "outputs": [
        {
          "output_type": "execute_result",
          "data": {
            "text/plain": [
              "<sklearn.inspection._plot.partial_dependence.PartialDependenceDisplay at 0x7d8c18223fd0>"
            ]
          },
          "metadata": {},
          "execution_count": 62
        },
        {
          "output_type": "display_data",
          "data": {
            "text/plain": [
              "<Figure size 640x480 with 2 Axes>"
            ],
            "image/png": "[encoded data removed]"
          },
          "metadata": {}
        }
      ]
    },
    {
      "cell_type": "markdown",
      "source": [
        "# Neural Network"
      ],
      "metadata": {
        "id": "v2Nin0tNflqf"
      }
    },
    {
      "cell_type": "code",
      "source": [
        "#separating features and target for use in modelling\n",
        "columns_to_drop = ['adjusted_ride_cost']\n",
        "X = df.drop(columns=columns_to_drop, axis=1)\n",
        "\n",
        "y = df['adjusted_ride_cost']"
      ],
      "metadata": {
        "id": "lwSYGKlhfoEV"
      },
      "execution_count": null,
      "outputs": []
    },
    {
      "cell_type": "code",
      "source": [
        "# Splitting dataset to train and test sets\n",
        "X_train, X_test, y_train, y_test = train_test_split(X, y, test_size = .3, random_state=0)\n",
        "X_val,X_test,y_val,y_test=train_test_split(X_test, y_test, test_size = .5, random_state=0)"
      ],
      "metadata": {
        "id": "7YBU3VWBf00r"
      },
      "execution_count": null,
      "outputs": []
    },
    {
      "cell_type": "code",
      "source": [
        "#creating train dataset\n",
        "df_train=pd.concat([X_train, y_train], axis=1)"
      ],
      "metadata": {
        "id": "gQtTQEtIf78o"
      },
      "execution_count": null,
      "outputs": []
    },
    {
      "cell_type": "code",
      "source": [
        "from sklearn.preprocessing import StandardScaler, OrdinalEncoder, OneHotEncoder\n",
        "from sklearn.compose import ColumnTransformer\n",
        "from sklearn.pipeline import Pipeline"
      ],
      "metadata": {
        "id": "-Uj_T89rgBB7"
      },
      "execution_count": null,
      "outputs": []
    },
    {
      "cell_type": "code",
      "source": [
        "numeric_features = ['Number_of_Riders','Number_of_Drivers','Number_of_Past_Rides','Average_Ratings','Expected_Ride_Duration']\n",
        "ordinal_features = ['Customer_Loyalty_Status','Vehicle_Type']\n",
        "nominal_features = ['Location_Category' ,'Time_of_Booking']"
      ],
      "metadata": {
        "id": "Ohs5C9OvgUAG"
      },
      "execution_count": null,
      "outputs": []
    },
    {
      "cell_type": "code",
      "source": [
        "encoder_loy = OrdinalEncoder(categories = [['Regular', 'Silver', 'Gold']])\n",
        "encoder_veh = OrdinalEncoder(categories = [['Economy', 'Premium']])\n",
        "nominal_transformer = OneHotEncoder()"
      ],
      "metadata": {
        "id": "eovrzFRFgsDx"
      },
      "execution_count": null,
      "outputs": []
    },
    {
      "cell_type": "code",
      "source": [
        "numeric_transformer = StandardScaler()"
      ],
      "metadata": {
        "id": "Fez-eL_FgxF-"
      },
      "execution_count": null,
      "outputs": []
    },
    {
      "cell_type": "code",
      "source": [
        "preprocessor = ColumnTransformer(transformers=[\n",
        "                                        ('num',numeric_transformer,numeric_features),\n",
        "                                        ('loyl',encoder_loy,['Customer_Loyalty_Status']),\n",
        "                                        ('vehi',encoder_veh, ['Vehicle_Type']),\n",
        "                                        ('nomi',nominal_transformer,nominal_features)\n",
        "                                             ])"
      ],
      "metadata": {
        "id": "_1F1wQwBhRV8"
      },
      "execution_count": null,
      "outputs": []
    },
    {
      "cell_type": "code",
      "source": [
        "pipeline = Pipeline(steps = [('preprocessor', preprocessor) ])"
      ],
      "metadata": {
        "id": "tE9ioIEBhaTD"
      },
      "execution_count": null,
      "outputs": []
    },
    {
      "cell_type": "code",
      "source": [
        "X_train_dummies_scaled = pipeline.fit_transform(X_train)\n",
        "X_test_dummies_scaled = pipeline.fit_transform(X_test)\n",
        "X_val_dummies_scaled = pipeline.fit_transform(X_val)"
      ],
      "metadata": {
        "id": "MdMvO2TfhjEZ"
      },
      "execution_count": null,
      "outputs": []
    },
    {
      "cell_type": "code",
      "source": [
        "print(X_train_dummies_scaled.shape)\n",
        "print(X_test_dummies_scaled.shape)\n",
        "print(X_val_dummies_scaled.shape)"
      ],
      "metadata": {
        "id": "IDcHD-N6hwnB"
      },
      "execution_count": null,
      "outputs": []
    },
    {
      "cell_type": "code",
      "source": [
        "from tensorflow import keras\n",
        "from tensorflow.keras import layers, callbacks"
      ],
      "metadata": {
        "id": "9OtjIBrViYTK"
      },
      "execution_count": null,
      "outputs": []
    },
    {
      "cell_type": "code",
      "source": [
        "early_stopping = callbacks.EarlyStopping(\n",
        "    min_delta=0.001, # minimium amount of change to count as an improvement\n",
        "    patience=20, # how many epochs to wait before stopping\n",
        "    restore_best_weights=True,\n",
        ")\n",
        "\n",
        "model = keras.Sequential([\n",
        "    layers.Dense(1024, activation='relu', input_shape=[14]),\n",
        "    layers.Dense(1024, activation='relu'),\n",
        "    layers.Dense(512, activation='relu'),\n",
        "    layers.Dense(512, activation='relu'),\n",
        "    layers.Dense(1),\n",
        "])\n",
        "model.compile(\n",
        "    optimizer='adam',\n",
        "    loss='mae',\n",
        ")"
      ],
      "metadata": {
        "id": "BmrLRD8ijRp6"
      },
      "execution_count": null,
      "outputs": []
    },
    {
      "cell_type": "code",
      "source": [
        "history = model.fit(\n",
        "    X_train_dummies_scaled, y_train,\n",
        "    validation_data=(X_val_dummies_scaled, y_val),\n",
        "    batch_size=256,\n",
        "    epochs=500,\n",
        "    callbacks=[early_stopping], # put your callbacks in a list\n",
        "    verbose=0,  # turn off training log\n",
        ")\n",
        "\n",
        "history_df = pd.DataFrame(history.history)\n",
        "history_df.loc[:, ['loss', 'val_loss']].plot();\n",
        "print(\"Minimum validation loss: {}\".format(history_df['val_loss'].min()))"
      ],
      "metadata": {
        "id": "zJPznA2xjWFw"
      },
      "execution_count": null,
      "outputs": []
    },
    {
      "cell_type": "code",
      "source": [
        "y_preds_train=model.predict(X_train_dummies_scaled)"
      ],
      "metadata": {
        "id": "lxjATeIPkDTr"
      },
      "execution_count": null,
      "outputs": []
    },
    {
      "cell_type": "code",
      "source": [
        "rmse = np.sqrt(mean_squared_error(y_train, y_preds_train))\n",
        "r2 = r2_score(y_train, y_preds_train)\n",
        "print(f\"Root Mean Squared Error: {rmse}\")\n",
        "print(f\"R-squared: {r2}\")\n"
      ],
      "metadata": {
        "id": "-BxZ8UeykJ73"
      },
      "execution_count": null,
      "outputs": []
    },
    {
      "cell_type": "code",
      "source": [
        "y_preds_test=model.predict(X_test_dummies_scaled)\n",
        "rmse = np.sqrt(mean_squared_error(y_test, y_preds_test))\n",
        "r2 = r2_score(y_test, y_preds_test)\n",
        "print(f\"Root Mean Squared Error: {rmse}\")\n",
        "print(f\"R-squared: {r2}\")"
      ],
      "metadata": {
        "id": "6zOyk99CkbkN"
      },
      "execution_count": null,
      "outputs": []
    },
    {
      "cell_type": "code",
      "source": [
        "#In this instance we adddropout layers and batchnormalizations layers in the aim of reducing any overfitting that may occur\n",
        "model = keras.Sequential([\n",
        "    layers.Dense(1024, activation='relu', input_shape=[14]),\n",
        "    layers.Dropout(0.3),\n",
        "    layers.BatchNormalization(),\n",
        "    layers.Dense(1024, activation='relu'),\n",
        "    layers.Dropout(0.3),\n",
        "    layers.BatchNormalization(),\n",
        "    layers.Dense(1024, activation='relu'),\n",
        "    layers.Dropout(0.3),\n",
        "    layers.BatchNormalization(),\n",
        "    layers.Dense(1),\n",
        "])\n",
        "\n",
        "model.compile(\n",
        "    optimizer='adam',\n",
        "    loss='mae',\n",
        ")"
      ],
      "metadata": {
        "id": "7K243NTtkm6q"
      },
      "execution_count": null,
      "outputs": []
    },
    {
      "cell_type": "code",
      "source": [
        "history = model.fit(\n",
        "    X_train_dummies_scaled, y_train,\n",
        "    validation_data=(X_val_dummies_scaled, y_val),\n",
        "    batch_size=256,\n",
        "    epochs=500,\n",
        "    callbacks=[early_stopping], # put your callbacks in a list\n",
        "    verbose=0,  # turn off training log\n",
        ")\n",
        "\n",
        "history_df = pd.DataFrame(history.history)\n",
        "history_df.loc[:, ['loss', 'val_loss']].plot();\n",
        "print(\"Minimum validation loss: {}\".format(history_df['val_loss'].min()))"
      ],
      "metadata": {
        "id": "1TBT3r7tktBC"
      },
      "execution_count": null,
      "outputs": []
    },
    {
      "cell_type": "code",
      "source": [
        "y_preds_train=model.predict(X_train_dummies_scaled)"
      ],
      "metadata": {
        "id": "jAtpaDH0lBtY"
      },
      "execution_count": null,
      "outputs": []
    },
    {
      "cell_type": "code",
      "source": [
        "rmse = np.sqrt(mean_squared_error(y_train, y_preds_train))\n",
        "r2 = r2_score(y_train, y_preds_train)\n",
        "print(f\"Root Mean Squared Error: {rmse}\")\n",
        "print(f\"R-squared: {r2}\")\n"
      ],
      "metadata": {
        "id": "yoa76HCrlC49"
      },
      "execution_count": null,
      "outputs": []
    },
    {
      "cell_type": "code",
      "source": [
        "y_preds_test=model.predict(X_test_dummies_scaled)\n",
        "rmse = np.sqrt(mean_squared_error(y_test, y_preds_test))\n",
        "r2 = r2_score(y_test, y_preds_test)\n",
        "print(f\"Root Mean Squared Error: {rmse}\")\n",
        "print(f\"R-squared: {r2}\")\n"
      ],
      "metadata": {
        "id": "20XweVjelJ3U"
      },
      "execution_count": null,
      "outputs": []
    }
  ]
}