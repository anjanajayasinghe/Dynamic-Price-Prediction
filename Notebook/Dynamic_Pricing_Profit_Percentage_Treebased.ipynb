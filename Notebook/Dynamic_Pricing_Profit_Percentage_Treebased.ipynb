{
  "cells": [
    {
      "cell_type": "markdown",
      "metadata": {
        "id": "y7OasRv2p_my"
      },
      "source": [
        "# Dynamic pricing\n",
        "\n",
        "Your goal is to build a dynamic pricing model that incorporates the provided features to predict optimal fares for rides in real-time. The model must consider factors such as demand patterns and supply availability."
      ]
    },
    {
      "cell_type": "code",
      "execution_count": null,
      "metadata": {
        "id": "wHLTtEcNpjnE",
        "colab": {
          "base_uri": "https://localhost:8080/"
        },
        "outputId": "e0a000f4-677e-42d6-8b15-4e837d59c2b5"
      },
      "outputs": [
        {
          "output_type": "stream",
          "name": "stdout",
          "text": [
            "Mounted at /content/drive\n"
          ]
        }
      ],
      "source": [
        "from google.colab import drive\n",
        "drive.mount('/content/drive')\n"
      ]
    },
    {
      "cell_type": "code",
      "execution_count": null,
      "metadata": {
        "id": "EIMyV-XPrseX"
      },
      "outputs": [],
      "source": [
        "#Importing Libraries\n",
        "import pandas as pd\n",
        "import numpy as np\n",
        "import matplotlib.pyplot as plt\n",
        "import seaborn as sns\n"
      ]
    },
    {
      "cell_type": "code",
      "execution_count": null,
      "metadata": {
        "id": "vjhkdEiUrC9X"
      },
      "outputs": [],
      "source": [
        "#Importing the data\n",
        "main=pd.read_csv(\"/content/drive/MyDrive/Colab Notebooks/FINAL PROJECT/df_2.csv\", index_col=0)\n",
        "backup=pd.read_csv(\"/content/drive/MyDrive/Colab Notebooks/FINAL PROJECT/df_2.csv\", index_col=0)"
      ]
    },
    {
      "cell_type": "code",
      "execution_count": null,
      "metadata": {
        "colab": {
          "base_uri": "https://localhost:8080/",
          "height": 237
        },
        "id": "29z7IhXXrDNp",
        "outputId": "676836fc-7378-4122-8c21-1f75cfcccece"
      },
      "outputs": [
        {
          "output_type": "execute_result",
          "data": {
            "text/plain": [
              "   Number_of_Riders  Number_of_Drivers Location_Category  \\\n",
              "0                90                 45             Urban   \n",
              "1                58                 39          Suburban   \n",
              "2                42                 31             Rural   \n",
              "3                89                 28             Rural   \n",
              "4                78                 22             Rural   \n",
              "5                59                 35             Urban   \n",
              "\n",
              "  Customer_Loyalty_Status  Number_of_Past_Rides  Average_Ratings  \\\n",
              "0                  Silver                    13             4.47   \n",
              "1                  Silver                    72             4.06   \n",
              "2                  Silver                     0             3.99   \n",
              "3                 Regular                    67             4.31   \n",
              "4                 Regular                    74             3.77   \n",
              "5                  Silver                    83             3.51   \n",
              "\n",
              "  Time_of_Booking Vehicle_Type  Expected_Ride_Duration  profit_percentage  \n",
              "0           Night      Premium                      90          -6.172840  \n",
              "1         Evening      Economy                      43          41.282051  \n",
              "2       Afternoon      Premium                      76          28.709677  \n",
              "3       Afternoon      Premium                     134          49.118166  \n",
              "4       Afternoon      Economy                     149         236.818182  \n",
              "5           Night      Economy                     128          60.142857  "
            ],
            "text/html": [
              "\n",
              "  <div id=\"df-b69e7868-4bf2-4e04-aa75-ca6f2249fed9\" class=\"colab-df-container\">\n",
              "    <div>\n",
              "<style scoped>\n",
              "    .dataframe tbody tr th:only-of-type {\n",
              "        vertical-align: middle;\n",
              "    }\n",
              "\n",
              "    .dataframe tbody tr th {\n",
              "        vertical-align: top;\n",
              "    }\n",
              "\n",
              "    .dataframe thead th {\n",
              "        text-align: right;\n",
              "    }\n",
              "</style>\n",
              "<table border=\"1\" class=\"dataframe\">\n",
              "  <thead>\n",
              "    <tr style=\"text-align: right;\">\n",
              "      <th></th>\n",
              "      <th>Number_of_Riders</th>\n",
              "      <th>Number_of_Drivers</th>\n",
              "      <th>Location_Category</th>\n",
              "      <th>Customer_Loyalty_Status</th>\n",
              "      <th>Number_of_Past_Rides</th>\n",
              "      <th>Average_Ratings</th>\n",
              "      <th>Time_of_Booking</th>\n",
              "      <th>Vehicle_Type</th>\n",
              "      <th>Expected_Ride_Duration</th>\n",
              "      <th>profit_percentage</th>\n",
              "    </tr>\n",
              "  </thead>\n",
              "  <tbody>\n",
              "    <tr>\n",
              "      <th>0</th>\n",
              "      <td>90</td>\n",
              "      <td>45</td>\n",
              "      <td>Urban</td>\n",
              "      <td>Silver</td>\n",
              "      <td>13</td>\n",
              "      <td>4.47</td>\n",
              "      <td>Night</td>\n",
              "      <td>Premium</td>\n",
              "      <td>90</td>\n",
              "      <td>-6.172840</td>\n",
              "    </tr>\n",
              "    <tr>\n",
              "      <th>1</th>\n",
              "      <td>58</td>\n",
              "      <td>39</td>\n",
              "      <td>Suburban</td>\n",
              "      <td>Silver</td>\n",
              "      <td>72</td>\n",
              "      <td>4.06</td>\n",
              "      <td>Evening</td>\n",
              "      <td>Economy</td>\n",
              "      <td>43</td>\n",
              "      <td>41.282051</td>\n",
              "    </tr>\n",
              "    <tr>\n",
              "      <th>2</th>\n",
              "      <td>42</td>\n",
              "      <td>31</td>\n",
              "      <td>Rural</td>\n",
              "      <td>Silver</td>\n",
              "      <td>0</td>\n",
              "      <td>3.99</td>\n",
              "      <td>Afternoon</td>\n",
              "      <td>Premium</td>\n",
              "      <td>76</td>\n",
              "      <td>28.709677</td>\n",
              "    </tr>\n",
              "    <tr>\n",
              "      <th>3</th>\n",
              "      <td>89</td>\n",
              "      <td>28</td>\n",
              "      <td>Rural</td>\n",
              "      <td>Regular</td>\n",
              "      <td>67</td>\n",
              "      <td>4.31</td>\n",
              "      <td>Afternoon</td>\n",
              "      <td>Premium</td>\n",
              "      <td>134</td>\n",
              "      <td>49.118166</td>\n",
              "    </tr>\n",
              "    <tr>\n",
              "      <th>4</th>\n",
              "      <td>78</td>\n",
              "      <td>22</td>\n",
              "      <td>Rural</td>\n",
              "      <td>Regular</td>\n",
              "      <td>74</td>\n",
              "      <td>3.77</td>\n",
              "      <td>Afternoon</td>\n",
              "      <td>Economy</td>\n",
              "      <td>149</td>\n",
              "      <td>236.818182</td>\n",
              "    </tr>\n",
              "    <tr>\n",
              "      <th>5</th>\n",
              "      <td>59</td>\n",
              "      <td>35</td>\n",
              "      <td>Urban</td>\n",
              "      <td>Silver</td>\n",
              "      <td>83</td>\n",
              "      <td>3.51</td>\n",
              "      <td>Night</td>\n",
              "      <td>Economy</td>\n",
              "      <td>128</td>\n",
              "      <td>60.142857</td>\n",
              "    </tr>\n",
              "  </tbody>\n",
              "</table>\n",
              "</div>\n",
              "    <div class=\"colab-df-buttons\">\n",
              "\n",
              "  <div class=\"colab-df-container\">\n",
              "    <button class=\"colab-df-convert\" onclick=\"convertToInteractive('df-b69e7868-4bf2-4e04-aa75-ca6f2249fed9')\"\n",
              "            title=\"Convert this dataframe to an interactive table.\"\n",
              "            style=\"display:none;\">\n",
              "\n",
              "  <svg xmlns=\"http://www.w3.org/2000/svg\" height=\"24px\" viewBox=\"0 -960 960 960\">\n",
              "    <path d=\"M120-120v-720h720v720H120Zm60-500h600v-160H180v160Zm220 220h160v-160H400v160Zm0 220h160v-160H400v160ZM180-400h160v-160H180v160Zm440 0h160v-160H620v160ZM180-180h160v-160H180v160Zm440 0h160v-160H620v160Z\"/>\n",
              "  </svg>\n",
              "    </button>\n",
              "\n",
              "  <style>\n",
              "    .colab-df-container {\n",
              "      display:flex;\n",
              "      gap: 12px;\n",
              "    }\n",
              "\n",
              "    .colab-df-convert {\n",
              "      background-color: #E8F0FE;\n",
              "      border: none;\n",
              "      border-radius: 50%;\n",
              "      cursor: pointer;\n",
              "      display: none;\n",
              "      fill: #1967D2;\n",
              "      height: 32px;\n",
              "      padding: 0 0 0 0;\n",
              "      width: 32px;\n",
              "    }\n",
              "\n",
              "    .colab-df-convert:hover {\n",
              "      background-color: #E2EBFA;\n",
              "      box-shadow: 0px 1px 2px rgba(60, 64, 67, 0.3), 0px 1px 3px 1px rgba(60, 64, 67, 0.15);\n",
              "      fill: #174EA6;\n",
              "    }\n",
              "\n",
              "    .colab-df-buttons div {\n",
              "      margin-bottom: 4px;\n",
              "    }\n",
              "\n",
              "    [theme=dark] .colab-df-convert {\n",
              "      background-color: #3B4455;\n",
              "      fill: #D2E3FC;\n",
              "    }\n",
              "\n",
              "    [theme=dark] .colab-df-convert:hover {\n",
              "      background-color: #434B5C;\n",
              "      box-shadow: 0px 1px 3px 1px rgba(0, 0, 0, 0.15);\n",
              "      filter: drop-shadow(0px 1px 2px rgba(0, 0, 0, 0.3));\n",
              "      fill: #FFFFFF;\n",
              "    }\n",
              "  </style>\n",
              "\n",
              "    <script>\n",
              "      const buttonEl =\n",
              "        document.querySelector('#df-b69e7868-4bf2-4e04-aa75-ca6f2249fed9 button.colab-df-convert');\n",
              "      buttonEl.style.display =\n",
              "        google.colab.kernel.accessAllowed ? 'block' : 'none';\n",
              "\n",
              "      async function convertToInteractive(key) {\n",
              "        const element = document.querySelector('#df-b69e7868-4bf2-4e04-aa75-ca6f2249fed9');\n",
              "        const dataTable =\n",
              "          await google.colab.kernel.invokeFunction('convertToInteractive',\n",
              "                                                    [key], {});\n",
              "        if (!dataTable) return;\n",
              "\n",
              "        const docLinkHtml = 'Like what you see? Visit the ' +\n",
              "          '<a target=\"_blank\" href=https://colab.research.google.com/notebooks/data_table.ipynb>data table notebook</a>'\n",
              "          + ' to learn more about interactive tables.';\n",
              "        element.innerHTML = '';\n",
              "        dataTable['output_type'] = 'display_data';\n",
              "        await google.colab.output.renderOutput(dataTable, element);\n",
              "        const docLink = document.createElement('div');\n",
              "        docLink.innerHTML = docLinkHtml;\n",
              "        element.appendChild(docLink);\n",
              "      }\n",
              "    </script>\n",
              "  </div>\n",
              "\n",
              "\n",
              "<div id=\"df-adfdfe9f-e1ad-4e19-820c-205f2100724b\">\n",
              "  <button class=\"colab-df-quickchart\" onclick=\"quickchart('df-adfdfe9f-e1ad-4e19-820c-205f2100724b')\"\n",
              "            title=\"Suggest charts\"\n",
              "            style=\"display:none;\">\n",
              "\n",
              "<svg xmlns=\"http://www.w3.org/2000/svg\" height=\"24px\"viewBox=\"0 0 24 24\"\n",
              "     width=\"24px\">\n",
              "    <g>\n",
              "        <path d=\"M19 3H5c-1.1 0-2 .9-2 2v14c0 1.1.9 2 2 2h14c1.1 0 2-.9 2-2V5c0-1.1-.9-2-2-2zM9 17H7v-7h2v7zm4 0h-2V7h2v10zm4 0h-2v-4h2v4z\"/>\n",
              "    </g>\n",
              "</svg>\n",
              "  </button>\n",
              "\n",
              "<style>\n",
              "  .colab-df-quickchart {\n",
              "      --bg-color: #E8F0FE;\n",
              "      --fill-color: #1967D2;\n",
              "      --hover-bg-color: #E2EBFA;\n",
              "      --hover-fill-color: #174EA6;\n",
              "      --disabled-fill-color: #AAA;\n",
              "      --disabled-bg-color: #DDD;\n",
              "  }\n",
              "\n",
              "  [theme=dark] .colab-df-quickchart {\n",
              "      --bg-color: #3B4455;\n",
              "      --fill-color: #D2E3FC;\n",
              "      --hover-bg-color: #434B5C;\n",
              "      --hover-fill-color: #FFFFFF;\n",
              "      --disabled-bg-color: #3B4455;\n",
              "      --disabled-fill-color: #666;\n",
              "  }\n",
              "\n",
              "  .colab-df-quickchart {\n",
              "    background-color: var(--bg-color);\n",
              "    border: none;\n",
              "    border-radius: 50%;\n",
              "    cursor: pointer;\n",
              "    display: none;\n",
              "    fill: var(--fill-color);\n",
              "    height: 32px;\n",
              "    padding: 0;\n",
              "    width: 32px;\n",
              "  }\n",
              "\n",
              "  .colab-df-quickchart:hover {\n",
              "    background-color: var(--hover-bg-color);\n",
              "    box-shadow: 0 1px 2px rgba(60, 64, 67, 0.3), 0 1px 3px 1px rgba(60, 64, 67, 0.15);\n",
              "    fill: var(--button-hover-fill-color);\n",
              "  }\n",
              "\n",
              "  .colab-df-quickchart-complete:disabled,\n",
              "  .colab-df-quickchart-complete:disabled:hover {\n",
              "    background-color: var(--disabled-bg-color);\n",
              "    fill: var(--disabled-fill-color);\n",
              "    box-shadow: none;\n",
              "  }\n",
              "\n",
              "  .colab-df-spinner {\n",
              "    border: 2px solid var(--fill-color);\n",
              "    border-color: transparent;\n",
              "    border-bottom-color: var(--fill-color);\n",
              "    animation:\n",
              "      spin 1s steps(1) infinite;\n",
              "  }\n",
              "\n",
              "  @keyframes spin {\n",
              "    0% {\n",
              "      border-color: transparent;\n",
              "      border-bottom-color: var(--fill-color);\n",
              "      border-left-color: var(--fill-color);\n",
              "    }\n",
              "    20% {\n",
              "      border-color: transparent;\n",
              "      border-left-color: var(--fill-color);\n",
              "      border-top-color: var(--fill-color);\n",
              "    }\n",
              "    30% {\n",
              "      border-color: transparent;\n",
              "      border-left-color: var(--fill-color);\n",
              "      border-top-color: var(--fill-color);\n",
              "      border-right-color: var(--fill-color);\n",
              "    }\n",
              "    40% {\n",
              "      border-color: transparent;\n",
              "      border-right-color: var(--fill-color);\n",
              "      border-top-color: var(--fill-color);\n",
              "    }\n",
              "    60% {\n",
              "      border-color: transparent;\n",
              "      border-right-color: var(--fill-color);\n",
              "    }\n",
              "    80% {\n",
              "      border-color: transparent;\n",
              "      border-right-color: var(--fill-color);\n",
              "      border-bottom-color: var(--fill-color);\n",
              "    }\n",
              "    90% {\n",
              "      border-color: transparent;\n",
              "      border-bottom-color: var(--fill-color);\n",
              "    }\n",
              "  }\n",
              "</style>\n",
              "\n",
              "  <script>\n",
              "    async function quickchart(key) {\n",
              "      const quickchartButtonEl =\n",
              "        document.querySelector('#' + key + ' button');\n",
              "      quickchartButtonEl.disabled = true;  // To prevent multiple clicks.\n",
              "      quickchartButtonEl.classList.add('colab-df-spinner');\n",
              "      try {\n",
              "        const charts = await google.colab.kernel.invokeFunction(\n",
              "            'suggestCharts', [key], {});\n",
              "      } catch (error) {\n",
              "        console.error('Error during call to suggestCharts:', error);\n",
              "      }\n",
              "      quickchartButtonEl.classList.remove('colab-df-spinner');\n",
              "      quickchartButtonEl.classList.add('colab-df-quickchart-complete');\n",
              "    }\n",
              "    (() => {\n",
              "      let quickchartButtonEl =\n",
              "        document.querySelector('#df-adfdfe9f-e1ad-4e19-820c-205f2100724b button');\n",
              "      quickchartButtonEl.style.display =\n",
              "        google.colab.kernel.accessAllowed ? 'block' : 'none';\n",
              "    })();\n",
              "  </script>\n",
              "</div>\n",
              "\n",
              "    </div>\n",
              "  </div>\n"
            ],
            "application/vnd.google.colaboratory.intrinsic+json": {
              "type": "dataframe",
              "variable_name": "df",
              "summary": "{\n  \"name\": \"df\",\n  \"rows\": 1000,\n  \"fields\": [\n    {\n      \"column\": \"Number_of_Riders\",\n      \"properties\": {\n        \"dtype\": \"number\",\n        \"std\": 23,\n        \"min\": 20,\n        \"max\": 100,\n        \"num_unique_values\": 81,\n        \"samples\": [\n          68,\n          90,\n          48\n        ],\n        \"semantic_type\": \"\",\n        \"description\": \"\"\n      }\n    },\n    {\n      \"column\": \"Number_of_Drivers\",\n      \"properties\": {\n        \"dtype\": \"number\",\n        \"std\": 19,\n        \"min\": 5,\n        \"max\": 89,\n        \"num_unique_values\": 79,\n        \"samples\": [\n          55,\n          45,\n          9\n        ],\n        \"semantic_type\": \"\",\n        \"description\": \"\"\n      }\n    },\n    {\n      \"column\": \"Location_Category\",\n      \"properties\": {\n        \"dtype\": \"category\",\n        \"num_unique_values\": 3,\n        \"samples\": [\n          \"Urban\",\n          \"Suburban\",\n          \"Rural\"\n        ],\n        \"semantic_type\": \"\",\n        \"description\": \"\"\n      }\n    },\n    {\n      \"column\": \"Customer_Loyalty_Status\",\n      \"properties\": {\n        \"dtype\": \"category\",\n        \"num_unique_values\": 3,\n        \"samples\": [\n          \"Silver\",\n          \"Regular\",\n          \"Gold\"\n        ],\n        \"semantic_type\": \"\",\n        \"description\": \"\"\n      }\n    },\n    {\n      \"column\": \"Number_of_Past_Rides\",\n      \"properties\": {\n        \"dtype\": \"number\",\n        \"std\": 29,\n        \"min\": 0,\n        \"max\": 100,\n        \"num_unique_values\": 101,\n        \"samples\": [\n          42,\n          31,\n          90\n        ],\n        \"semantic_type\": \"\",\n        \"description\": \"\"\n      }\n    },\n    {\n      \"column\": \"Average_Ratings\",\n      \"properties\": {\n        \"dtype\": \"number\",\n        \"std\": 0.4357808813802833,\n        \"min\": 3.5,\n        \"max\": 5.0,\n        \"num_unique_values\": 151,\n        \"samples\": [\n          4.26,\n          4.82,\n          4.91\n        ],\n        \"semantic_type\": \"\",\n        \"description\": \"\"\n      }\n    },\n    {\n      \"column\": \"Time_of_Booking\",\n      \"properties\": {\n        \"dtype\": \"category\",\n        \"num_unique_values\": 4,\n        \"samples\": [\n          \"Evening\",\n          \"Morning\",\n          \"Night\"\n        ],\n        \"semantic_type\": \"\",\n        \"description\": \"\"\n      }\n    },\n    {\n      \"column\": \"Vehicle_Type\",\n      \"properties\": {\n        \"dtype\": \"category\",\n        \"num_unique_values\": 2,\n        \"samples\": [\n          \"Economy\",\n          \"Premium\"\n        ],\n        \"semantic_type\": \"\",\n        \"description\": \"\"\n      }\n    },\n    {\n      \"column\": \"Expected_Ride_Duration\",\n      \"properties\": {\n        \"dtype\": \"number\",\n        \"std\": 49,\n        \"min\": 10,\n        \"max\": 180,\n        \"num_unique_values\": 171,\n        \"samples\": [\n          145,\n          28\n        ],\n        \"semantic_type\": \"\",\n        \"description\": \"\"\n      }\n    },\n    {\n      \"column\": \"profit_percentage\",\n      \"properties\": {\n        \"dtype\": \"number\",\n        \"std\": 88.13578940969774,\n        \"min\": -20.000000000000004,\n        \"max\": 517.5,\n        \"num_unique_values\": 761,\n        \"samples\": [\n          45.99999999999999,\n          17.28395061728396\n        ],\n        \"semantic_type\": \"\",\n        \"description\": \"\"\n      }\n    }\n  ]\n}"
            }
          },
          "metadata": {},
          "execution_count": 5
        }
      ],
      "source": [
        "df=main\n",
        "\n",
        "df.head(6)"
      ]
    },
    {
      "cell_type": "code",
      "execution_count": null,
      "metadata": {
        "colab": {
          "base_uri": "https://localhost:8080/"
        },
        "id": "1kumP41qt2IS",
        "outputId": "a88e348e-f111-4071-8426-30c4746fe107"
      },
      "outputs": [
        {
          "output_type": "execute_result",
          "data": {
            "text/plain": [
              "(1000, 10)"
            ]
          },
          "metadata": {},
          "execution_count": 6
        }
      ],
      "source": [
        "df.shape"
      ]
    },
    {
      "cell_type": "code",
      "execution_count": null,
      "metadata": {
        "colab": {
          "base_uri": "https://localhost:8080/"
        },
        "id": "3SvsYM9irDVr",
        "outputId": "6bdd9e5f-dfc2-4f58-e14d-6652482055d9"
      },
      "outputs": [
        {
          "output_type": "stream",
          "name": "stdout",
          "text": [
            "<class 'pandas.core.frame.DataFrame'>\n",
            "Int64Index: 1000 entries, 0 to 999\n",
            "Data columns (total 10 columns):\n",
            " #   Column                   Non-Null Count  Dtype  \n",
            "---  ------                   --------------  -----  \n",
            " 0   Number_of_Riders         1000 non-null   int64  \n",
            " 1   Number_of_Drivers        1000 non-null   int64  \n",
            " 2   Location_Category        1000 non-null   object \n",
            " 3   Customer_Loyalty_Status  1000 non-null   object \n",
            " 4   Number_of_Past_Rides     1000 non-null   int64  \n",
            " 5   Average_Ratings          1000 non-null   float64\n",
            " 6   Time_of_Booking          1000 non-null   object \n",
            " 7   Vehicle_Type             1000 non-null   object \n",
            " 8   Expected_Ride_Duration   1000 non-null   int64  \n",
            " 9   profit_percentage        1000 non-null   float64\n",
            "dtypes: float64(2), int64(4), object(4)\n",
            "memory usage: 85.9+ KB\n"
          ]
        }
      ],
      "source": [
        "df.info()"
      ]
    },
    {
      "cell_type": "code",
      "execution_count": null,
      "metadata": {
        "colab": {
          "base_uri": "https://localhost:8080/",
          "height": 300
        },
        "id": "7R_ifo97vB-j",
        "outputId": "ec99e1de-80ca-45b2-bcb3-b6b0ccc9c74b"
      },
      "outputs": [
        {
          "output_type": "execute_result",
          "data": {
            "text/plain": [
              "       Number_of_Riders  Number_of_Drivers  Number_of_Past_Rides  \\\n",
              "count       1000.000000        1000.000000           1000.000000   \n",
              "mean          60.372000          27.076000             50.031000   \n",
              "std           23.701506          19.068346             29.313774   \n",
              "min           20.000000           5.000000              0.000000   \n",
              "25%           40.000000          11.000000             25.000000   \n",
              "50%           60.000000          22.000000             51.000000   \n",
              "75%           81.000000          38.000000             75.000000   \n",
              "max          100.000000          89.000000            100.000000   \n",
              "\n",
              "       Average_Ratings  Expected_Ride_Duration  profit_percentage  \n",
              "count      1000.000000              1000.00000        1000.000000  \n",
              "mean          4.257220                99.58800          83.694454  \n",
              "std           0.435781                49.16545          88.135789  \n",
              "min           3.500000                10.00000         -20.000000  \n",
              "25%           3.870000                59.75000          22.925279  \n",
              "50%           4.270000               102.00000          58.611111  \n",
              "75%           4.632500               143.00000         125.046296  \n",
              "max           5.000000               180.00000         517.500000  "
            ],
            "text/html": [
              "\n",
              "  <div id=\"df-3e43b929-181d-40f1-aee3-b6f4dd9abf1b\" class=\"colab-df-container\">\n",
              "    <div>\n",
              "<style scoped>\n",
              "    .dataframe tbody tr th:only-of-type {\n",
              "        vertical-align: middle;\n",
              "    }\n",
              "\n",
              "    .dataframe tbody tr th {\n",
              "        vertical-align: top;\n",
              "    }\n",
              "\n",
              "    .dataframe thead th {\n",
              "        text-align: right;\n",
              "    }\n",
              "</style>\n",
              "<table border=\"1\" class=\"dataframe\">\n",
              "  <thead>\n",
              "    <tr style=\"text-align: right;\">\n",
              "      <th></th>\n",
              "      <th>Number_of_Riders</th>\n",
              "      <th>Number_of_Drivers</th>\n",
              "      <th>Number_of_Past_Rides</th>\n",
              "      <th>Average_Ratings</th>\n",
              "      <th>Expected_Ride_Duration</th>\n",
              "      <th>profit_percentage</th>\n",
              "    </tr>\n",
              "  </thead>\n",
              "  <tbody>\n",
              "    <tr>\n",
              "      <th>count</th>\n",
              "      <td>1000.000000</td>\n",
              "      <td>1000.000000</td>\n",
              "      <td>1000.000000</td>\n",
              "      <td>1000.000000</td>\n",
              "      <td>1000.00000</td>\n",
              "      <td>1000.000000</td>\n",
              "    </tr>\n",
              "    <tr>\n",
              "      <th>mean</th>\n",
              "      <td>60.372000</td>\n",
              "      <td>27.076000</td>\n",
              "      <td>50.031000</td>\n",
              "      <td>4.257220</td>\n",
              "      <td>99.58800</td>\n",
              "      <td>83.694454</td>\n",
              "    </tr>\n",
              "    <tr>\n",
              "      <th>std</th>\n",
              "      <td>23.701506</td>\n",
              "      <td>19.068346</td>\n",
              "      <td>29.313774</td>\n",
              "      <td>0.435781</td>\n",
              "      <td>49.16545</td>\n",
              "      <td>88.135789</td>\n",
              "    </tr>\n",
              "    <tr>\n",
              "      <th>min</th>\n",
              "      <td>20.000000</td>\n",
              "      <td>5.000000</td>\n",
              "      <td>0.000000</td>\n",
              "      <td>3.500000</td>\n",
              "      <td>10.00000</td>\n",
              "      <td>-20.000000</td>\n",
              "    </tr>\n",
              "    <tr>\n",
              "      <th>25%</th>\n",
              "      <td>40.000000</td>\n",
              "      <td>11.000000</td>\n",
              "      <td>25.000000</td>\n",
              "      <td>3.870000</td>\n",
              "      <td>59.75000</td>\n",
              "      <td>22.925279</td>\n",
              "    </tr>\n",
              "    <tr>\n",
              "      <th>50%</th>\n",
              "      <td>60.000000</td>\n",
              "      <td>22.000000</td>\n",
              "      <td>51.000000</td>\n",
              "      <td>4.270000</td>\n",
              "      <td>102.00000</td>\n",
              "      <td>58.611111</td>\n",
              "    </tr>\n",
              "    <tr>\n",
              "      <th>75%</th>\n",
              "      <td>81.000000</td>\n",
              "      <td>38.000000</td>\n",
              "      <td>75.000000</td>\n",
              "      <td>4.632500</td>\n",
              "      <td>143.00000</td>\n",
              "      <td>125.046296</td>\n",
              "    </tr>\n",
              "    <tr>\n",
              "      <th>max</th>\n",
              "      <td>100.000000</td>\n",
              "      <td>89.000000</td>\n",
              "      <td>100.000000</td>\n",
              "      <td>5.000000</td>\n",
              "      <td>180.00000</td>\n",
              "      <td>517.500000</td>\n",
              "    </tr>\n",
              "  </tbody>\n",
              "</table>\n",
              "</div>\n",
              "    <div class=\"colab-df-buttons\">\n",
              "\n",
              "  <div class=\"colab-df-container\">\n",
              "    <button class=\"colab-df-convert\" onclick=\"convertToInteractive('df-3e43b929-181d-40f1-aee3-b6f4dd9abf1b')\"\n",
              "            title=\"Convert this dataframe to an interactive table.\"\n",
              "            style=\"display:none;\">\n",
              "\n",
              "  <svg xmlns=\"http://www.w3.org/2000/svg\" height=\"24px\" viewBox=\"0 -960 960 960\">\n",
              "    <path d=\"M120-120v-720h720v720H120Zm60-500h600v-160H180v160Zm220 220h160v-160H400v160Zm0 220h160v-160H400v160ZM180-400h160v-160H180v160Zm440 0h160v-160H620v160ZM180-180h160v-160H180v160Zm440 0h160v-160H620v160Z\"/>\n",
              "  </svg>\n",
              "    </button>\n",
              "\n",
              "  <style>\n",
              "    .colab-df-container {\n",
              "      display:flex;\n",
              "      gap: 12px;\n",
              "    }\n",
              "\n",
              "    .colab-df-convert {\n",
              "      background-color: #E8F0FE;\n",
              "      border: none;\n",
              "      border-radius: 50%;\n",
              "      cursor: pointer;\n",
              "      display: none;\n",
              "      fill: #1967D2;\n",
              "      height: 32px;\n",
              "      padding: 0 0 0 0;\n",
              "      width: 32px;\n",
              "    }\n",
              "\n",
              "    .colab-df-convert:hover {\n",
              "      background-color: #E2EBFA;\n",
              "      box-shadow: 0px 1px 2px rgba(60, 64, 67, 0.3), 0px 1px 3px 1px rgba(60, 64, 67, 0.15);\n",
              "      fill: #174EA6;\n",
              "    }\n",
              "\n",
              "    .colab-df-buttons div {\n",
              "      margin-bottom: 4px;\n",
              "    }\n",
              "\n",
              "    [theme=dark] .colab-df-convert {\n",
              "      background-color: #3B4455;\n",
              "      fill: #D2E3FC;\n",
              "    }\n",
              "\n",
              "    [theme=dark] .colab-df-convert:hover {\n",
              "      background-color: #434B5C;\n",
              "      box-shadow: 0px 1px 3px 1px rgba(0, 0, 0, 0.15);\n",
              "      filter: drop-shadow(0px 1px 2px rgba(0, 0, 0, 0.3));\n",
              "      fill: #FFFFFF;\n",
              "    }\n",
              "  </style>\n",
              "\n",
              "    <script>\n",
              "      const buttonEl =\n",
              "        document.querySelector('#df-3e43b929-181d-40f1-aee3-b6f4dd9abf1b button.colab-df-convert');\n",
              "      buttonEl.style.display =\n",
              "        google.colab.kernel.accessAllowed ? 'block' : 'none';\n",
              "\n",
              "      async function convertToInteractive(key) {\n",
              "        const element = document.querySelector('#df-3e43b929-181d-40f1-aee3-b6f4dd9abf1b');\n",
              "        const dataTable =\n",
              "          await google.colab.kernel.invokeFunction('convertToInteractive',\n",
              "                                                    [key], {});\n",
              "        if (!dataTable) return;\n",
              "\n",
              "        const docLinkHtml = 'Like what you see? Visit the ' +\n",
              "          '<a target=\"_blank\" href=https://colab.research.google.com/notebooks/data_table.ipynb>data table notebook</a>'\n",
              "          + ' to learn more about interactive tables.';\n",
              "        element.innerHTML = '';\n",
              "        dataTable['output_type'] = 'display_data';\n",
              "        await google.colab.output.renderOutput(dataTable, element);\n",
              "        const docLink = document.createElement('div');\n",
              "        docLink.innerHTML = docLinkHtml;\n",
              "        element.appendChild(docLink);\n",
              "      }\n",
              "    </script>\n",
              "  </div>\n",
              "\n",
              "\n",
              "<div id=\"df-97e4ed61-47bd-4525-94df-8bb96d47ca6a\">\n",
              "  <button class=\"colab-df-quickchart\" onclick=\"quickchart('df-97e4ed61-47bd-4525-94df-8bb96d47ca6a')\"\n",
              "            title=\"Suggest charts\"\n",
              "            style=\"display:none;\">\n",
              "\n",
              "<svg xmlns=\"http://www.w3.org/2000/svg\" height=\"24px\"viewBox=\"0 0 24 24\"\n",
              "     width=\"24px\">\n",
              "    <g>\n",
              "        <path d=\"M19 3H5c-1.1 0-2 .9-2 2v14c0 1.1.9 2 2 2h14c1.1 0 2-.9 2-2V5c0-1.1-.9-2-2-2zM9 17H7v-7h2v7zm4 0h-2V7h2v10zm4 0h-2v-4h2v4z\"/>\n",
              "    </g>\n",
              "</svg>\n",
              "  </button>\n",
              "\n",
              "<style>\n",
              "  .colab-df-quickchart {\n",
              "      --bg-color: #E8F0FE;\n",
              "      --fill-color: #1967D2;\n",
              "      --hover-bg-color: #E2EBFA;\n",
              "      --hover-fill-color: #174EA6;\n",
              "      --disabled-fill-color: #AAA;\n",
              "      --disabled-bg-color: #DDD;\n",
              "  }\n",
              "\n",
              "  [theme=dark] .colab-df-quickchart {\n",
              "      --bg-color: #3B4455;\n",
              "      --fill-color: #D2E3FC;\n",
              "      --hover-bg-color: #434B5C;\n",
              "      --hover-fill-color: #FFFFFF;\n",
              "      --disabled-bg-color: #3B4455;\n",
              "      --disabled-fill-color: #666;\n",
              "  }\n",
              "\n",
              "  .colab-df-quickchart {\n",
              "    background-color: var(--bg-color);\n",
              "    border: none;\n",
              "    border-radius: 50%;\n",
              "    cursor: pointer;\n",
              "    display: none;\n",
              "    fill: var(--fill-color);\n",
              "    height: 32px;\n",
              "    padding: 0;\n",
              "    width: 32px;\n",
              "  }\n",
              "\n",
              "  .colab-df-quickchart:hover {\n",
              "    background-color: var(--hover-bg-color);\n",
              "    box-shadow: 0 1px 2px rgba(60, 64, 67, 0.3), 0 1px 3px 1px rgba(60, 64, 67, 0.15);\n",
              "    fill: var(--button-hover-fill-color);\n",
              "  }\n",
              "\n",
              "  .colab-df-quickchart-complete:disabled,\n",
              "  .colab-df-quickchart-complete:disabled:hover {\n",
              "    background-color: var(--disabled-bg-color);\n",
              "    fill: var(--disabled-fill-color);\n",
              "    box-shadow: none;\n",
              "  }\n",
              "\n",
              "  .colab-df-spinner {\n",
              "    border: 2px solid var(--fill-color);\n",
              "    border-color: transparent;\n",
              "    border-bottom-color: var(--fill-color);\n",
              "    animation:\n",
              "      spin 1s steps(1) infinite;\n",
              "  }\n",
              "\n",
              "  @keyframes spin {\n",
              "    0% {\n",
              "      border-color: transparent;\n",
              "      border-bottom-color: var(--fill-color);\n",
              "      border-left-color: var(--fill-color);\n",
              "    }\n",
              "    20% {\n",
              "      border-color: transparent;\n",
              "      border-left-color: var(--fill-color);\n",
              "      border-top-color: var(--fill-color);\n",
              "    }\n",
              "    30% {\n",
              "      border-color: transparent;\n",
              "      border-left-color: var(--fill-color);\n",
              "      border-top-color: var(--fill-color);\n",
              "      border-right-color: var(--fill-color);\n",
              "    }\n",
              "    40% {\n",
              "      border-color: transparent;\n",
              "      border-right-color: var(--fill-color);\n",
              "      border-top-color: var(--fill-color);\n",
              "    }\n",
              "    60% {\n",
              "      border-color: transparent;\n",
              "      border-right-color: var(--fill-color);\n",
              "    }\n",
              "    80% {\n",
              "      border-color: transparent;\n",
              "      border-right-color: var(--fill-color);\n",
              "      border-bottom-color: var(--fill-color);\n",
              "    }\n",
              "    90% {\n",
              "      border-color: transparent;\n",
              "      border-bottom-color: var(--fill-color);\n",
              "    }\n",
              "  }\n",
              "</style>\n",
              "\n",
              "  <script>\n",
              "    async function quickchart(key) {\n",
              "      const quickchartButtonEl =\n",
              "        document.querySelector('#' + key + ' button');\n",
              "      quickchartButtonEl.disabled = true;  // To prevent multiple clicks.\n",
              "      quickchartButtonEl.classList.add('colab-df-spinner');\n",
              "      try {\n",
              "        const charts = await google.colab.kernel.invokeFunction(\n",
              "            'suggestCharts', [key], {});\n",
              "      } catch (error) {\n",
              "        console.error('Error during call to suggestCharts:', error);\n",
              "      }\n",
              "      quickchartButtonEl.classList.remove('colab-df-spinner');\n",
              "      quickchartButtonEl.classList.add('colab-df-quickchart-complete');\n",
              "    }\n",
              "    (() => {\n",
              "      let quickchartButtonEl =\n",
              "        document.querySelector('#df-97e4ed61-47bd-4525-94df-8bb96d47ca6a button');\n",
              "      quickchartButtonEl.style.display =\n",
              "        google.colab.kernel.accessAllowed ? 'block' : 'none';\n",
              "    })();\n",
              "  </script>\n",
              "</div>\n",
              "\n",
              "    </div>\n",
              "  </div>\n"
            ],
            "application/vnd.google.colaboratory.intrinsic+json": {
              "type": "dataframe",
              "summary": "{\n  \"name\": \"df\",\n  \"rows\": 8,\n  \"fields\": [\n    {\n      \"column\": \"Number_of_Riders\",\n      \"properties\": {\n        \"dtype\": \"number\",\n        \"std\": 335.2107999243274,\n        \"min\": 20.0,\n        \"max\": 1000.0,\n        \"num_unique_values\": 8,\n        \"samples\": [\n          60.372,\n          60.0,\n          1000.0\n        ],\n        \"semantic_type\": \"\",\n        \"description\": \"\"\n      }\n    },\n    {\n      \"column\": \"Number_of_Drivers\",\n      \"properties\": {\n        \"dtype\": \"number\",\n        \"std\": 343.8714218161568,\n        \"min\": 5.0,\n        \"max\": 1000.0,\n        \"num_unique_values\": 8,\n        \"samples\": [\n          27.076,\n          22.0,\n          1000.0\n        ],\n        \"semantic_type\": \"\",\n        \"description\": \"\"\n      }\n    },\n    {\n      \"column\": \"Number_of_Past_Rides\",\n      \"properties\": {\n        \"dtype\": \"number\",\n        \"std\": 338.2700202372605,\n        \"min\": 0.0,\n        \"max\": 1000.0,\n        \"num_unique_values\": 8,\n        \"samples\": [\n          50.031,\n          51.0,\n          1000.0\n        ],\n        \"semantic_type\": \"\",\n        \"description\": \"\"\n      }\n    },\n    {\n      \"column\": \"Average_Ratings\",\n      \"properties\": {\n        \"dtype\": \"number\",\n        \"std\": 352.2447571461208,\n        \"min\": 0.4357808813802833,\n        \"max\": 1000.0,\n        \"num_unique_values\": 8,\n        \"samples\": [\n          4.25722,\n          4.27,\n          1000.0\n        ],\n        \"semantic_type\": \"\",\n        \"description\": \"\"\n      }\n    },\n    {\n      \"column\": \"Expected_Ride_Duration\",\n      \"properties\": {\n        \"dtype\": \"number\",\n        \"std\": 325.4930600251677,\n        \"min\": 10.0,\n        \"max\": 1000.0,\n        \"num_unique_values\": 8,\n        \"samples\": [\n          99.588,\n          102.0,\n          1000.0\n        ],\n        \"semantic_type\": \"\",\n        \"description\": \"\"\n      }\n    },\n    {\n      \"column\": \"profit_percentage\",\n      \"properties\": {\n        \"dtype\": \"number\",\n        \"std\": 351.0586379710682,\n        \"min\": -20.000000000000004,\n        \"max\": 1000.0,\n        \"num_unique_values\": 8,\n        \"samples\": [\n          83.69445361693334,\n          58.61111111111112,\n          1000.0\n        ],\n        \"semantic_type\": \"\",\n        \"description\": \"\"\n      }\n    }\n  ]\n}"
            }
          },
          "metadata": {},
          "execution_count": 8
        }
      ],
      "source": [
        "df.describe()"
      ]
    },
    {
      "cell_type": "code",
      "execution_count": null,
      "metadata": {
        "id": "rMt4JiiyvCNn"
      },
      "outputs": [],
      "source": [
        "from sklearn.model_selection import train_test_split\n",
        "X = df.drop('profit_percentage',axis=1)\n",
        "y = df['profit_percentage']\n",
        "X_train, X_test, y_train, y_test = train_test_split(X, y, test_size=0.2, random_state=0)"
      ]
    },
    {
      "cell_type": "code",
      "execution_count": null,
      "metadata": {
        "colab": {
          "base_uri": "https://localhost:8080/"
        },
        "id": "_1K4Xk8KJMVP",
        "outputId": "4cc6ca5b-c940-41b3-8d9e-5cd565cab6c3"
      },
      "outputs": [
        {
          "output_type": "execute_result",
          "data": {
            "text/plain": [
              "array(['Silver', 'Regular', 'Gold'], dtype=object)"
            ]
          },
          "metadata": {},
          "execution_count": 10
        }
      ],
      "source": [
        "df['Customer_Loyalty_Status'].unique()\n",
        "\n"
      ]
    },
    {
      "cell_type": "code",
      "execution_count": null,
      "metadata": {
        "colab": {
          "base_uri": "https://localhost:8080/"
        },
        "id": "jAK7VNB0Nrcy",
        "outputId": "34e41e06-2877-4f51-923b-15c39bbf19f2"
      },
      "outputs": [
        {
          "output_type": "execute_result",
          "data": {
            "text/plain": [
              "array(['Urban', 'Suburban', 'Rural'], dtype=object)"
            ]
          },
          "metadata": {},
          "execution_count": 11
        }
      ],
      "source": [
        "df['Location_Category'].unique()"
      ]
    },
    {
      "cell_type": "code",
      "execution_count": null,
      "metadata": {
        "colab": {
          "base_uri": "https://localhost:8080/"
        },
        "id": "je2SrqLKNrok",
        "outputId": "165c992c-a145-4616-855b-2e233354ce3e"
      },
      "outputs": [
        {
          "output_type": "execute_result",
          "data": {
            "text/plain": [
              "array(['Night', 'Evening', 'Afternoon', 'Morning'], dtype=object)"
            ]
          },
          "metadata": {},
          "execution_count": 12
        }
      ],
      "source": [
        "df['Time_of_Booking'].unique()"
      ]
    },
    {
      "cell_type": "code",
      "execution_count": null,
      "metadata": {
        "colab": {
          "base_uri": "https://localhost:8080/"
        },
        "id": "FSbIeq-HNr3x",
        "outputId": "c1274c41-0afd-43e4-f50a-41b0c3d09d4e"
      },
      "outputs": [
        {
          "output_type": "execute_result",
          "data": {
            "text/plain": [
              "array(['Premium', 'Economy'], dtype=object)"
            ]
          },
          "metadata": {},
          "execution_count": 13
        }
      ],
      "source": [
        "df['Vehicle_Type'].unique()"
      ]
    },
    {
      "cell_type": "code",
      "execution_count": null,
      "metadata": {
        "id": "W8w3cinHTPMK"
      },
      "outputs": [],
      "source": []
    },
    {
      "cell_type": "markdown",
      "metadata": {
        "id": "zHWBdQEovd0J"
      },
      "source": [
        "## Pipeline (Encoding)"
      ]
    },
    {
      "cell_type": "code",
      "execution_count": null,
      "metadata": {
        "id": "TEHWPHJ2vCRd"
      },
      "outputs": [],
      "source": [
        "from sklearn.preprocessing import StandardScaler, OrdinalEncoder, OneHotEncoder\n",
        "from sklearn.compose import ColumnTransformer\n",
        "from sklearn.pipeline import Pipeline"
      ]
    },
    {
      "cell_type": "code",
      "execution_count": null,
      "metadata": {
        "id": "UsqnLzYbvCT1"
      },
      "outputs": [],
      "source": [
        "numeric_features = ['Number_of_Riders','Number_of_Drivers','Number_of_Past_Rides','Average_Ratings','Expected_Ride_Duration']\n",
        "ordinal_features = ['Customer_Loyalty_Status','Vehicle_Type']\n",
        "nominal_features = ['Location_Category' ,'Time_of_Booking']"
      ]
    },
    {
      "cell_type": "code",
      "execution_count": null,
      "metadata": {
        "id": "MwjFc_IuvCXX"
      },
      "outputs": [],
      "source": [
        "numeric_transformer = StandardScaler()\n"
      ]
    },
    {
      "cell_type": "code",
      "execution_count": null,
      "metadata": {
        "id": "vq6GYiKEtWjp"
      },
      "outputs": [],
      "source": [
        "encoder_loy = OrdinalEncoder(categories = [['Regular', 'Silver', 'Gold']])  # this is like, regular = 0, silver = 1, gold =2\n",
        "encoder_veh = OrdinalEncoder(categories = [['Economy', 'Premium']])\n",
        "nominal_transformer = OneHotEncoder()\n"
      ]
    },
    {
      "cell_type": "code",
      "execution_count": null,
      "metadata": {
        "id": "ZL9rj9VxvCZx"
      },
      "outputs": [],
      "source": [
        "preprocessor = ColumnTransformer(transformers=[\n",
        "                                        ('num',numeric_transformer,numeric_features),\n",
        "                                        ('loyl',encoder_loy,['Customer_Loyalty_Status']),\n",
        "                                        ('vehi',encoder_veh, ['Vehicle_Type']),\n",
        "                                        ('nomi',nominal_transformer,nominal_features)\n",
        "                                             ])"
      ]
    },
    {
      "cell_type": "markdown",
      "source": [
        "# Decision Tree"
      ],
      "metadata": {
        "id": "BJwRWGBZjv7w"
      }
    },
    {
      "cell_type": "code",
      "source": [],
      "metadata": {
        "id": "fN_iYH2hI0af"
      },
      "execution_count": null,
      "outputs": []
    },
    {
      "cell_type": "code",
      "source": [
        "from sklearn.tree import DecisionTreeRegressor\n",
        "pipeline = Pipeline(steps = [('preprocessor', preprocessor),('regressor',DecisionTreeRegressor(random_state=42)) ])"
      ],
      "metadata": {
        "id": "sp5nLTZzjzOy"
      },
      "execution_count": null,
      "outputs": []
    },
    {
      "cell_type": "code",
      "execution_count": null,
      "metadata": {
        "id": "LntTLYSPkBdi"
      },
      "outputs": [],
      "source": [
        "DT_model = pipeline.fit(X_train, y_train)"
      ]
    },
    {
      "cell_type": "code",
      "execution_count": null,
      "metadata": {
        "colab": {
          "base_uri": "https://localhost:8080/",
          "height": 194
        },
        "outputId": "307a0bae-0cb9-4fba-f1ea-67f30a7ba1ff",
        "id": "sWNwV7L6kBdu"
      },
      "outputs": [
        {
          "output_type": "execute_result",
          "data": {
            "text/plain": [
              "Pipeline(steps=[('preprocessor',\n",
              "                 ColumnTransformer(transformers=[('num', StandardScaler(),\n",
              "                                                  ['Number_of_Riders',\n",
              "                                                   'Number_of_Drivers',\n",
              "                                                   'Number_of_Past_Rides',\n",
              "                                                   'Average_Ratings',\n",
              "                                                   'Expected_Ride_Duration']),\n",
              "                                                 ('loyl',\n",
              "                                                  OrdinalEncoder(categories=[['Regular',\n",
              "                                                                              'Silver',\n",
              "                                                                              'Gold']]),\n",
              "                                                  ['Customer_Loyalty_Status']),\n",
              "                                                 ('vehi',\n",
              "                                                  OrdinalEncoder(categories=[['Economy',\n",
              "                                                                              'Premium']]),\n",
              "                                                  ['Vehicle_Type']),\n",
              "                                                 ('nomi', OneHotEncoder(),\n",
              "                                                  ['Location_Category',\n",
              "                                                   'Time_of_Booking'])])),\n",
              "                ('regressor', DecisionTreeRegressor(random_state=42))])"
            ],
            "text/html": [
              "<style>#sk-container-id-5 {color: black;background-color: white;}#sk-container-id-5 pre{padding: 0;}#sk-container-id-5 div.sk-toggleable {background-color: white;}#sk-container-id-5 label.sk-toggleable__label {cursor: pointer;display: block;width: 100%;margin-bottom: 0;padding: 0.3em;box-sizing: border-box;text-align: center;}#sk-container-id-5 label.sk-toggleable__label-arrow:before {content: \"▸\";float: left;margin-right: 0.25em;color: #696969;}#sk-container-id-5 label.sk-toggleable__label-arrow:hover:before {color: black;}#sk-container-id-5 div.sk-estimator:hover label.sk-toggleable__label-arrow:before {color: black;}#sk-container-id-5 div.sk-toggleable__content {max-height: 0;max-width: 0;overflow: hidden;text-align: left;background-color: #f0f8ff;}#sk-container-id-5 div.sk-toggleable__content pre {margin: 0.2em;color: black;border-radius: 0.25em;background-color: #f0f8ff;}#sk-container-id-5 input.sk-toggleable__control:checked~div.sk-toggleable__content {max-height: 200px;max-width: 100%;overflow: auto;}#sk-container-id-5 input.sk-toggleable__control:checked~label.sk-toggleable__label-arrow:before {content: \"▾\";}#sk-container-id-5 div.sk-estimator input.sk-toggleable__control:checked~label.sk-toggleable__label {background-color: #d4ebff;}#sk-container-id-5 div.sk-label input.sk-toggleable__control:checked~label.sk-toggleable__label {background-color: #d4ebff;}#sk-container-id-5 input.sk-hidden--visually {border: 0;clip: rect(1px 1px 1px 1px);clip: rect(1px, 1px, 1px, 1px);height: 1px;margin: -1px;overflow: hidden;padding: 0;position: absolute;width: 1px;}#sk-container-id-5 div.sk-estimator {font-family: monospace;background-color: #f0f8ff;border: 1px dotted black;border-radius: 0.25em;box-sizing: border-box;margin-bottom: 0.5em;}#sk-container-id-5 div.sk-estimator:hover {background-color: #d4ebff;}#sk-container-id-5 div.sk-parallel-item::after {content: \"\";width: 100%;border-bottom: 1px solid gray;flex-grow: 1;}#sk-container-id-5 div.sk-label:hover label.sk-toggleable__label {background-color: #d4ebff;}#sk-container-id-5 div.sk-serial::before {content: \"\";position: absolute;border-left: 1px solid gray;box-sizing: border-box;top: 0;bottom: 0;left: 50%;z-index: 0;}#sk-container-id-5 div.sk-serial {display: flex;flex-direction: column;align-items: center;background-color: white;padding-right: 0.2em;padding-left: 0.2em;position: relative;}#sk-container-id-5 div.sk-item {position: relative;z-index: 1;}#sk-container-id-5 div.sk-parallel {display: flex;align-items: stretch;justify-content: center;background-color: white;position: relative;}#sk-container-id-5 div.sk-item::before, #sk-container-id-5 div.sk-parallel-item::before {content: \"\";position: absolute;border-left: 1px solid gray;box-sizing: border-box;top: 0;bottom: 0;left: 50%;z-index: -1;}#sk-container-id-5 div.sk-parallel-item {display: flex;flex-direction: column;z-index: 1;position: relative;background-color: white;}#sk-container-id-5 div.sk-parallel-item:first-child::after {align-self: flex-end;width: 50%;}#sk-container-id-5 div.sk-parallel-item:last-child::after {align-self: flex-start;width: 50%;}#sk-container-id-5 div.sk-parallel-item:only-child::after {width: 0;}#sk-container-id-5 div.sk-dashed-wrapped {border: 1px dashed gray;margin: 0 0.4em 0.5em 0.4em;box-sizing: border-box;padding-bottom: 0.4em;background-color: white;}#sk-container-id-5 div.sk-label label {font-family: monospace;font-weight: bold;display: inline-block;line-height: 1.2em;}#sk-container-id-5 div.sk-label-container {text-align: center;}#sk-container-id-5 div.sk-container {/* jupyter's `normalize.less` sets `[hidden] { display: none; }` but bootstrap.min.css set `[hidden] { display: none !important; }` so we also need the `!important` here to be able to override the default hidden behavior on the sphinx rendered scikit-learn.org. See: https://github.com/scikit-learn/scikit-learn/issues/21755 */display: inline-block !important;position: relative;}#sk-container-id-5 div.sk-text-repr-fallback {display: none;}</style><div id=\"sk-container-id-5\" class=\"sk-top-container\"><div class=\"sk-text-repr-fallback\"><pre>Pipeline(steps=[(&#x27;preprocessor&#x27;,\n",
              "                 ColumnTransformer(transformers=[(&#x27;num&#x27;, StandardScaler(),\n",
              "                                                  [&#x27;Number_of_Riders&#x27;,\n",
              "                                                   &#x27;Number_of_Drivers&#x27;,\n",
              "                                                   &#x27;Number_of_Past_Rides&#x27;,\n",
              "                                                   &#x27;Average_Ratings&#x27;,\n",
              "                                                   &#x27;Expected_Ride_Duration&#x27;]),\n",
              "                                                 (&#x27;loyl&#x27;,\n",
              "                                                  OrdinalEncoder(categories=[[&#x27;Regular&#x27;,\n",
              "                                                                              &#x27;Silver&#x27;,\n",
              "                                                                              &#x27;Gold&#x27;]]),\n",
              "                                                  [&#x27;Customer_Loyalty_Status&#x27;]),\n",
              "                                                 (&#x27;vehi&#x27;,\n",
              "                                                  OrdinalEncoder(categories=[[&#x27;Economy&#x27;,\n",
              "                                                                              &#x27;Premium&#x27;]]),\n",
              "                                                  [&#x27;Vehicle_Type&#x27;]),\n",
              "                                                 (&#x27;nomi&#x27;, OneHotEncoder(),\n",
              "                                                  [&#x27;Location_Category&#x27;,\n",
              "                                                   &#x27;Time_of_Booking&#x27;])])),\n",
              "                (&#x27;regressor&#x27;, DecisionTreeRegressor(random_state=42))])</pre><b>In a Jupyter environment, please rerun this cell to show the HTML representation or trust the notebook. <br />On GitHub, the HTML representation is unable to render, please try loading this page with nbviewer.org.</b></div><div class=\"sk-container\" hidden><div class=\"sk-item sk-dashed-wrapped\"><div class=\"sk-label-container\"><div class=\"sk-label sk-toggleable\"><input class=\"sk-toggleable__control sk-hidden--visually\" id=\"sk-estimator-id-47\" type=\"checkbox\" ><label for=\"sk-estimator-id-47\" class=\"sk-toggleable__label sk-toggleable__label-arrow\">Pipeline</label><div class=\"sk-toggleable__content\"><pre>Pipeline(steps=[(&#x27;preprocessor&#x27;,\n",
              "                 ColumnTransformer(transformers=[(&#x27;num&#x27;, StandardScaler(),\n",
              "                                                  [&#x27;Number_of_Riders&#x27;,\n",
              "                                                   &#x27;Number_of_Drivers&#x27;,\n",
              "                                                   &#x27;Number_of_Past_Rides&#x27;,\n",
              "                                                   &#x27;Average_Ratings&#x27;,\n",
              "                                                   &#x27;Expected_Ride_Duration&#x27;]),\n",
              "                                                 (&#x27;loyl&#x27;,\n",
              "                                                  OrdinalEncoder(categories=[[&#x27;Regular&#x27;,\n",
              "                                                                              &#x27;Silver&#x27;,\n",
              "                                                                              &#x27;Gold&#x27;]]),\n",
              "                                                  [&#x27;Customer_Loyalty_Status&#x27;]),\n",
              "                                                 (&#x27;vehi&#x27;,\n",
              "                                                  OrdinalEncoder(categories=[[&#x27;Economy&#x27;,\n",
              "                                                                              &#x27;Premium&#x27;]]),\n",
              "                                                  [&#x27;Vehicle_Type&#x27;]),\n",
              "                                                 (&#x27;nomi&#x27;, OneHotEncoder(),\n",
              "                                                  [&#x27;Location_Category&#x27;,\n",
              "                                                   &#x27;Time_of_Booking&#x27;])])),\n",
              "                (&#x27;regressor&#x27;, DecisionTreeRegressor(random_state=42))])</pre></div></div></div><div class=\"sk-serial\"><div class=\"sk-item sk-dashed-wrapped\"><div class=\"sk-label-container\"><div class=\"sk-label sk-toggleable\"><input class=\"sk-toggleable__control sk-hidden--visually\" id=\"sk-estimator-id-48\" type=\"checkbox\" ><label for=\"sk-estimator-id-48\" class=\"sk-toggleable__label sk-toggleable__label-arrow\">preprocessor: ColumnTransformer</label><div class=\"sk-toggleable__content\"><pre>ColumnTransformer(transformers=[(&#x27;num&#x27;, StandardScaler(),\n",
              "                                 [&#x27;Number_of_Riders&#x27;, &#x27;Number_of_Drivers&#x27;,\n",
              "                                  &#x27;Number_of_Past_Rides&#x27;, &#x27;Average_Ratings&#x27;,\n",
              "                                  &#x27;Expected_Ride_Duration&#x27;]),\n",
              "                                (&#x27;loyl&#x27;,\n",
              "                                 OrdinalEncoder(categories=[[&#x27;Regular&#x27;,\n",
              "                                                             &#x27;Silver&#x27;,\n",
              "                                                             &#x27;Gold&#x27;]]),\n",
              "                                 [&#x27;Customer_Loyalty_Status&#x27;]),\n",
              "                                (&#x27;vehi&#x27;,\n",
              "                                 OrdinalEncoder(categories=[[&#x27;Economy&#x27;,\n",
              "                                                             &#x27;Premium&#x27;]]),\n",
              "                                 [&#x27;Vehicle_Type&#x27;]),\n",
              "                                (&#x27;nomi&#x27;, OneHotEncoder(),\n",
              "                                 [&#x27;Location_Category&#x27;, &#x27;Time_of_Booking&#x27;])])</pre></div></div></div><div class=\"sk-parallel\"><div class=\"sk-parallel-item\"><div class=\"sk-item\"><div class=\"sk-label-container\"><div class=\"sk-label sk-toggleable\"><input class=\"sk-toggleable__control sk-hidden--visually\" id=\"sk-estimator-id-49\" type=\"checkbox\" ><label for=\"sk-estimator-id-49\" class=\"sk-toggleable__label sk-toggleable__label-arrow\">num</label><div class=\"sk-toggleable__content\"><pre>[&#x27;Number_of_Riders&#x27;, &#x27;Number_of_Drivers&#x27;, &#x27;Number_of_Past_Rides&#x27;, &#x27;Average_Ratings&#x27;, &#x27;Expected_Ride_Duration&#x27;]</pre></div></div></div><div class=\"sk-serial\"><div class=\"sk-item\"><div class=\"sk-estimator sk-toggleable\"><input class=\"sk-toggleable__control sk-hidden--visually\" id=\"sk-estimator-id-50\" type=\"checkbox\" ><label for=\"sk-estimator-id-50\" class=\"sk-toggleable__label sk-toggleable__label-arrow\">StandardScaler</label><div class=\"sk-toggleable__content\"><pre>StandardScaler()</pre></div></div></div></div></div></div><div class=\"sk-parallel-item\"><div class=\"sk-item\"><div class=\"sk-label-container\"><div class=\"sk-label sk-toggleable\"><input class=\"sk-toggleable__control sk-hidden--visually\" id=\"sk-estimator-id-51\" type=\"checkbox\" ><label for=\"sk-estimator-id-51\" class=\"sk-toggleable__label sk-toggleable__label-arrow\">loyl</label><div class=\"sk-toggleable__content\"><pre>[&#x27;Customer_Loyalty_Status&#x27;]</pre></div></div></div><div class=\"sk-serial\"><div class=\"sk-item\"><div class=\"sk-estimator sk-toggleable\"><input class=\"sk-toggleable__control sk-hidden--visually\" id=\"sk-estimator-id-52\" type=\"checkbox\" ><label for=\"sk-estimator-id-52\" class=\"sk-toggleable__label sk-toggleable__label-arrow\">OrdinalEncoder</label><div class=\"sk-toggleable__content\"><pre>OrdinalEncoder(categories=[[&#x27;Regular&#x27;, &#x27;Silver&#x27;, &#x27;Gold&#x27;]])</pre></div></div></div></div></div></div><div class=\"sk-parallel-item\"><div class=\"sk-item\"><div class=\"sk-label-container\"><div class=\"sk-label sk-toggleable\"><input class=\"sk-toggleable__control sk-hidden--visually\" id=\"sk-estimator-id-53\" type=\"checkbox\" ><label for=\"sk-estimator-id-53\" class=\"sk-toggleable__label sk-toggleable__label-arrow\">vehi</label><div class=\"sk-toggleable__content\"><pre>[&#x27;Vehicle_Type&#x27;]</pre></div></div></div><div class=\"sk-serial\"><div class=\"sk-item\"><div class=\"sk-estimator sk-toggleable\"><input class=\"sk-toggleable__control sk-hidden--visually\" id=\"sk-estimator-id-54\" type=\"checkbox\" ><label for=\"sk-estimator-id-54\" class=\"sk-toggleable__label sk-toggleable__label-arrow\">OrdinalEncoder</label><div class=\"sk-toggleable__content\"><pre>OrdinalEncoder(categories=[[&#x27;Economy&#x27;, &#x27;Premium&#x27;]])</pre></div></div></div></div></div></div><div class=\"sk-parallel-item\"><div class=\"sk-item\"><div class=\"sk-label-container\"><div class=\"sk-label sk-toggleable\"><input class=\"sk-toggleable__control sk-hidden--visually\" id=\"sk-estimator-id-55\" type=\"checkbox\" ><label for=\"sk-estimator-id-55\" class=\"sk-toggleable__label sk-toggleable__label-arrow\">nomi</label><div class=\"sk-toggleable__content\"><pre>[&#x27;Location_Category&#x27;, &#x27;Time_of_Booking&#x27;]</pre></div></div></div><div class=\"sk-serial\"><div class=\"sk-item\"><div class=\"sk-estimator sk-toggleable\"><input class=\"sk-toggleable__control sk-hidden--visually\" id=\"sk-estimator-id-56\" type=\"checkbox\" ><label for=\"sk-estimator-id-56\" class=\"sk-toggleable__label sk-toggleable__label-arrow\">OneHotEncoder</label><div class=\"sk-toggleable__content\"><pre>OneHotEncoder()</pre></div></div></div></div></div></div></div></div><div class=\"sk-item\"><div class=\"sk-estimator sk-toggleable\"><input class=\"sk-toggleable__control sk-hidden--visually\" id=\"sk-estimator-id-57\" type=\"checkbox\" ><label for=\"sk-estimator-id-57\" class=\"sk-toggleable__label sk-toggleable__label-arrow\">DecisionTreeRegressor</label><div class=\"sk-toggleable__content\"><pre>DecisionTreeRegressor(random_state=42)</pre></div></div></div></div></div></div></div>"
            ]
          },
          "metadata": {},
          "execution_count": 59
        }
      ],
      "source": [
        "DT_model"
      ]
    },
    {
      "cell_type": "code",
      "execution_count": null,
      "metadata": {
        "id": "0jDIGjz5kBdv"
      },
      "outputs": [],
      "source": [
        "from sklearn.metrics import r2_score\n",
        "from sklearn.metrics import mean_squared_error\n",
        "\n"
      ]
    },
    {
      "cell_type": "code",
      "execution_count": null,
      "metadata": {
        "colab": {
          "base_uri": "https://localhost:8080/"
        },
        "outputId": "bf1278c4-fc29-4ff2-c70c-5e42c99b4e0b",
        "id": "uSjRnGVtkBdv"
      },
      "outputs": [
        {
          "output_type": "stream",
          "name": "stdout",
          "text": [
            "Random Forest w/o tuning: \n",
            "\n",
            "R2 Score (Test): 0.9685\n",
            "R2 Score (Train): 1.0000\n",
            "RMSE (Test): 14.7560\n",
            "RMSE (Train):0.0000\n",
            "\n",
            "\n"
          ]
        }
      ],
      "source": [
        "y_pred_test = DT_model.predict(X_test)\n",
        "y_pred_train = DT_model.predict(X_train)\n",
        "\n",
        "# Evaluate the model\n",
        "\n",
        "# Calculate R2 scores\n",
        "r2_score_test = r2_score(y_test, y_pred_test)\n",
        "r2_score_train = r2_score(y_train, y_pred_train)\n",
        "\n",
        "# Calculate mean squared error\n",
        "mse_test = mean_squared_error(y_test, y_pred_test)\n",
        "mse_train = mean_squared_error(y_train, y_pred_train)\n",
        "\n",
        "# Print the evaluation metrics\n",
        "print(\"Random Forest w/o tuning: \\n\")\n",
        "print(f\"R2 Score (Test): {r2_score_test:.4f}\")\n",
        "print(f\"R2 Score (Train): {r2_score_train:.4f}\")\n",
        "print(f\"RMSE (Test): {np.sqrt(mse_test):.4f}\")\n",
        "print(f\"RMSE (Train):{np.sqrt( mse_train):.4f}\")\n",
        "print(\"\\n\")\n"
      ]
    },
    {
      "cell_type": "code",
      "execution_count": null,
      "metadata": {
        "id": "TmhnSWtVkBdv"
      },
      "outputs": [],
      "source": [
        "from sklearn.model_selection import GridSearchCV\n",
        "\n",
        "params = {\n",
        "    'regressor__max_depth' : list(range(3,15,3)),\n",
        "    'regressor__min_samples_split' : list(range(10,100,25)),\n",
        "    'regressor__min_samples_leaf' : list(range(5,50,10))\n",
        "\n",
        "}"
      ]
    },
    {
      "cell_type": "code",
      "source": [
        "list(range(5,15,3))"
      ],
      "metadata": {
        "id": "IyjgCxwJofC1",
        "outputId": "04b327ad-f857-4b5c-b8c9-a00c38f2240c",
        "colab": {
          "base_uri": "https://localhost:8080/"
        }
      },
      "execution_count": null,
      "outputs": [
        {
          "output_type": "execute_result",
          "data": {
            "text/plain": [
              "[5, 8, 11, 14]"
            ]
          },
          "metadata": {},
          "execution_count": 255
        }
      ]
    },
    {
      "cell_type": "code",
      "execution_count": null,
      "metadata": {
        "id": "bw4jihLWkBdv"
      },
      "outputs": [],
      "source": [
        "DT_grid = GridSearchCV(estimator= pipeline, param_grid=params, cv=5, n_jobs=-1, verbose=1)"
      ]
    },
    {
      "cell_type": "code",
      "execution_count": null,
      "metadata": {
        "colab": {
          "base_uri": "https://localhost:8080/",
          "height": 238
        },
        "outputId": "9dfaf7d4-1c6a-4ada-befd-bebc519059f0",
        "id": "bR-W2m_bkBdw"
      },
      "outputs": [
        {
          "output_type": "stream",
          "name": "stdout",
          "text": [
            "Fitting 5 folds for each of 80 candidates, totalling 400 fits\n"
          ]
        },
        {
          "output_type": "execute_result",
          "data": {
            "text/plain": [
              "GridSearchCV(cv=5,\n",
              "             estimator=Pipeline(steps=[('preprocessor',\n",
              "                                        ColumnTransformer(transformers=[('num',\n",
              "                                                                         StandardScaler(),\n",
              "                                                                         ['Number_of_Riders',\n",
              "                                                                          'Number_of_Drivers',\n",
              "                                                                          'Number_of_Past_Rides',\n",
              "                                                                          'Average_Ratings',\n",
              "                                                                          'Expected_Ride_Duration']),\n",
              "                                                                        ('loyl',\n",
              "                                                                         OrdinalEncoder(categories=[['Regular',\n",
              "                                                                                                     'Silver',\n",
              "                                                                                                     'Gold']]),\n",
              "                                                                         ['Customer_Loyalty_Status']),\n",
              "                                                                        ('vehi',\n",
              "                                                                         OrdinalEncoder(categories=[['Economy',\n",
              "                                                                                                     'Premium']]),\n",
              "                                                                         ['Vehicle_Type']),\n",
              "                                                                        ('nomi',\n",
              "                                                                         OneHotEncoder(),\n",
              "                                                                         ['Location_Category',\n",
              "                                                                          'Time_of_Booking'])])),\n",
              "                                       ('regressor',\n",
              "                                        DecisionTreeRegressor(random_state=42))]),\n",
              "             n_jobs=-1,\n",
              "             param_grid={'regressor__max_depth': [3, 6, 9, 12],\n",
              "                         'regressor__min_samples_leaf': [5, 15, 25, 35, 45],\n",
              "                         'regressor__min_samples_split': [10, 35, 60, 85]},\n",
              "             verbose=1)"
            ],
            "text/html": [
              "<style>#sk-container-id-6 {color: black;background-color: white;}#sk-container-id-6 pre{padding: 0;}#sk-container-id-6 div.sk-toggleable {background-color: white;}#sk-container-id-6 label.sk-toggleable__label {cursor: pointer;display: block;width: 100%;margin-bottom: 0;padding: 0.3em;box-sizing: border-box;text-align: center;}#sk-container-id-6 label.sk-toggleable__label-arrow:before {content: \"▸\";float: left;margin-right: 0.25em;color: #696969;}#sk-container-id-6 label.sk-toggleable__label-arrow:hover:before {color: black;}#sk-container-id-6 div.sk-estimator:hover label.sk-toggleable__label-arrow:before {color: black;}#sk-container-id-6 div.sk-toggleable__content {max-height: 0;max-width: 0;overflow: hidden;text-align: left;background-color: #f0f8ff;}#sk-container-id-6 div.sk-toggleable__content pre {margin: 0.2em;color: black;border-radius: 0.25em;background-color: #f0f8ff;}#sk-container-id-6 input.sk-toggleable__control:checked~div.sk-toggleable__content {max-height: 200px;max-width: 100%;overflow: auto;}#sk-container-id-6 input.sk-toggleable__control:checked~label.sk-toggleable__label-arrow:before {content: \"▾\";}#sk-container-id-6 div.sk-estimator input.sk-toggleable__control:checked~label.sk-toggleable__label {background-color: #d4ebff;}#sk-container-id-6 div.sk-label input.sk-toggleable__control:checked~label.sk-toggleable__label {background-color: #d4ebff;}#sk-container-id-6 input.sk-hidden--visually {border: 0;clip: rect(1px 1px 1px 1px);clip: rect(1px, 1px, 1px, 1px);height: 1px;margin: -1px;overflow: hidden;padding: 0;position: absolute;width: 1px;}#sk-container-id-6 div.sk-estimator {font-family: monospace;background-color: #f0f8ff;border: 1px dotted black;border-radius: 0.25em;box-sizing: border-box;margin-bottom: 0.5em;}#sk-container-id-6 div.sk-estimator:hover {background-color: #d4ebff;}#sk-container-id-6 div.sk-parallel-item::after {content: \"\";width: 100%;border-bottom: 1px solid gray;flex-grow: 1;}#sk-container-id-6 div.sk-label:hover label.sk-toggleable__label {background-color: #d4ebff;}#sk-container-id-6 div.sk-serial::before {content: \"\";position: absolute;border-left: 1px solid gray;box-sizing: border-box;top: 0;bottom: 0;left: 50%;z-index: 0;}#sk-container-id-6 div.sk-serial {display: flex;flex-direction: column;align-items: center;background-color: white;padding-right: 0.2em;padding-left: 0.2em;position: relative;}#sk-container-id-6 div.sk-item {position: relative;z-index: 1;}#sk-container-id-6 div.sk-parallel {display: flex;align-items: stretch;justify-content: center;background-color: white;position: relative;}#sk-container-id-6 div.sk-item::before, #sk-container-id-6 div.sk-parallel-item::before {content: \"\";position: absolute;border-left: 1px solid gray;box-sizing: border-box;top: 0;bottom: 0;left: 50%;z-index: -1;}#sk-container-id-6 div.sk-parallel-item {display: flex;flex-direction: column;z-index: 1;position: relative;background-color: white;}#sk-container-id-6 div.sk-parallel-item:first-child::after {align-self: flex-end;width: 50%;}#sk-container-id-6 div.sk-parallel-item:last-child::after {align-self: flex-start;width: 50%;}#sk-container-id-6 div.sk-parallel-item:only-child::after {width: 0;}#sk-container-id-6 div.sk-dashed-wrapped {border: 1px dashed gray;margin: 0 0.4em 0.5em 0.4em;box-sizing: border-box;padding-bottom: 0.4em;background-color: white;}#sk-container-id-6 div.sk-label label {font-family: monospace;font-weight: bold;display: inline-block;line-height: 1.2em;}#sk-container-id-6 div.sk-label-container {text-align: center;}#sk-container-id-6 div.sk-container {/* jupyter's `normalize.less` sets `[hidden] { display: none; }` but bootstrap.min.css set `[hidden] { display: none !important; }` so we also need the `!important` here to be able to override the default hidden behavior on the sphinx rendered scikit-learn.org. See: https://github.com/scikit-learn/scikit-learn/issues/21755 */display: inline-block !important;position: relative;}#sk-container-id-6 div.sk-text-repr-fallback {display: none;}</style><div id=\"sk-container-id-6\" class=\"sk-top-container\"><div class=\"sk-text-repr-fallback\"><pre>GridSearchCV(cv=5,\n",
              "             estimator=Pipeline(steps=[(&#x27;preprocessor&#x27;,\n",
              "                                        ColumnTransformer(transformers=[(&#x27;num&#x27;,\n",
              "                                                                         StandardScaler(),\n",
              "                                                                         [&#x27;Number_of_Riders&#x27;,\n",
              "                                                                          &#x27;Number_of_Drivers&#x27;,\n",
              "                                                                          &#x27;Number_of_Past_Rides&#x27;,\n",
              "                                                                          &#x27;Average_Ratings&#x27;,\n",
              "                                                                          &#x27;Expected_Ride_Duration&#x27;]),\n",
              "                                                                        (&#x27;loyl&#x27;,\n",
              "                                                                         OrdinalEncoder(categories=[[&#x27;Regular&#x27;,\n",
              "                                                                                                     &#x27;Silver&#x27;,\n",
              "                                                                                                     &#x27;Gold&#x27;]]),\n",
              "                                                                         [&#x27;Customer_Loyalty_Status&#x27;]),\n",
              "                                                                        (&#x27;vehi&#x27;,\n",
              "                                                                         OrdinalEncoder(categories=[[&#x27;Economy&#x27;,\n",
              "                                                                                                     &#x27;Premium&#x27;]]),\n",
              "                                                                         [&#x27;Vehicle_Type&#x27;]),\n",
              "                                                                        (&#x27;nomi&#x27;,\n",
              "                                                                         OneHotEncoder(),\n",
              "                                                                         [&#x27;Location_Category&#x27;,\n",
              "                                                                          &#x27;Time_of_Booking&#x27;])])),\n",
              "                                       (&#x27;regressor&#x27;,\n",
              "                                        DecisionTreeRegressor(random_state=42))]),\n",
              "             n_jobs=-1,\n",
              "             param_grid={&#x27;regressor__max_depth&#x27;: [3, 6, 9, 12],\n",
              "                         &#x27;regressor__min_samples_leaf&#x27;: [5, 15, 25, 35, 45],\n",
              "                         &#x27;regressor__min_samples_split&#x27;: [10, 35, 60, 85]},\n",
              "             verbose=1)</pre><b>In a Jupyter environment, please rerun this cell to show the HTML representation or trust the notebook. <br />On GitHub, the HTML representation is unable to render, please try loading this page with nbviewer.org.</b></div><div class=\"sk-container\" hidden><div class=\"sk-item sk-dashed-wrapped\"><div class=\"sk-label-container\"><div class=\"sk-label sk-toggleable\"><input class=\"sk-toggleable__control sk-hidden--visually\" id=\"sk-estimator-id-58\" type=\"checkbox\" ><label for=\"sk-estimator-id-58\" class=\"sk-toggleable__label sk-toggleable__label-arrow\">GridSearchCV</label><div class=\"sk-toggleable__content\"><pre>GridSearchCV(cv=5,\n",
              "             estimator=Pipeline(steps=[(&#x27;preprocessor&#x27;,\n",
              "                                        ColumnTransformer(transformers=[(&#x27;num&#x27;,\n",
              "                                                                         StandardScaler(),\n",
              "                                                                         [&#x27;Number_of_Riders&#x27;,\n",
              "                                                                          &#x27;Number_of_Drivers&#x27;,\n",
              "                                                                          &#x27;Number_of_Past_Rides&#x27;,\n",
              "                                                                          &#x27;Average_Ratings&#x27;,\n",
              "                                                                          &#x27;Expected_Ride_Duration&#x27;]),\n",
              "                                                                        (&#x27;loyl&#x27;,\n",
              "                                                                         OrdinalEncoder(categories=[[&#x27;Regular&#x27;,\n",
              "                                                                                                     &#x27;Silver&#x27;,\n",
              "                                                                                                     &#x27;Gold&#x27;]]),\n",
              "                                                                         [&#x27;Customer_Loyalty_Status&#x27;]),\n",
              "                                                                        (&#x27;vehi&#x27;,\n",
              "                                                                         OrdinalEncoder(categories=[[&#x27;Economy&#x27;,\n",
              "                                                                                                     &#x27;Premium&#x27;]]),\n",
              "                                                                         [&#x27;Vehicle_Type&#x27;]),\n",
              "                                                                        (&#x27;nomi&#x27;,\n",
              "                                                                         OneHotEncoder(),\n",
              "                                                                         [&#x27;Location_Category&#x27;,\n",
              "                                                                          &#x27;Time_of_Booking&#x27;])])),\n",
              "                                       (&#x27;regressor&#x27;,\n",
              "                                        DecisionTreeRegressor(random_state=42))]),\n",
              "             n_jobs=-1,\n",
              "             param_grid={&#x27;regressor__max_depth&#x27;: [3, 6, 9, 12],\n",
              "                         &#x27;regressor__min_samples_leaf&#x27;: [5, 15, 25, 35, 45],\n",
              "                         &#x27;regressor__min_samples_split&#x27;: [10, 35, 60, 85]},\n",
              "             verbose=1)</pre></div></div></div><div class=\"sk-parallel\"><div class=\"sk-parallel-item\"><div class=\"sk-item\"><div class=\"sk-label-container\"><div class=\"sk-label sk-toggleable\"><input class=\"sk-toggleable__control sk-hidden--visually\" id=\"sk-estimator-id-59\" type=\"checkbox\" ><label for=\"sk-estimator-id-59\" class=\"sk-toggleable__label sk-toggleable__label-arrow\">estimator: Pipeline</label><div class=\"sk-toggleable__content\"><pre>Pipeline(steps=[(&#x27;preprocessor&#x27;,\n",
              "                 ColumnTransformer(transformers=[(&#x27;num&#x27;, StandardScaler(),\n",
              "                                                  [&#x27;Number_of_Riders&#x27;,\n",
              "                                                   &#x27;Number_of_Drivers&#x27;,\n",
              "                                                   &#x27;Number_of_Past_Rides&#x27;,\n",
              "                                                   &#x27;Average_Ratings&#x27;,\n",
              "                                                   &#x27;Expected_Ride_Duration&#x27;]),\n",
              "                                                 (&#x27;loyl&#x27;,\n",
              "                                                  OrdinalEncoder(categories=[[&#x27;Regular&#x27;,\n",
              "                                                                              &#x27;Silver&#x27;,\n",
              "                                                                              &#x27;Gold&#x27;]]),\n",
              "                                                  [&#x27;Customer_Loyalty_Status&#x27;]),\n",
              "                                                 (&#x27;vehi&#x27;,\n",
              "                                                  OrdinalEncoder(categories=[[&#x27;Economy&#x27;,\n",
              "                                                                              &#x27;Premium&#x27;]]),\n",
              "                                                  [&#x27;Vehicle_Type&#x27;]),\n",
              "                                                 (&#x27;nomi&#x27;, OneHotEncoder(),\n",
              "                                                  [&#x27;Location_Category&#x27;,\n",
              "                                                   &#x27;Time_of_Booking&#x27;])])),\n",
              "                (&#x27;regressor&#x27;, DecisionTreeRegressor(random_state=42))])</pre></div></div></div><div class=\"sk-serial\"><div class=\"sk-item\"><div class=\"sk-serial\"><div class=\"sk-item sk-dashed-wrapped\"><div class=\"sk-label-container\"><div class=\"sk-label sk-toggleable\"><input class=\"sk-toggleable__control sk-hidden--visually\" id=\"sk-estimator-id-60\" type=\"checkbox\" ><label for=\"sk-estimator-id-60\" class=\"sk-toggleable__label sk-toggleable__label-arrow\">preprocessor: ColumnTransformer</label><div class=\"sk-toggleable__content\"><pre>ColumnTransformer(transformers=[(&#x27;num&#x27;, StandardScaler(),\n",
              "                                 [&#x27;Number_of_Riders&#x27;, &#x27;Number_of_Drivers&#x27;,\n",
              "                                  &#x27;Number_of_Past_Rides&#x27;, &#x27;Average_Ratings&#x27;,\n",
              "                                  &#x27;Expected_Ride_Duration&#x27;]),\n",
              "                                (&#x27;loyl&#x27;,\n",
              "                                 OrdinalEncoder(categories=[[&#x27;Regular&#x27;,\n",
              "                                                             &#x27;Silver&#x27;,\n",
              "                                                             &#x27;Gold&#x27;]]),\n",
              "                                 [&#x27;Customer_Loyalty_Status&#x27;]),\n",
              "                                (&#x27;vehi&#x27;,\n",
              "                                 OrdinalEncoder(categories=[[&#x27;Economy&#x27;,\n",
              "                                                             &#x27;Premium&#x27;]]),\n",
              "                                 [&#x27;Vehicle_Type&#x27;]),\n",
              "                                (&#x27;nomi&#x27;, OneHotEncoder(),\n",
              "                                 [&#x27;Location_Category&#x27;, &#x27;Time_of_Booking&#x27;])])</pre></div></div></div><div class=\"sk-parallel\"><div class=\"sk-parallel-item\"><div class=\"sk-item\"><div class=\"sk-label-container\"><div class=\"sk-label sk-toggleable\"><input class=\"sk-toggleable__control sk-hidden--visually\" id=\"sk-estimator-id-61\" type=\"checkbox\" ><label for=\"sk-estimator-id-61\" class=\"sk-toggleable__label sk-toggleable__label-arrow\">num</label><div class=\"sk-toggleable__content\"><pre>[&#x27;Number_of_Riders&#x27;, &#x27;Number_of_Drivers&#x27;, &#x27;Number_of_Past_Rides&#x27;, &#x27;Average_Ratings&#x27;, &#x27;Expected_Ride_Duration&#x27;]</pre></div></div></div><div class=\"sk-serial\"><div class=\"sk-item\"><div class=\"sk-estimator sk-toggleable\"><input class=\"sk-toggleable__control sk-hidden--visually\" id=\"sk-estimator-id-62\" type=\"checkbox\" ><label for=\"sk-estimator-id-62\" class=\"sk-toggleable__label sk-toggleable__label-arrow\">StandardScaler</label><div class=\"sk-toggleable__content\"><pre>StandardScaler()</pre></div></div></div></div></div></div><div class=\"sk-parallel-item\"><div class=\"sk-item\"><div class=\"sk-label-container\"><div class=\"sk-label sk-toggleable\"><input class=\"sk-toggleable__control sk-hidden--visually\" id=\"sk-estimator-id-63\" type=\"checkbox\" ><label for=\"sk-estimator-id-63\" class=\"sk-toggleable__label sk-toggleable__label-arrow\">loyl</label><div class=\"sk-toggleable__content\"><pre>[&#x27;Customer_Loyalty_Status&#x27;]</pre></div></div></div><div class=\"sk-serial\"><div class=\"sk-item\"><div class=\"sk-estimator sk-toggleable\"><input class=\"sk-toggleable__control sk-hidden--visually\" id=\"sk-estimator-id-64\" type=\"checkbox\" ><label for=\"sk-estimator-id-64\" class=\"sk-toggleable__label sk-toggleable__label-arrow\">OrdinalEncoder</label><div class=\"sk-toggleable__content\"><pre>OrdinalEncoder(categories=[[&#x27;Regular&#x27;, &#x27;Silver&#x27;, &#x27;Gold&#x27;]])</pre></div></div></div></div></div></div><div class=\"sk-parallel-item\"><div class=\"sk-item\"><div class=\"sk-label-container\"><div class=\"sk-label sk-toggleable\"><input class=\"sk-toggleable__control sk-hidden--visually\" id=\"sk-estimator-id-65\" type=\"checkbox\" ><label for=\"sk-estimator-id-65\" class=\"sk-toggleable__label sk-toggleable__label-arrow\">vehi</label><div class=\"sk-toggleable__content\"><pre>[&#x27;Vehicle_Type&#x27;]</pre></div></div></div><div class=\"sk-serial\"><div class=\"sk-item\"><div class=\"sk-estimator sk-toggleable\"><input class=\"sk-toggleable__control sk-hidden--visually\" id=\"sk-estimator-id-66\" type=\"checkbox\" ><label for=\"sk-estimator-id-66\" class=\"sk-toggleable__label sk-toggleable__label-arrow\">OrdinalEncoder</label><div class=\"sk-toggleable__content\"><pre>OrdinalEncoder(categories=[[&#x27;Economy&#x27;, &#x27;Premium&#x27;]])</pre></div></div></div></div></div></div><div class=\"sk-parallel-item\"><div class=\"sk-item\"><div class=\"sk-label-container\"><div class=\"sk-label sk-toggleable\"><input class=\"sk-toggleable__control sk-hidden--visually\" id=\"sk-estimator-id-67\" type=\"checkbox\" ><label for=\"sk-estimator-id-67\" class=\"sk-toggleable__label sk-toggleable__label-arrow\">nomi</label><div class=\"sk-toggleable__content\"><pre>[&#x27;Location_Category&#x27;, &#x27;Time_of_Booking&#x27;]</pre></div></div></div><div class=\"sk-serial\"><div class=\"sk-item\"><div class=\"sk-estimator sk-toggleable\"><input class=\"sk-toggleable__control sk-hidden--visually\" id=\"sk-estimator-id-68\" type=\"checkbox\" ><label for=\"sk-estimator-id-68\" class=\"sk-toggleable__label sk-toggleable__label-arrow\">OneHotEncoder</label><div class=\"sk-toggleable__content\"><pre>OneHotEncoder()</pre></div></div></div></div></div></div></div></div><div class=\"sk-item\"><div class=\"sk-estimator sk-toggleable\"><input class=\"sk-toggleable__control sk-hidden--visually\" id=\"sk-estimator-id-69\" type=\"checkbox\" ><label for=\"sk-estimator-id-69\" class=\"sk-toggleable__label sk-toggleable__label-arrow\">DecisionTreeRegressor</label><div class=\"sk-toggleable__content\"><pre>DecisionTreeRegressor(random_state=42)</pre></div></div></div></div></div></div></div></div></div></div></div></div>"
            ]
          },
          "metadata": {},
          "execution_count": 64
        }
      ],
      "source": [
        "# Fitting  GridSearchCV Object\n",
        "DT_grid.fit(X_train, y_train)"
      ]
    },
    {
      "cell_type": "code",
      "execution_count": null,
      "metadata": {
        "colab": {
          "base_uri": "https://localhost:8080/"
        },
        "outputId": "511b78b8-1587-4061-aaed-761bbc4fb818",
        "id": "WCGB_SK1kBdw"
      },
      "outputs": [
        {
          "output_type": "stream",
          "name": "stdout",
          "text": [
            "Best Parameters: {'regressor__max_depth': 9, 'regressor__min_samples_leaf': 5, 'regressor__min_samples_split': 10}\n"
          ]
        }
      ],
      "source": [
        "# Get the best parameters and model from the grid search\n",
        "best_params = DT_grid.best_params_\n",
        "best_model = DT_grid.best_estimator_\n",
        "\n",
        "\n",
        "\n",
        "# Print the best parameters\n",
        "print(\"Best Parameters:\", best_params)\n",
        "\n"
      ]
    },
    {
      "cell_type": "code",
      "execution_count": null,
      "metadata": {
        "colab": {
          "base_uri": "https://localhost:8080/"
        },
        "outputId": "b6a6e6bc-86ef-4129-f167-86d58d3e4998",
        "id": "jxnRT4U7kBdw"
      },
      "outputs": [
        {
          "output_type": "stream",
          "name": "stdout",
          "text": [
            "Decision Tree with tuning: \n",
            "\n",
            "R2 Score (Test): 0.9685\n",
            "R2 Score (Train): 0.9806\n",
            "RMSE (Test): 14.7560\n",
            "RMSE (Train):12.4045\n",
            "\n",
            "\n"
          ]
        }
      ],
      "source": [
        "\n",
        "# Predict on the test data using the best model\n",
        "y_pred_train = best_model.predict(X_test)\n",
        "y_pred_train = best_model.predict(X_train)\n",
        "\n",
        "\n",
        "# Evaluate the model\n",
        "\n",
        "# Calculate R2 scores\n",
        "r2_score_test = r2_score(y_test, y_pred_test)\n",
        "r2_score_train = r2_score(y_train, y_pred_train)\n",
        "\n",
        "# Calculate mean squared error\n",
        "mse_test = mean_squared_error(y_test, y_pred_test)\n",
        "mse_train = mean_squared_error(y_train, y_pred_train)\n",
        "\n",
        "# Print the evaluation metrics\n",
        "print(\"Decision Tree with tuning: \\n\")\n",
        "print(f\"R2 Score (Test): {r2_score_test:.4f}\")\n",
        "print(f\"R2 Score (Train): {r2_score_train:.4f}\")\n",
        "print(f\"RMSE (Test): {np.sqrt(mse_test):.4f}\")\n",
        "print(f\"RMSE (Train):{np.sqrt( mse_train):.4f}\")\n",
        "print(\"\\n\")\n"
      ]
    },
    {
      "cell_type": "code",
      "source": [],
      "metadata": {
        "id": "_1kKxKBgjzav"
      },
      "execution_count": null,
      "outputs": []
    },
    {
      "cell_type": "code",
      "source": [],
      "metadata": {
        "id": "h88xeuLZjzli"
      },
      "execution_count": null,
      "outputs": []
    },
    {
      "cell_type": "code",
      "source": [],
      "metadata": {
        "id": "-O_8tGYVjzvK"
      },
      "execution_count": null,
      "outputs": []
    },
    {
      "cell_type": "markdown",
      "metadata": {
        "id": "3JnXwT7fR6ku"
      },
      "source": [
        "# Random Forest\n",
        "\n",
        "https://www.analyticsvidhya.com/blog/2016/04/tree-based-algorithms-complete-tutorial-scratch-in-python/"
      ]
    },
    {
      "cell_type": "markdown",
      "metadata": {
        "id": "auU-VlMh1ZAH"
      },
      "source": [
        "## Creating the model"
      ]
    },
    {
      "cell_type": "code",
      "execution_count": null,
      "metadata": {
        "id": "bQaVg_CWvCdK"
      },
      "outputs": [],
      "source": [
        "from sklearn.ensemble import RandomForestRegressor\n",
        "pipeline = Pipeline(steps = [('preprocessor', preprocessor),('regressor',RandomForestRegressor(random_state=42)) ])"
      ]
    },
    {
      "cell_type": "code",
      "execution_count": null,
      "metadata": {
        "id": "5a3XzUvGvCgT"
      },
      "outputs": [],
      "source": [
        "RF_model = pipeline.fit(X_train, y_train)"
      ]
    },
    {
      "cell_type": "code",
      "execution_count": null,
      "metadata": {
        "colab": {
          "base_uri": "https://localhost:8080/",
          "height": 194
        },
        "id": "IY-j2POjvCjM",
        "outputId": "4e6e1622-1b8c-41fa-c72d-be53a3622788"
      },
      "outputs": [
        {
          "output_type": "execute_result",
          "data": {
            "text/plain": [
              "Pipeline(steps=[('preprocessor',\n",
              "                 ColumnTransformer(transformers=[('num', StandardScaler(),\n",
              "                                                  ['Number_of_Riders',\n",
              "                                                   'Number_of_Drivers',\n",
              "                                                   'Number_of_Past_Rides',\n",
              "                                                   'Average_Ratings',\n",
              "                                                   'Expected_Ride_Duration']),\n",
              "                                                 ('loyl',\n",
              "                                                  OrdinalEncoder(categories=[['Regular',\n",
              "                                                                              'Silver',\n",
              "                                                                              'Gold']]),\n",
              "                                                  ['Customer_Loyalty_Status']),\n",
              "                                                 ('vehi',\n",
              "                                                  OrdinalEncoder(categories=[['Economy',\n",
              "                                                                              'Premium']]),\n",
              "                                                  ['Vehicle_Type']),\n",
              "                                                 ('nomi', OneHotEncoder(),\n",
              "                                                  ['Location_Category',\n",
              "                                                   'Time_of_Booking'])])),\n",
              "                ('regressor', RandomForestRegressor(random_state=42))])"
            ],
            "text/html": [
              "<style>#sk-container-id-3 {color: black;background-color: white;}#sk-container-id-3 pre{padding: 0;}#sk-container-id-3 div.sk-toggleable {background-color: white;}#sk-container-id-3 label.sk-toggleable__label {cursor: pointer;display: block;width: 100%;margin-bottom: 0;padding: 0.3em;box-sizing: border-box;text-align: center;}#sk-container-id-3 label.sk-toggleable__label-arrow:before {content: \"▸\";float: left;margin-right: 0.25em;color: #696969;}#sk-container-id-3 label.sk-toggleable__label-arrow:hover:before {color: black;}#sk-container-id-3 div.sk-estimator:hover label.sk-toggleable__label-arrow:before {color: black;}#sk-container-id-3 div.sk-toggleable__content {max-height: 0;max-width: 0;overflow: hidden;text-align: left;background-color: #f0f8ff;}#sk-container-id-3 div.sk-toggleable__content pre {margin: 0.2em;color: black;border-radius: 0.25em;background-color: #f0f8ff;}#sk-container-id-3 input.sk-toggleable__control:checked~div.sk-toggleable__content {max-height: 200px;max-width: 100%;overflow: auto;}#sk-container-id-3 input.sk-toggleable__control:checked~label.sk-toggleable__label-arrow:before {content: \"▾\";}#sk-container-id-3 div.sk-estimator input.sk-toggleable__control:checked~label.sk-toggleable__label {background-color: #d4ebff;}#sk-container-id-3 div.sk-label input.sk-toggleable__control:checked~label.sk-toggleable__label {background-color: #d4ebff;}#sk-container-id-3 input.sk-hidden--visually {border: 0;clip: rect(1px 1px 1px 1px);clip: rect(1px, 1px, 1px, 1px);height: 1px;margin: -1px;overflow: hidden;padding: 0;position: absolute;width: 1px;}#sk-container-id-3 div.sk-estimator {font-family: monospace;background-color: #f0f8ff;border: 1px dotted black;border-radius: 0.25em;box-sizing: border-box;margin-bottom: 0.5em;}#sk-container-id-3 div.sk-estimator:hover {background-color: #d4ebff;}#sk-container-id-3 div.sk-parallel-item::after {content: \"\";width: 100%;border-bottom: 1px solid gray;flex-grow: 1;}#sk-container-id-3 div.sk-label:hover label.sk-toggleable__label {background-color: #d4ebff;}#sk-container-id-3 div.sk-serial::before {content: \"\";position: absolute;border-left: 1px solid gray;box-sizing: border-box;top: 0;bottom: 0;left: 50%;z-index: 0;}#sk-container-id-3 div.sk-serial {display: flex;flex-direction: column;align-items: center;background-color: white;padding-right: 0.2em;padding-left: 0.2em;position: relative;}#sk-container-id-3 div.sk-item {position: relative;z-index: 1;}#sk-container-id-3 div.sk-parallel {display: flex;align-items: stretch;justify-content: center;background-color: white;position: relative;}#sk-container-id-3 div.sk-item::before, #sk-container-id-3 div.sk-parallel-item::before {content: \"\";position: absolute;border-left: 1px solid gray;box-sizing: border-box;top: 0;bottom: 0;left: 50%;z-index: -1;}#sk-container-id-3 div.sk-parallel-item {display: flex;flex-direction: column;z-index: 1;position: relative;background-color: white;}#sk-container-id-3 div.sk-parallel-item:first-child::after {align-self: flex-end;width: 50%;}#sk-container-id-3 div.sk-parallel-item:last-child::after {align-self: flex-start;width: 50%;}#sk-container-id-3 div.sk-parallel-item:only-child::after {width: 0;}#sk-container-id-3 div.sk-dashed-wrapped {border: 1px dashed gray;margin: 0 0.4em 0.5em 0.4em;box-sizing: border-box;padding-bottom: 0.4em;background-color: white;}#sk-container-id-3 div.sk-label label {font-family: monospace;font-weight: bold;display: inline-block;line-height: 1.2em;}#sk-container-id-3 div.sk-label-container {text-align: center;}#sk-container-id-3 div.sk-container {/* jupyter's `normalize.less` sets `[hidden] { display: none; }` but bootstrap.min.css set `[hidden] { display: none !important; }` so we also need the `!important` here to be able to override the default hidden behavior on the sphinx rendered scikit-learn.org. See: https://github.com/scikit-learn/scikit-learn/issues/21755 */display: inline-block !important;position: relative;}#sk-container-id-3 div.sk-text-repr-fallback {display: none;}</style><div id=\"sk-container-id-3\" class=\"sk-top-container\"><div class=\"sk-text-repr-fallback\"><pre>Pipeline(steps=[(&#x27;preprocessor&#x27;,\n",
              "                 ColumnTransformer(transformers=[(&#x27;num&#x27;, StandardScaler(),\n",
              "                                                  [&#x27;Number_of_Riders&#x27;,\n",
              "                                                   &#x27;Number_of_Drivers&#x27;,\n",
              "                                                   &#x27;Number_of_Past_Rides&#x27;,\n",
              "                                                   &#x27;Average_Ratings&#x27;,\n",
              "                                                   &#x27;Expected_Ride_Duration&#x27;]),\n",
              "                                                 (&#x27;loyl&#x27;,\n",
              "                                                  OrdinalEncoder(categories=[[&#x27;Regular&#x27;,\n",
              "                                                                              &#x27;Silver&#x27;,\n",
              "                                                                              &#x27;Gold&#x27;]]),\n",
              "                                                  [&#x27;Customer_Loyalty_Status&#x27;]),\n",
              "                                                 (&#x27;vehi&#x27;,\n",
              "                                                  OrdinalEncoder(categories=[[&#x27;Economy&#x27;,\n",
              "                                                                              &#x27;Premium&#x27;]]),\n",
              "                                                  [&#x27;Vehicle_Type&#x27;]),\n",
              "                                                 (&#x27;nomi&#x27;, OneHotEncoder(),\n",
              "                                                  [&#x27;Location_Category&#x27;,\n",
              "                                                   &#x27;Time_of_Booking&#x27;])])),\n",
              "                (&#x27;regressor&#x27;, RandomForestRegressor(random_state=42))])</pre><b>In a Jupyter environment, please rerun this cell to show the HTML representation or trust the notebook. <br />On GitHub, the HTML representation is unable to render, please try loading this page with nbviewer.org.</b></div><div class=\"sk-container\" hidden><div class=\"sk-item sk-dashed-wrapped\"><div class=\"sk-label-container\"><div class=\"sk-label sk-toggleable\"><input class=\"sk-toggleable__control sk-hidden--visually\" id=\"sk-estimator-id-24\" type=\"checkbox\" ><label for=\"sk-estimator-id-24\" class=\"sk-toggleable__label sk-toggleable__label-arrow\">Pipeline</label><div class=\"sk-toggleable__content\"><pre>Pipeline(steps=[(&#x27;preprocessor&#x27;,\n",
              "                 ColumnTransformer(transformers=[(&#x27;num&#x27;, StandardScaler(),\n",
              "                                                  [&#x27;Number_of_Riders&#x27;,\n",
              "                                                   &#x27;Number_of_Drivers&#x27;,\n",
              "                                                   &#x27;Number_of_Past_Rides&#x27;,\n",
              "                                                   &#x27;Average_Ratings&#x27;,\n",
              "                                                   &#x27;Expected_Ride_Duration&#x27;]),\n",
              "                                                 (&#x27;loyl&#x27;,\n",
              "                                                  OrdinalEncoder(categories=[[&#x27;Regular&#x27;,\n",
              "                                                                              &#x27;Silver&#x27;,\n",
              "                                                                              &#x27;Gold&#x27;]]),\n",
              "                                                  [&#x27;Customer_Loyalty_Status&#x27;]),\n",
              "                                                 (&#x27;vehi&#x27;,\n",
              "                                                  OrdinalEncoder(categories=[[&#x27;Economy&#x27;,\n",
              "                                                                              &#x27;Premium&#x27;]]),\n",
              "                                                  [&#x27;Vehicle_Type&#x27;]),\n",
              "                                                 (&#x27;nomi&#x27;, OneHotEncoder(),\n",
              "                                                  [&#x27;Location_Category&#x27;,\n",
              "                                                   &#x27;Time_of_Booking&#x27;])])),\n",
              "                (&#x27;regressor&#x27;, RandomForestRegressor(random_state=42))])</pre></div></div></div><div class=\"sk-serial\"><div class=\"sk-item sk-dashed-wrapped\"><div class=\"sk-label-container\"><div class=\"sk-label sk-toggleable\"><input class=\"sk-toggleable__control sk-hidden--visually\" id=\"sk-estimator-id-25\" type=\"checkbox\" ><label for=\"sk-estimator-id-25\" class=\"sk-toggleable__label sk-toggleable__label-arrow\">preprocessor: ColumnTransformer</label><div class=\"sk-toggleable__content\"><pre>ColumnTransformer(transformers=[(&#x27;num&#x27;, StandardScaler(),\n",
              "                                 [&#x27;Number_of_Riders&#x27;, &#x27;Number_of_Drivers&#x27;,\n",
              "                                  &#x27;Number_of_Past_Rides&#x27;, &#x27;Average_Ratings&#x27;,\n",
              "                                  &#x27;Expected_Ride_Duration&#x27;]),\n",
              "                                (&#x27;loyl&#x27;,\n",
              "                                 OrdinalEncoder(categories=[[&#x27;Regular&#x27;,\n",
              "                                                             &#x27;Silver&#x27;,\n",
              "                                                             &#x27;Gold&#x27;]]),\n",
              "                                 [&#x27;Customer_Loyalty_Status&#x27;]),\n",
              "                                (&#x27;vehi&#x27;,\n",
              "                                 OrdinalEncoder(categories=[[&#x27;Economy&#x27;,\n",
              "                                                             &#x27;Premium&#x27;]]),\n",
              "                                 [&#x27;Vehicle_Type&#x27;]),\n",
              "                                (&#x27;nomi&#x27;, OneHotEncoder(),\n",
              "                                 [&#x27;Location_Category&#x27;, &#x27;Time_of_Booking&#x27;])])</pre></div></div></div><div class=\"sk-parallel\"><div class=\"sk-parallel-item\"><div class=\"sk-item\"><div class=\"sk-label-container\"><div class=\"sk-label sk-toggleable\"><input class=\"sk-toggleable__control sk-hidden--visually\" id=\"sk-estimator-id-26\" type=\"checkbox\" ><label for=\"sk-estimator-id-26\" class=\"sk-toggleable__label sk-toggleable__label-arrow\">num</label><div class=\"sk-toggleable__content\"><pre>[&#x27;Number_of_Riders&#x27;, &#x27;Number_of_Drivers&#x27;, &#x27;Number_of_Past_Rides&#x27;, &#x27;Average_Ratings&#x27;, &#x27;Expected_Ride_Duration&#x27;]</pre></div></div></div><div class=\"sk-serial\"><div class=\"sk-item\"><div class=\"sk-estimator sk-toggleable\"><input class=\"sk-toggleable__control sk-hidden--visually\" id=\"sk-estimator-id-27\" type=\"checkbox\" ><label for=\"sk-estimator-id-27\" class=\"sk-toggleable__label sk-toggleable__label-arrow\">StandardScaler</label><div class=\"sk-toggleable__content\"><pre>StandardScaler()</pre></div></div></div></div></div></div><div class=\"sk-parallel-item\"><div class=\"sk-item\"><div class=\"sk-label-container\"><div class=\"sk-label sk-toggleable\"><input class=\"sk-toggleable__control sk-hidden--visually\" id=\"sk-estimator-id-28\" type=\"checkbox\" ><label for=\"sk-estimator-id-28\" class=\"sk-toggleable__label sk-toggleable__label-arrow\">loyl</label><div class=\"sk-toggleable__content\"><pre>[&#x27;Customer_Loyalty_Status&#x27;]</pre></div></div></div><div class=\"sk-serial\"><div class=\"sk-item\"><div class=\"sk-estimator sk-toggleable\"><input class=\"sk-toggleable__control sk-hidden--visually\" id=\"sk-estimator-id-29\" type=\"checkbox\" ><label for=\"sk-estimator-id-29\" class=\"sk-toggleable__label sk-toggleable__label-arrow\">OrdinalEncoder</label><div class=\"sk-toggleable__content\"><pre>OrdinalEncoder(categories=[[&#x27;Regular&#x27;, &#x27;Silver&#x27;, &#x27;Gold&#x27;]])</pre></div></div></div></div></div></div><div class=\"sk-parallel-item\"><div class=\"sk-item\"><div class=\"sk-label-container\"><div class=\"sk-label sk-toggleable\"><input class=\"sk-toggleable__control sk-hidden--visually\" id=\"sk-estimator-id-30\" type=\"checkbox\" ><label for=\"sk-estimator-id-30\" class=\"sk-toggleable__label sk-toggleable__label-arrow\">vehi</label><div class=\"sk-toggleable__content\"><pre>[&#x27;Vehicle_Type&#x27;]</pre></div></div></div><div class=\"sk-serial\"><div class=\"sk-item\"><div class=\"sk-estimator sk-toggleable\"><input class=\"sk-toggleable__control sk-hidden--visually\" id=\"sk-estimator-id-31\" type=\"checkbox\" ><label for=\"sk-estimator-id-31\" class=\"sk-toggleable__label sk-toggleable__label-arrow\">OrdinalEncoder</label><div class=\"sk-toggleable__content\"><pre>OrdinalEncoder(categories=[[&#x27;Economy&#x27;, &#x27;Premium&#x27;]])</pre></div></div></div></div></div></div><div class=\"sk-parallel-item\"><div class=\"sk-item\"><div class=\"sk-label-container\"><div class=\"sk-label sk-toggleable\"><input class=\"sk-toggleable__control sk-hidden--visually\" id=\"sk-estimator-id-32\" type=\"checkbox\" ><label for=\"sk-estimator-id-32\" class=\"sk-toggleable__label sk-toggleable__label-arrow\">nomi</label><div class=\"sk-toggleable__content\"><pre>[&#x27;Location_Category&#x27;, &#x27;Time_of_Booking&#x27;]</pre></div></div></div><div class=\"sk-serial\"><div class=\"sk-item\"><div class=\"sk-estimator sk-toggleable\"><input class=\"sk-toggleable__control sk-hidden--visually\" id=\"sk-estimator-id-33\" type=\"checkbox\" ><label for=\"sk-estimator-id-33\" class=\"sk-toggleable__label sk-toggleable__label-arrow\">OneHotEncoder</label><div class=\"sk-toggleable__content\"><pre>OneHotEncoder()</pre></div></div></div></div></div></div></div></div><div class=\"sk-item\"><div class=\"sk-estimator sk-toggleable\"><input class=\"sk-toggleable__control sk-hidden--visually\" id=\"sk-estimator-id-34\" type=\"checkbox\" ><label for=\"sk-estimator-id-34\" class=\"sk-toggleable__label sk-toggleable__label-arrow\">RandomForestRegressor</label><div class=\"sk-toggleable__content\"><pre>RandomForestRegressor(random_state=42)</pre></div></div></div></div></div></div></div>"
            ]
          },
          "metadata": {},
          "execution_count": 49
        }
      ],
      "source": [
        "RF_model"
      ]
    },
    {
      "cell_type": "markdown",
      "metadata": {
        "id": "2fCaLkmE1-e0"
      },
      "source": [
        "# model accuracy without tuning"
      ]
    },
    {
      "cell_type": "code",
      "execution_count": null,
      "metadata": {
        "id": "OOrY0iK8vCnK"
      },
      "outputs": [],
      "source": [
        "from sklearn.metrics import r2_score\n",
        "from sklearn.metrics import mean_squared_error\n",
        "\n"
      ]
    },
    {
      "cell_type": "code",
      "execution_count": null,
      "metadata": {
        "colab": {
          "base_uri": "https://localhost:8080/"
        },
        "id": "skYFI7-A2wjJ",
        "outputId": "40345605-587f-4e49-aa32-36d6713f046e"
      },
      "outputs": [
        {
          "output_type": "stream",
          "name": "stdout",
          "text": [
            "Random Forest w/o tuning: \n",
            "\n",
            "R2 Score (Test): 0.9775\n",
            "R2 Score (Train): 0.9959\n",
            "RMSE (Test): 12.4626\n",
            "RMSE (Train):5.6957\n",
            "\n",
            "\n"
          ]
        }
      ],
      "source": [
        "y_pred_test = RF_model.predict(X_test)\n",
        "y_pred_train = RF_model.predict(X_train)\n",
        "\n",
        "# Evaluate the model\n",
        "\n",
        "# Calculate R2 scores\n",
        "r2_score_test = r2_score(y_test, y_pred_test)\n",
        "r2_score_train = r2_score(y_train, y_pred_train)\n",
        "\n",
        "# Calculate mean squared error\n",
        "mse_test = mean_squared_error(y_test, y_pred_test)\n",
        "mse_train = mean_squared_error(y_train, y_pred_train)\n",
        "\n",
        "# Print the evaluation metrics\n",
        "print(\"Random Forest w/o tuning: \\n\")\n",
        "print(f\"R2 Score (Test): {r2_score_test:.4f}\")\n",
        "print(f\"R2 Score (Train): {r2_score_train:.4f}\")\n",
        "print(f\"RMSE (Test): {np.sqrt(mse_test):.4f}\")\n",
        "print(f\"RMSE (Train):{np.sqrt( mse_train):.4f}\")\n",
        "print(\"\\n\")\n"
      ]
    },
    {
      "cell_type": "markdown",
      "metadata": {
        "id": "oYuIPIa2SFEU"
      },
      "source": [
        "## Gridsearch"
      ]
    },
    {
      "cell_type": "code",
      "execution_count": null,
      "metadata": {
        "id": "d1jvwtf_vCuc",
        "cellView": "form"
      },
      "outputs": [],
      "source": [
        "# @title\n",
        "from sklearn.model_selection import GridSearchCV\n",
        "\n",
        "params = {\n",
        "    'regressor__n_estimators' : [50,100,150],\n",
        "    'regressor__max_features' : ['sqrt',0.7,'log2'],\n",
        "    'regressor__max_depth' : [5,10,15],\n",
        "    'regressor__min_samples_split' : [30,50,100],\n",
        "    'regressor__min_samples_leaf' : [15,25,35]\n",
        "\n",
        "}"
      ]
    },
    {
      "cell_type": "code",
      "source": [
        "from sklearn.model_selection import GridSearchCV\n",
        "\n",
        "params = {\n",
        "    'regressor__n_estimators' : list(range(100,180,20)),\n",
        "    'regressor__max_features' : ['auto','sqrt',0.7],\n",
        "    'regressor__max_depth' : list(range(5,15,5)),\n",
        "    'regressor__min_samples_split' : list(range(10,100,50)),\n",
        "    'regressor__min_samples_leaf' : list(range(5,50,10))\n",
        "\n",
        "}"
      ],
      "metadata": {
        "id": "WIYJxEEib4zw"
      },
      "execution_count": null,
      "outputs": []
    },
    {
      "cell_type": "code",
      "execution_count": null,
      "metadata": {
        "id": "YFd7_Mq9vCxx"
      },
      "outputs": [],
      "source": [
        "RF_grid = GridSearchCV(estimator= pipeline, param_grid=params, cv=5, n_jobs=-1, verbose=1)"
      ]
    },
    {
      "cell_type": "code",
      "execution_count": null,
      "metadata": {
        "colab": {
          "base_uri": "https://localhost:8080/",
          "height": 293
        },
        "id": "NDy0fGq_vC4x",
        "outputId": "e0609476-7e21-46d9-b157-1ed4f3c73ffe"
      },
      "outputs": [
        {
          "output_type": "stream",
          "name": "stdout",
          "text": [
            "Fitting 5 folds for each of 240 candidates, totalling 1200 fits\n"
          ]
        },
        {
          "output_type": "stream",
          "name": "stderr",
          "text": [
            "/usr/local/lib/python3.10/dist-packages/sklearn/ensemble/_forest.py:413: FutureWarning: `max_features='auto'` has been deprecated in 1.1 and will be removed in 1.3. To keep the past behaviour, explicitly set `max_features=1.0` or remove this parameter as it is also the default value for RandomForestRegressors and ExtraTreesRegressors.\n",
            "  warn(\n"
          ]
        },
        {
          "output_type": "execute_result",
          "data": {
            "text/plain": [
              "GridSearchCV(cv=5,\n",
              "             estimator=Pipeline(steps=[('preprocessor',\n",
              "                                        ColumnTransformer(transformers=[('num',\n",
              "                                                                         StandardScaler(),\n",
              "                                                                         ['Number_of_Riders',\n",
              "                                                                          'Number_of_Drivers',\n",
              "                                                                          'Number_of_Past_Rides',\n",
              "                                                                          'Average_Ratings',\n",
              "                                                                          'Expected_Ride_Duration']),\n",
              "                                                                        ('loyl',\n",
              "                                                                         OrdinalEncoder(categories=[['Regular',\n",
              "                                                                                                     'Silver',\n",
              "                                                                                                     'Gold']]),\n",
              "                                                                         ['Customer_Loyalty_Status']),\n",
              "                                                                        ('vehi',\n",
              "                                                                         OrdinalEncoder(categorie...\n",
              "                                                                         OneHotEncoder(),\n",
              "                                                                         ['Location_Category',\n",
              "                                                                          'Time_of_Booking'])])),\n",
              "                                       ('regressor',\n",
              "                                        RandomForestRegressor(random_state=42))]),\n",
              "             n_jobs=-1,\n",
              "             param_grid={'regressor__max_depth': [5, 10],\n",
              "                         'regressor__max_features': ['auto', 'sqrt', 0.7],\n",
              "                         'regressor__min_samples_leaf': [5, 15, 25, 35, 45],\n",
              "                         'regressor__min_samples_split': [10, 60],\n",
              "                         'regressor__n_estimators': [100, 120, 140, 160]},\n",
              "             verbose=1)"
            ],
            "text/html": [
              "<style>#sk-container-id-4 {color: black;background-color: white;}#sk-container-id-4 pre{padding: 0;}#sk-container-id-4 div.sk-toggleable {background-color: white;}#sk-container-id-4 label.sk-toggleable__label {cursor: pointer;display: block;width: 100%;margin-bottom: 0;padding: 0.3em;box-sizing: border-box;text-align: center;}#sk-container-id-4 label.sk-toggleable__label-arrow:before {content: \"▸\";float: left;margin-right: 0.25em;color: #696969;}#sk-container-id-4 label.sk-toggleable__label-arrow:hover:before {color: black;}#sk-container-id-4 div.sk-estimator:hover label.sk-toggleable__label-arrow:before {color: black;}#sk-container-id-4 div.sk-toggleable__content {max-height: 0;max-width: 0;overflow: hidden;text-align: left;background-color: #f0f8ff;}#sk-container-id-4 div.sk-toggleable__content pre {margin: 0.2em;color: black;border-radius: 0.25em;background-color: #f0f8ff;}#sk-container-id-4 input.sk-toggleable__control:checked~div.sk-toggleable__content {max-height: 200px;max-width: 100%;overflow: auto;}#sk-container-id-4 input.sk-toggleable__control:checked~label.sk-toggleable__label-arrow:before {content: \"▾\";}#sk-container-id-4 div.sk-estimator input.sk-toggleable__control:checked~label.sk-toggleable__label {background-color: #d4ebff;}#sk-container-id-4 div.sk-label input.sk-toggleable__control:checked~label.sk-toggleable__label {background-color: #d4ebff;}#sk-container-id-4 input.sk-hidden--visually {border: 0;clip: rect(1px 1px 1px 1px);clip: rect(1px, 1px, 1px, 1px);height: 1px;margin: -1px;overflow: hidden;padding: 0;position: absolute;width: 1px;}#sk-container-id-4 div.sk-estimator {font-family: monospace;background-color: #f0f8ff;border: 1px dotted black;border-radius: 0.25em;box-sizing: border-box;margin-bottom: 0.5em;}#sk-container-id-4 div.sk-estimator:hover {background-color: #d4ebff;}#sk-container-id-4 div.sk-parallel-item::after {content: \"\";width: 100%;border-bottom: 1px solid gray;flex-grow: 1;}#sk-container-id-4 div.sk-label:hover label.sk-toggleable__label {background-color: #d4ebff;}#sk-container-id-4 div.sk-serial::before {content: \"\";position: absolute;border-left: 1px solid gray;box-sizing: border-box;top: 0;bottom: 0;left: 50%;z-index: 0;}#sk-container-id-4 div.sk-serial {display: flex;flex-direction: column;align-items: center;background-color: white;padding-right: 0.2em;padding-left: 0.2em;position: relative;}#sk-container-id-4 div.sk-item {position: relative;z-index: 1;}#sk-container-id-4 div.sk-parallel {display: flex;align-items: stretch;justify-content: center;background-color: white;position: relative;}#sk-container-id-4 div.sk-item::before, #sk-container-id-4 div.sk-parallel-item::before {content: \"\";position: absolute;border-left: 1px solid gray;box-sizing: border-box;top: 0;bottom: 0;left: 50%;z-index: -1;}#sk-container-id-4 div.sk-parallel-item {display: flex;flex-direction: column;z-index: 1;position: relative;background-color: white;}#sk-container-id-4 div.sk-parallel-item:first-child::after {align-self: flex-end;width: 50%;}#sk-container-id-4 div.sk-parallel-item:last-child::after {align-self: flex-start;width: 50%;}#sk-container-id-4 div.sk-parallel-item:only-child::after {width: 0;}#sk-container-id-4 div.sk-dashed-wrapped {border: 1px dashed gray;margin: 0 0.4em 0.5em 0.4em;box-sizing: border-box;padding-bottom: 0.4em;background-color: white;}#sk-container-id-4 div.sk-label label {font-family: monospace;font-weight: bold;display: inline-block;line-height: 1.2em;}#sk-container-id-4 div.sk-label-container {text-align: center;}#sk-container-id-4 div.sk-container {/* jupyter's `normalize.less` sets `[hidden] { display: none; }` but bootstrap.min.css set `[hidden] { display: none !important; }` so we also need the `!important` here to be able to override the default hidden behavior on the sphinx rendered scikit-learn.org. See: https://github.com/scikit-learn/scikit-learn/issues/21755 */display: inline-block !important;position: relative;}#sk-container-id-4 div.sk-text-repr-fallback {display: none;}</style><div id=\"sk-container-id-4\" class=\"sk-top-container\"><div class=\"sk-text-repr-fallback\"><pre>GridSearchCV(cv=5,\n",
              "             estimator=Pipeline(steps=[(&#x27;preprocessor&#x27;,\n",
              "                                        ColumnTransformer(transformers=[(&#x27;num&#x27;,\n",
              "                                                                         StandardScaler(),\n",
              "                                                                         [&#x27;Number_of_Riders&#x27;,\n",
              "                                                                          &#x27;Number_of_Drivers&#x27;,\n",
              "                                                                          &#x27;Number_of_Past_Rides&#x27;,\n",
              "                                                                          &#x27;Average_Ratings&#x27;,\n",
              "                                                                          &#x27;Expected_Ride_Duration&#x27;]),\n",
              "                                                                        (&#x27;loyl&#x27;,\n",
              "                                                                         OrdinalEncoder(categories=[[&#x27;Regular&#x27;,\n",
              "                                                                                                     &#x27;Silver&#x27;,\n",
              "                                                                                                     &#x27;Gold&#x27;]]),\n",
              "                                                                         [&#x27;Customer_Loyalty_Status&#x27;]),\n",
              "                                                                        (&#x27;vehi&#x27;,\n",
              "                                                                         OrdinalEncoder(categorie...\n",
              "                                                                         OneHotEncoder(),\n",
              "                                                                         [&#x27;Location_Category&#x27;,\n",
              "                                                                          &#x27;Time_of_Booking&#x27;])])),\n",
              "                                       (&#x27;regressor&#x27;,\n",
              "                                        RandomForestRegressor(random_state=42))]),\n",
              "             n_jobs=-1,\n",
              "             param_grid={&#x27;regressor__max_depth&#x27;: [5, 10],\n",
              "                         &#x27;regressor__max_features&#x27;: [&#x27;auto&#x27;, &#x27;sqrt&#x27;, 0.7],\n",
              "                         &#x27;regressor__min_samples_leaf&#x27;: [5, 15, 25, 35, 45],\n",
              "                         &#x27;regressor__min_samples_split&#x27;: [10, 60],\n",
              "                         &#x27;regressor__n_estimators&#x27;: [100, 120, 140, 160]},\n",
              "             verbose=1)</pre><b>In a Jupyter environment, please rerun this cell to show the HTML representation or trust the notebook. <br />On GitHub, the HTML representation is unable to render, please try loading this page with nbviewer.org.</b></div><div class=\"sk-container\" hidden><div class=\"sk-item sk-dashed-wrapped\"><div class=\"sk-label-container\"><div class=\"sk-label sk-toggleable\"><input class=\"sk-toggleable__control sk-hidden--visually\" id=\"sk-estimator-id-35\" type=\"checkbox\" ><label for=\"sk-estimator-id-35\" class=\"sk-toggleable__label sk-toggleable__label-arrow\">GridSearchCV</label><div class=\"sk-toggleable__content\"><pre>GridSearchCV(cv=5,\n",
              "             estimator=Pipeline(steps=[(&#x27;preprocessor&#x27;,\n",
              "                                        ColumnTransformer(transformers=[(&#x27;num&#x27;,\n",
              "                                                                         StandardScaler(),\n",
              "                                                                         [&#x27;Number_of_Riders&#x27;,\n",
              "                                                                          &#x27;Number_of_Drivers&#x27;,\n",
              "                                                                          &#x27;Number_of_Past_Rides&#x27;,\n",
              "                                                                          &#x27;Average_Ratings&#x27;,\n",
              "                                                                          &#x27;Expected_Ride_Duration&#x27;]),\n",
              "                                                                        (&#x27;loyl&#x27;,\n",
              "                                                                         OrdinalEncoder(categories=[[&#x27;Regular&#x27;,\n",
              "                                                                                                     &#x27;Silver&#x27;,\n",
              "                                                                                                     &#x27;Gold&#x27;]]),\n",
              "                                                                         [&#x27;Customer_Loyalty_Status&#x27;]),\n",
              "                                                                        (&#x27;vehi&#x27;,\n",
              "                                                                         OrdinalEncoder(categorie...\n",
              "                                                                         OneHotEncoder(),\n",
              "                                                                         [&#x27;Location_Category&#x27;,\n",
              "                                                                          &#x27;Time_of_Booking&#x27;])])),\n",
              "                                       (&#x27;regressor&#x27;,\n",
              "                                        RandomForestRegressor(random_state=42))]),\n",
              "             n_jobs=-1,\n",
              "             param_grid={&#x27;regressor__max_depth&#x27;: [5, 10],\n",
              "                         &#x27;regressor__max_features&#x27;: [&#x27;auto&#x27;, &#x27;sqrt&#x27;, 0.7],\n",
              "                         &#x27;regressor__min_samples_leaf&#x27;: [5, 15, 25, 35, 45],\n",
              "                         &#x27;regressor__min_samples_split&#x27;: [10, 60],\n",
              "                         &#x27;regressor__n_estimators&#x27;: [100, 120, 140, 160]},\n",
              "             verbose=1)</pre></div></div></div><div class=\"sk-parallel\"><div class=\"sk-parallel-item\"><div class=\"sk-item\"><div class=\"sk-label-container\"><div class=\"sk-label sk-toggleable\"><input class=\"sk-toggleable__control sk-hidden--visually\" id=\"sk-estimator-id-36\" type=\"checkbox\" ><label for=\"sk-estimator-id-36\" class=\"sk-toggleable__label sk-toggleable__label-arrow\">estimator: Pipeline</label><div class=\"sk-toggleable__content\"><pre>Pipeline(steps=[(&#x27;preprocessor&#x27;,\n",
              "                 ColumnTransformer(transformers=[(&#x27;num&#x27;, StandardScaler(),\n",
              "                                                  [&#x27;Number_of_Riders&#x27;,\n",
              "                                                   &#x27;Number_of_Drivers&#x27;,\n",
              "                                                   &#x27;Number_of_Past_Rides&#x27;,\n",
              "                                                   &#x27;Average_Ratings&#x27;,\n",
              "                                                   &#x27;Expected_Ride_Duration&#x27;]),\n",
              "                                                 (&#x27;loyl&#x27;,\n",
              "                                                  OrdinalEncoder(categories=[[&#x27;Regular&#x27;,\n",
              "                                                                              &#x27;Silver&#x27;,\n",
              "                                                                              &#x27;Gold&#x27;]]),\n",
              "                                                  [&#x27;Customer_Loyalty_Status&#x27;]),\n",
              "                                                 (&#x27;vehi&#x27;,\n",
              "                                                  OrdinalEncoder(categories=[[&#x27;Economy&#x27;,\n",
              "                                                                              &#x27;Premium&#x27;]]),\n",
              "                                                  [&#x27;Vehicle_Type&#x27;]),\n",
              "                                                 (&#x27;nomi&#x27;, OneHotEncoder(),\n",
              "                                                  [&#x27;Location_Category&#x27;,\n",
              "                                                   &#x27;Time_of_Booking&#x27;])])),\n",
              "                (&#x27;regressor&#x27;, RandomForestRegressor(random_state=42))])</pre></div></div></div><div class=\"sk-serial\"><div class=\"sk-item\"><div class=\"sk-serial\"><div class=\"sk-item sk-dashed-wrapped\"><div class=\"sk-label-container\"><div class=\"sk-label sk-toggleable\"><input class=\"sk-toggleable__control sk-hidden--visually\" id=\"sk-estimator-id-37\" type=\"checkbox\" ><label for=\"sk-estimator-id-37\" class=\"sk-toggleable__label sk-toggleable__label-arrow\">preprocessor: ColumnTransformer</label><div class=\"sk-toggleable__content\"><pre>ColumnTransformer(transformers=[(&#x27;num&#x27;, StandardScaler(),\n",
              "                                 [&#x27;Number_of_Riders&#x27;, &#x27;Number_of_Drivers&#x27;,\n",
              "                                  &#x27;Number_of_Past_Rides&#x27;, &#x27;Average_Ratings&#x27;,\n",
              "                                  &#x27;Expected_Ride_Duration&#x27;]),\n",
              "                                (&#x27;loyl&#x27;,\n",
              "                                 OrdinalEncoder(categories=[[&#x27;Regular&#x27;,\n",
              "                                                             &#x27;Silver&#x27;,\n",
              "                                                             &#x27;Gold&#x27;]]),\n",
              "                                 [&#x27;Customer_Loyalty_Status&#x27;]),\n",
              "                                (&#x27;vehi&#x27;,\n",
              "                                 OrdinalEncoder(categories=[[&#x27;Economy&#x27;,\n",
              "                                                             &#x27;Premium&#x27;]]),\n",
              "                                 [&#x27;Vehicle_Type&#x27;]),\n",
              "                                (&#x27;nomi&#x27;, OneHotEncoder(),\n",
              "                                 [&#x27;Location_Category&#x27;, &#x27;Time_of_Booking&#x27;])])</pre></div></div></div><div class=\"sk-parallel\"><div class=\"sk-parallel-item\"><div class=\"sk-item\"><div class=\"sk-label-container\"><div class=\"sk-label sk-toggleable\"><input class=\"sk-toggleable__control sk-hidden--visually\" id=\"sk-estimator-id-38\" type=\"checkbox\" ><label for=\"sk-estimator-id-38\" class=\"sk-toggleable__label sk-toggleable__label-arrow\">num</label><div class=\"sk-toggleable__content\"><pre>[&#x27;Number_of_Riders&#x27;, &#x27;Number_of_Drivers&#x27;, &#x27;Number_of_Past_Rides&#x27;, &#x27;Average_Ratings&#x27;, &#x27;Expected_Ride_Duration&#x27;]</pre></div></div></div><div class=\"sk-serial\"><div class=\"sk-item\"><div class=\"sk-estimator sk-toggleable\"><input class=\"sk-toggleable__control sk-hidden--visually\" id=\"sk-estimator-id-39\" type=\"checkbox\" ><label for=\"sk-estimator-id-39\" class=\"sk-toggleable__label sk-toggleable__label-arrow\">StandardScaler</label><div class=\"sk-toggleable__content\"><pre>StandardScaler()</pre></div></div></div></div></div></div><div class=\"sk-parallel-item\"><div class=\"sk-item\"><div class=\"sk-label-container\"><div class=\"sk-label sk-toggleable\"><input class=\"sk-toggleable__control sk-hidden--visually\" id=\"sk-estimator-id-40\" type=\"checkbox\" ><label for=\"sk-estimator-id-40\" class=\"sk-toggleable__label sk-toggleable__label-arrow\">loyl</label><div class=\"sk-toggleable__content\"><pre>[&#x27;Customer_Loyalty_Status&#x27;]</pre></div></div></div><div class=\"sk-serial\"><div class=\"sk-item\"><div class=\"sk-estimator sk-toggleable\"><input class=\"sk-toggleable__control sk-hidden--visually\" id=\"sk-estimator-id-41\" type=\"checkbox\" ><label for=\"sk-estimator-id-41\" class=\"sk-toggleable__label sk-toggleable__label-arrow\">OrdinalEncoder</label><div class=\"sk-toggleable__content\"><pre>OrdinalEncoder(categories=[[&#x27;Regular&#x27;, &#x27;Silver&#x27;, &#x27;Gold&#x27;]])</pre></div></div></div></div></div></div><div class=\"sk-parallel-item\"><div class=\"sk-item\"><div class=\"sk-label-container\"><div class=\"sk-label sk-toggleable\"><input class=\"sk-toggleable__control sk-hidden--visually\" id=\"sk-estimator-id-42\" type=\"checkbox\" ><label for=\"sk-estimator-id-42\" class=\"sk-toggleable__label sk-toggleable__label-arrow\">vehi</label><div class=\"sk-toggleable__content\"><pre>[&#x27;Vehicle_Type&#x27;]</pre></div></div></div><div class=\"sk-serial\"><div class=\"sk-item\"><div class=\"sk-estimator sk-toggleable\"><input class=\"sk-toggleable__control sk-hidden--visually\" id=\"sk-estimator-id-43\" type=\"checkbox\" ><label for=\"sk-estimator-id-43\" class=\"sk-toggleable__label sk-toggleable__label-arrow\">OrdinalEncoder</label><div class=\"sk-toggleable__content\"><pre>OrdinalEncoder(categories=[[&#x27;Economy&#x27;, &#x27;Premium&#x27;]])</pre></div></div></div></div></div></div><div class=\"sk-parallel-item\"><div class=\"sk-item\"><div class=\"sk-label-container\"><div class=\"sk-label sk-toggleable\"><input class=\"sk-toggleable__control sk-hidden--visually\" id=\"sk-estimator-id-44\" type=\"checkbox\" ><label for=\"sk-estimator-id-44\" class=\"sk-toggleable__label sk-toggleable__label-arrow\">nomi</label><div class=\"sk-toggleable__content\"><pre>[&#x27;Location_Category&#x27;, &#x27;Time_of_Booking&#x27;]</pre></div></div></div><div class=\"sk-serial\"><div class=\"sk-item\"><div class=\"sk-estimator sk-toggleable\"><input class=\"sk-toggleable__control sk-hidden--visually\" id=\"sk-estimator-id-45\" type=\"checkbox\" ><label for=\"sk-estimator-id-45\" class=\"sk-toggleable__label sk-toggleable__label-arrow\">OneHotEncoder</label><div class=\"sk-toggleable__content\"><pre>OneHotEncoder()</pre></div></div></div></div></div></div></div></div><div class=\"sk-item\"><div class=\"sk-estimator sk-toggleable\"><input class=\"sk-toggleable__control sk-hidden--visually\" id=\"sk-estimator-id-46\" type=\"checkbox\" ><label for=\"sk-estimator-id-46\" class=\"sk-toggleable__label sk-toggleable__label-arrow\">RandomForestRegressor</label><div class=\"sk-toggleable__content\"><pre>RandomForestRegressor(random_state=42)</pre></div></div></div></div></div></div></div></div></div></div></div></div>"
            ]
          },
          "metadata": {},
          "execution_count": 54
        }
      ],
      "source": [
        "# Fitting  GridSearchCV Object\n",
        "RF_grid.fit(X_train, y_train)"
      ]
    },
    {
      "cell_type": "markdown",
      "metadata": {
        "id": "-gKO7otRSOYO"
      },
      "source": [
        "## best parameters"
      ]
    },
    {
      "cell_type": "code",
      "execution_count": null,
      "metadata": {
        "colab": {
          "base_uri": "https://localhost:8080/"
        },
        "id": "RB_Fkez4vC8u",
        "outputId": "2445586d-0c34-4a17-dc77-796f09fff22b"
      },
      "outputs": [
        {
          "output_type": "stream",
          "name": "stdout",
          "text": [
            "Best Parameters: {'regressor__max_depth': 10, 'regressor__max_features': 'auto', 'regressor__min_samples_leaf': 5, 'regressor__min_samples_split': 10, 'regressor__n_estimators': 100}\n"
          ]
        }
      ],
      "source": [
        "# Get the best parameters and model from the grid search\n",
        "best_params = RF_grid.best_params_\n",
        "best_model = RF_grid.best_estimator_\n",
        "\n",
        "\n",
        "\n",
        "# Print the best parameters\n",
        "print(\"Best Parameters:\", best_params)\n",
        "\n"
      ]
    },
    {
      "cell_type": "markdown",
      "metadata": {
        "id": "tmwuGCoCSXYt"
      },
      "source": [
        "## model performance after tuning"
      ]
    },
    {
      "cell_type": "code",
      "execution_count": null,
      "metadata": {
        "colab": {
          "base_uri": "https://localhost:8080/"
        },
        "id": "J9TOHOrUvDAN",
        "outputId": "30d15627-ca15-4a8a-db38-f9b0e9667548"
      },
      "outputs": [
        {
          "output_type": "stream",
          "name": "stdout",
          "text": [
            "Random Forest with tuning: \n",
            "\n",
            "R2 Score (Test): 0.9685\n",
            "R2 Score (Train): 0.9821\n",
            "RMSE (Test): 14.7560\n",
            "RMSE (Train):11.9325\n",
            "\n",
            "\n"
          ]
        }
      ],
      "source": [
        "\n",
        "# Predict on the test data using the best model\n",
        "y_pred_train = best_model.predict(X_test)\n",
        "y_pred_train = best_model.predict(X_train)\n",
        "\n",
        "\n",
        "# Evaluate the model\n",
        "\n",
        "# Calculate R2 scores\n",
        "r2_score_test = r2_score(y_test, y_pred_test)\n",
        "r2_score_train = r2_score(y_train, y_pred_train)\n",
        "\n",
        "# Calculate mean squared error\n",
        "mse_test = mean_squared_error(y_test, y_pred_test)\n",
        "mse_train = mean_squared_error(y_train, y_pred_train)\n",
        "\n",
        "# Print the evaluation metrics\n",
        "print(\"Random Forest with tuning: \\n\")\n",
        "print(f\"R2 Score (Test): {r2_score_test:.4f}\")\n",
        "print(f\"R2 Score (Train): {r2_score_train:.4f}\")\n",
        "print(f\"RMSE (Test): {np.sqrt(mse_test):.4f}\")\n",
        "print(f\"RMSE (Train):{np.sqrt( mse_train):.4f}\")\n",
        "print(\"\\n\")\n"
      ]
    },
    {
      "cell_type": "markdown",
      "source": [
        "# feature importance"
      ],
      "metadata": {
        "id": "N0VFCLRlD8_I"
      }
    },
    {
      "cell_type": "code",
      "source": [
        "\n",
        "final_estimator = best_model.named_steps['regressor']\n",
        "\n",
        "feature_importances = final_estimator.feature_importances_\n",
        "\n",
        "# Get feature names\n",
        "numeric_features = ['Number_of_Riders','Number_of_Drivers','Number_of_Past_Rides','Average_Ratings','Expected_Ride_Duration']\n",
        "ordinal_features = ['Customer_Loyalty_Status','Vehicle_Type']\n",
        "nominal_features = ['Location_Category' ,'Time_of_Booking']\n",
        "\n",
        "feature_names = numeric_features + ordinal_features + list(preprocessor.named_transformers_['nomi'].get_feature_names_out(nominal_features))\n",
        "\n"
      ],
      "metadata": {
        "id": "o9X5HPMLD7td"
      },
      "execution_count": null,
      "outputs": []
    },
    {
      "cell_type": "code",
      "source": [
        "feature_importances = final_estimator.feature_importances_\n",
        "print(feature_importances)"
      ],
      "metadata": {
        "id": "xQ6MUjU1HxY9"
      },
      "execution_count": null,
      "outputs": []
    },
    {
      "cell_type": "code",
      "source": [
        "feature_importance_df = pd.DataFrame({\n",
        "    \"Variable\": feature_names,\n",
        "    \"Importance\": final_estimator.feature_importances_\n",
        "})\n",
        "\n",
        "feature_importance_df.sort_values(by=\"Importance\", ascending=False)"
      ],
      "metadata": {
        "colab": {
          "base_uri": "https://localhost:8080/",
          "height": 488
        },
        "id": "sYGrD9GmHu9a",
        "outputId": "1026ada4-e317-43af-be84-9e23abe8f847"
      },
      "execution_count": null,
      "outputs": [
        {
          "output_type": "execute_result",
          "data": {
            "text/plain": [
              "                      Variable  Importance\n",
              "1            Number_of_Drivers    0.622875\n",
              "0             Number_of_Riders    0.368275\n",
              "2         Number_of_Past_Rides    0.002997\n",
              "3              Average_Ratings    0.002301\n",
              "4       Expected_Ride_Duration    0.001201\n",
              "6                 Vehicle_Type    0.000590\n",
              "5      Customer_Loyalty_Status    0.000460\n",
              "10   Time_of_Booking_Afternoon    0.000394\n",
              "7      Location_Category_Rural    0.000344\n",
              "13       Time_of_Booking_Night    0.000195\n",
              "9      Location_Category_Urban    0.000179\n",
              "8   Location_Category_Suburban    0.000116\n",
              "12     Time_of_Booking_Morning    0.000053\n",
              "11     Time_of_Booking_Evening    0.000022"
            ],
            "text/html": [
              "\n",
              "  <div id=\"df-a1562f4b-4a1f-4919-bd16-73843acd2442\" class=\"colab-df-container\">\n",
              "    <div>\n",
              "<style scoped>\n",
              "    .dataframe tbody tr th:only-of-type {\n",
              "        vertical-align: middle;\n",
              "    }\n",
              "\n",
              "    .dataframe tbody tr th {\n",
              "        vertical-align: top;\n",
              "    }\n",
              "\n",
              "    .dataframe thead th {\n",
              "        text-align: right;\n",
              "    }\n",
              "</style>\n",
              "<table border=\"1\" class=\"dataframe\">\n",
              "  <thead>\n",
              "    <tr style=\"text-align: right;\">\n",
              "      <th></th>\n",
              "      <th>Variable</th>\n",
              "      <th>Importance</th>\n",
              "    </tr>\n",
              "  </thead>\n",
              "  <tbody>\n",
              "    <tr>\n",
              "      <th>1</th>\n",
              "      <td>Number_of_Drivers</td>\n",
              "      <td>0.622875</td>\n",
              "    </tr>\n",
              "    <tr>\n",
              "      <th>0</th>\n",
              "      <td>Number_of_Riders</td>\n",
              "      <td>0.368275</td>\n",
              "    </tr>\n",
              "    <tr>\n",
              "      <th>2</th>\n",
              "      <td>Number_of_Past_Rides</td>\n",
              "      <td>0.002997</td>\n",
              "    </tr>\n",
              "    <tr>\n",
              "      <th>3</th>\n",
              "      <td>Average_Ratings</td>\n",
              "      <td>0.002301</td>\n",
              "    </tr>\n",
              "    <tr>\n",
              "      <th>4</th>\n",
              "      <td>Expected_Ride_Duration</td>\n",
              "      <td>0.001201</td>\n",
              "    </tr>\n",
              "    <tr>\n",
              "      <th>6</th>\n",
              "      <td>Vehicle_Type</td>\n",
              "      <td>0.000590</td>\n",
              "    </tr>\n",
              "    <tr>\n",
              "      <th>5</th>\n",
              "      <td>Customer_Loyalty_Status</td>\n",
              "      <td>0.000460</td>\n",
              "    </tr>\n",
              "    <tr>\n",
              "      <th>10</th>\n",
              "      <td>Time_of_Booking_Afternoon</td>\n",
              "      <td>0.000394</td>\n",
              "    </tr>\n",
              "    <tr>\n",
              "      <th>7</th>\n",
              "      <td>Location_Category_Rural</td>\n",
              "      <td>0.000344</td>\n",
              "    </tr>\n",
              "    <tr>\n",
              "      <th>13</th>\n",
              "      <td>Time_of_Booking_Night</td>\n",
              "      <td>0.000195</td>\n",
              "    </tr>\n",
              "    <tr>\n",
              "      <th>9</th>\n",
              "      <td>Location_Category_Urban</td>\n",
              "      <td>0.000179</td>\n",
              "    </tr>\n",
              "    <tr>\n",
              "      <th>8</th>\n",
              "      <td>Location_Category_Suburban</td>\n",
              "      <td>0.000116</td>\n",
              "    </tr>\n",
              "    <tr>\n",
              "      <th>12</th>\n",
              "      <td>Time_of_Booking_Morning</td>\n",
              "      <td>0.000053</td>\n",
              "    </tr>\n",
              "    <tr>\n",
              "      <th>11</th>\n",
              "      <td>Time_of_Booking_Evening</td>\n",
              "      <td>0.000022</td>\n",
              "    </tr>\n",
              "  </tbody>\n",
              "</table>\n",
              "</div>\n",
              "    <div class=\"colab-df-buttons\">\n",
              "\n",
              "  <div class=\"colab-df-container\">\n",
              "    <button class=\"colab-df-convert\" onclick=\"convertToInteractive('df-a1562f4b-4a1f-4919-bd16-73843acd2442')\"\n",
              "            title=\"Convert this dataframe to an interactive table.\"\n",
              "            style=\"display:none;\">\n",
              "\n",
              "  <svg xmlns=\"http://www.w3.org/2000/svg\" height=\"24px\" viewBox=\"0 -960 960 960\">\n",
              "    <path d=\"M120-120v-720h720v720H120Zm60-500h600v-160H180v160Zm220 220h160v-160H400v160Zm0 220h160v-160H400v160ZM180-400h160v-160H180v160Zm440 0h160v-160H620v160ZM180-180h160v-160H180v160Zm440 0h160v-160H620v160Z\"/>\n",
              "  </svg>\n",
              "    </button>\n",
              "\n",
              "  <style>\n",
              "    .colab-df-container {\n",
              "      display:flex;\n",
              "      gap: 12px;\n",
              "    }\n",
              "\n",
              "    .colab-df-convert {\n",
              "      background-color: #E8F0FE;\n",
              "      border: none;\n",
              "      border-radius: 50%;\n",
              "      cursor: pointer;\n",
              "      display: none;\n",
              "      fill: #1967D2;\n",
              "      height: 32px;\n",
              "      padding: 0 0 0 0;\n",
              "      width: 32px;\n",
              "    }\n",
              "\n",
              "    .colab-df-convert:hover {\n",
              "      background-color: #E2EBFA;\n",
              "      box-shadow: 0px 1px 2px rgba(60, 64, 67, 0.3), 0px 1px 3px 1px rgba(60, 64, 67, 0.15);\n",
              "      fill: #174EA6;\n",
              "    }\n",
              "\n",
              "    .colab-df-buttons div {\n",
              "      margin-bottom: 4px;\n",
              "    }\n",
              "\n",
              "    [theme=dark] .colab-df-convert {\n",
              "      background-color: #3B4455;\n",
              "      fill: #D2E3FC;\n",
              "    }\n",
              "\n",
              "    [theme=dark] .colab-df-convert:hover {\n",
              "      background-color: #434B5C;\n",
              "      box-shadow: 0px 1px 3px 1px rgba(0, 0, 0, 0.15);\n",
              "      filter: drop-shadow(0px 1px 2px rgba(0, 0, 0, 0.3));\n",
              "      fill: #FFFFFF;\n",
              "    }\n",
              "  </style>\n",
              "\n",
              "    <script>\n",
              "      const buttonEl =\n",
              "        document.querySelector('#df-a1562f4b-4a1f-4919-bd16-73843acd2442 button.colab-df-convert');\n",
              "      buttonEl.style.display =\n",
              "        google.colab.kernel.accessAllowed ? 'block' : 'none';\n",
              "\n",
              "      async function convertToInteractive(key) {\n",
              "        const element = document.querySelector('#df-a1562f4b-4a1f-4919-bd16-73843acd2442');\n",
              "        const dataTable =\n",
              "          await google.colab.kernel.invokeFunction('convertToInteractive',\n",
              "                                                    [key], {});\n",
              "        if (!dataTable) return;\n",
              "\n",
              "        const docLinkHtml = 'Like what you see? Visit the ' +\n",
              "          '<a target=\"_blank\" href=https://colab.research.google.com/notebooks/data_table.ipynb>data table notebook</a>'\n",
              "          + ' to learn more about interactive tables.';\n",
              "        element.innerHTML = '';\n",
              "        dataTable['output_type'] = 'display_data';\n",
              "        await google.colab.output.renderOutput(dataTable, element);\n",
              "        const docLink = document.createElement('div');\n",
              "        docLink.innerHTML = docLinkHtml;\n",
              "        element.appendChild(docLink);\n",
              "      }\n",
              "    </script>\n",
              "  </div>\n",
              "\n",
              "\n",
              "<div id=\"df-80cc19ba-9024-4399-b2ef-47e65fd47538\">\n",
              "  <button class=\"colab-df-quickchart\" onclick=\"quickchart('df-80cc19ba-9024-4399-b2ef-47e65fd47538')\"\n",
              "            title=\"Suggest charts\"\n",
              "            style=\"display:none;\">\n",
              "\n",
              "<svg xmlns=\"http://www.w3.org/2000/svg\" height=\"24px\"viewBox=\"0 0 24 24\"\n",
              "     width=\"24px\">\n",
              "    <g>\n",
              "        <path d=\"M19 3H5c-1.1 0-2 .9-2 2v14c0 1.1.9 2 2 2h14c1.1 0 2-.9 2-2V5c0-1.1-.9-2-2-2zM9 17H7v-7h2v7zm4 0h-2V7h2v10zm4 0h-2v-4h2v4z\"/>\n",
              "    </g>\n",
              "</svg>\n",
              "  </button>\n",
              "\n",
              "<style>\n",
              "  .colab-df-quickchart {\n",
              "      --bg-color: #E8F0FE;\n",
              "      --fill-color: #1967D2;\n",
              "      --hover-bg-color: #E2EBFA;\n",
              "      --hover-fill-color: #174EA6;\n",
              "      --disabled-fill-color: #AAA;\n",
              "      --disabled-bg-color: #DDD;\n",
              "  }\n",
              "\n",
              "  [theme=dark] .colab-df-quickchart {\n",
              "      --bg-color: #3B4455;\n",
              "      --fill-color: #D2E3FC;\n",
              "      --hover-bg-color: #434B5C;\n",
              "      --hover-fill-color: #FFFFFF;\n",
              "      --disabled-bg-color: #3B4455;\n",
              "      --disabled-fill-color: #666;\n",
              "  }\n",
              "\n",
              "  .colab-df-quickchart {\n",
              "    background-color: var(--bg-color);\n",
              "    border: none;\n",
              "    border-radius: 50%;\n",
              "    cursor: pointer;\n",
              "    display: none;\n",
              "    fill: var(--fill-color);\n",
              "    height: 32px;\n",
              "    padding: 0;\n",
              "    width: 32px;\n",
              "  }\n",
              "\n",
              "  .colab-df-quickchart:hover {\n",
              "    background-color: var(--hover-bg-color);\n",
              "    box-shadow: 0 1px 2px rgba(60, 64, 67, 0.3), 0 1px 3px 1px rgba(60, 64, 67, 0.15);\n",
              "    fill: var(--button-hover-fill-color);\n",
              "  }\n",
              "\n",
              "  .colab-df-quickchart-complete:disabled,\n",
              "  .colab-df-quickchart-complete:disabled:hover {\n",
              "    background-color: var(--disabled-bg-color);\n",
              "    fill: var(--disabled-fill-color);\n",
              "    box-shadow: none;\n",
              "  }\n",
              "\n",
              "  .colab-df-spinner {\n",
              "    border: 2px solid var(--fill-color);\n",
              "    border-color: transparent;\n",
              "    border-bottom-color: var(--fill-color);\n",
              "    animation:\n",
              "      spin 1s steps(1) infinite;\n",
              "  }\n",
              "\n",
              "  @keyframes spin {\n",
              "    0% {\n",
              "      border-color: transparent;\n",
              "      border-bottom-color: var(--fill-color);\n",
              "      border-left-color: var(--fill-color);\n",
              "    }\n",
              "    20% {\n",
              "      border-color: transparent;\n",
              "      border-left-color: var(--fill-color);\n",
              "      border-top-color: var(--fill-color);\n",
              "    }\n",
              "    30% {\n",
              "      border-color: transparent;\n",
              "      border-left-color: var(--fill-color);\n",
              "      border-top-color: var(--fill-color);\n",
              "      border-right-color: var(--fill-color);\n",
              "    }\n",
              "    40% {\n",
              "      border-color: transparent;\n",
              "      border-right-color: var(--fill-color);\n",
              "      border-top-color: var(--fill-color);\n",
              "    }\n",
              "    60% {\n",
              "      border-color: transparent;\n",
              "      border-right-color: var(--fill-color);\n",
              "    }\n",
              "    80% {\n",
              "      border-color: transparent;\n",
              "      border-right-color: var(--fill-color);\n",
              "      border-bottom-color: var(--fill-color);\n",
              "    }\n",
              "    90% {\n",
              "      border-color: transparent;\n",
              "      border-bottom-color: var(--fill-color);\n",
              "    }\n",
              "  }\n",
              "</style>\n",
              "\n",
              "  <script>\n",
              "    async function quickchart(key) {\n",
              "      const quickchartButtonEl =\n",
              "        document.querySelector('#' + key + ' button');\n",
              "      quickchartButtonEl.disabled = true;  // To prevent multiple clicks.\n",
              "      quickchartButtonEl.classList.add('colab-df-spinner');\n",
              "      try {\n",
              "        const charts = await google.colab.kernel.invokeFunction(\n",
              "            'suggestCharts', [key], {});\n",
              "      } catch (error) {\n",
              "        console.error('Error during call to suggestCharts:', error);\n",
              "      }\n",
              "      quickchartButtonEl.classList.remove('colab-df-spinner');\n",
              "      quickchartButtonEl.classList.add('colab-df-quickchart-complete');\n",
              "    }\n",
              "    (() => {\n",
              "      let quickchartButtonEl =\n",
              "        document.querySelector('#df-80cc19ba-9024-4399-b2ef-47e65fd47538 button');\n",
              "      quickchartButtonEl.style.display =\n",
              "        google.colab.kernel.accessAllowed ? 'block' : 'none';\n",
              "    })();\n",
              "  </script>\n",
              "</div>\n",
              "\n",
              "    </div>\n",
              "  </div>\n"
            ],
            "application/vnd.google.colaboratory.intrinsic+json": {
              "type": "dataframe",
              "summary": "{\n  \"name\": \"feature_importance_df\",\n  \"rows\": 14,\n  \"fields\": [\n    {\n      \"column\": \"Variable\",\n      \"properties\": {\n        \"dtype\": \"string\",\n        \"num_unique_values\": 14,\n        \"samples\": [\n          \"Time_of_Booking_Night\",\n          \"Location_Category_Suburban\",\n          \"Number_of_Drivers\"\n        ],\n        \"semantic_type\": \"\",\n        \"description\": \"\"\n      }\n    },\n    {\n      \"column\": \"Importance\",\n      \"properties\": {\n        \"dtype\": \"number\",\n        \"std\": 0.18650371461773396,\n        \"min\": 2.2187669600750108e-05,\n        \"max\": 0.6228747031383358,\n        \"num_unique_values\": 14,\n        \"samples\": [\n          0.00019453052431220387,\n          0.00011589933096565134,\n          0.6228747031383358\n        ],\n        \"semantic_type\": \"\",\n        \"description\": \"\"\n      }\n    }\n  ]\n}"
            }
          },
          "metadata": {},
          "execution_count": 73
        }
      ]
    },
    {
      "cell_type": "code",
      "source": [
        "import matplotlib.pyplot as plt\n",
        "\n",
        "FI_df_sorted = feature_importance_df.sort_values(by=\"Importance\", ascending=True)\n",
        "# Plot the feature importances\n",
        "plt.figure(figsize=(10, 6))\n",
        "plt.barh(\"Variable\", \"Importance\",data = FI_df_sorted, color='skyblue')\n",
        "plt.xlabel('Importance')\n",
        "plt.ylabel('Variable')\n",
        "plt.title('Feature Importances')\n",
        "\n",
        "plt.show()\n"
      ],
      "metadata": {
        "colab": {
          "base_uri": "https://localhost:8080/",
          "height": 564
        },
        "id": "DAmb6uGCJRwg",
        "outputId": "4fd66440-b13c-4a0a-8028-bb02b22182bf"
      },
      "execution_count": null,
      "outputs": [
        {
          "output_type": "display_data",
          "data": {
            "text/plain": [
              "<Figure size 1000x600 with 1 Axes>"
            ],
            "image/png": "[encoded data removed]"
          },
          "metadata": {}
        }
      ]
    },
    {
      "cell_type": "markdown",
      "metadata": {
        "id": "26l5cR9pSdZg"
      },
      "source": [
        "# Gradient Boosting - XGB\n",
        "### It uses parallel computation in which multiple decision trees are trained in parallel to find the final prediction.\n",
        "\n",
        "\n",
        "\n",
        "https://www.analyticsvidhya.com/blog/2016/03/complete-guide-parameter-tuning-xgboost-with-codes-python/\n",
        "\n",
        "Boosting algorithms play a crucial role in dealing with bias variance trade-off.  Unlike bagging algorithms, which only controls for high variance in a model, boosting controls both the aspects (bias & variance), and is considered to be more effective."
      ]
    },
    {
      "cell_type": "markdown",
      "metadata": {
        "id": "zNQjJZoKTB2M"
      },
      "source": [
        "## Creating the model"
      ]
    },
    {
      "cell_type": "code",
      "execution_count": null,
      "metadata": {
        "id": "5aAjMTlgTB2k"
      },
      "outputs": [],
      "source": [
        "from sklearn.ensemble import GradientBoostingRegressor\n",
        "pipeline = Pipeline(steps = [('preprocessor', preprocessor),('regressor',GradientBoostingRegressor(random_state = 10)) ])"
      ]
    },
    {
      "cell_type": "code",
      "execution_count": null,
      "metadata": {
        "id": "9KI8DiVnTB2k"
      },
      "outputs": [],
      "source": [
        "XG_model = pipeline.fit(X_train, y_train)"
      ]
    },
    {
      "cell_type": "code",
      "execution_count": null,
      "metadata": {
        "colab": {
          "base_uri": "https://localhost:8080/",
          "height": 191
        },
        "id": "4-eNj8jSTB2k",
        "outputId": "85e1c332-c983-45ca-bd0f-f7e318b5ce05"
      },
      "outputs": [
        {
          "output_type": "execute_result",
          "data": {
            "text/plain": [
              "Pipeline(steps=[('preprocessor',\n",
              "                 ColumnTransformer(transformers=[('num', StandardScaler(),\n",
              "                                                  ['Number_of_Riders',\n",
              "                                                   'Number_of_Drivers',\n",
              "                                                   'Number_of_Past_Rides',\n",
              "                                                   'Average_Ratings',\n",
              "                                                   'Expected_Ride_Duration']),\n",
              "                                                 ('loyl',\n",
              "                                                  OrdinalEncoder(categories=[['Regular',\n",
              "                                                                              'Silver',\n",
              "                                                                              'Gold']]),\n",
              "                                                  ['Customer_Loyalty_Status']),\n",
              "                                                 ('vehi',\n",
              "                                                  OrdinalEncoder(categories=[['Economy',\n",
              "                                                                              'Premium']]),\n",
              "                                                  ['Vehicle_Type']),\n",
              "                                                 ('nomi', OneHotEncoder(),\n",
              "                                                  ['Location_Category',\n",
              "                                                   'Time_of_Booking'])])),\n",
              "                ('regressor', GradientBoostingRegressor(random_state=10))])"
            ],
            "text/html": [
              "<style>#sk-container-id-1 {color: black;background-color: white;}#sk-container-id-1 pre{padding: 0;}#sk-container-id-1 div.sk-toggleable {background-color: white;}#sk-container-id-1 label.sk-toggleable__label {cursor: pointer;display: block;width: 100%;margin-bottom: 0;padding: 0.3em;box-sizing: border-box;text-align: center;}#sk-container-id-1 label.sk-toggleable__label-arrow:before {content: \"▸\";float: left;margin-right: 0.25em;color: #696969;}#sk-container-id-1 label.sk-toggleable__label-arrow:hover:before {color: black;}#sk-container-id-1 div.sk-estimator:hover label.sk-toggleable__label-arrow:before {color: black;}#sk-container-id-1 div.sk-toggleable__content {max-height: 0;max-width: 0;overflow: hidden;text-align: left;background-color: #f0f8ff;}#sk-container-id-1 div.sk-toggleable__content pre {margin: 0.2em;color: black;border-radius: 0.25em;background-color: #f0f8ff;}#sk-container-id-1 input.sk-toggleable__control:checked~div.sk-toggleable__content {max-height: 200px;max-width: 100%;overflow: auto;}#sk-container-id-1 input.sk-toggleable__control:checked~label.sk-toggleable__label-arrow:before {content: \"▾\";}#sk-container-id-1 div.sk-estimator input.sk-toggleable__control:checked~label.sk-toggleable__label {background-color: #d4ebff;}#sk-container-id-1 div.sk-label input.sk-toggleable__control:checked~label.sk-toggleable__label {background-color: #d4ebff;}#sk-container-id-1 input.sk-hidden--visually {border: 0;clip: rect(1px 1px 1px 1px);clip: rect(1px, 1px, 1px, 1px);height: 1px;margin: -1px;overflow: hidden;padding: 0;position: absolute;width: 1px;}#sk-container-id-1 div.sk-estimator {font-family: monospace;background-color: #f0f8ff;border: 1px dotted black;border-radius: 0.25em;box-sizing: border-box;margin-bottom: 0.5em;}#sk-container-id-1 div.sk-estimator:hover {background-color: #d4ebff;}#sk-container-id-1 div.sk-parallel-item::after {content: \"\";width: 100%;border-bottom: 1px solid gray;flex-grow: 1;}#sk-container-id-1 div.sk-label:hover label.sk-toggleable__label {background-color: #d4ebff;}#sk-container-id-1 div.sk-serial::before {content: \"\";position: absolute;border-left: 1px solid gray;box-sizing: border-box;top: 0;bottom: 0;left: 50%;z-index: 0;}#sk-container-id-1 div.sk-serial {display: flex;flex-direction: column;align-items: center;background-color: white;padding-right: 0.2em;padding-left: 0.2em;position: relative;}#sk-container-id-1 div.sk-item {position: relative;z-index: 1;}#sk-container-id-1 div.sk-parallel {display: flex;align-items: stretch;justify-content: center;background-color: white;position: relative;}#sk-container-id-1 div.sk-item::before, #sk-container-id-1 div.sk-parallel-item::before {content: \"\";position: absolute;border-left: 1px solid gray;box-sizing: border-box;top: 0;bottom: 0;left: 50%;z-index: -1;}#sk-container-id-1 div.sk-parallel-item {display: flex;flex-direction: column;z-index: 1;position: relative;background-color: white;}#sk-container-id-1 div.sk-parallel-item:first-child::after {align-self: flex-end;width: 50%;}#sk-container-id-1 div.sk-parallel-item:last-child::after {align-self: flex-start;width: 50%;}#sk-container-id-1 div.sk-parallel-item:only-child::after {width: 0;}#sk-container-id-1 div.sk-dashed-wrapped {border: 1px dashed gray;margin: 0 0.4em 0.5em 0.4em;box-sizing: border-box;padding-bottom: 0.4em;background-color: white;}#sk-container-id-1 div.sk-label label {font-family: monospace;font-weight: bold;display: inline-block;line-height: 1.2em;}#sk-container-id-1 div.sk-label-container {text-align: center;}#sk-container-id-1 div.sk-container {/* jupyter's `normalize.less` sets `[hidden] { display: none; }` but bootstrap.min.css set `[hidden] { display: none !important; }` so we also need the `!important` here to be able to override the default hidden behavior on the sphinx rendered scikit-learn.org. See: https://github.com/scikit-learn/scikit-learn/issues/21755 */display: inline-block !important;position: relative;}#sk-container-id-1 div.sk-text-repr-fallback {display: none;}</style><div id=\"sk-container-id-1\" class=\"sk-top-container\"><div class=\"sk-text-repr-fallback\"><pre>Pipeline(steps=[(&#x27;preprocessor&#x27;,\n",
              "                 ColumnTransformer(transformers=[(&#x27;num&#x27;, StandardScaler(),\n",
              "                                                  [&#x27;Number_of_Riders&#x27;,\n",
              "                                                   &#x27;Number_of_Drivers&#x27;,\n",
              "                                                   &#x27;Number_of_Past_Rides&#x27;,\n",
              "                                                   &#x27;Average_Ratings&#x27;,\n",
              "                                                   &#x27;Expected_Ride_Duration&#x27;]),\n",
              "                                                 (&#x27;loyl&#x27;,\n",
              "                                                  OrdinalEncoder(categories=[[&#x27;Regular&#x27;,\n",
              "                                                                              &#x27;Silver&#x27;,\n",
              "                                                                              &#x27;Gold&#x27;]]),\n",
              "                                                  [&#x27;Customer_Loyalty_Status&#x27;]),\n",
              "                                                 (&#x27;vehi&#x27;,\n",
              "                                                  OrdinalEncoder(categories=[[&#x27;Economy&#x27;,\n",
              "                                                                              &#x27;Premium&#x27;]]),\n",
              "                                                  [&#x27;Vehicle_Type&#x27;]),\n",
              "                                                 (&#x27;nomi&#x27;, OneHotEncoder(),\n",
              "                                                  [&#x27;Location_Category&#x27;,\n",
              "                                                   &#x27;Time_of_Booking&#x27;])])),\n",
              "                (&#x27;regressor&#x27;, GradientBoostingRegressor(random_state=10))])</pre><b>In a Jupyter environment, please rerun this cell to show the HTML representation or trust the notebook. <br />On GitHub, the HTML representation is unable to render, please try loading this page with nbviewer.org.</b></div><div class=\"sk-container\" hidden><div class=\"sk-item sk-dashed-wrapped\"><div class=\"sk-label-container\"><div class=\"sk-label sk-toggleable\"><input class=\"sk-toggleable__control sk-hidden--visually\" id=\"sk-estimator-id-1\" type=\"checkbox\" ><label for=\"sk-estimator-id-1\" class=\"sk-toggleable__label sk-toggleable__label-arrow\">Pipeline</label><div class=\"sk-toggleable__content\"><pre>Pipeline(steps=[(&#x27;preprocessor&#x27;,\n",
              "                 ColumnTransformer(transformers=[(&#x27;num&#x27;, StandardScaler(),\n",
              "                                                  [&#x27;Number_of_Riders&#x27;,\n",
              "                                                   &#x27;Number_of_Drivers&#x27;,\n",
              "                                                   &#x27;Number_of_Past_Rides&#x27;,\n",
              "                                                   &#x27;Average_Ratings&#x27;,\n",
              "                                                   &#x27;Expected_Ride_Duration&#x27;]),\n",
              "                                                 (&#x27;loyl&#x27;,\n",
              "                                                  OrdinalEncoder(categories=[[&#x27;Regular&#x27;,\n",
              "                                                                              &#x27;Silver&#x27;,\n",
              "                                                                              &#x27;Gold&#x27;]]),\n",
              "                                                  [&#x27;Customer_Loyalty_Status&#x27;]),\n",
              "                                                 (&#x27;vehi&#x27;,\n",
              "                                                  OrdinalEncoder(categories=[[&#x27;Economy&#x27;,\n",
              "                                                                              &#x27;Premium&#x27;]]),\n",
              "                                                  [&#x27;Vehicle_Type&#x27;]),\n",
              "                                                 (&#x27;nomi&#x27;, OneHotEncoder(),\n",
              "                                                  [&#x27;Location_Category&#x27;,\n",
              "                                                   &#x27;Time_of_Booking&#x27;])])),\n",
              "                (&#x27;regressor&#x27;, GradientBoostingRegressor(random_state=10))])</pre></div></div></div><div class=\"sk-serial\"><div class=\"sk-item sk-dashed-wrapped\"><div class=\"sk-label-container\"><div class=\"sk-label sk-toggleable\"><input class=\"sk-toggleable__control sk-hidden--visually\" id=\"sk-estimator-id-2\" type=\"checkbox\" ><label for=\"sk-estimator-id-2\" class=\"sk-toggleable__label sk-toggleable__label-arrow\">preprocessor: ColumnTransformer</label><div class=\"sk-toggleable__content\"><pre>ColumnTransformer(transformers=[(&#x27;num&#x27;, StandardScaler(),\n",
              "                                 [&#x27;Number_of_Riders&#x27;, &#x27;Number_of_Drivers&#x27;,\n",
              "                                  &#x27;Number_of_Past_Rides&#x27;, &#x27;Average_Ratings&#x27;,\n",
              "                                  &#x27;Expected_Ride_Duration&#x27;]),\n",
              "                                (&#x27;loyl&#x27;,\n",
              "                                 OrdinalEncoder(categories=[[&#x27;Regular&#x27;,\n",
              "                                                             &#x27;Silver&#x27;,\n",
              "                                                             &#x27;Gold&#x27;]]),\n",
              "                                 [&#x27;Customer_Loyalty_Status&#x27;]),\n",
              "                                (&#x27;vehi&#x27;,\n",
              "                                 OrdinalEncoder(categories=[[&#x27;Economy&#x27;,\n",
              "                                                             &#x27;Premium&#x27;]]),\n",
              "                                 [&#x27;Vehicle_Type&#x27;]),\n",
              "                                (&#x27;nomi&#x27;, OneHotEncoder(),\n",
              "                                 [&#x27;Location_Category&#x27;, &#x27;Time_of_Booking&#x27;])])</pre></div></div></div><div class=\"sk-parallel\"><div class=\"sk-parallel-item\"><div class=\"sk-item\"><div class=\"sk-label-container\"><div class=\"sk-label sk-toggleable\"><input class=\"sk-toggleable__control sk-hidden--visually\" id=\"sk-estimator-id-3\" type=\"checkbox\" ><label for=\"sk-estimator-id-3\" class=\"sk-toggleable__label sk-toggleable__label-arrow\">num</label><div class=\"sk-toggleable__content\"><pre>[&#x27;Number_of_Riders&#x27;, &#x27;Number_of_Drivers&#x27;, &#x27;Number_of_Past_Rides&#x27;, &#x27;Average_Ratings&#x27;, &#x27;Expected_Ride_Duration&#x27;]</pre></div></div></div><div class=\"sk-serial\"><div class=\"sk-item\"><div class=\"sk-estimator sk-toggleable\"><input class=\"sk-toggleable__control sk-hidden--visually\" id=\"sk-estimator-id-4\" type=\"checkbox\" ><label for=\"sk-estimator-id-4\" class=\"sk-toggleable__label sk-toggleable__label-arrow\">StandardScaler</label><div class=\"sk-toggleable__content\"><pre>StandardScaler()</pre></div></div></div></div></div></div><div class=\"sk-parallel-item\"><div class=\"sk-item\"><div class=\"sk-label-container\"><div class=\"sk-label sk-toggleable\"><input class=\"sk-toggleable__control sk-hidden--visually\" id=\"sk-estimator-id-5\" type=\"checkbox\" ><label for=\"sk-estimator-id-5\" class=\"sk-toggleable__label sk-toggleable__label-arrow\">loyl</label><div class=\"sk-toggleable__content\"><pre>[&#x27;Customer_Loyalty_Status&#x27;]</pre></div></div></div><div class=\"sk-serial\"><div class=\"sk-item\"><div class=\"sk-estimator sk-toggleable\"><input class=\"sk-toggleable__control sk-hidden--visually\" id=\"sk-estimator-id-6\" type=\"checkbox\" ><label for=\"sk-estimator-id-6\" class=\"sk-toggleable__label sk-toggleable__label-arrow\">OrdinalEncoder</label><div class=\"sk-toggleable__content\"><pre>OrdinalEncoder(categories=[[&#x27;Regular&#x27;, &#x27;Silver&#x27;, &#x27;Gold&#x27;]])</pre></div></div></div></div></div></div><div class=\"sk-parallel-item\"><div class=\"sk-item\"><div class=\"sk-label-container\"><div class=\"sk-label sk-toggleable\"><input class=\"sk-toggleable__control sk-hidden--visually\" id=\"sk-estimator-id-7\" type=\"checkbox\" ><label for=\"sk-estimator-id-7\" class=\"sk-toggleable__label sk-toggleable__label-arrow\">vehi</label><div class=\"sk-toggleable__content\"><pre>[&#x27;Vehicle_Type&#x27;]</pre></div></div></div><div class=\"sk-serial\"><div class=\"sk-item\"><div class=\"sk-estimator sk-toggleable\"><input class=\"sk-toggleable__control sk-hidden--visually\" id=\"sk-estimator-id-8\" type=\"checkbox\" ><label for=\"sk-estimator-id-8\" class=\"sk-toggleable__label sk-toggleable__label-arrow\">OrdinalEncoder</label><div class=\"sk-toggleable__content\"><pre>OrdinalEncoder(categories=[[&#x27;Economy&#x27;, &#x27;Premium&#x27;]])</pre></div></div></div></div></div></div><div class=\"sk-parallel-item\"><div class=\"sk-item\"><div class=\"sk-label-container\"><div class=\"sk-label sk-toggleable\"><input class=\"sk-toggleable__control sk-hidden--visually\" id=\"sk-estimator-id-9\" type=\"checkbox\" ><label for=\"sk-estimator-id-9\" class=\"sk-toggleable__label sk-toggleable__label-arrow\">nomi</label><div class=\"sk-toggleable__content\"><pre>[&#x27;Location_Category&#x27;, &#x27;Time_of_Booking&#x27;]</pre></div></div></div><div class=\"sk-serial\"><div class=\"sk-item\"><div class=\"sk-estimator sk-toggleable\"><input class=\"sk-toggleable__control sk-hidden--visually\" id=\"sk-estimator-id-10\" type=\"checkbox\" ><label for=\"sk-estimator-id-10\" class=\"sk-toggleable__label sk-toggleable__label-arrow\">OneHotEncoder</label><div class=\"sk-toggleable__content\"><pre>OneHotEncoder()</pre></div></div></div></div></div></div></div></div><div class=\"sk-item\"><div class=\"sk-estimator sk-toggleable\"><input class=\"sk-toggleable__control sk-hidden--visually\" id=\"sk-estimator-id-11\" type=\"checkbox\" ><label for=\"sk-estimator-id-11\" class=\"sk-toggleable__label sk-toggleable__label-arrow\">GradientBoostingRegressor</label><div class=\"sk-toggleable__content\"><pre>GradientBoostingRegressor(random_state=10)</pre></div></div></div></div></div></div></div>"
            ]
          },
          "metadata": {},
          "execution_count": 21
        }
      ],
      "source": [
        "XG_model"
      ]
    },
    {
      "cell_type": "code",
      "execution_count": null,
      "metadata": {
        "id": "Fx8tw2XwRzPX"
      },
      "outputs": [],
      "source": []
    },
    {
      "cell_type": "markdown",
      "metadata": {
        "id": "NIyfreSEVBfb"
      },
      "source": [
        "# model accuracy without tuning"
      ]
    },
    {
      "cell_type": "code",
      "execution_count": null,
      "metadata": {
        "id": "vof67smhVBgM"
      },
      "outputs": [],
      "source": [
        "from sklearn.metrics import r2_score\n",
        "from sklearn.metrics import mean_squared_error"
      ]
    },
    {
      "cell_type": "code",
      "execution_count": null,
      "metadata": {
        "colab": {
          "base_uri": "https://localhost:8080/"
        },
        "id": "oSyI7ns8VBgM",
        "outputId": "d6eed672-89cc-49e4-81a0-b1b068f634cf"
      },
      "outputs": [
        {
          "output_type": "stream",
          "name": "stdout",
          "text": [
            "XGB w/o tuning: \n",
            "\n",
            "R2 Score (Test): 0.9871\n",
            "R2 Score (Train): 0.9902\n",
            "RMSE (Test): 9.4328\n",
            "RMSE (Train):8.8098\n",
            "\n",
            "\n"
          ]
        }
      ],
      "source": [
        "y_pred_test = XG_model.predict(X_test)\n",
        "y_pred_train = XG_model.predict(X_train)\n",
        "\n",
        "# Evaluate the model\n",
        "\n",
        "# Calculate R2 scores\n",
        "r2_score_test = r2_score(y_test, y_pred_test)\n",
        "r2_score_train = r2_score(y_train, y_pred_train)\n",
        "\n",
        "# Calculate mean squared error\n",
        "mse_test = mean_squared_error(y_test, y_pred_test)\n",
        "mse_train = mean_squared_error(y_train, y_pred_train)\n",
        "\n",
        "# Print the evaluation metrics\n",
        "print(\"XGB w/o tuning: \\n\")\n",
        "print(f\"R2 Score (Test): {r2_score_test:.4f}\")\n",
        "print(f\"R2 Score (Train): {r2_score_train:.4f}\")\n",
        "print(f\"RMSE (Test): {np.sqrt(mse_test):.4f}\")\n",
        "print(f\"RMSE (Train):{np.sqrt( mse_train):.4f}\")\n",
        "print(\"\\n\")\n"
      ]
    },
    {
      "cell_type": "markdown",
      "metadata": {
        "id": "zm_Hj28U2BGM"
      },
      "source": [
        "## tuning\n"
      ]
    },
    {
      "cell_type": "code",
      "execution_count": null,
      "metadata": {
        "id": "gDxBkPmXRzb_"
      },
      "outputs": [],
      "source": [
        "\n",
        "params = {\n",
        "    'regressor__learning_rate' : [0.1,0.15],\n",
        "    'regressor__n_estimators' : [100,150,250],\n",
        "    'regressor__max_features' : ['sqrt',0.7],\n",
        "    'regressor__max_depth' : [5,10],\n",
        "    'regressor__min_samples_split' : [100,150,200],\n",
        "    'regressor__min_samples_leaf' : [10,50,70]\n",
        "\n",
        "}"
      ]
    },
    {
      "cell_type": "code",
      "execution_count": null,
      "metadata": {
        "id": "A-vLce16UoDW"
      },
      "outputs": [],
      "source": [
        "XG_grid = GridSearchCV(estimator= pipeline, param_grid=params, cv=5, n_jobs=-1, verbose=1)"
      ]
    },
    {
      "cell_type": "code",
      "execution_count": null,
      "metadata": {
        "colab": {
          "base_uri": "https://localhost:8080/",
          "height": 238
        },
        "outputId": "6e0c8b4d-5324-4191-d31a-1059de182e2e",
        "id": "WRBOaobiUoDW"
      },
      "outputs": [
        {
          "output_type": "stream",
          "name": "stdout",
          "text": [
            "Fitting 5 folds for each of 216 candidates, totalling 1080 fits\n"
          ]
        },
        {
          "output_type": "execute_result",
          "data": {
            "text/plain": [
              "GridSearchCV(cv=5,\n",
              "             estimator=Pipeline(steps=[('preprocessor',\n",
              "                                        ColumnTransformer(transformers=[('num',\n",
              "                                                                         StandardScaler(),\n",
              "                                                                         ['Number_of_Riders',\n",
              "                                                                          'Number_of_Drivers',\n",
              "                                                                          'Number_of_Past_Rides',\n",
              "                                                                          'Average_Ratings',\n",
              "                                                                          'Expected_Ride_Duration']),\n",
              "                                                                        ('loyl',\n",
              "                                                                         OrdinalEncoder(categories=[['Regular',\n",
              "                                                                                                     'Silver',\n",
              "                                                                                                     'Gold']]),\n",
              "                                                                         ['Customer_Loyalty_Status']),\n",
              "                                                                        ('vehi',\n",
              "                                                                         OrdinalEncoder(categorie...\n",
              "                                                                         ['Location_Category',\n",
              "                                                                          'Time_of_Booking'])])),\n",
              "                                       ('regressor',\n",
              "                                        GradientBoostingRegressor(random_state=10))]),\n",
              "             n_jobs=-1,\n",
              "             param_grid={'regressor__learning_rate': [0.1, 0.15],\n",
              "                         'regressor__max_depth': [5, 10],\n",
              "                         'regressor__max_features': ['sqrt', 0.7],\n",
              "                         'regressor__min_samples_leaf': [10, 50, 70],\n",
              "                         'regressor__min_samples_split': [100, 150, 200],\n",
              "                         'regressor__n_estimators': [100, 150, 250]},\n",
              "             verbose=1)"
            ],
            "text/html": [
              "<style>#sk-container-id-22 {color: black;background-color: white;}#sk-container-id-22 pre{padding: 0;}#sk-container-id-22 div.sk-toggleable {background-color: white;}#sk-container-id-22 label.sk-toggleable__label {cursor: pointer;display: block;width: 100%;margin-bottom: 0;padding: 0.3em;box-sizing: border-box;text-align: center;}#sk-container-id-22 label.sk-toggleable__label-arrow:before {content: \"▸\";float: left;margin-right: 0.25em;color: #696969;}#sk-container-id-22 label.sk-toggleable__label-arrow:hover:before {color: black;}#sk-container-id-22 div.sk-estimator:hover label.sk-toggleable__label-arrow:before {color: black;}#sk-container-id-22 div.sk-toggleable__content {max-height: 0;max-width: 0;overflow: hidden;text-align: left;background-color: #f0f8ff;}#sk-container-id-22 div.sk-toggleable__content pre {margin: 0.2em;color: black;border-radius: 0.25em;background-color: #f0f8ff;}#sk-container-id-22 input.sk-toggleable__control:checked~div.sk-toggleable__content {max-height: 200px;max-width: 100%;overflow: auto;}#sk-container-id-22 input.sk-toggleable__control:checked~label.sk-toggleable__label-arrow:before {content: \"▾\";}#sk-container-id-22 div.sk-estimator input.sk-toggleable__control:checked~label.sk-toggleable__label {background-color: #d4ebff;}#sk-container-id-22 div.sk-label input.sk-toggleable__control:checked~label.sk-toggleable__label {background-color: #d4ebff;}#sk-container-id-22 input.sk-hidden--visually {border: 0;clip: rect(1px 1px 1px 1px);clip: rect(1px, 1px, 1px, 1px);height: 1px;margin: -1px;overflow: hidden;padding: 0;position: absolute;width: 1px;}#sk-container-id-22 div.sk-estimator {font-family: monospace;background-color: #f0f8ff;border: 1px dotted black;border-radius: 0.25em;box-sizing: border-box;margin-bottom: 0.5em;}#sk-container-id-22 div.sk-estimator:hover {background-color: #d4ebff;}#sk-container-id-22 div.sk-parallel-item::after {content: \"\";width: 100%;border-bottom: 1px solid gray;flex-grow: 1;}#sk-container-id-22 div.sk-label:hover label.sk-toggleable__label {background-color: #d4ebff;}#sk-container-id-22 div.sk-serial::before {content: \"\";position: absolute;border-left: 1px solid gray;box-sizing: border-box;top: 0;bottom: 0;left: 50%;z-index: 0;}#sk-container-id-22 div.sk-serial {display: flex;flex-direction: column;align-items: center;background-color: white;padding-right: 0.2em;padding-left: 0.2em;position: relative;}#sk-container-id-22 div.sk-item {position: relative;z-index: 1;}#sk-container-id-22 div.sk-parallel {display: flex;align-items: stretch;justify-content: center;background-color: white;position: relative;}#sk-container-id-22 div.sk-item::before, #sk-container-id-22 div.sk-parallel-item::before {content: \"\";position: absolute;border-left: 1px solid gray;box-sizing: border-box;top: 0;bottom: 0;left: 50%;z-index: -1;}#sk-container-id-22 div.sk-parallel-item {display: flex;flex-direction: column;z-index: 1;position: relative;background-color: white;}#sk-container-id-22 div.sk-parallel-item:first-child::after {align-self: flex-end;width: 50%;}#sk-container-id-22 div.sk-parallel-item:last-child::after {align-self: flex-start;width: 50%;}#sk-container-id-22 div.sk-parallel-item:only-child::after {width: 0;}#sk-container-id-22 div.sk-dashed-wrapped {border: 1px dashed gray;margin: 0 0.4em 0.5em 0.4em;box-sizing: border-box;padding-bottom: 0.4em;background-color: white;}#sk-container-id-22 div.sk-label label {font-family: monospace;font-weight: bold;display: inline-block;line-height: 1.2em;}#sk-container-id-22 div.sk-label-container {text-align: center;}#sk-container-id-22 div.sk-container {/* jupyter's `normalize.less` sets `[hidden] { display: none; }` but bootstrap.min.css set `[hidden] { display: none !important; }` so we also need the `!important` here to be able to override the default hidden behavior on the sphinx rendered scikit-learn.org. See: https://github.com/scikit-learn/scikit-learn/issues/21755 */display: inline-block !important;position: relative;}#sk-container-id-22 div.sk-text-repr-fallback {display: none;}</style><div id=\"sk-container-id-22\" class=\"sk-top-container\"><div class=\"sk-text-repr-fallback\"><pre>GridSearchCV(cv=5,\n",
              "             estimator=Pipeline(steps=[(&#x27;preprocessor&#x27;,\n",
              "                                        ColumnTransformer(transformers=[(&#x27;num&#x27;,\n",
              "                                                                         StandardScaler(),\n",
              "                                                                         [&#x27;Number_of_Riders&#x27;,\n",
              "                                                                          &#x27;Number_of_Drivers&#x27;,\n",
              "                                                                          &#x27;Number_of_Past_Rides&#x27;,\n",
              "                                                                          &#x27;Average_Ratings&#x27;,\n",
              "                                                                          &#x27;Expected_Ride_Duration&#x27;]),\n",
              "                                                                        (&#x27;loyl&#x27;,\n",
              "                                                                         OrdinalEncoder(categories=[[&#x27;Regular&#x27;,\n",
              "                                                                                                     &#x27;Silver&#x27;,\n",
              "                                                                                                     &#x27;Gold&#x27;]]),\n",
              "                                                                         [&#x27;Customer_Loyalty_Status&#x27;]),\n",
              "                                                                        (&#x27;vehi&#x27;,\n",
              "                                                                         OrdinalEncoder(categorie...\n",
              "                                                                         [&#x27;Location_Category&#x27;,\n",
              "                                                                          &#x27;Time_of_Booking&#x27;])])),\n",
              "                                       (&#x27;regressor&#x27;,\n",
              "                                        GradientBoostingRegressor(random_state=10))]),\n",
              "             n_jobs=-1,\n",
              "             param_grid={&#x27;regressor__learning_rate&#x27;: [0.1, 0.15],\n",
              "                         &#x27;regressor__max_depth&#x27;: [5, 10],\n",
              "                         &#x27;regressor__max_features&#x27;: [&#x27;sqrt&#x27;, 0.7],\n",
              "                         &#x27;regressor__min_samples_leaf&#x27;: [10, 50, 70],\n",
              "                         &#x27;regressor__min_samples_split&#x27;: [100, 150, 200],\n",
              "                         &#x27;regressor__n_estimators&#x27;: [100, 150, 250]},\n",
              "             verbose=1)</pre><b>In a Jupyter environment, please rerun this cell to show the HTML representation or trust the notebook. <br />On GitHub, the HTML representation is unable to render, please try loading this page with nbviewer.org.</b></div><div class=\"sk-container\" hidden><div class=\"sk-item sk-dashed-wrapped\"><div class=\"sk-label-container\"><div class=\"sk-label sk-toggleable\"><input class=\"sk-toggleable__control sk-hidden--visually\" id=\"sk-estimator-id-243\" type=\"checkbox\" ><label for=\"sk-estimator-id-243\" class=\"sk-toggleable__label sk-toggleable__label-arrow\">GridSearchCV</label><div class=\"sk-toggleable__content\"><pre>GridSearchCV(cv=5,\n",
              "             estimator=Pipeline(steps=[(&#x27;preprocessor&#x27;,\n",
              "                                        ColumnTransformer(transformers=[(&#x27;num&#x27;,\n",
              "                                                                         StandardScaler(),\n",
              "                                                                         [&#x27;Number_of_Riders&#x27;,\n",
              "                                                                          &#x27;Number_of_Drivers&#x27;,\n",
              "                                                                          &#x27;Number_of_Past_Rides&#x27;,\n",
              "                                                                          &#x27;Average_Ratings&#x27;,\n",
              "                                                                          &#x27;Expected_Ride_Duration&#x27;]),\n",
              "                                                                        (&#x27;loyl&#x27;,\n",
              "                                                                         OrdinalEncoder(categories=[[&#x27;Regular&#x27;,\n",
              "                                                                                                     &#x27;Silver&#x27;,\n",
              "                                                                                                     &#x27;Gold&#x27;]]),\n",
              "                                                                         [&#x27;Customer_Loyalty_Status&#x27;]),\n",
              "                                                                        (&#x27;vehi&#x27;,\n",
              "                                                                         OrdinalEncoder(categorie...\n",
              "                                                                         [&#x27;Location_Category&#x27;,\n",
              "                                                                          &#x27;Time_of_Booking&#x27;])])),\n",
              "                                       (&#x27;regressor&#x27;,\n",
              "                                        GradientBoostingRegressor(random_state=10))]),\n",
              "             n_jobs=-1,\n",
              "             param_grid={&#x27;regressor__learning_rate&#x27;: [0.1, 0.15],\n",
              "                         &#x27;regressor__max_depth&#x27;: [5, 10],\n",
              "                         &#x27;regressor__max_features&#x27;: [&#x27;sqrt&#x27;, 0.7],\n",
              "                         &#x27;regressor__min_samples_leaf&#x27;: [10, 50, 70],\n",
              "                         &#x27;regressor__min_samples_split&#x27;: [100, 150, 200],\n",
              "                         &#x27;regressor__n_estimators&#x27;: [100, 150, 250]},\n",
              "             verbose=1)</pre></div></div></div><div class=\"sk-parallel\"><div class=\"sk-parallel-item\"><div class=\"sk-item\"><div class=\"sk-label-container\"><div class=\"sk-label sk-toggleable\"><input class=\"sk-toggleable__control sk-hidden--visually\" id=\"sk-estimator-id-244\" type=\"checkbox\" ><label for=\"sk-estimator-id-244\" class=\"sk-toggleable__label sk-toggleable__label-arrow\">estimator: Pipeline</label><div class=\"sk-toggleable__content\"><pre>Pipeline(steps=[(&#x27;preprocessor&#x27;,\n",
              "                 ColumnTransformer(transformers=[(&#x27;num&#x27;, StandardScaler(),\n",
              "                                                  [&#x27;Number_of_Riders&#x27;,\n",
              "                                                   &#x27;Number_of_Drivers&#x27;,\n",
              "                                                   &#x27;Number_of_Past_Rides&#x27;,\n",
              "                                                   &#x27;Average_Ratings&#x27;,\n",
              "                                                   &#x27;Expected_Ride_Duration&#x27;]),\n",
              "                                                 (&#x27;loyl&#x27;,\n",
              "                                                  OrdinalEncoder(categories=[[&#x27;Regular&#x27;,\n",
              "                                                                              &#x27;Silver&#x27;,\n",
              "                                                                              &#x27;Gold&#x27;]]),\n",
              "                                                  [&#x27;Customer_Loyalty_Status&#x27;]),\n",
              "                                                 (&#x27;vehi&#x27;,\n",
              "                                                  OrdinalEncoder(categories=[[&#x27;Economy&#x27;,\n",
              "                                                                              &#x27;Premium&#x27;]]),\n",
              "                                                  [&#x27;Vehicle_Type&#x27;]),\n",
              "                                                 (&#x27;nomi&#x27;, OneHotEncoder(),\n",
              "                                                  [&#x27;Location_Category&#x27;,\n",
              "                                                   &#x27;Time_of_Booking&#x27;])])),\n",
              "                (&#x27;regressor&#x27;, GradientBoostingRegressor(random_state=10))])</pre></div></div></div><div class=\"sk-serial\"><div class=\"sk-item\"><div class=\"sk-serial\"><div class=\"sk-item sk-dashed-wrapped\"><div class=\"sk-label-container\"><div class=\"sk-label sk-toggleable\"><input class=\"sk-toggleable__control sk-hidden--visually\" id=\"sk-estimator-id-245\" type=\"checkbox\" ><label for=\"sk-estimator-id-245\" class=\"sk-toggleable__label sk-toggleable__label-arrow\">preprocessor: ColumnTransformer</label><div class=\"sk-toggleable__content\"><pre>ColumnTransformer(transformers=[(&#x27;num&#x27;, StandardScaler(),\n",
              "                                 [&#x27;Number_of_Riders&#x27;, &#x27;Number_of_Drivers&#x27;,\n",
              "                                  &#x27;Number_of_Past_Rides&#x27;, &#x27;Average_Ratings&#x27;,\n",
              "                                  &#x27;Expected_Ride_Duration&#x27;]),\n",
              "                                (&#x27;loyl&#x27;,\n",
              "                                 OrdinalEncoder(categories=[[&#x27;Regular&#x27;,\n",
              "                                                             &#x27;Silver&#x27;,\n",
              "                                                             &#x27;Gold&#x27;]]),\n",
              "                                 [&#x27;Customer_Loyalty_Status&#x27;]),\n",
              "                                (&#x27;vehi&#x27;,\n",
              "                                 OrdinalEncoder(categories=[[&#x27;Economy&#x27;,\n",
              "                                                             &#x27;Premium&#x27;]]),\n",
              "                                 [&#x27;Vehicle_Type&#x27;]),\n",
              "                                (&#x27;nomi&#x27;, OneHotEncoder(),\n",
              "                                 [&#x27;Location_Category&#x27;, &#x27;Time_of_Booking&#x27;])])</pre></div></div></div><div class=\"sk-parallel\"><div class=\"sk-parallel-item\"><div class=\"sk-item\"><div class=\"sk-label-container\"><div class=\"sk-label sk-toggleable\"><input class=\"sk-toggleable__control sk-hidden--visually\" id=\"sk-estimator-id-246\" type=\"checkbox\" ><label for=\"sk-estimator-id-246\" class=\"sk-toggleable__label sk-toggleable__label-arrow\">num</label><div class=\"sk-toggleable__content\"><pre>[&#x27;Number_of_Riders&#x27;, &#x27;Number_of_Drivers&#x27;, &#x27;Number_of_Past_Rides&#x27;, &#x27;Average_Ratings&#x27;, &#x27;Expected_Ride_Duration&#x27;]</pre></div></div></div><div class=\"sk-serial\"><div class=\"sk-item\"><div class=\"sk-estimator sk-toggleable\"><input class=\"sk-toggleable__control sk-hidden--visually\" id=\"sk-estimator-id-247\" type=\"checkbox\" ><label for=\"sk-estimator-id-247\" class=\"sk-toggleable__label sk-toggleable__label-arrow\">StandardScaler</label><div class=\"sk-toggleable__content\"><pre>StandardScaler()</pre></div></div></div></div></div></div><div class=\"sk-parallel-item\"><div class=\"sk-item\"><div class=\"sk-label-container\"><div class=\"sk-label sk-toggleable\"><input class=\"sk-toggleable__control sk-hidden--visually\" id=\"sk-estimator-id-248\" type=\"checkbox\" ><label for=\"sk-estimator-id-248\" class=\"sk-toggleable__label sk-toggleable__label-arrow\">loyl</label><div class=\"sk-toggleable__content\"><pre>[&#x27;Customer_Loyalty_Status&#x27;]</pre></div></div></div><div class=\"sk-serial\"><div class=\"sk-item\"><div class=\"sk-estimator sk-toggleable\"><input class=\"sk-toggleable__control sk-hidden--visually\" id=\"sk-estimator-id-249\" type=\"checkbox\" ><label for=\"sk-estimator-id-249\" class=\"sk-toggleable__label sk-toggleable__label-arrow\">OrdinalEncoder</label><div class=\"sk-toggleable__content\"><pre>OrdinalEncoder(categories=[[&#x27;Regular&#x27;, &#x27;Silver&#x27;, &#x27;Gold&#x27;]])</pre></div></div></div></div></div></div><div class=\"sk-parallel-item\"><div class=\"sk-item\"><div class=\"sk-label-container\"><div class=\"sk-label sk-toggleable\"><input class=\"sk-toggleable__control sk-hidden--visually\" id=\"sk-estimator-id-250\" type=\"checkbox\" ><label for=\"sk-estimator-id-250\" class=\"sk-toggleable__label sk-toggleable__label-arrow\">vehi</label><div class=\"sk-toggleable__content\"><pre>[&#x27;Vehicle_Type&#x27;]</pre></div></div></div><div class=\"sk-serial\"><div class=\"sk-item\"><div class=\"sk-estimator sk-toggleable\"><input class=\"sk-toggleable__control sk-hidden--visually\" id=\"sk-estimator-id-251\" type=\"checkbox\" ><label for=\"sk-estimator-id-251\" class=\"sk-toggleable__label sk-toggleable__label-arrow\">OrdinalEncoder</label><div class=\"sk-toggleable__content\"><pre>OrdinalEncoder(categories=[[&#x27;Economy&#x27;, &#x27;Premium&#x27;]])</pre></div></div></div></div></div></div><div class=\"sk-parallel-item\"><div class=\"sk-item\"><div class=\"sk-label-container\"><div class=\"sk-label sk-toggleable\"><input class=\"sk-toggleable__control sk-hidden--visually\" id=\"sk-estimator-id-252\" type=\"checkbox\" ><label for=\"sk-estimator-id-252\" class=\"sk-toggleable__label sk-toggleable__label-arrow\">nomi</label><div class=\"sk-toggleable__content\"><pre>[&#x27;Location_Category&#x27;, &#x27;Time_of_Booking&#x27;]</pre></div></div></div><div class=\"sk-serial\"><div class=\"sk-item\"><div class=\"sk-estimator sk-toggleable\"><input class=\"sk-toggleable__control sk-hidden--visually\" id=\"sk-estimator-id-253\" type=\"checkbox\" ><label for=\"sk-estimator-id-253\" class=\"sk-toggleable__label sk-toggleable__label-arrow\">OneHotEncoder</label><div class=\"sk-toggleable__content\"><pre>OneHotEncoder()</pre></div></div></div></div></div></div></div></div><div class=\"sk-item\"><div class=\"sk-estimator sk-toggleable\"><input class=\"sk-toggleable__control sk-hidden--visually\" id=\"sk-estimator-id-254\" type=\"checkbox\" ><label for=\"sk-estimator-id-254\" class=\"sk-toggleable__label sk-toggleable__label-arrow\">GradientBoostingRegressor</label><div class=\"sk-toggleable__content\"><pre>GradientBoostingRegressor(random_state=10)</pre></div></div></div></div></div></div></div></div></div></div></div></div>"
            ]
          },
          "metadata": {},
          "execution_count": 173
        }
      ],
      "source": [
        "# Fitting  GridSearchCV Object\n",
        "XG_grid.fit(X_train, y_train)"
      ]
    },
    {
      "cell_type": "markdown",
      "metadata": {
        "id": "8PsjprvXUoDX"
      },
      "source": [
        "## best parameters"
      ]
    },
    {
      "cell_type": "code",
      "execution_count": null,
      "metadata": {
        "colab": {
          "base_uri": "https://localhost:8080/"
        },
        "outputId": "81db3e38-e595-41d8-885d-24693f11c126",
        "id": "34FObFHBUoDX"
      },
      "outputs": [
        {
          "output_type": "stream",
          "name": "stdout",
          "text": [
            "Best Parameters: {'regressor__learning_rate': 0.15, 'regressor__max_depth': 10, 'regressor__max_features': 0.7, 'regressor__min_samples_leaf': 10, 'regressor__min_samples_split': 200, 'regressor__n_estimators': 250}\n"
          ]
        }
      ],
      "source": [
        "# Get the best parameters and model from the grid search\n",
        "best_params = XG_grid.best_params_\n",
        "best_model = XG_grid.best_estimator_\n",
        "\n",
        "\n",
        "\n",
        "# Print the best parameters\n",
        "print(\"Best Parameters:\", best_params)\n",
        "\n"
      ]
    },
    {
      "cell_type": "markdown",
      "metadata": {
        "id": "Omwx1rIfUoDY"
      },
      "source": [
        "## model performance after tuning"
      ]
    },
    {
      "cell_type": "code",
      "execution_count": null,
      "metadata": {
        "colab": {
          "base_uri": "https://localhost:8080/"
        },
        "outputId": "4494067b-5fa2-4fc8-eb18-711f2ba63869",
        "id": "qh_6A9T9UoDY"
      },
      "outputs": [
        {
          "output_type": "stream",
          "name": "stdout",
          "text": [
            "XGB with tuning: \n",
            "\n",
            "R2 Score (Test): 0.9775\n",
            "R2 Score (Train): 0.9976\n",
            "RMSE (Test): 12.4626\n",
            "RMSE (Train):4.3987\n",
            "\n",
            "\n"
          ]
        }
      ],
      "source": [
        "\n",
        "# Predict on the test data using the best model\n",
        "y_pred_train = best_model.predict(X_test)\n",
        "y_pred_train = best_model.predict(X_train)\n",
        "\n",
        "\n",
        "# Evaluate the model\n",
        "\n",
        "# Calculate R2 scores\n",
        "r2_score_test = r2_score(y_test, y_pred_test)\n",
        "r2_score_train = r2_score(y_train, y_pred_train)\n",
        "\n",
        "# Calculate mean squared error\n",
        "mse_test = mean_squared_error(y_test, y_pred_test)\n",
        "mse_train = mean_squared_error(y_train, y_pred_train)\n",
        "\n",
        "# Print the evaluation metrics\n",
        "print(\"XGB with tuning: \\n\")\n",
        "print(f\"R2 Score (Test): {r2_score_test:.4f}\")\n",
        "print(f\"R2 Score (Train): {r2_score_train:.4f}\")\n",
        "print(f\"RMSE (Test): {np.sqrt(mse_test):.4f}\")\n",
        "print(f\"RMSE (Train):{np.sqrt( mse_train):.4f}\")\n",
        "print(\"\\n\")\n"
      ]
    },
    {
      "cell_type": "markdown",
      "source": [
        "# **Best Model**\n",
        "\n",
        "the best model is XGB without tuning. with ;\n",
        "\n",
        " R2 Score (Test): 0.9871\n",
        "\n",
        "R2 Score (Train): 0.9902\n",
        "\n",
        "RMSE (Test): 9.4328\n",
        "\n",
        "RMSE (Train):8.8098"
      ],
      "metadata": {
        "id": "hm3oNjyYiSsk"
      }
    },
    {
      "cell_type": "code",
      "source": [
        "best_estimator =  XG_model.named_steps['regressor']\n",
        "best_estimator"
      ],
      "metadata": {
        "colab": {
          "base_uri": "https://localhost:8080/",
          "height": 74
        },
        "id": "FzpE4DX_inU9",
        "outputId": "b833d4c1-a186-440e-a965-e97d836ebc30"
      },
      "execution_count": null,
      "outputs": [
        {
          "output_type": "execute_result",
          "data": {
            "text/plain": [
              "GradientBoostingRegressor(random_state=10)"
            ],
            "text/html": [
              "<style>#sk-container-id-2 {color: black;background-color: white;}#sk-container-id-2 pre{padding: 0;}#sk-container-id-2 div.sk-toggleable {background-color: white;}#sk-container-id-2 label.sk-toggleable__label {cursor: pointer;display: block;width: 100%;margin-bottom: 0;padding: 0.3em;box-sizing: border-box;text-align: center;}#sk-container-id-2 label.sk-toggleable__label-arrow:before {content: \"▸\";float: left;margin-right: 0.25em;color: #696969;}#sk-container-id-2 label.sk-toggleable__label-arrow:hover:before {color: black;}#sk-container-id-2 div.sk-estimator:hover label.sk-toggleable__label-arrow:before {color: black;}#sk-container-id-2 div.sk-toggleable__content {max-height: 0;max-width: 0;overflow: hidden;text-align: left;background-color: #f0f8ff;}#sk-container-id-2 div.sk-toggleable__content pre {margin: 0.2em;color: black;border-radius: 0.25em;background-color: #f0f8ff;}#sk-container-id-2 input.sk-toggleable__control:checked~div.sk-toggleable__content {max-height: 200px;max-width: 100%;overflow: auto;}#sk-container-id-2 input.sk-toggleable__control:checked~label.sk-toggleable__label-arrow:before {content: \"▾\";}#sk-container-id-2 div.sk-estimator input.sk-toggleable__control:checked~label.sk-toggleable__label {background-color: #d4ebff;}#sk-container-id-2 div.sk-label input.sk-toggleable__control:checked~label.sk-toggleable__label {background-color: #d4ebff;}#sk-container-id-2 input.sk-hidden--visually {border: 0;clip: rect(1px 1px 1px 1px);clip: rect(1px, 1px, 1px, 1px);height: 1px;margin: -1px;overflow: hidden;padding: 0;position: absolute;width: 1px;}#sk-container-id-2 div.sk-estimator {font-family: monospace;background-color: #f0f8ff;border: 1px dotted black;border-radius: 0.25em;box-sizing: border-box;margin-bottom: 0.5em;}#sk-container-id-2 div.sk-estimator:hover {background-color: #d4ebff;}#sk-container-id-2 div.sk-parallel-item::after {content: \"\";width: 100%;border-bottom: 1px solid gray;flex-grow: 1;}#sk-container-id-2 div.sk-label:hover label.sk-toggleable__label {background-color: #d4ebff;}#sk-container-id-2 div.sk-serial::before {content: \"\";position: absolute;border-left: 1px solid gray;box-sizing: border-box;top: 0;bottom: 0;left: 50%;z-index: 0;}#sk-container-id-2 div.sk-serial {display: flex;flex-direction: column;align-items: center;background-color: white;padding-right: 0.2em;padding-left: 0.2em;position: relative;}#sk-container-id-2 div.sk-item {position: relative;z-index: 1;}#sk-container-id-2 div.sk-parallel {display: flex;align-items: stretch;justify-content: center;background-color: white;position: relative;}#sk-container-id-2 div.sk-item::before, #sk-container-id-2 div.sk-parallel-item::before {content: \"\";position: absolute;border-left: 1px solid gray;box-sizing: border-box;top: 0;bottom: 0;left: 50%;z-index: -1;}#sk-container-id-2 div.sk-parallel-item {display: flex;flex-direction: column;z-index: 1;position: relative;background-color: white;}#sk-container-id-2 div.sk-parallel-item:first-child::after {align-self: flex-end;width: 50%;}#sk-container-id-2 div.sk-parallel-item:last-child::after {align-self: flex-start;width: 50%;}#sk-container-id-2 div.sk-parallel-item:only-child::after {width: 0;}#sk-container-id-2 div.sk-dashed-wrapped {border: 1px dashed gray;margin: 0 0.4em 0.5em 0.4em;box-sizing: border-box;padding-bottom: 0.4em;background-color: white;}#sk-container-id-2 div.sk-label label {font-family: monospace;font-weight: bold;display: inline-block;line-height: 1.2em;}#sk-container-id-2 div.sk-label-container {text-align: center;}#sk-container-id-2 div.sk-container {/* jupyter's `normalize.less` sets `[hidden] { display: none; }` but bootstrap.min.css set `[hidden] { display: none !important; }` so we also need the `!important` here to be able to override the default hidden behavior on the sphinx rendered scikit-learn.org. See: https://github.com/scikit-learn/scikit-learn/issues/21755 */display: inline-block !important;position: relative;}#sk-container-id-2 div.sk-text-repr-fallback {display: none;}</style><div id=\"sk-container-id-2\" class=\"sk-top-container\"><div class=\"sk-text-repr-fallback\"><pre>GradientBoostingRegressor(random_state=10)</pre><b>In a Jupyter environment, please rerun this cell to show the HTML representation or trust the notebook. <br />On GitHub, the HTML representation is unable to render, please try loading this page with nbviewer.org.</b></div><div class=\"sk-container\" hidden><div class=\"sk-item\"><div class=\"sk-estimator sk-toggleable\"><input class=\"sk-toggleable__control sk-hidden--visually\" id=\"sk-estimator-id-12\" type=\"checkbox\" checked><label for=\"sk-estimator-id-12\" class=\"sk-toggleable__label sk-toggleable__label-arrow\">GradientBoostingRegressor</label><div class=\"sk-toggleable__content\"><pre>GradientBoostingRegressor(random_state=10)</pre></div></div></div></div></div>"
            ]
          },
          "metadata": {},
          "execution_count": 24
        }
      ]
    },
    {
      "cell_type": "markdown",
      "source": [
        "# feature importance for best model --> XGB w/o tuning"
      ],
      "metadata": {
        "id": "uEhbml6bUoDY"
      }
    },
    {
      "cell_type": "code",
      "source": [
        "\n",
        "\n",
        "feature_importances = best_estimator.feature_importances_\n",
        "\n",
        "# Get feature names\n",
        "numeric_features = ['Number_of_Riders','Number_of_Drivers','Number_of_Past_Rides','Average_Ratings','Expected_Ride_Duration']\n",
        "ordinal_features = ['Customer_Loyalty_Status','Vehicle_Type']\n",
        "nominal_features = ['Location_Category' ,'Time_of_Booking']\n",
        "\n",
        "feature_names = numeric_features + ordinal_features + list(preprocessor.named_transformers_['nomi'].get_feature_names_out(nominal_features))\n",
        "\n"
      ],
      "metadata": {
        "id": "6uX2R9T-UoDY"
      },
      "execution_count": null,
      "outputs": []
    },
    {
      "cell_type": "code",
      "source": [
        "feature_importances = best_estimator.feature_importances_\n",
        "print(feature_importances)"
      ],
      "metadata": {
        "id": "ZDoJEufbUoDY",
        "colab": {
          "base_uri": "https://localhost:8080/"
        },
        "outputId": "e76bdfe6-ef9c-4f5a-917f-ac0ba477ca52"
      },
      "execution_count": null,
      "outputs": [
        {
          "output_type": "stream",
          "name": "stdout",
          "text": [
            "[3.74722050e-01 6.21125449e-01 6.42914430e-04 6.04711929e-04\n",
            " 2.90506568e-04 3.73360817e-04 1.27654291e-05 1.70972980e-04\n",
            " 1.89186988e-03 1.48425078e-07 1.65249981e-04 0.00000000e+00\n",
            " 0.00000000e+00 0.00000000e+00]\n"
          ]
        }
      ]
    },
    {
      "cell_type": "code",
      "source": [
        "feature_importance_df = pd.DataFrame({\n",
        "    \"Variable\": feature_names,\n",
        "    \"Importance\": best_estimator.feature_importances_\n",
        "})\n",
        "\n",
        "FI_df_sorted_desc = feature_importance_df.sort_values(by=\"Importance\", ascending=False)"
      ],
      "metadata": {
        "id": "HbMW-A-oUoDZ"
      },
      "execution_count": null,
      "outputs": []
    },
    {
      "cell_type": "code",
      "source": [
        "FI_df_sorted_desc"
      ],
      "metadata": {
        "colab": {
          "base_uri": "https://localhost:8080/",
          "height": 488
        },
        "id": "XELEByYjsffg",
        "outputId": "4a43dd0c-656f-4e0d-851f-336bb8cbb3f7"
      },
      "execution_count": null,
      "outputs": [
        {
          "output_type": "execute_result",
          "data": {
            "text/plain": [
              "                      Variable    Importance\n",
              "1            Number_of_Drivers  6.211254e-01\n",
              "0             Number_of_Riders  3.747221e-01\n",
              "8   Location_Category_Suburban  1.891870e-03\n",
              "2         Number_of_Past_Rides  6.429144e-04\n",
              "3              Average_Ratings  6.047119e-04\n",
              "5      Customer_Loyalty_Status  3.733608e-04\n",
              "4       Expected_Ride_Duration  2.905066e-04\n",
              "7      Location_Category_Rural  1.709730e-04\n",
              "10   Time_of_Booking_Afternoon  1.652500e-04\n",
              "6                 Vehicle_Type  1.276543e-05\n",
              "9      Location_Category_Urban  1.484251e-07\n",
              "11     Time_of_Booking_Evening  0.000000e+00\n",
              "12     Time_of_Booking_Morning  0.000000e+00\n",
              "13       Time_of_Booking_Night  0.000000e+00"
            ],
            "text/html": [
              "\n",
              "  <div id=\"df-e4e41610-32d7-4062-b634-25d4884a31c1\" class=\"colab-df-container\">\n",
              "    <div>\n",
              "<style scoped>\n",
              "    .dataframe tbody tr th:only-of-type {\n",
              "        vertical-align: middle;\n",
              "    }\n",
              "\n",
              "    .dataframe tbody tr th {\n",
              "        vertical-align: top;\n",
              "    }\n",
              "\n",
              "    .dataframe thead th {\n",
              "        text-align: right;\n",
              "    }\n",
              "</style>\n",
              "<table border=\"1\" class=\"dataframe\">\n",
              "  <thead>\n",
              "    <tr style=\"text-align: right;\">\n",
              "      <th></th>\n",
              "      <th>Variable</th>\n",
              "      <th>Importance</th>\n",
              "    </tr>\n",
              "  </thead>\n",
              "  <tbody>\n",
              "    <tr>\n",
              "      <th>1</th>\n",
              "      <td>Number_of_Drivers</td>\n",
              "      <td>6.211254e-01</td>\n",
              "    </tr>\n",
              "    <tr>\n",
              "      <th>0</th>\n",
              "      <td>Number_of_Riders</td>\n",
              "      <td>3.747221e-01</td>\n",
              "    </tr>\n",
              "    <tr>\n",
              "      <th>8</th>\n",
              "      <td>Location_Category_Suburban</td>\n",
              "      <td>1.891870e-03</td>\n",
              "    </tr>\n",
              "    <tr>\n",
              "      <th>2</th>\n",
              "      <td>Number_of_Past_Rides</td>\n",
              "      <td>6.429144e-04</td>\n",
              "    </tr>\n",
              "    <tr>\n",
              "      <th>3</th>\n",
              "      <td>Average_Ratings</td>\n",
              "      <td>6.047119e-04</td>\n",
              "    </tr>\n",
              "    <tr>\n",
              "      <th>5</th>\n",
              "      <td>Customer_Loyalty_Status</td>\n",
              "      <td>3.733608e-04</td>\n",
              "    </tr>\n",
              "    <tr>\n",
              "      <th>4</th>\n",
              "      <td>Expected_Ride_Duration</td>\n",
              "      <td>2.905066e-04</td>\n",
              "    </tr>\n",
              "    <tr>\n",
              "      <th>7</th>\n",
              "      <td>Location_Category_Rural</td>\n",
              "      <td>1.709730e-04</td>\n",
              "    </tr>\n",
              "    <tr>\n",
              "      <th>10</th>\n",
              "      <td>Time_of_Booking_Afternoon</td>\n",
              "      <td>1.652500e-04</td>\n",
              "    </tr>\n",
              "    <tr>\n",
              "      <th>6</th>\n",
              "      <td>Vehicle_Type</td>\n",
              "      <td>1.276543e-05</td>\n",
              "    </tr>\n",
              "    <tr>\n",
              "      <th>9</th>\n",
              "      <td>Location_Category_Urban</td>\n",
              "      <td>1.484251e-07</td>\n",
              "    </tr>\n",
              "    <tr>\n",
              "      <th>11</th>\n",
              "      <td>Time_of_Booking_Evening</td>\n",
              "      <td>0.000000e+00</td>\n",
              "    </tr>\n",
              "    <tr>\n",
              "      <th>12</th>\n",
              "      <td>Time_of_Booking_Morning</td>\n",
              "      <td>0.000000e+00</td>\n",
              "    </tr>\n",
              "    <tr>\n",
              "      <th>13</th>\n",
              "      <td>Time_of_Booking_Night</td>\n",
              "      <td>0.000000e+00</td>\n",
              "    </tr>\n",
              "  </tbody>\n",
              "</table>\n",
              "</div>\n",
              "    <div class=\"colab-df-buttons\">\n",
              "\n",
              "  <div class=\"colab-df-container\">\n",
              "    <button class=\"colab-df-convert\" onclick=\"convertToInteractive('df-e4e41610-32d7-4062-b634-25d4884a31c1')\"\n",
              "            title=\"Convert this dataframe to an interactive table.\"\n",
              "            style=\"display:none;\">\n",
              "\n",
              "  <svg xmlns=\"http://www.w3.org/2000/svg\" height=\"24px\" viewBox=\"0 -960 960 960\">\n",
              "    <path d=\"M120-120v-720h720v720H120Zm60-500h600v-160H180v160Zm220 220h160v-160H400v160Zm0 220h160v-160H400v160ZM180-400h160v-160H180v160Zm440 0h160v-160H620v160ZM180-180h160v-160H180v160Zm440 0h160v-160H620v160Z\"/>\n",
              "  </svg>\n",
              "    </button>\n",
              "\n",
              "  <style>\n",
              "    .colab-df-container {\n",
              "      display:flex;\n",
              "      gap: 12px;\n",
              "    }\n",
              "\n",
              "    .colab-df-convert {\n",
              "      background-color: #E8F0FE;\n",
              "      border: none;\n",
              "      border-radius: 50%;\n",
              "      cursor: pointer;\n",
              "      display: none;\n",
              "      fill: #1967D2;\n",
              "      height: 32px;\n",
              "      padding: 0 0 0 0;\n",
              "      width: 32px;\n",
              "    }\n",
              "\n",
              "    .colab-df-convert:hover {\n",
              "      background-color: #E2EBFA;\n",
              "      box-shadow: 0px 1px 2px rgba(60, 64, 67, 0.3), 0px 1px 3px 1px rgba(60, 64, 67, 0.15);\n",
              "      fill: #174EA6;\n",
              "    }\n",
              "\n",
              "    .colab-df-buttons div {\n",
              "      margin-bottom: 4px;\n",
              "    }\n",
              "\n",
              "    [theme=dark] .colab-df-convert {\n",
              "      background-color: #3B4455;\n",
              "      fill: #D2E3FC;\n",
              "    }\n",
              "\n",
              "    [theme=dark] .colab-df-convert:hover {\n",
              "      background-color: #434B5C;\n",
              "      box-shadow: 0px 1px 3px 1px rgba(0, 0, 0, 0.15);\n",
              "      filter: drop-shadow(0px 1px 2px rgba(0, 0, 0, 0.3));\n",
              "      fill: #FFFFFF;\n",
              "    }\n",
              "  </style>\n",
              "\n",
              "    <script>\n",
              "      const buttonEl =\n",
              "        document.querySelector('#df-e4e41610-32d7-4062-b634-25d4884a31c1 button.colab-df-convert');\n",
              "      buttonEl.style.display =\n",
              "        google.colab.kernel.accessAllowed ? 'block' : 'none';\n",
              "\n",
              "      async function convertToInteractive(key) {\n",
              "        const element = document.querySelector('#df-e4e41610-32d7-4062-b634-25d4884a31c1');\n",
              "        const dataTable =\n",
              "          await google.colab.kernel.invokeFunction('convertToInteractive',\n",
              "                                                    [key], {});\n",
              "        if (!dataTable) return;\n",
              "\n",
              "        const docLinkHtml = 'Like what you see? Visit the ' +\n",
              "          '<a target=\"_blank\" href=https://colab.research.google.com/notebooks/data_table.ipynb>data table notebook</a>'\n",
              "          + ' to learn more about interactive tables.';\n",
              "        element.innerHTML = '';\n",
              "        dataTable['output_type'] = 'display_data';\n",
              "        await google.colab.output.renderOutput(dataTable, element);\n",
              "        const docLink = document.createElement('div');\n",
              "        docLink.innerHTML = docLinkHtml;\n",
              "        element.appendChild(docLink);\n",
              "      }\n",
              "    </script>\n",
              "  </div>\n",
              "\n",
              "\n",
              "<div id=\"df-febf2f38-4de3-4e49-a04c-2be61a4ad06f\">\n",
              "  <button class=\"colab-df-quickchart\" onclick=\"quickchart('df-febf2f38-4de3-4e49-a04c-2be61a4ad06f')\"\n",
              "            title=\"Suggest charts\"\n",
              "            style=\"display:none;\">\n",
              "\n",
              "<svg xmlns=\"http://www.w3.org/2000/svg\" height=\"24px\"viewBox=\"0 0 24 24\"\n",
              "     width=\"24px\">\n",
              "    <g>\n",
              "        <path d=\"M19 3H5c-1.1 0-2 .9-2 2v14c0 1.1.9 2 2 2h14c1.1 0 2-.9 2-2V5c0-1.1-.9-2-2-2zM9 17H7v-7h2v7zm4 0h-2V7h2v10zm4 0h-2v-4h2v4z\"/>\n",
              "    </g>\n",
              "</svg>\n",
              "  </button>\n",
              "\n",
              "<style>\n",
              "  .colab-df-quickchart {\n",
              "      --bg-color: #E8F0FE;\n",
              "      --fill-color: #1967D2;\n",
              "      --hover-bg-color: #E2EBFA;\n",
              "      --hover-fill-color: #174EA6;\n",
              "      --disabled-fill-color: #AAA;\n",
              "      --disabled-bg-color: #DDD;\n",
              "  }\n",
              "\n",
              "  [theme=dark] .colab-df-quickchart {\n",
              "      --bg-color: #3B4455;\n",
              "      --fill-color: #D2E3FC;\n",
              "      --hover-bg-color: #434B5C;\n",
              "      --hover-fill-color: #FFFFFF;\n",
              "      --disabled-bg-color: #3B4455;\n",
              "      --disabled-fill-color: #666;\n",
              "  }\n",
              "\n",
              "  .colab-df-quickchart {\n",
              "    background-color: var(--bg-color);\n",
              "    border: none;\n",
              "    border-radius: 50%;\n",
              "    cursor: pointer;\n",
              "    display: none;\n",
              "    fill: var(--fill-color);\n",
              "    height: 32px;\n",
              "    padding: 0;\n",
              "    width: 32px;\n",
              "  }\n",
              "\n",
              "  .colab-df-quickchart:hover {\n",
              "    background-color: var(--hover-bg-color);\n",
              "    box-shadow: 0 1px 2px rgba(60, 64, 67, 0.3), 0 1px 3px 1px rgba(60, 64, 67, 0.15);\n",
              "    fill: var(--button-hover-fill-color);\n",
              "  }\n",
              "\n",
              "  .colab-df-quickchart-complete:disabled,\n",
              "  .colab-df-quickchart-complete:disabled:hover {\n",
              "    background-color: var(--disabled-bg-color);\n",
              "    fill: var(--disabled-fill-color);\n",
              "    box-shadow: none;\n",
              "  }\n",
              "\n",
              "  .colab-df-spinner {\n",
              "    border: 2px solid var(--fill-color);\n",
              "    border-color: transparent;\n",
              "    border-bottom-color: var(--fill-color);\n",
              "    animation:\n",
              "      spin 1s steps(1) infinite;\n",
              "  }\n",
              "\n",
              "  @keyframes spin {\n",
              "    0% {\n",
              "      border-color: transparent;\n",
              "      border-bottom-color: var(--fill-color);\n",
              "      border-left-color: var(--fill-color);\n",
              "    }\n",
              "    20% {\n",
              "      border-color: transparent;\n",
              "      border-left-color: var(--fill-color);\n",
              "      border-top-color: var(--fill-color);\n",
              "    }\n",
              "    30% {\n",
              "      border-color: transparent;\n",
              "      border-left-color: var(--fill-color);\n",
              "      border-top-color: var(--fill-color);\n",
              "      border-right-color: var(--fill-color);\n",
              "    }\n",
              "    40% {\n",
              "      border-color: transparent;\n",
              "      border-right-color: var(--fill-color);\n",
              "      border-top-color: var(--fill-color);\n",
              "    }\n",
              "    60% {\n",
              "      border-color: transparent;\n",
              "      border-right-color: var(--fill-color);\n",
              "    }\n",
              "    80% {\n",
              "      border-color: transparent;\n",
              "      border-right-color: var(--fill-color);\n",
              "      border-bottom-color: var(--fill-color);\n",
              "    }\n",
              "    90% {\n",
              "      border-color: transparent;\n",
              "      border-bottom-color: var(--fill-color);\n",
              "    }\n",
              "  }\n",
              "</style>\n",
              "\n",
              "  <script>\n",
              "    async function quickchart(key) {\n",
              "      const quickchartButtonEl =\n",
              "        document.querySelector('#' + key + ' button');\n",
              "      quickchartButtonEl.disabled = true;  // To prevent multiple clicks.\n",
              "      quickchartButtonEl.classList.add('colab-df-spinner');\n",
              "      try {\n",
              "        const charts = await google.colab.kernel.invokeFunction(\n",
              "            'suggestCharts', [key], {});\n",
              "      } catch (error) {\n",
              "        console.error('Error during call to suggestCharts:', error);\n",
              "      }\n",
              "      quickchartButtonEl.classList.remove('colab-df-spinner');\n",
              "      quickchartButtonEl.classList.add('colab-df-quickchart-complete');\n",
              "    }\n",
              "    (() => {\n",
              "      let quickchartButtonEl =\n",
              "        document.querySelector('#df-febf2f38-4de3-4e49-a04c-2be61a4ad06f button');\n",
              "      quickchartButtonEl.style.display =\n",
              "        google.colab.kernel.accessAllowed ? 'block' : 'none';\n",
              "    })();\n",
              "  </script>\n",
              "</div>\n",
              "\n",
              "  <div id=\"id_bccfd6bc-eb03-48d5-8e38-aad38ecb962d\">\n",
              "    <style>\n",
              "      .colab-df-generate {\n",
              "        background-color: #E8F0FE;\n",
              "        border: none;\n",
              "        border-radius: 50%;\n",
              "        cursor: pointer;\n",
              "        display: none;\n",
              "        fill: #1967D2;\n",
              "        height: 32px;\n",
              "        padding: 0 0 0 0;\n",
              "        width: 32px;\n",
              "      }\n",
              "\n",
              "      .colab-df-generate:hover {\n",
              "        background-color: #E2EBFA;\n",
              "        box-shadow: 0px 1px 2px rgba(60, 64, 67, 0.3), 0px 1px 3px 1px rgba(60, 64, 67, 0.15);\n",
              "        fill: #174EA6;\n",
              "      }\n",
              "\n",
              "      [theme=dark] .colab-df-generate {\n",
              "        background-color: #3B4455;\n",
              "        fill: #D2E3FC;\n",
              "      }\n",
              "\n",
              "      [theme=dark] .colab-df-generate:hover {\n",
              "        background-color: #434B5C;\n",
              "        box-shadow: 0px 1px 3px 1px rgba(0, 0, 0, 0.15);\n",
              "        filter: drop-shadow(0px 1px 2px rgba(0, 0, 0, 0.3));\n",
              "        fill: #FFFFFF;\n",
              "      }\n",
              "    </style>\n",
              "    <button class=\"colab-df-generate\" onclick=\"generateWithVariable('FI_df_sorted_desc')\"\n",
              "            title=\"Generate code using this dataframe.\"\n",
              "            style=\"display:none;\">\n",
              "\n",
              "  <svg xmlns=\"http://www.w3.org/2000/svg\" height=\"24px\"viewBox=\"0 0 24 24\"\n",
              "       width=\"24px\">\n",
              "    <path d=\"M7,19H8.4L18.45,9,17,7.55,7,17.6ZM5,21V16.75L18.45,3.32a2,2,0,0,1,2.83,0l1.4,1.43a1.91,1.91,0,0,1,.58,1.4,1.91,1.91,0,0,1-.58,1.4L9.25,21ZM18.45,9,17,7.55Zm-12,3A5.31,5.31,0,0,0,4.9,8.1,5.31,5.31,0,0,0,1,6.5,5.31,5.31,0,0,0,4.9,4.9,5.31,5.31,0,0,0,6.5,1,5.31,5.31,0,0,0,8.1,4.9,5.31,5.31,0,0,0,12,6.5,5.46,5.46,0,0,0,6.5,12Z\"/>\n",
              "  </svg>\n",
              "    </button>\n",
              "    <script>\n",
              "      (() => {\n",
              "      const buttonEl =\n",
              "        document.querySelector('#id_bccfd6bc-eb03-48d5-8e38-aad38ecb962d button.colab-df-generate');\n",
              "      buttonEl.style.display =\n",
              "        google.colab.kernel.accessAllowed ? 'block' : 'none';\n",
              "\n",
              "      buttonEl.onclick = () => {\n",
              "        google.colab.notebook.generateWithVariable('FI_df_sorted_desc');\n",
              "      }\n",
              "      })();\n",
              "    </script>\n",
              "  </div>\n",
              "\n",
              "    </div>\n",
              "  </div>\n"
            ],
            "application/vnd.google.colaboratory.intrinsic+json": {
              "type": "dataframe",
              "variable_name": "FI_df_sorted_desc",
              "summary": "{\n  \"name\": \"FI_df_sorted_desc\",\n  \"rows\": 14,\n  \"fields\": [\n    {\n      \"column\": \"Variable\",\n      \"properties\": {\n        \"dtype\": \"string\",\n        \"num_unique_values\": 14,\n        \"samples\": [\n          \"Vehicle_Type\",\n          \"Time_of_Booking_Evening\",\n          \"Number_of_Drivers\"\n        ],\n        \"semantic_type\": \"\",\n        \"description\": \"\"\n      }\n    },\n    {\n      \"column\": \"Importance\",\n      \"properties\": {\n        \"dtype\": \"number\",\n        \"std\": 0.18703958980712468,\n        \"min\": 0.0,\n        \"max\": 0.6211254493901294,\n        \"num_unique_values\": 12,\n        \"samples\": [\n          1.4842507758585737e-07,\n          1.2765429061132811e-05,\n          0.6211254493901294\n        ],\n        \"semantic_type\": \"\",\n        \"description\": \"\"\n      }\n    }\n  ]\n}"
            }
          },
          "metadata": {},
          "execution_count": 28
        }
      ]
    },
    {
      "cell_type": "code",
      "source": [
        "import matplotlib.pyplot as plt\n",
        "\n",
        "FI_df_sorted = feature_importance_df.sort_values(by=\"Importance\", ascending=True)\n",
        "\n",
        "# Plot the feature importances\n",
        "plt.figure(figsize=(10, 6))\n",
        "plt.barh(\"Variable\", \"Importance\",data = FI_df_sorted, color='skyblue')\n",
        "plt.xlabel('Importance')\n",
        "plt.ylabel('Variable')\n",
        "plt.title('Feature Importances')\n",
        "\n",
        "plt.show()\n"
      ],
      "metadata": {
        "colab": {
          "base_uri": "https://localhost:8080/",
          "height": 564
        },
        "outputId": "39ebc5d6-07bd-4633-a115-03c550dfaaca",
        "id": "XDbiKhhEUoDZ"
      },
      "execution_count": null,
      "outputs": [
        {
          "output_type": "display_data",
          "data": {
            "text/plain": [
              "<Figure size 1000x600 with 1 Axes>"
            ],
            "image/png": "[encoded data removed]"
          },
          "metadata": {}
        }
      ]
    },
    {
      "cell_type": "code",
      "source": [
        "column_headers=['Number_of_Riders','Number_of_Drivers','Number_of_Past_Rides','Average_Ratings','Expected_Ride_Duration','Customer_Loyalty_Status','Vehicle_Type','Location_Category','Time_of_Booking']\n",
        "importance=[feature_importances[0],feature_importances[1],feature_importances[2],feature_importances[3],feature_importances[4],feature_importances[5],feature_importances[6],sum(feature_importances[7:10]),sum(feature_importances[10:14])]\n",
        "important = pd.DataFrame({'name':column_headers, 'y':importance})\n",
        "important\n",
        "plt.subplots()\n",
        "plt.subplots_adjust(bottom=0.3)\n",
        "plt.bar(important.name, important.y )\n",
        "plt.xticks(rotation='vertical',fontsize=8)\n",
        "plt.xlabel('Fetures')\n",
        "plt.ylabel('% importance')\n",
        "plt.title('Feature Importance Best Model')\n",
        "plt.show()"
      ],
      "metadata": {
        "colab": {
          "base_uri": "https://localhost:8080/",
          "height": 508
        },
        "id": "scWe_Ebl9_xN",
        "outputId": "23216197-7e9d-4fa9-b5a2-1be0353d135e"
      },
      "execution_count": null,
      "outputs": [
        {
          "output_type": "display_data",
          "data": {
            "text/plain": [
              "<Figure size 640x480 with 1 Axes>"
            ],
            "image/png": "[encoded data removed]"
          },
          "metadata": {}
        }
      ]
    },
    {
      "cell_type": "markdown",
      "source": [
        "# Refitting the XGB model only using important variables"
      ],
      "metadata": {
        "id": "2SvhaOTs-aIq"
      }
    },
    {
      "cell_type": "code",
      "source": [
        "important"
      ],
      "metadata": {
        "colab": {
          "base_uri": "https://localhost:8080/",
          "height": 331
        },
        "id": "R8zHIvyb-kll",
        "outputId": "2b17ba5a-c25a-4252-d36b-d0d7d5a46563"
      },
      "execution_count": null,
      "outputs": [
        {
          "output_type": "execute_result",
          "data": {
            "text/plain": [
              "                      name         y\n",
              "0         Number_of_Riders  0.374722\n",
              "1        Number_of_Drivers  0.621125\n",
              "2     Number_of_Past_Rides  0.000643\n",
              "3          Average_Ratings  0.000605\n",
              "4   Expected_Ride_Duration  0.000291\n",
              "5  Customer_Loyalty_Status  0.000373\n",
              "6             Vehicle_Type  0.000013\n",
              "7        Location_Category  0.002063\n",
              "8          Time_of_Booking  0.000165"
            ],
            "text/html": [
              "\n",
              "  <div id=\"df-f95b3270-d0f1-4e12-805e-a0b07f7115a7\" class=\"colab-df-container\">\n",
              "    <div>\n",
              "<style scoped>\n",
              "    .dataframe tbody tr th:only-of-type {\n",
              "        vertical-align: middle;\n",
              "    }\n",
              "\n",
              "    .dataframe tbody tr th {\n",
              "        vertical-align: top;\n",
              "    }\n",
              "\n",
              "    .dataframe thead th {\n",
              "        text-align: right;\n",
              "    }\n",
              "</style>\n",
              "<table border=\"1\" class=\"dataframe\">\n",
              "  <thead>\n",
              "    <tr style=\"text-align: right;\">\n",
              "      <th></th>\n",
              "      <th>name</th>\n",
              "      <th>y</th>\n",
              "    </tr>\n",
              "  </thead>\n",
              "  <tbody>\n",
              "    <tr>\n",
              "      <th>0</th>\n",
              "      <td>Number_of_Riders</td>\n",
              "      <td>0.374722</td>\n",
              "    </tr>\n",
              "    <tr>\n",
              "      <th>1</th>\n",
              "      <td>Number_of_Drivers</td>\n",
              "      <td>0.621125</td>\n",
              "    </tr>\n",
              "    <tr>\n",
              "      <th>2</th>\n",
              "      <td>Number_of_Past_Rides</td>\n",
              "      <td>0.000643</td>\n",
              "    </tr>\n",
              "    <tr>\n",
              "      <th>3</th>\n",
              "      <td>Average_Ratings</td>\n",
              "      <td>0.000605</td>\n",
              "    </tr>\n",
              "    <tr>\n",
              "      <th>4</th>\n",
              "      <td>Expected_Ride_Duration</td>\n",
              "      <td>0.000291</td>\n",
              "    </tr>\n",
              "    <tr>\n",
              "      <th>5</th>\n",
              "      <td>Customer_Loyalty_Status</td>\n",
              "      <td>0.000373</td>\n",
              "    </tr>\n",
              "    <tr>\n",
              "      <th>6</th>\n",
              "      <td>Vehicle_Type</td>\n",
              "      <td>0.000013</td>\n",
              "    </tr>\n",
              "    <tr>\n",
              "      <th>7</th>\n",
              "      <td>Location_Category</td>\n",
              "      <td>0.002063</td>\n",
              "    </tr>\n",
              "    <tr>\n",
              "      <th>8</th>\n",
              "      <td>Time_of_Booking</td>\n",
              "      <td>0.000165</td>\n",
              "    </tr>\n",
              "  </tbody>\n",
              "</table>\n",
              "</div>\n",
              "    <div class=\"colab-df-buttons\">\n",
              "\n",
              "  <div class=\"colab-df-container\">\n",
              "    <button class=\"colab-df-convert\" onclick=\"convertToInteractive('df-f95b3270-d0f1-4e12-805e-a0b07f7115a7')\"\n",
              "            title=\"Convert this dataframe to an interactive table.\"\n",
              "            style=\"display:none;\">\n",
              "\n",
              "  <svg xmlns=\"http://www.w3.org/2000/svg\" height=\"24px\" viewBox=\"0 -960 960 960\">\n",
              "    <path d=\"M120-120v-720h720v720H120Zm60-500h600v-160H180v160Zm220 220h160v-160H400v160Zm0 220h160v-160H400v160ZM180-400h160v-160H180v160Zm440 0h160v-160H620v160ZM180-180h160v-160H180v160Zm440 0h160v-160H620v160Z\"/>\n",
              "  </svg>\n",
              "    </button>\n",
              "\n",
              "  <style>\n",
              "    .colab-df-container {\n",
              "      display:flex;\n",
              "      gap: 12px;\n",
              "    }\n",
              "\n",
              "    .colab-df-convert {\n",
              "      background-color: #E8F0FE;\n",
              "      border: none;\n",
              "      border-radius: 50%;\n",
              "      cursor: pointer;\n",
              "      display: none;\n",
              "      fill: #1967D2;\n",
              "      height: 32px;\n",
              "      padding: 0 0 0 0;\n",
              "      width: 32px;\n",
              "    }\n",
              "\n",
              "    .colab-df-convert:hover {\n",
              "      background-color: #E2EBFA;\n",
              "      box-shadow: 0px 1px 2px rgba(60, 64, 67, 0.3), 0px 1px 3px 1px rgba(60, 64, 67, 0.15);\n",
              "      fill: #174EA6;\n",
              "    }\n",
              "\n",
              "    .colab-df-buttons div {\n",
              "      margin-bottom: 4px;\n",
              "    }\n",
              "\n",
              "    [theme=dark] .colab-df-convert {\n",
              "      background-color: #3B4455;\n",
              "      fill: #D2E3FC;\n",
              "    }\n",
              "\n",
              "    [theme=dark] .colab-df-convert:hover {\n",
              "      background-color: #434B5C;\n",
              "      box-shadow: 0px 1px 3px 1px rgba(0, 0, 0, 0.15);\n",
              "      filter: drop-shadow(0px 1px 2px rgba(0, 0, 0, 0.3));\n",
              "      fill: #FFFFFF;\n",
              "    }\n",
              "  </style>\n",
              "\n",
              "    <script>\n",
              "      const buttonEl =\n",
              "        document.querySelector('#df-f95b3270-d0f1-4e12-805e-a0b07f7115a7 button.colab-df-convert');\n",
              "      buttonEl.style.display =\n",
              "        google.colab.kernel.accessAllowed ? 'block' : 'none';\n",
              "\n",
              "      async function convertToInteractive(key) {\n",
              "        const element = document.querySelector('#df-f95b3270-d0f1-4e12-805e-a0b07f7115a7');\n",
              "        const dataTable =\n",
              "          await google.colab.kernel.invokeFunction('convertToInteractive',\n",
              "                                                    [key], {});\n",
              "        if (!dataTable) return;\n",
              "\n",
              "        const docLinkHtml = 'Like what you see? Visit the ' +\n",
              "          '<a target=\"_blank\" href=https://colab.research.google.com/notebooks/data_table.ipynb>data table notebook</a>'\n",
              "          + ' to learn more about interactive tables.';\n",
              "        element.innerHTML = '';\n",
              "        dataTable['output_type'] = 'display_data';\n",
              "        await google.colab.output.renderOutput(dataTable, element);\n",
              "        const docLink = document.createElement('div');\n",
              "        docLink.innerHTML = docLinkHtml;\n",
              "        element.appendChild(docLink);\n",
              "      }\n",
              "    </script>\n",
              "  </div>\n",
              "\n",
              "\n",
              "<div id=\"df-071975d3-8445-40a0-919e-6235602ed909\">\n",
              "  <button class=\"colab-df-quickchart\" onclick=\"quickchart('df-071975d3-8445-40a0-919e-6235602ed909')\"\n",
              "            title=\"Suggest charts\"\n",
              "            style=\"display:none;\">\n",
              "\n",
              "<svg xmlns=\"http://www.w3.org/2000/svg\" height=\"24px\"viewBox=\"0 0 24 24\"\n",
              "     width=\"24px\">\n",
              "    <g>\n",
              "        <path d=\"M19 3H5c-1.1 0-2 .9-2 2v14c0 1.1.9 2 2 2h14c1.1 0 2-.9 2-2V5c0-1.1-.9-2-2-2zM9 17H7v-7h2v7zm4 0h-2V7h2v10zm4 0h-2v-4h2v4z\"/>\n",
              "    </g>\n",
              "</svg>\n",
              "  </button>\n",
              "\n",
              "<style>\n",
              "  .colab-df-quickchart {\n",
              "      --bg-color: #E8F0FE;\n",
              "      --fill-color: #1967D2;\n",
              "      --hover-bg-color: #E2EBFA;\n",
              "      --hover-fill-color: #174EA6;\n",
              "      --disabled-fill-color: #AAA;\n",
              "      --disabled-bg-color: #DDD;\n",
              "  }\n",
              "\n",
              "  [theme=dark] .colab-df-quickchart {\n",
              "      --bg-color: #3B4455;\n",
              "      --fill-color: #D2E3FC;\n",
              "      --hover-bg-color: #434B5C;\n",
              "      --hover-fill-color: #FFFFFF;\n",
              "      --disabled-bg-color: #3B4455;\n",
              "      --disabled-fill-color: #666;\n",
              "  }\n",
              "\n",
              "  .colab-df-quickchart {\n",
              "    background-color: var(--bg-color);\n",
              "    border: none;\n",
              "    border-radius: 50%;\n",
              "    cursor: pointer;\n",
              "    display: none;\n",
              "    fill: var(--fill-color);\n",
              "    height: 32px;\n",
              "    padding: 0;\n",
              "    width: 32px;\n",
              "  }\n",
              "\n",
              "  .colab-df-quickchart:hover {\n",
              "    background-color: var(--hover-bg-color);\n",
              "    box-shadow: 0 1px 2px rgba(60, 64, 67, 0.3), 0 1px 3px 1px rgba(60, 64, 67, 0.15);\n",
              "    fill: var(--button-hover-fill-color);\n",
              "  }\n",
              "\n",
              "  .colab-df-quickchart-complete:disabled,\n",
              "  .colab-df-quickchart-complete:disabled:hover {\n",
              "    background-color: var(--disabled-bg-color);\n",
              "    fill: var(--disabled-fill-color);\n",
              "    box-shadow: none;\n",
              "  }\n",
              "\n",
              "  .colab-df-spinner {\n",
              "    border: 2px solid var(--fill-color);\n",
              "    border-color: transparent;\n",
              "    border-bottom-color: var(--fill-color);\n",
              "    animation:\n",
              "      spin 1s steps(1) infinite;\n",
              "  }\n",
              "\n",
              "  @keyframes spin {\n",
              "    0% {\n",
              "      border-color: transparent;\n",
              "      border-bottom-color: var(--fill-color);\n",
              "      border-left-color: var(--fill-color);\n",
              "    }\n",
              "    20% {\n",
              "      border-color: transparent;\n",
              "      border-left-color: var(--fill-color);\n",
              "      border-top-color: var(--fill-color);\n",
              "    }\n",
              "    30% {\n",
              "      border-color: transparent;\n",
              "      border-left-color: var(--fill-color);\n",
              "      border-top-color: var(--fill-color);\n",
              "      border-right-color: var(--fill-color);\n",
              "    }\n",
              "    40% {\n",
              "      border-color: transparent;\n",
              "      border-right-color: var(--fill-color);\n",
              "      border-top-color: var(--fill-color);\n",
              "    }\n",
              "    60% {\n",
              "      border-color: transparent;\n",
              "      border-right-color: var(--fill-color);\n",
              "    }\n",
              "    80% {\n",
              "      border-color: transparent;\n",
              "      border-right-color: var(--fill-color);\n",
              "      border-bottom-color: var(--fill-color);\n",
              "    }\n",
              "    90% {\n",
              "      border-color: transparent;\n",
              "      border-bottom-color: var(--fill-color);\n",
              "    }\n",
              "  }\n",
              "</style>\n",
              "\n",
              "  <script>\n",
              "    async function quickchart(key) {\n",
              "      const quickchartButtonEl =\n",
              "        document.querySelector('#' + key + ' button');\n",
              "      quickchartButtonEl.disabled = true;  // To prevent multiple clicks.\n",
              "      quickchartButtonEl.classList.add('colab-df-spinner');\n",
              "      try {\n",
              "        const charts = await google.colab.kernel.invokeFunction(\n",
              "            'suggestCharts', [key], {});\n",
              "      } catch (error) {\n",
              "        console.error('Error during call to suggestCharts:', error);\n",
              "      }\n",
              "      quickchartButtonEl.classList.remove('colab-df-spinner');\n",
              "      quickchartButtonEl.classList.add('colab-df-quickchart-complete');\n",
              "    }\n",
              "    (() => {\n",
              "      let quickchartButtonEl =\n",
              "        document.querySelector('#df-071975d3-8445-40a0-919e-6235602ed909 button');\n",
              "      quickchartButtonEl.style.display =\n",
              "        google.colab.kernel.accessAllowed ? 'block' : 'none';\n",
              "    })();\n",
              "  </script>\n",
              "</div>\n",
              "\n",
              "  <div id=\"id_19dd0ff9-ea4d-4036-86a9-d47d6c5b153d\">\n",
              "    <style>\n",
              "      .colab-df-generate {\n",
              "        background-color: #E8F0FE;\n",
              "        border: none;\n",
              "        border-radius: 50%;\n",
              "        cursor: pointer;\n",
              "        display: none;\n",
              "        fill: #1967D2;\n",
              "        height: 32px;\n",
              "        padding: 0 0 0 0;\n",
              "        width: 32px;\n",
              "      }\n",
              "\n",
              "      .colab-df-generate:hover {\n",
              "        background-color: #E2EBFA;\n",
              "        box-shadow: 0px 1px 2px rgba(60, 64, 67, 0.3), 0px 1px 3px 1px rgba(60, 64, 67, 0.15);\n",
              "        fill: #174EA6;\n",
              "      }\n",
              "\n",
              "      [theme=dark] .colab-df-generate {\n",
              "        background-color: #3B4455;\n",
              "        fill: #D2E3FC;\n",
              "      }\n",
              "\n",
              "      [theme=dark] .colab-df-generate:hover {\n",
              "        background-color: #434B5C;\n",
              "        box-shadow: 0px 1px 3px 1px rgba(0, 0, 0, 0.15);\n",
              "        filter: drop-shadow(0px 1px 2px rgba(0, 0, 0, 0.3));\n",
              "        fill: #FFFFFF;\n",
              "      }\n",
              "    </style>\n",
              "    <button class=\"colab-df-generate\" onclick=\"generateWithVariable('important')\"\n",
              "            title=\"Generate code using this dataframe.\"\n",
              "            style=\"display:none;\">\n",
              "\n",
              "  <svg xmlns=\"http://www.w3.org/2000/svg\" height=\"24px\"viewBox=\"0 0 24 24\"\n",
              "       width=\"24px\">\n",
              "    <path d=\"M7,19H8.4L18.45,9,17,7.55,7,17.6ZM5,21V16.75L18.45,3.32a2,2,0,0,1,2.83,0l1.4,1.43a1.91,1.91,0,0,1,.58,1.4,1.91,1.91,0,0,1-.58,1.4L9.25,21ZM18.45,9,17,7.55Zm-12,3A5.31,5.31,0,0,0,4.9,8.1,5.31,5.31,0,0,0,1,6.5,5.31,5.31,0,0,0,4.9,4.9,5.31,5.31,0,0,0,6.5,1,5.31,5.31,0,0,0,8.1,4.9,5.31,5.31,0,0,0,12,6.5,5.46,5.46,0,0,0,6.5,12Z\"/>\n",
              "  </svg>\n",
              "    </button>\n",
              "    <script>\n",
              "      (() => {\n",
              "      const buttonEl =\n",
              "        document.querySelector('#id_19dd0ff9-ea4d-4036-86a9-d47d6c5b153d button.colab-df-generate');\n",
              "      buttonEl.style.display =\n",
              "        google.colab.kernel.accessAllowed ? 'block' : 'none';\n",
              "\n",
              "      buttonEl.onclick = () => {\n",
              "        google.colab.notebook.generateWithVariable('important');\n",
              "      }\n",
              "      })();\n",
              "    </script>\n",
              "  </div>\n",
              "\n",
              "    </div>\n",
              "  </div>\n"
            ],
            "application/vnd.google.colaboratory.intrinsic+json": {
              "type": "dataframe",
              "variable_name": "important",
              "summary": "{\n  \"name\": \"important\",\n  \"rows\": 9,\n  \"fields\": [\n    {\n      \"column\": \"name\",\n      \"properties\": {\n        \"dtype\": \"string\",\n        \"num_unique_values\": 9,\n        \"samples\": [\n          \"Location_Category\",\n          \"Number_of_Drivers\",\n          \"Customer_Loyalty_Status\"\n        ],\n        \"semantic_type\": \"\",\n        \"description\": \"\"\n      }\n    },\n    {\n      \"column\": \"y\",\n      \"properties\": {\n        \"dtype\": \"number\",\n        \"std\": 0.22779036795508525,\n        \"min\": 1.2765429061132811e-05,\n        \"max\": 0.6211254493901294,\n        \"num_unique_values\": 9,\n        \"samples\": [\n          0.002062991285025204,\n          0.6211254493901294,\n          0.0003733608166278685\n        ],\n        \"semantic_type\": \"\",\n        \"description\": \"\"\n      }\n    }\n  ]\n}"
            }
          },
          "metadata": {},
          "execution_count": 30
        }
      ]
    },
    {
      "cell_type": "code",
      "source": [
        "X_train"
      ],
      "metadata": {
        "colab": {
          "base_uri": "https://localhost:8080/",
          "height": 423
        },
        "id": "gnolRGQJ-_T7",
        "outputId": "839f97dd-54c6-4665-b8e5-bcad85430585"
      },
      "execution_count": null,
      "outputs": [
        {
          "output_type": "execute_result",
          "data": {
            "text/plain": [
              "     Number_of_Riders  Number_of_Drivers Location_Category  \\\n",
              "687                51                 25             Rural   \n",
              "500                21                  9          Suburban   \n",
              "332               100                 66          Suburban   \n",
              "979                79                 29             Rural   \n",
              "817                27                  8             Rural   \n",
              "..                ...                ...               ...   \n",
              "835                35                 21          Suburban   \n",
              "192                65                 10             Urban   \n",
              "629                57                 40             Urban   \n",
              "559                75                 56             Urban   \n",
              "684                53                 19          Suburban   \n",
              "\n",
              "    Customer_Loyalty_Status  Number_of_Past_Rides  Average_Ratings  \\\n",
              "687                 Regular                    21             4.43   \n",
              "500                    Gold                    13             4.01   \n",
              "332                    Gold                    27             3.53   \n",
              "979                  Silver                    29             4.22   \n",
              "817                    Gold                    48             4.18   \n",
              "..                      ...                   ...              ...   \n",
              "835                  Silver                    13             4.14   \n",
              "192                 Regular                    77             4.36   \n",
              "629                 Regular                    78             3.62   \n",
              "559                 Regular                    66             3.69   \n",
              "684                  Silver                    54             3.84   \n",
              "\n",
              "    Time_of_Booking Vehicle_Type  Expected_Ride_Duration  \n",
              "687         Evening      Premium                      38  \n",
              "500         Evening      Economy                     127  \n",
              "332         Evening      Premium                     106  \n",
              "979           Night      Economy                      99  \n",
              "817       Afternoon      Economy                     167  \n",
              "..              ...          ...                     ...  \n",
              "835         Morning      Premium                      36  \n",
              "192       Afternoon      Economy                     170  \n",
              "629       Afternoon      Economy                     171  \n",
              "559         Evening      Premium                      22  \n",
              "684         Evening      Economy                     132  \n",
              "\n",
              "[800 rows x 9 columns]"
            ],
            "text/html": [
              "\n",
              "  <div id=\"df-2f018525-4137-4f25-80c4-35117cc4619b\" class=\"colab-df-container\">\n",
              "    <div>\n",
              "<style scoped>\n",
              "    .dataframe tbody tr th:only-of-type {\n",
              "        vertical-align: middle;\n",
              "    }\n",
              "\n",
              "    .dataframe tbody tr th {\n",
              "        vertical-align: top;\n",
              "    }\n",
              "\n",
              "    .dataframe thead th {\n",
              "        text-align: right;\n",
              "    }\n",
              "</style>\n",
              "<table border=\"1\" class=\"dataframe\">\n",
              "  <thead>\n",
              "    <tr style=\"text-align: right;\">\n",
              "      <th></th>\n",
              "      <th>Number_of_Riders</th>\n",
              "      <th>Number_of_Drivers</th>\n",
              "      <th>Location_Category</th>\n",
              "      <th>Customer_Loyalty_Status</th>\n",
              "      <th>Number_of_Past_Rides</th>\n",
              "      <th>Average_Ratings</th>\n",
              "      <th>Time_of_Booking</th>\n",
              "      <th>Vehicle_Type</th>\n",
              "      <th>Expected_Ride_Duration</th>\n",
              "    </tr>\n",
              "  </thead>\n",
              "  <tbody>\n",
              "    <tr>\n",
              "      <th>687</th>\n",
              "      <td>51</td>\n",
              "      <td>25</td>\n",
              "      <td>Rural</td>\n",
              "      <td>Regular</td>\n",
              "      <td>21</td>\n",
              "      <td>4.43</td>\n",
              "      <td>Evening</td>\n",
              "      <td>Premium</td>\n",
              "      <td>38</td>\n",
              "    </tr>\n",
              "    <tr>\n",
              "      <th>500</th>\n",
              "      <td>21</td>\n",
              "      <td>9</td>\n",
              "      <td>Suburban</td>\n",
              "      <td>Gold</td>\n",
              "      <td>13</td>\n",
              "      <td>4.01</td>\n",
              "      <td>Evening</td>\n",
              "      <td>Economy</td>\n",
              "      <td>127</td>\n",
              "    </tr>\n",
              "    <tr>\n",
              "      <th>332</th>\n",
              "      <td>100</td>\n",
              "      <td>66</td>\n",
              "      <td>Suburban</td>\n",
              "      <td>Gold</td>\n",
              "      <td>27</td>\n",
              "      <td>3.53</td>\n",
              "      <td>Evening</td>\n",
              "      <td>Premium</td>\n",
              "      <td>106</td>\n",
              "    </tr>\n",
              "    <tr>\n",
              "      <th>979</th>\n",
              "      <td>79</td>\n",
              "      <td>29</td>\n",
              "      <td>Rural</td>\n",
              "      <td>Silver</td>\n",
              "      <td>29</td>\n",
              "      <td>4.22</td>\n",
              "      <td>Night</td>\n",
              "      <td>Economy</td>\n",
              "      <td>99</td>\n",
              "    </tr>\n",
              "    <tr>\n",
              "      <th>817</th>\n",
              "      <td>27</td>\n",
              "      <td>8</td>\n",
              "      <td>Rural</td>\n",
              "      <td>Gold</td>\n",
              "      <td>48</td>\n",
              "      <td>4.18</td>\n",
              "      <td>Afternoon</td>\n",
              "      <td>Economy</td>\n",
              "      <td>167</td>\n",
              "    </tr>\n",
              "    <tr>\n",
              "      <th>...</th>\n",
              "      <td>...</td>\n",
              "      <td>...</td>\n",
              "      <td>...</td>\n",
              "      <td>...</td>\n",
              "      <td>...</td>\n",
              "      <td>...</td>\n",
              "      <td>...</td>\n",
              "      <td>...</td>\n",
              "      <td>...</td>\n",
              "    </tr>\n",
              "    <tr>\n",
              "      <th>835</th>\n",
              "      <td>35</td>\n",
              "      <td>21</td>\n",
              "      <td>Suburban</td>\n",
              "      <td>Silver</td>\n",
              "      <td>13</td>\n",
              "      <td>4.14</td>\n",
              "      <td>Morning</td>\n",
              "      <td>Premium</td>\n",
              "      <td>36</td>\n",
              "    </tr>\n",
              "    <tr>\n",
              "      <th>192</th>\n",
              "      <td>65</td>\n",
              "      <td>10</td>\n",
              "      <td>Urban</td>\n",
              "      <td>Regular</td>\n",
              "      <td>77</td>\n",
              "      <td>4.36</td>\n",
              "      <td>Afternoon</td>\n",
              "      <td>Economy</td>\n",
              "      <td>170</td>\n",
              "    </tr>\n",
              "    <tr>\n",
              "      <th>629</th>\n",
              "      <td>57</td>\n",
              "      <td>40</td>\n",
              "      <td>Urban</td>\n",
              "      <td>Regular</td>\n",
              "      <td>78</td>\n",
              "      <td>3.62</td>\n",
              "      <td>Afternoon</td>\n",
              "      <td>Economy</td>\n",
              "      <td>171</td>\n",
              "    </tr>\n",
              "    <tr>\n",
              "      <th>559</th>\n",
              "      <td>75</td>\n",
              "      <td>56</td>\n",
              "      <td>Urban</td>\n",
              "      <td>Regular</td>\n",
              "      <td>66</td>\n",
              "      <td>3.69</td>\n",
              "      <td>Evening</td>\n",
              "      <td>Premium</td>\n",
              "      <td>22</td>\n",
              "    </tr>\n",
              "    <tr>\n",
              "      <th>684</th>\n",
              "      <td>53</td>\n",
              "      <td>19</td>\n",
              "      <td>Suburban</td>\n",
              "      <td>Silver</td>\n",
              "      <td>54</td>\n",
              "      <td>3.84</td>\n",
              "      <td>Evening</td>\n",
              "      <td>Economy</td>\n",
              "      <td>132</td>\n",
              "    </tr>\n",
              "  </tbody>\n",
              "</table>\n",
              "<p>800 rows × 9 columns</p>\n",
              "</div>\n",
              "    <div class=\"colab-df-buttons\">\n",
              "\n",
              "  <div class=\"colab-df-container\">\n",
              "    <button class=\"colab-df-convert\" onclick=\"convertToInteractive('df-2f018525-4137-4f25-80c4-35117cc4619b')\"\n",
              "            title=\"Convert this dataframe to an interactive table.\"\n",
              "            style=\"display:none;\">\n",
              "\n",
              "  <svg xmlns=\"http://www.w3.org/2000/svg\" height=\"24px\" viewBox=\"0 -960 960 960\">\n",
              "    <path d=\"M120-120v-720h720v720H120Zm60-500h600v-160H180v160Zm220 220h160v-160H400v160Zm0 220h160v-160H400v160ZM180-400h160v-160H180v160Zm440 0h160v-160H620v160ZM180-180h160v-160H180v160Zm440 0h160v-160H620v160Z\"/>\n",
              "  </svg>\n",
              "    </button>\n",
              "\n",
              "  <style>\n",
              "    .colab-df-container {\n",
              "      display:flex;\n",
              "      gap: 12px;\n",
              "    }\n",
              "\n",
              "    .colab-df-convert {\n",
              "      background-color: #E8F0FE;\n",
              "      border: none;\n",
              "      border-radius: 50%;\n",
              "      cursor: pointer;\n",
              "      display: none;\n",
              "      fill: #1967D2;\n",
              "      height: 32px;\n",
              "      padding: 0 0 0 0;\n",
              "      width: 32px;\n",
              "    }\n",
              "\n",
              "    .colab-df-convert:hover {\n",
              "      background-color: #E2EBFA;\n",
              "      box-shadow: 0px 1px 2px rgba(60, 64, 67, 0.3), 0px 1px 3px 1px rgba(60, 64, 67, 0.15);\n",
              "      fill: #174EA6;\n",
              "    }\n",
              "\n",
              "    .colab-df-buttons div {\n",
              "      margin-bottom: 4px;\n",
              "    }\n",
              "\n",
              "    [theme=dark] .colab-df-convert {\n",
              "      background-color: #3B4455;\n",
              "      fill: #D2E3FC;\n",
              "    }\n",
              "\n",
              "    [theme=dark] .colab-df-convert:hover {\n",
              "      background-color: #434B5C;\n",
              "      box-shadow: 0px 1px 3px 1px rgba(0, 0, 0, 0.15);\n",
              "      filter: drop-shadow(0px 1px 2px rgba(0, 0, 0, 0.3));\n",
              "      fill: #FFFFFF;\n",
              "    }\n",
              "  </style>\n",
              "\n",
              "    <script>\n",
              "      const buttonEl =\n",
              "        document.querySelector('#df-2f018525-4137-4f25-80c4-35117cc4619b button.colab-df-convert');\n",
              "      buttonEl.style.display =\n",
              "        google.colab.kernel.accessAllowed ? 'block' : 'none';\n",
              "\n",
              "      async function convertToInteractive(key) {\n",
              "        const element = document.querySelector('#df-2f018525-4137-4f25-80c4-35117cc4619b');\n",
              "        const dataTable =\n",
              "          await google.colab.kernel.invokeFunction('convertToInteractive',\n",
              "                                                    [key], {});\n",
              "        if (!dataTable) return;\n",
              "\n",
              "        const docLinkHtml = 'Like what you see? Visit the ' +\n",
              "          '<a target=\"_blank\" href=https://colab.research.google.com/notebooks/data_table.ipynb>data table notebook</a>'\n",
              "          + ' to learn more about interactive tables.';\n",
              "        element.innerHTML = '';\n",
              "        dataTable['output_type'] = 'display_data';\n",
              "        await google.colab.output.renderOutput(dataTable, element);\n",
              "        const docLink = document.createElement('div');\n",
              "        docLink.innerHTML = docLinkHtml;\n",
              "        element.appendChild(docLink);\n",
              "      }\n",
              "    </script>\n",
              "  </div>\n",
              "\n",
              "\n",
              "<div id=\"df-79dfd0a3-aa1a-4234-a946-f84e42b309cd\">\n",
              "  <button class=\"colab-df-quickchart\" onclick=\"quickchart('df-79dfd0a3-aa1a-4234-a946-f84e42b309cd')\"\n",
              "            title=\"Suggest charts\"\n",
              "            style=\"display:none;\">\n",
              "\n",
              "<svg xmlns=\"http://www.w3.org/2000/svg\" height=\"24px\"viewBox=\"0 0 24 24\"\n",
              "     width=\"24px\">\n",
              "    <g>\n",
              "        <path d=\"M19 3H5c-1.1 0-2 .9-2 2v14c0 1.1.9 2 2 2h14c1.1 0 2-.9 2-2V5c0-1.1-.9-2-2-2zM9 17H7v-7h2v7zm4 0h-2V7h2v10zm4 0h-2v-4h2v4z\"/>\n",
              "    </g>\n",
              "</svg>\n",
              "  </button>\n",
              "\n",
              "<style>\n",
              "  .colab-df-quickchart {\n",
              "      --bg-color: #E8F0FE;\n",
              "      --fill-color: #1967D2;\n",
              "      --hover-bg-color: #E2EBFA;\n",
              "      --hover-fill-color: #174EA6;\n",
              "      --disabled-fill-color: #AAA;\n",
              "      --disabled-bg-color: #DDD;\n",
              "  }\n",
              "\n",
              "  [theme=dark] .colab-df-quickchart {\n",
              "      --bg-color: #3B4455;\n",
              "      --fill-color: #D2E3FC;\n",
              "      --hover-bg-color: #434B5C;\n",
              "      --hover-fill-color: #FFFFFF;\n",
              "      --disabled-bg-color: #3B4455;\n",
              "      --disabled-fill-color: #666;\n",
              "  }\n",
              "\n",
              "  .colab-df-quickchart {\n",
              "    background-color: var(--bg-color);\n",
              "    border: none;\n",
              "    border-radius: 50%;\n",
              "    cursor: pointer;\n",
              "    display: none;\n",
              "    fill: var(--fill-color);\n",
              "    height: 32px;\n",
              "    padding: 0;\n",
              "    width: 32px;\n",
              "  }\n",
              "\n",
              "  .colab-df-quickchart:hover {\n",
              "    background-color: var(--hover-bg-color);\n",
              "    box-shadow: 0 1px 2px rgba(60, 64, 67, 0.3), 0 1px 3px 1px rgba(60, 64, 67, 0.15);\n",
              "    fill: var(--button-hover-fill-color);\n",
              "  }\n",
              "\n",
              "  .colab-df-quickchart-complete:disabled,\n",
              "  .colab-df-quickchart-complete:disabled:hover {\n",
              "    background-color: var(--disabled-bg-color);\n",
              "    fill: var(--disabled-fill-color);\n",
              "    box-shadow: none;\n",
              "  }\n",
              "\n",
              "  .colab-df-spinner {\n",
              "    border: 2px solid var(--fill-color);\n",
              "    border-color: transparent;\n",
              "    border-bottom-color: var(--fill-color);\n",
              "    animation:\n",
              "      spin 1s steps(1) infinite;\n",
              "  }\n",
              "\n",
              "  @keyframes spin {\n",
              "    0% {\n",
              "      border-color: transparent;\n",
              "      border-bottom-color: var(--fill-color);\n",
              "      border-left-color: var(--fill-color);\n",
              "    }\n",
              "    20% {\n",
              "      border-color: transparent;\n",
              "      border-left-color: var(--fill-color);\n",
              "      border-top-color: var(--fill-color);\n",
              "    }\n",
              "    30% {\n",
              "      border-color: transparent;\n",
              "      border-left-color: var(--fill-color);\n",
              "      border-top-color: var(--fill-color);\n",
              "      border-right-color: var(--fill-color);\n",
              "    }\n",
              "    40% {\n",
              "      border-color: transparent;\n",
              "      border-right-color: var(--fill-color);\n",
              "      border-top-color: var(--fill-color);\n",
              "    }\n",
              "    60% {\n",
              "      border-color: transparent;\n",
              "      border-right-color: var(--fill-color);\n",
              "    }\n",
              "    80% {\n",
              "      border-color: transparent;\n",
              "      border-right-color: var(--fill-color);\n",
              "      border-bottom-color: var(--fill-color);\n",
              "    }\n",
              "    90% {\n",
              "      border-color: transparent;\n",
              "      border-bottom-color: var(--fill-color);\n",
              "    }\n",
              "  }\n",
              "</style>\n",
              "\n",
              "  <script>\n",
              "    async function quickchart(key) {\n",
              "      const quickchartButtonEl =\n",
              "        document.querySelector('#' + key + ' button');\n",
              "      quickchartButtonEl.disabled = true;  // To prevent multiple clicks.\n",
              "      quickchartButtonEl.classList.add('colab-df-spinner');\n",
              "      try {\n",
              "        const charts = await google.colab.kernel.invokeFunction(\n",
              "            'suggestCharts', [key], {});\n",
              "      } catch (error) {\n",
              "        console.error('Error during call to suggestCharts:', error);\n",
              "      }\n",
              "      quickchartButtonEl.classList.remove('colab-df-spinner');\n",
              "      quickchartButtonEl.classList.add('colab-df-quickchart-complete');\n",
              "    }\n",
              "    (() => {\n",
              "      let quickchartButtonEl =\n",
              "        document.querySelector('#df-79dfd0a3-aa1a-4234-a946-f84e42b309cd button');\n",
              "      quickchartButtonEl.style.display =\n",
              "        google.colab.kernel.accessAllowed ? 'block' : 'none';\n",
              "    })();\n",
              "  </script>\n",
              "</div>\n",
              "\n",
              "  <div id=\"id_23316df2-ad2c-4ae1-b058-a0f747320724\">\n",
              "    <style>\n",
              "      .colab-df-generate {\n",
              "        background-color: #E8F0FE;\n",
              "        border: none;\n",
              "        border-radius: 50%;\n",
              "        cursor: pointer;\n",
              "        display: none;\n",
              "        fill: #1967D2;\n",
              "        height: 32px;\n",
              "        padding: 0 0 0 0;\n",
              "        width: 32px;\n",
              "      }\n",
              "\n",
              "      .colab-df-generate:hover {\n",
              "        background-color: #E2EBFA;\n",
              "        box-shadow: 0px 1px 2px rgba(60, 64, 67, 0.3), 0px 1px 3px 1px rgba(60, 64, 67, 0.15);\n",
              "        fill: #174EA6;\n",
              "      }\n",
              "\n",
              "      [theme=dark] .colab-df-generate {\n",
              "        background-color: #3B4455;\n",
              "        fill: #D2E3FC;\n",
              "      }\n",
              "\n",
              "      [theme=dark] .colab-df-generate:hover {\n",
              "        background-color: #434B5C;\n",
              "        box-shadow: 0px 1px 3px 1px rgba(0, 0, 0, 0.15);\n",
              "        filter: drop-shadow(0px 1px 2px rgba(0, 0, 0, 0.3));\n",
              "        fill: #FFFFFF;\n",
              "      }\n",
              "    </style>\n",
              "    <button class=\"colab-df-generate\" onclick=\"generateWithVariable('X_train')\"\n",
              "            title=\"Generate code using this dataframe.\"\n",
              "            style=\"display:none;\">\n",
              "\n",
              "  <svg xmlns=\"http://www.w3.org/2000/svg\" height=\"24px\"viewBox=\"0 0 24 24\"\n",
              "       width=\"24px\">\n",
              "    <path d=\"M7,19H8.4L18.45,9,17,7.55,7,17.6ZM5,21V16.75L18.45,3.32a2,2,0,0,1,2.83,0l1.4,1.43a1.91,1.91,0,0,1,.58,1.4,1.91,1.91,0,0,1-.58,1.4L9.25,21ZM18.45,9,17,7.55Zm-12,3A5.31,5.31,0,0,0,4.9,8.1,5.31,5.31,0,0,0,1,6.5,5.31,5.31,0,0,0,4.9,4.9,5.31,5.31,0,0,0,6.5,1,5.31,5.31,0,0,0,8.1,4.9,5.31,5.31,0,0,0,12,6.5,5.46,5.46,0,0,0,6.5,12Z\"/>\n",
              "  </svg>\n",
              "    </button>\n",
              "    <script>\n",
              "      (() => {\n",
              "      const buttonEl =\n",
              "        document.querySelector('#id_23316df2-ad2c-4ae1-b058-a0f747320724 button.colab-df-generate');\n",
              "      buttonEl.style.display =\n",
              "        google.colab.kernel.accessAllowed ? 'block' : 'none';\n",
              "\n",
              "      buttonEl.onclick = () => {\n",
              "        google.colab.notebook.generateWithVariable('X_train');\n",
              "      }\n",
              "      })();\n",
              "    </script>\n",
              "  </div>\n",
              "\n",
              "    </div>\n",
              "  </div>\n"
            ],
            "application/vnd.google.colaboratory.intrinsic+json": {
              "type": "dataframe",
              "variable_name": "X_train",
              "summary": "{\n  \"name\": \"X_train\",\n  \"rows\": 800,\n  \"fields\": [\n    {\n      \"column\": \"Number_of_Riders\",\n      \"properties\": {\n        \"dtype\": \"number\",\n        \"std\": 23,\n        \"min\": 20,\n        \"max\": 100,\n        \"num_unique_values\": 81,\n        \"samples\": [\n          61,\n          51,\n          96\n        ],\n        \"semantic_type\": \"\",\n        \"description\": \"\"\n      }\n    },\n    {\n      \"column\": \"Number_of_Drivers\",\n      \"properties\": {\n        \"dtype\": \"number\",\n        \"std\": 18,\n        \"min\": 5,\n        \"max\": 89,\n        \"num_unique_values\": 76,\n        \"samples\": [\n          8,\n          64,\n          19\n        ],\n        \"semantic_type\": \"\",\n        \"description\": \"\"\n      }\n    },\n    {\n      \"column\": \"Location_Category\",\n      \"properties\": {\n        \"dtype\": \"category\",\n        \"num_unique_values\": 3,\n        \"samples\": [\n          \"Rural\",\n          \"Suburban\",\n          \"Urban\"\n        ],\n        \"semantic_type\": \"\",\n        \"description\": \"\"\n      }\n    },\n    {\n      \"column\": \"Customer_Loyalty_Status\",\n      \"properties\": {\n        \"dtype\": \"category\",\n        \"num_unique_values\": 3,\n        \"samples\": [\n          \"Regular\",\n          \"Gold\",\n          \"Silver\"\n        ],\n        \"semantic_type\": \"\",\n        \"description\": \"\"\n      }\n    },\n    {\n      \"column\": \"Number_of_Past_Rides\",\n      \"properties\": {\n        \"dtype\": \"number\",\n        \"std\": 29,\n        \"min\": 0,\n        \"max\": 100,\n        \"num_unique_values\": 101,\n        \"samples\": [\n          26,\n          40,\n          54\n        ],\n        \"semantic_type\": \"\",\n        \"description\": \"\"\n      }\n    },\n    {\n      \"column\": \"Average_Ratings\",\n      \"properties\": {\n        \"dtype\": \"number\",\n        \"std\": 0.43347429110047153,\n        \"min\": 3.5,\n        \"max\": 5.0,\n        \"num_unique_values\": 151,\n        \"samples\": [\n          3.88,\n          3.73,\n          4.12\n        ],\n        \"semantic_type\": \"\",\n        \"description\": \"\"\n      }\n    },\n    {\n      \"column\": \"Time_of_Booking\",\n      \"properties\": {\n        \"dtype\": \"category\",\n        \"num_unique_values\": 4,\n        \"samples\": [\n          \"Night\",\n          \"Morning\",\n          \"Evening\"\n        ],\n        \"semantic_type\": \"\",\n        \"description\": \"\"\n      }\n    },\n    {\n      \"column\": \"Vehicle_Type\",\n      \"properties\": {\n        \"dtype\": \"category\",\n        \"num_unique_values\": 2,\n        \"samples\": [\n          \"Economy\",\n          \"Premium\"\n        ],\n        \"semantic_type\": \"\",\n        \"description\": \"\"\n      }\n    },\n    {\n      \"column\": \"Expected_Ride_Duration\",\n      \"properties\": {\n        \"dtype\": \"number\",\n        \"std\": 49,\n        \"min\": 10,\n        \"max\": 180,\n        \"num_unique_values\": 169,\n        \"samples\": [\n          163,\n          108\n        ],\n        \"semantic_type\": \"\",\n        \"description\": \"\"\n      }\n    }\n  ]\n}"
            }
          },
          "metadata": {},
          "execution_count": 32
        }
      ]
    },
    {
      "cell_type": "code",
      "source": [
        "#dropping unwanted columns\n",
        "columns_to_drop = ['Customer_Loyalty_Status','Number_of_Past_Rides','Average_Ratings','Time_of_Booking','Vehicle_Type','Expected_Ride_Duration','Location_Category']\n",
        "X_train_up = X_train.drop(columns=columns_to_drop, axis=1)"
      ],
      "metadata": {
        "id": "Ep60Sc1A-r2i"
      },
      "execution_count": null,
      "outputs": []
    },
    {
      "cell_type": "code",
      "source": [
        "numeric_features1 = ['Number_of_Riders','Number_of_Drivers']\n",
        "nominal_transformer = OneHotEncoder()"
      ],
      "metadata": {
        "id": "ZQV8MpHs_qbY"
      },
      "execution_count": null,
      "outputs": []
    },
    {
      "cell_type": "code",
      "source": [
        "preprocessor1 = ColumnTransformer(transformers=[\n",
        "                                        ('num',numeric_transformer,numeric_features1)\n",
        "                                       ])"
      ],
      "metadata": {
        "id": "P3EuxD7b_4ng"
      },
      "execution_count": null,
      "outputs": []
    },
    {
      "cell_type": "code",
      "source": [
        "from sklearn.ensemble import GradientBoostingRegressor\n",
        "pipeline = Pipeline(steps = [('preprocessor', preprocessor1),('regressor',GradientBoostingRegressor(random_state = 10)) ])"
      ],
      "metadata": {
        "id": "XY2770Uy_Y88"
      },
      "execution_count": null,
      "outputs": []
    },
    {
      "cell_type": "code",
      "source": [
        "XG_model1 = pipeline.fit(X_train_up, y_train)"
      ],
      "metadata": {
        "id": "G8KIoIAu_fmQ"
      },
      "execution_count": null,
      "outputs": []
    },
    {
      "cell_type": "code",
      "source": [
        "#dropping unwanted columns\n",
        "columns_to_drop = ['Customer_Loyalty_Status','Number_of_Past_Rides','Average_Ratings','Time_of_Booking','Vehicle_Type','Expected_Ride_Duration','Location_Category']\n",
        "X_test_up = X_test.drop(columns=columns_to_drop, axis=1)"
      ],
      "metadata": {
        "id": "qgPzJbg_KdrR"
      },
      "execution_count": null,
      "outputs": []
    },
    {
      "cell_type": "code",
      "source": [
        "y_pred_test1 = XG_model1.predict(X_test_up)\n",
        "y_pred_train1 = XG_model1.predict(X_train_up)\n",
        "\n",
        "# Evaluate the model\n",
        "\n",
        "# Calculate R2 scores\n",
        "r2_score_test1 = r2_score(y_test, y_pred_test1)\n",
        "r2_score_train1 = r2_score(y_train, y_pred_train1)\n",
        "\n",
        "# Calculate mean squared error\n",
        "mse_test1 = mean_squared_error(y_test, y_pred_test1)\n",
        "mse_train1 = mean_squared_error(y_train, y_pred_train1)\n",
        "\n",
        "# Print the evaluation metrics\n",
        "print(\"XGB w/o tuning updated: \\n\")\n",
        "print(f\"R2 Score (Test): {r2_score_test:.4f}\")\n",
        "print(f\"R2 Score (Train): {r2_score_train:.4f}\")\n",
        "print(f\"RMSE (Test): {np.sqrt(mse_test):.4f}\")\n",
        "print(f\"RMSE (Train):{np.sqrt( mse_train):.4f}\")\n",
        "print(\"\\n\")\n"
      ],
      "metadata": {
        "colab": {
          "base_uri": "https://localhost:8080/"
        },
        "id": "EqI1XDVFA3QG",
        "outputId": "09f5f24f-aaac-4abf-d960-63e924022cf0"
      },
      "execution_count": null,
      "outputs": [
        {
          "output_type": "stream",
          "name": "stdout",
          "text": [
            "XGB w/o tuning updated: \n",
            "\n",
            "R2 Score (Test): 0.9893\n",
            "R2 Score (Train): 0.9898\n",
            "RMSE (Test): 8.6142\n",
            "RMSE (Train):8.9990\n",
            "\n",
            "\n"
          ]
        }
      ]
    },
    {
      "cell_type": "code",
      "source": [
        "XG_model11 =  XG_model1.named_steps['regressor']\n",
        "XG_model11"
      ],
      "metadata": {
        "colab": {
          "base_uri": "https://localhost:8080/",
          "height": 74
        },
        "id": "wkxSzOM6B4Pe",
        "outputId": "f75009fe-ff06-4793-b4d5-620b8b7d3aeb"
      },
      "execution_count": null,
      "outputs": [
        {
          "output_type": "execute_result",
          "data": {
            "text/plain": [
              "GradientBoostingRegressor(random_state=10)"
            ],
            "text/html": [
              "<style>#sk-container-id-4 {color: black;background-color: white;}#sk-container-id-4 pre{padding: 0;}#sk-container-id-4 div.sk-toggleable {background-color: white;}#sk-container-id-4 label.sk-toggleable__label {cursor: pointer;display: block;width: 100%;margin-bottom: 0;padding: 0.3em;box-sizing: border-box;text-align: center;}#sk-container-id-4 label.sk-toggleable__label-arrow:before {content: \"▸\";float: left;margin-right: 0.25em;color: #696969;}#sk-container-id-4 label.sk-toggleable__label-arrow:hover:before {color: black;}#sk-container-id-4 div.sk-estimator:hover label.sk-toggleable__label-arrow:before {color: black;}#sk-container-id-4 div.sk-toggleable__content {max-height: 0;max-width: 0;overflow: hidden;text-align: left;background-color: #f0f8ff;}#sk-container-id-4 div.sk-toggleable__content pre {margin: 0.2em;color: black;border-radius: 0.25em;background-color: #f0f8ff;}#sk-container-id-4 input.sk-toggleable__control:checked~div.sk-toggleable__content {max-height: 200px;max-width: 100%;overflow: auto;}#sk-container-id-4 input.sk-toggleable__control:checked~label.sk-toggleable__label-arrow:before {content: \"▾\";}#sk-container-id-4 div.sk-estimator input.sk-toggleable__control:checked~label.sk-toggleable__label {background-color: #d4ebff;}#sk-container-id-4 div.sk-label input.sk-toggleable__control:checked~label.sk-toggleable__label {background-color: #d4ebff;}#sk-container-id-4 input.sk-hidden--visually {border: 0;clip: rect(1px 1px 1px 1px);clip: rect(1px, 1px, 1px, 1px);height: 1px;margin: -1px;overflow: hidden;padding: 0;position: absolute;width: 1px;}#sk-container-id-4 div.sk-estimator {font-family: monospace;background-color: #f0f8ff;border: 1px dotted black;border-radius: 0.25em;box-sizing: border-box;margin-bottom: 0.5em;}#sk-container-id-4 div.sk-estimator:hover {background-color: #d4ebff;}#sk-container-id-4 div.sk-parallel-item::after {content: \"\";width: 100%;border-bottom: 1px solid gray;flex-grow: 1;}#sk-container-id-4 div.sk-label:hover label.sk-toggleable__label {background-color: #d4ebff;}#sk-container-id-4 div.sk-serial::before {content: \"\";position: absolute;border-left: 1px solid gray;box-sizing: border-box;top: 0;bottom: 0;left: 50%;z-index: 0;}#sk-container-id-4 div.sk-serial {display: flex;flex-direction: column;align-items: center;background-color: white;padding-right: 0.2em;padding-left: 0.2em;position: relative;}#sk-container-id-4 div.sk-item {position: relative;z-index: 1;}#sk-container-id-4 div.sk-parallel {display: flex;align-items: stretch;justify-content: center;background-color: white;position: relative;}#sk-container-id-4 div.sk-item::before, #sk-container-id-4 div.sk-parallel-item::before {content: \"\";position: absolute;border-left: 1px solid gray;box-sizing: border-box;top: 0;bottom: 0;left: 50%;z-index: -1;}#sk-container-id-4 div.sk-parallel-item {display: flex;flex-direction: column;z-index: 1;position: relative;background-color: white;}#sk-container-id-4 div.sk-parallel-item:first-child::after {align-self: flex-end;width: 50%;}#sk-container-id-4 div.sk-parallel-item:last-child::after {align-self: flex-start;width: 50%;}#sk-container-id-4 div.sk-parallel-item:only-child::after {width: 0;}#sk-container-id-4 div.sk-dashed-wrapped {border: 1px dashed gray;margin: 0 0.4em 0.5em 0.4em;box-sizing: border-box;padding-bottom: 0.4em;background-color: white;}#sk-container-id-4 div.sk-label label {font-family: monospace;font-weight: bold;display: inline-block;line-height: 1.2em;}#sk-container-id-4 div.sk-label-container {text-align: center;}#sk-container-id-4 div.sk-container {/* jupyter's `normalize.less` sets `[hidden] { display: none; }` but bootstrap.min.css set `[hidden] { display: none !important; }` so we also need the `!important` here to be able to override the default hidden behavior on the sphinx rendered scikit-learn.org. See: https://github.com/scikit-learn/scikit-learn/issues/21755 */display: inline-block !important;position: relative;}#sk-container-id-4 div.sk-text-repr-fallback {display: none;}</style><div id=\"sk-container-id-4\" class=\"sk-top-container\"><div class=\"sk-text-repr-fallback\"><pre>GradientBoostingRegressor(random_state=10)</pre><b>In a Jupyter environment, please rerun this cell to show the HTML representation or trust the notebook. <br />On GitHub, the HTML representation is unable to render, please try loading this page with nbviewer.org.</b></div><div class=\"sk-container\" hidden><div class=\"sk-item\"><div class=\"sk-estimator sk-toggleable\"><input class=\"sk-toggleable__control sk-hidden--visually\" id=\"sk-estimator-id-14\" type=\"checkbox\" checked><label for=\"sk-estimator-id-14\" class=\"sk-toggleable__label sk-toggleable__label-arrow\">GradientBoostingRegressor</label><div class=\"sk-toggleable__content\"><pre>GradientBoostingRegressor(random_state=10)</pre></div></div></div></div></div>"
            ]
          },
          "metadata": {},
          "execution_count": 66
        }
      ]
    },
    {
      "cell_type": "code",
      "source": [
        "feature_importances1 = XG_model11.feature_importances_\n",
        "\n",
        "\n",
        "feature_names1 = numeric_features1\n",
        "\n"
      ],
      "metadata": {
        "id": "0Aoa-HAFBiWe"
      },
      "execution_count": null,
      "outputs": []
    },
    {
      "cell_type": "code",
      "source": [
        "feature_importances1 = XG_model11.feature_importances_\n",
        "print(feature_importances1)"
      ],
      "metadata": {
        "colab": {
          "base_uri": "https://localhost:8080/"
        },
        "id": "iWMckDqVBYAO",
        "outputId": "2397a678-4c9a-4929-c932-bbc1749ba03d"
      },
      "execution_count": null,
      "outputs": [
        {
          "output_type": "stream",
          "name": "stdout",
          "text": [
            "[0.38040183 0.61959817]\n"
          ]
        }
      ]
    },
    {
      "cell_type": "code",
      "source": [
        "column_headers1=['Number_of_Riders','Number_of_Drivers']\n",
        "importance1=[feature_importances[0],feature_importances[1]]\n",
        "important1 = pd.DataFrame({'name':column_headers1, 'y':importance1})\n",
        "important1\n",
        "plt.subplots()\n",
        "plt.subplots_adjust(bottom=0.3)\n",
        "plt.bar(important1.name, important1.y )\n",
        "plt.xticks(rotation='vertical',fontsize=8)\n",
        "plt.xlabel('Fetures')\n",
        "plt.ylabel('% importance')\n",
        "plt.title('Feature Importance Best Model updated')\n",
        "plt.show()"
      ],
      "metadata": {
        "colab": {
          "base_uri": "https://localhost:8080/",
          "height": 474
        },
        "id": "JsSEd-jHCSgG",
        "outputId": "58974e51-0794-438a-c069-98014d5d15fc"
      },
      "execution_count": null,
      "outputs": [
        {
          "output_type": "display_data",
          "data": {
            "text/plain": [
              "<Figure size 640x480 with 1 Axes>"
            ],
            "image/png": "[encoded data removed]"
          },
          "metadata": {}
        }
      ]
    },
    {
      "cell_type": "code",
      "source": [
        "a=[46,67]\n",
        "m=pd.DataFrame(columns=['Number_of_Riders', 'Number_of_Drivers'])\n",
        "m = pd.concat([m,pd.DataFrame([a],columns=['Number_of_Riders', 'Number_of_Drivers'])], ignore_index=True)\n",
        "m"
      ],
      "metadata": {
        "colab": {
          "base_uri": "https://localhost:8080/",
          "height": 89
        },
        "id": "xFfbTOOcZXwe",
        "outputId": "bf3eb986-31f8-4b4d-bdf7-debec7eefeba"
      },
      "execution_count": null,
      "outputs": [
        {
          "output_type": "execute_result",
          "data": {
            "text/plain": [
              "  Number_of_Riders Number_of_Drivers\n",
              "0               46                67"
            ],
            "text/html": [
              "\n",
              "  <div id=\"df-2d815ab1-71c4-472d-b9ba-ed1a275e5db9\" class=\"colab-df-container\">\n",
              "    <div>\n",
              "<style scoped>\n",
              "    .dataframe tbody tr th:only-of-type {\n",
              "        vertical-align: middle;\n",
              "    }\n",
              "\n",
              "    .dataframe tbody tr th {\n",
              "        vertical-align: top;\n",
              "    }\n",
              "\n",
              "    .dataframe thead th {\n",
              "        text-align: right;\n",
              "    }\n",
              "</style>\n",
              "<table border=\"1\" class=\"dataframe\">\n",
              "  <thead>\n",
              "    <tr style=\"text-align: right;\">\n",
              "      <th></th>\n",
              "      <th>Number_of_Riders</th>\n",
              "      <th>Number_of_Drivers</th>\n",
              "    </tr>\n",
              "  </thead>\n",
              "  <tbody>\n",
              "    <tr>\n",
              "      <th>0</th>\n",
              "      <td>46</td>\n",
              "      <td>67</td>\n",
              "    </tr>\n",
              "  </tbody>\n",
              "</table>\n",
              "</div>\n",
              "    <div class=\"colab-df-buttons\">\n",
              "\n",
              "  <div class=\"colab-df-container\">\n",
              "    <button class=\"colab-df-convert\" onclick=\"convertToInteractive('df-2d815ab1-71c4-472d-b9ba-ed1a275e5db9')\"\n",
              "            title=\"Convert this dataframe to an interactive table.\"\n",
              "            style=\"display:none;\">\n",
              "\n",
              "  <svg xmlns=\"http://www.w3.org/2000/svg\" height=\"24px\" viewBox=\"0 -960 960 960\">\n",
              "    <path d=\"M120-120v-720h720v720H120Zm60-500h600v-160H180v160Zm220 220h160v-160H400v160Zm0 220h160v-160H400v160ZM180-400h160v-160H180v160Zm440 0h160v-160H620v160ZM180-180h160v-160H180v160Zm440 0h160v-160H620v160Z\"/>\n",
              "  </svg>\n",
              "    </button>\n",
              "\n",
              "  <style>\n",
              "    .colab-df-container {\n",
              "      display:flex;\n",
              "      gap: 12px;\n",
              "    }\n",
              "\n",
              "    .colab-df-convert {\n",
              "      background-color: #E8F0FE;\n",
              "      border: none;\n",
              "      border-radius: 50%;\n",
              "      cursor: pointer;\n",
              "      display: none;\n",
              "      fill: #1967D2;\n",
              "      height: 32px;\n",
              "      padding: 0 0 0 0;\n",
              "      width: 32px;\n",
              "    }\n",
              "\n",
              "    .colab-df-convert:hover {\n",
              "      background-color: #E2EBFA;\n",
              "      box-shadow: 0px 1px 2px rgba(60, 64, 67, 0.3), 0px 1px 3px 1px rgba(60, 64, 67, 0.15);\n",
              "      fill: #174EA6;\n",
              "    }\n",
              "\n",
              "    .colab-df-buttons div {\n",
              "      margin-bottom: 4px;\n",
              "    }\n",
              "\n",
              "    [theme=dark] .colab-df-convert {\n",
              "      background-color: #3B4455;\n",
              "      fill: #D2E3FC;\n",
              "    }\n",
              "\n",
              "    [theme=dark] .colab-df-convert:hover {\n",
              "      background-color: #434B5C;\n",
              "      box-shadow: 0px 1px 3px 1px rgba(0, 0, 0, 0.15);\n",
              "      filter: drop-shadow(0px 1px 2px rgba(0, 0, 0, 0.3));\n",
              "      fill: #FFFFFF;\n",
              "    }\n",
              "  </style>\n",
              "\n",
              "    <script>\n",
              "      const buttonEl =\n",
              "        document.querySelector('#df-2d815ab1-71c4-472d-b9ba-ed1a275e5db9 button.colab-df-convert');\n",
              "      buttonEl.style.display =\n",
              "        google.colab.kernel.accessAllowed ? 'block' : 'none';\n",
              "\n",
              "      async function convertToInteractive(key) {\n",
              "        const element = document.querySelector('#df-2d815ab1-71c4-472d-b9ba-ed1a275e5db9');\n",
              "        const dataTable =\n",
              "          await google.colab.kernel.invokeFunction('convertToInteractive',\n",
              "                                                    [key], {});\n",
              "        if (!dataTable) return;\n",
              "\n",
              "        const docLinkHtml = 'Like what you see? Visit the ' +\n",
              "          '<a target=\"_blank\" href=https://colab.research.google.com/notebooks/data_table.ipynb>data table notebook</a>'\n",
              "          + ' to learn more about interactive tables.';\n",
              "        element.innerHTML = '';\n",
              "        dataTable['output_type'] = 'display_data';\n",
              "        await google.colab.output.renderOutput(dataTable, element);\n",
              "        const docLink = document.createElement('div');\n",
              "        docLink.innerHTML = docLinkHtml;\n",
              "        element.appendChild(docLink);\n",
              "      }\n",
              "    </script>\n",
              "  </div>\n",
              "\n",
              "\n",
              "  <div id=\"id_98fc9b17-d667-4533-82f6-6b5dfd11ab08\">\n",
              "    <style>\n",
              "      .colab-df-generate {\n",
              "        background-color: #E8F0FE;\n",
              "        border: none;\n",
              "        border-radius: 50%;\n",
              "        cursor: pointer;\n",
              "        display: none;\n",
              "        fill: #1967D2;\n",
              "        height: 32px;\n",
              "        padding: 0 0 0 0;\n",
              "        width: 32px;\n",
              "      }\n",
              "\n",
              "      .colab-df-generate:hover {\n",
              "        background-color: #E2EBFA;\n",
              "        box-shadow: 0px 1px 2px rgba(60, 64, 67, 0.3), 0px 1px 3px 1px rgba(60, 64, 67, 0.15);\n",
              "        fill: #174EA6;\n",
              "      }\n",
              "\n",
              "      [theme=dark] .colab-df-generate {\n",
              "        background-color: #3B4455;\n",
              "        fill: #D2E3FC;\n",
              "      }\n",
              "\n",
              "      [theme=dark] .colab-df-generate:hover {\n",
              "        background-color: #434B5C;\n",
              "        box-shadow: 0px 1px 3px 1px rgba(0, 0, 0, 0.15);\n",
              "        filter: drop-shadow(0px 1px 2px rgba(0, 0, 0, 0.3));\n",
              "        fill: #FFFFFF;\n",
              "      }\n",
              "    </style>\n",
              "    <button class=\"colab-df-generate\" onclick=\"generateWithVariable('m')\"\n",
              "            title=\"Generate code using this dataframe.\"\n",
              "            style=\"display:none;\">\n",
              "\n",
              "  <svg xmlns=\"http://www.w3.org/2000/svg\" height=\"24px\"viewBox=\"0 0 24 24\"\n",
              "       width=\"24px\">\n",
              "    <path d=\"M7,19H8.4L18.45,9,17,7.55,7,17.6ZM5,21V16.75L18.45,3.32a2,2,0,0,1,2.83,0l1.4,1.43a1.91,1.91,0,0,1,.58,1.4,1.91,1.91,0,0,1-.58,1.4L9.25,21ZM18.45,9,17,7.55Zm-12,3A5.31,5.31,0,0,0,4.9,8.1,5.31,5.31,0,0,0,1,6.5,5.31,5.31,0,0,0,4.9,4.9,5.31,5.31,0,0,0,6.5,1,5.31,5.31,0,0,0,8.1,4.9,5.31,5.31,0,0,0,12,6.5,5.46,5.46,0,0,0,6.5,12Z\"/>\n",
              "  </svg>\n",
              "    </button>\n",
              "    <script>\n",
              "      (() => {\n",
              "      const buttonEl =\n",
              "        document.querySelector('#id_98fc9b17-d667-4533-82f6-6b5dfd11ab08 button.colab-df-generate');\n",
              "      buttonEl.style.display =\n",
              "        google.colab.kernel.accessAllowed ? 'block' : 'none';\n",
              "\n",
              "      buttonEl.onclick = () => {\n",
              "        google.colab.notebook.generateWithVariable('m');\n",
              "      }\n",
              "      })();\n",
              "    </script>\n",
              "  </div>\n",
              "\n",
              "    </div>\n",
              "  </div>\n"
            ],
            "application/vnd.google.colaboratory.intrinsic+json": {
              "type": "dataframe",
              "variable_name": "m",
              "summary": "{\n  \"name\": \"m\",\n  \"rows\": 1,\n  \"fields\": [\n    {\n      \"column\": \"Number_of_Riders\",\n      \"properties\": {\n        \"dtype\": \"date\",\n        \"min\": 46,\n        \"max\": 46,\n        \"num_unique_values\": 1,\n        \"samples\": [\n          46\n        ],\n        \"semantic_type\": \"\",\n        \"description\": \"\"\n      }\n    },\n    {\n      \"column\": \"Number_of_Drivers\",\n      \"properties\": {\n        \"dtype\": \"date\",\n        \"min\": 67,\n        \"max\": 67,\n        \"num_unique_values\": 1,\n        \"samples\": [\n          67\n        ],\n        \"semantic_type\": \"\",\n        \"description\": \"\"\n      }\n    }\n  ]\n}"
            }
          },
          "metadata": {},
          "execution_count": 143
        }
      ]
    },
    {
      "cell_type": "code",
      "source": [
        "X_train_up"
      ],
      "metadata": {
        "colab": {
          "base_uri": "https://localhost:8080/",
          "height": 423
        },
        "id": "wcOVwARrcKQr",
        "outputId": "03c76229-32c9-44be-aecb-1ad4ae2bdf21"
      },
      "execution_count": null,
      "outputs": [
        {
          "output_type": "execute_result",
          "data": {
            "text/plain": [
              "     Number_of_Riders  Number_of_Drivers\n",
              "687                51                 25\n",
              "500                21                  9\n",
              "332               100                 66\n",
              "979                79                 29\n",
              "817                27                  8\n",
              "..                ...                ...\n",
              "835                35                 21\n",
              "192                65                 10\n",
              "629                57                 40\n",
              "559                75                 56\n",
              "684                53                 19\n",
              "\n",
              "[800 rows x 2 columns]"
            ],
            "text/html": [
              "\n",
              "  <div id=\"df-3ee32474-2a97-4e4e-a239-ee6ed36fa55e\" class=\"colab-df-container\">\n",
              "    <div>\n",
              "<style scoped>\n",
              "    .dataframe tbody tr th:only-of-type {\n",
              "        vertical-align: middle;\n",
              "    }\n",
              "\n",
              "    .dataframe tbody tr th {\n",
              "        vertical-align: top;\n",
              "    }\n",
              "\n",
              "    .dataframe thead th {\n",
              "        text-align: right;\n",
              "    }\n",
              "</style>\n",
              "<table border=\"1\" class=\"dataframe\">\n",
              "  <thead>\n",
              "    <tr style=\"text-align: right;\">\n",
              "      <th></th>\n",
              "      <th>Number_of_Riders</th>\n",
              "      <th>Number_of_Drivers</th>\n",
              "    </tr>\n",
              "  </thead>\n",
              "  <tbody>\n",
              "    <tr>\n",
              "      <th>687</th>\n",
              "      <td>51</td>\n",
              "      <td>25</td>\n",
              "    </tr>\n",
              "    <tr>\n",
              "      <th>500</th>\n",
              "      <td>21</td>\n",
              "      <td>9</td>\n",
              "    </tr>\n",
              "    <tr>\n",
              "      <th>332</th>\n",
              "      <td>100</td>\n",
              "      <td>66</td>\n",
              "    </tr>\n",
              "    <tr>\n",
              "      <th>979</th>\n",
              "      <td>79</td>\n",
              "      <td>29</td>\n",
              "    </tr>\n",
              "    <tr>\n",
              "      <th>817</th>\n",
              "      <td>27</td>\n",
              "      <td>8</td>\n",
              "    </tr>\n",
              "    <tr>\n",
              "      <th>...</th>\n",
              "      <td>...</td>\n",
              "      <td>...</td>\n",
              "    </tr>\n",
              "    <tr>\n",
              "      <th>835</th>\n",
              "      <td>35</td>\n",
              "      <td>21</td>\n",
              "    </tr>\n",
              "    <tr>\n",
              "      <th>192</th>\n",
              "      <td>65</td>\n",
              "      <td>10</td>\n",
              "    </tr>\n",
              "    <tr>\n",
              "      <th>629</th>\n",
              "      <td>57</td>\n",
              "      <td>40</td>\n",
              "    </tr>\n",
              "    <tr>\n",
              "      <th>559</th>\n",
              "      <td>75</td>\n",
              "      <td>56</td>\n",
              "    </tr>\n",
              "    <tr>\n",
              "      <th>684</th>\n",
              "      <td>53</td>\n",
              "      <td>19</td>\n",
              "    </tr>\n",
              "  </tbody>\n",
              "</table>\n",
              "<p>800 rows × 2 columns</p>\n",
              "</div>\n",
              "    <div class=\"colab-df-buttons\">\n",
              "\n",
              "  <div class=\"colab-df-container\">\n",
              "    <button class=\"colab-df-convert\" onclick=\"convertToInteractive('df-3ee32474-2a97-4e4e-a239-ee6ed36fa55e')\"\n",
              "            title=\"Convert this dataframe to an interactive table.\"\n",
              "            style=\"display:none;\">\n",
              "\n",
              "  <svg xmlns=\"http://www.w3.org/2000/svg\" height=\"24px\" viewBox=\"0 -960 960 960\">\n",
              "    <path d=\"M120-120v-720h720v720H120Zm60-500h600v-160H180v160Zm220 220h160v-160H400v160Zm0 220h160v-160H400v160ZM180-400h160v-160H180v160Zm440 0h160v-160H620v160ZM180-180h160v-160H180v160Zm440 0h160v-160H620v160Z\"/>\n",
              "  </svg>\n",
              "    </button>\n",
              "\n",
              "  <style>\n",
              "    .colab-df-container {\n",
              "      display:flex;\n",
              "      gap: 12px;\n",
              "    }\n",
              "\n",
              "    .colab-df-convert {\n",
              "      background-color: #E8F0FE;\n",
              "      border: none;\n",
              "      border-radius: 50%;\n",
              "      cursor: pointer;\n",
              "      display: none;\n",
              "      fill: #1967D2;\n",
              "      height: 32px;\n",
              "      padding: 0 0 0 0;\n",
              "      width: 32px;\n",
              "    }\n",
              "\n",
              "    .colab-df-convert:hover {\n",
              "      background-color: #E2EBFA;\n",
              "      box-shadow: 0px 1px 2px rgba(60, 64, 67, 0.3), 0px 1px 3px 1px rgba(60, 64, 67, 0.15);\n",
              "      fill: #174EA6;\n",
              "    }\n",
              "\n",
              "    .colab-df-buttons div {\n",
              "      margin-bottom: 4px;\n",
              "    }\n",
              "\n",
              "    [theme=dark] .colab-df-convert {\n",
              "      background-color: #3B4455;\n",
              "      fill: #D2E3FC;\n",
              "    }\n",
              "\n",
              "    [theme=dark] .colab-df-convert:hover {\n",
              "      background-color: #434B5C;\n",
              "      box-shadow: 0px 1px 3px 1px rgba(0, 0, 0, 0.15);\n",
              "      filter: drop-shadow(0px 1px 2px rgba(0, 0, 0, 0.3));\n",
              "      fill: #FFFFFF;\n",
              "    }\n",
              "  </style>\n",
              "\n",
              "    <script>\n",
              "      const buttonEl =\n",
              "        document.querySelector('#df-3ee32474-2a97-4e4e-a239-ee6ed36fa55e button.colab-df-convert');\n",
              "      buttonEl.style.display =\n",
              "        google.colab.kernel.accessAllowed ? 'block' : 'none';\n",
              "\n",
              "      async function convertToInteractive(key) {\n",
              "        const element = document.querySelector('#df-3ee32474-2a97-4e4e-a239-ee6ed36fa55e');\n",
              "        const dataTable =\n",
              "          await google.colab.kernel.invokeFunction('convertToInteractive',\n",
              "                                                    [key], {});\n",
              "        if (!dataTable) return;\n",
              "\n",
              "        const docLinkHtml = 'Like what you see? Visit the ' +\n",
              "          '<a target=\"_blank\" href=https://colab.research.google.com/notebooks/data_table.ipynb>data table notebook</a>'\n",
              "          + ' to learn more about interactive tables.';\n",
              "        element.innerHTML = '';\n",
              "        dataTable['output_type'] = 'display_data';\n",
              "        await google.colab.output.renderOutput(dataTable, element);\n",
              "        const docLink = document.createElement('div');\n",
              "        docLink.innerHTML = docLinkHtml;\n",
              "        element.appendChild(docLink);\n",
              "      }\n",
              "    </script>\n",
              "  </div>\n",
              "\n",
              "\n",
              "<div id=\"df-313479ac-08ea-4fca-a6b6-80ce7ae562e6\">\n",
              "  <button class=\"colab-df-quickchart\" onclick=\"quickchart('df-313479ac-08ea-4fca-a6b6-80ce7ae562e6')\"\n",
              "            title=\"Suggest charts\"\n",
              "            style=\"display:none;\">\n",
              "\n",
              "<svg xmlns=\"http://www.w3.org/2000/svg\" height=\"24px\"viewBox=\"0 0 24 24\"\n",
              "     width=\"24px\">\n",
              "    <g>\n",
              "        <path d=\"M19 3H5c-1.1 0-2 .9-2 2v14c0 1.1.9 2 2 2h14c1.1 0 2-.9 2-2V5c0-1.1-.9-2-2-2zM9 17H7v-7h2v7zm4 0h-2V7h2v10zm4 0h-2v-4h2v4z\"/>\n",
              "    </g>\n",
              "</svg>\n",
              "  </button>\n",
              "\n",
              "<style>\n",
              "  .colab-df-quickchart {\n",
              "      --bg-color: #E8F0FE;\n",
              "      --fill-color: #1967D2;\n",
              "      --hover-bg-color: #E2EBFA;\n",
              "      --hover-fill-color: #174EA6;\n",
              "      --disabled-fill-color: #AAA;\n",
              "      --disabled-bg-color: #DDD;\n",
              "  }\n",
              "\n",
              "  [theme=dark] .colab-df-quickchart {\n",
              "      --bg-color: #3B4455;\n",
              "      --fill-color: #D2E3FC;\n",
              "      --hover-bg-color: #434B5C;\n",
              "      --hover-fill-color: #FFFFFF;\n",
              "      --disabled-bg-color: #3B4455;\n",
              "      --disabled-fill-color: #666;\n",
              "  }\n",
              "\n",
              "  .colab-df-quickchart {\n",
              "    background-color: var(--bg-color);\n",
              "    border: none;\n",
              "    border-radius: 50%;\n",
              "    cursor: pointer;\n",
              "    display: none;\n",
              "    fill: var(--fill-color);\n",
              "    height: 32px;\n",
              "    padding: 0;\n",
              "    width: 32px;\n",
              "  }\n",
              "\n",
              "  .colab-df-quickchart:hover {\n",
              "    background-color: var(--hover-bg-color);\n",
              "    box-shadow: 0 1px 2px rgba(60, 64, 67, 0.3), 0 1px 3px 1px rgba(60, 64, 67, 0.15);\n",
              "    fill: var(--button-hover-fill-color);\n",
              "  }\n",
              "\n",
              "  .colab-df-quickchart-complete:disabled,\n",
              "  .colab-df-quickchart-complete:disabled:hover {\n",
              "    background-color: var(--disabled-bg-color);\n",
              "    fill: var(--disabled-fill-color);\n",
              "    box-shadow: none;\n",
              "  }\n",
              "\n",
              "  .colab-df-spinner {\n",
              "    border: 2px solid var(--fill-color);\n",
              "    border-color: transparent;\n",
              "    border-bottom-color: var(--fill-color);\n",
              "    animation:\n",
              "      spin 1s steps(1) infinite;\n",
              "  }\n",
              "\n",
              "  @keyframes spin {\n",
              "    0% {\n",
              "      border-color: transparent;\n",
              "      border-bottom-color: var(--fill-color);\n",
              "      border-left-color: var(--fill-color);\n",
              "    }\n",
              "    20% {\n",
              "      border-color: transparent;\n",
              "      border-left-color: var(--fill-color);\n",
              "      border-top-color: var(--fill-color);\n",
              "    }\n",
              "    30% {\n",
              "      border-color: transparent;\n",
              "      border-left-color: var(--fill-color);\n",
              "      border-top-color: var(--fill-color);\n",
              "      border-right-color: var(--fill-color);\n",
              "    }\n",
              "    40% {\n",
              "      border-color: transparent;\n",
              "      border-right-color: var(--fill-color);\n",
              "      border-top-color: var(--fill-color);\n",
              "    }\n",
              "    60% {\n",
              "      border-color: transparent;\n",
              "      border-right-color: var(--fill-color);\n",
              "    }\n",
              "    80% {\n",
              "      border-color: transparent;\n",
              "      border-right-color: var(--fill-color);\n",
              "      border-bottom-color: var(--fill-color);\n",
              "    }\n",
              "    90% {\n",
              "      border-color: transparent;\n",
              "      border-bottom-color: var(--fill-color);\n",
              "    }\n",
              "  }\n",
              "</style>\n",
              "\n",
              "  <script>\n",
              "    async function quickchart(key) {\n",
              "      const quickchartButtonEl =\n",
              "        document.querySelector('#' + key + ' button');\n",
              "      quickchartButtonEl.disabled = true;  // To prevent multiple clicks.\n",
              "      quickchartButtonEl.classList.add('colab-df-spinner');\n",
              "      try {\n",
              "        const charts = await google.colab.kernel.invokeFunction(\n",
              "            'suggestCharts', [key], {});\n",
              "      } catch (error) {\n",
              "        console.error('Error during call to suggestCharts:', error);\n",
              "      }\n",
              "      quickchartButtonEl.classList.remove('colab-df-spinner');\n",
              "      quickchartButtonEl.classList.add('colab-df-quickchart-complete');\n",
              "    }\n",
              "    (() => {\n",
              "      let quickchartButtonEl =\n",
              "        document.querySelector('#df-313479ac-08ea-4fca-a6b6-80ce7ae562e6 button');\n",
              "      quickchartButtonEl.style.display =\n",
              "        google.colab.kernel.accessAllowed ? 'block' : 'none';\n",
              "    })();\n",
              "  </script>\n",
              "</div>\n",
              "\n",
              "  <div id=\"id_c268644f-a62f-4531-a09d-3f403fd8e7b5\">\n",
              "    <style>\n",
              "      .colab-df-generate {\n",
              "        background-color: #E8F0FE;\n",
              "        border: none;\n",
              "        border-radius: 50%;\n",
              "        cursor: pointer;\n",
              "        display: none;\n",
              "        fill: #1967D2;\n",
              "        height: 32px;\n",
              "        padding: 0 0 0 0;\n",
              "        width: 32px;\n",
              "      }\n",
              "\n",
              "      .colab-df-generate:hover {\n",
              "        background-color: #E2EBFA;\n",
              "        box-shadow: 0px 1px 2px rgba(60, 64, 67, 0.3), 0px 1px 3px 1px rgba(60, 64, 67, 0.15);\n",
              "        fill: #174EA6;\n",
              "      }\n",
              "\n",
              "      [theme=dark] .colab-df-generate {\n",
              "        background-color: #3B4455;\n",
              "        fill: #D2E3FC;\n",
              "      }\n",
              "\n",
              "      [theme=dark] .colab-df-generate:hover {\n",
              "        background-color: #434B5C;\n",
              "        box-shadow: 0px 1px 3px 1px rgba(0, 0, 0, 0.15);\n",
              "        filter: drop-shadow(0px 1px 2px rgba(0, 0, 0, 0.3));\n",
              "        fill: #FFFFFF;\n",
              "      }\n",
              "    </style>\n",
              "    <button class=\"colab-df-generate\" onclick=\"generateWithVariable('X_train_up')\"\n",
              "            title=\"Generate code using this dataframe.\"\n",
              "            style=\"display:none;\">\n",
              "\n",
              "  <svg xmlns=\"http://www.w3.org/2000/svg\" height=\"24px\"viewBox=\"0 0 24 24\"\n",
              "       width=\"24px\">\n",
              "    <path d=\"M7,19H8.4L18.45,9,17,7.55,7,17.6ZM5,21V16.75L18.45,3.32a2,2,0,0,1,2.83,0l1.4,1.43a1.91,1.91,0,0,1,.58,1.4,1.91,1.91,0,0,1-.58,1.4L9.25,21ZM18.45,9,17,7.55Zm-12,3A5.31,5.31,0,0,0,4.9,8.1,5.31,5.31,0,0,0,1,6.5,5.31,5.31,0,0,0,4.9,4.9,5.31,5.31,0,0,0,6.5,1,5.31,5.31,0,0,0,8.1,4.9,5.31,5.31,0,0,0,12,6.5,5.46,5.46,0,0,0,6.5,12Z\"/>\n",
              "  </svg>\n",
              "    </button>\n",
              "    <script>\n",
              "      (() => {\n",
              "      const buttonEl =\n",
              "        document.querySelector('#id_c268644f-a62f-4531-a09d-3f403fd8e7b5 button.colab-df-generate');\n",
              "      buttonEl.style.display =\n",
              "        google.colab.kernel.accessAllowed ? 'block' : 'none';\n",
              "\n",
              "      buttonEl.onclick = () => {\n",
              "        google.colab.notebook.generateWithVariable('X_train_up');\n",
              "      }\n",
              "      })();\n",
              "    </script>\n",
              "  </div>\n",
              "\n",
              "    </div>\n",
              "  </div>\n"
            ],
            "application/vnd.google.colaboratory.intrinsic+json": {
              "type": "dataframe",
              "variable_name": "X_train_up",
              "summary": "{\n  \"name\": \"X_train_up\",\n  \"rows\": 800,\n  \"fields\": [\n    {\n      \"column\": \"Number_of_Riders\",\n      \"properties\": {\n        \"dtype\": \"number\",\n        \"std\": 23,\n        \"min\": 20,\n        \"max\": 100,\n        \"num_unique_values\": 81,\n        \"samples\": [\n          61,\n          51,\n          96\n        ],\n        \"semantic_type\": \"\",\n        \"description\": \"\"\n      }\n    },\n    {\n      \"column\": \"Number_of_Drivers\",\n      \"properties\": {\n        \"dtype\": \"number\",\n        \"std\": 18,\n        \"min\": 5,\n        \"max\": 89,\n        \"num_unique_values\": 76,\n        \"samples\": [\n          8,\n          64,\n          19\n        ],\n        \"semantic_type\": \"\",\n        \"description\": \"\"\n      }\n    }\n  ]\n}"
            }
          },
          "metadata": {},
          "execution_count": 144
        }
      ]
    },
    {
      "cell_type": "code",
      "source": [
        "XG_model1.predict(m)"
      ],
      "metadata": {
        "colab": {
          "base_uri": "https://localhost:8080/"
        },
        "id": "J0-UDZo7Zuhy",
        "outputId": "4de11978-6d36-48ea-ea5c-e53c2383325f"
      },
      "execution_count": null,
      "outputs": [
        {
          "output_type": "execute_result",
          "data": {
            "text/plain": [
              "array([14.18945323])"
            ]
          },
          "metadata": {},
          "execution_count": 145
        }
      ]
    },
    {
      "cell_type": "markdown",
      "source": [
        "### partial dependdencies updated model"
      ],
      "metadata": {
        "id": "VxqajOlmDiPX"
      }
    },
    {
      "cell_type": "code",
      "source": [
        "from sklearn.inspection import PartialDependenceDisplay\n",
        "fig, ax = plt.subplots(figsize=(15, 10))\n",
        "ax.set_title(\"Partial Dependence Plots\")\n",
        "PartialDependenceDisplay.from_estimator(\n",
        "    estimator=XG_model1,\n",
        "    X=X_train,\n",
        "    features=[0, 1],\n",
        "    random_state=5,\n",
        "    ax=ax,\n",
        "    )\n",
        "plt.show()"
      ],
      "metadata": {
        "colab": {
          "base_uri": "https://localhost:8080/",
          "height": 872
        },
        "id": "tD1oW4mwDhPO",
        "outputId": "20f5dd6c-e5bf-4d27-c31c-6cccdb19a34b"
      },
      "execution_count": null,
      "outputs": [
        {
          "output_type": "display_data",
          "data": {
            "text/plain": [
              "<Figure size 1500x1000 with 3 Axes>"
            ],
            "image/png": "[encoded data removed]"
          },
          "metadata": {}
        }
      ]
    },
    {
      "cell_type": "markdown",
      "source": [
        "# Partial Dependancies\n",
        "\n",
        "https://www.blog.trainindata.com/partial-dependence-plots-with-python/"
      ],
      "metadata": {
        "id": "SMVo2c4Sj2pd"
      }
    },
    {
      "cell_type": "code",
      "source": [
        "from sklearn.inspection import PartialDependenceDisplay\n",
        "\n",
        "feature_index = 0\n",
        "\n",
        "# Plot Partial Dependency Plot\n",
        "fig, ax = plt.subplots()\n",
        "PartialDependenceDisplay.from_estimator(XG_model, X_train, features=[feature_index], ax=ax)\n",
        "plt.xlabel(feature_names[feature_index])\n",
        "plt.ylabel('Partial Dependence')\n",
        "plt.title('Partial Dependency Plot')\n",
        "plt.show()"
      ],
      "metadata": {
        "colab": {
          "base_uri": "https://localhost:8080/",
          "height": 472
        },
        "id": "yklHclB1j2Pt",
        "outputId": "ef69bdae-f8e9-4147-b391-8df3e462b7c8"
      },
      "execution_count": null,
      "outputs": [
        {
          "output_type": "display_data",
          "data": {
            "text/plain": [
              "<Figure size 640x480 with 2 Axes>"
            ],
            "image/png": "[encoded data removed]"
          },
          "metadata": {}
        }
      ]
    },
    {
      "cell_type": "code",
      "source": [
        "X_train.info()"
      ],
      "metadata": {
        "colab": {
          "base_uri": "https://localhost:8080/"
        },
        "id": "Gr7BITWHvtYW",
        "outputId": "5154f913-af4c-4d34-dd83-653dc53c92fe"
      },
      "execution_count": null,
      "outputs": [
        {
          "output_type": "stream",
          "name": "stdout",
          "text": [
            "<class 'pandas.core.frame.DataFrame'>\n",
            "Int64Index: 800 entries, 687 to 684\n",
            "Data columns (total 9 columns):\n",
            " #   Column                   Non-Null Count  Dtype  \n",
            "---  ------                   --------------  -----  \n",
            " 0   Number_of_Riders         800 non-null    int64  \n",
            " 1   Number_of_Drivers        800 non-null    int64  \n",
            " 2   Location_Category        800 non-null    object \n",
            " 3   Customer_Loyalty_Status  800 non-null    object \n",
            " 4   Number_of_Past_Rides     800 non-null    int64  \n",
            " 5   Average_Ratings          800 non-null    float64\n",
            " 6   Time_of_Booking          800 non-null    object \n",
            " 7   Vehicle_Type             800 non-null    object \n",
            " 8   Expected_Ride_Duration   800 non-null    int64  \n",
            "dtypes: float64(1), int64(4), object(4)\n",
            "memory usage: 62.5+ KB\n"
          ]
        }
      ]
    },
    {
      "cell_type": "code",
      "source": [
        "fig, ax = plt.subplots(figsize=(15, 10))\n",
        "ax.set_title(\"Partial Dependence Plots\")\n",
        "PartialDependenceDisplay.from_estimator(\n",
        "    estimator=XG_model,\n",
        "    X=X_train,\n",
        "    features=[0, 1, 4, 5, 8],\n",
        "    random_state=5,\n",
        "    ax=ax,\n",
        "    )\n",
        "plt.show()"
      ],
      "metadata": {
        "colab": {
          "base_uri": "https://localhost:8080/",
          "height": 872
        },
        "id": "G0bSIgdwqHJN",
        "outputId": "f25e5f5c-85fc-4a49-8bf9-58f28e19a9b6"
      },
      "execution_count": null,
      "outputs": [
        {
          "output_type": "display_data",
          "data": {
            "text/plain": [
              "<Figure size 1500x1000 with 6 Axes>"
            ],
            "image/png": "[encoded data removed]"
          },
          "metadata": {}
        }
      ]
    },
    {
      "cell_type": "code",
      "source": [
        "\n",
        "\n"
      ],
      "metadata": {
        "id": "7Fu3iRFHqerb"
      },
      "execution_count": null,
      "outputs": []
    },
    {
      "cell_type": "markdown",
      "metadata": {
        "id": "GK24LCtcS0uP"
      },
      "source": [
        "# SVM"
      ]
    },
    {
      "cell_type": "markdown",
      "metadata": {
        "id": "jrEDcALBVfpr"
      },
      "source": [
        "## Creating the model"
      ]
    },
    {
      "cell_type": "code",
      "execution_count": null,
      "metadata": {
        "id": "b-QuRTYNVfqR"
      },
      "outputs": [],
      "source": [
        "from sklearn.svm import SVR\n",
        "pipeline = Pipeline(steps = [('preprocessor', preprocessor),('regressor',SVR()) ])"
      ]
    },
    {
      "cell_type": "code",
      "execution_count": null,
      "metadata": {
        "id": "yfAmIQDcVfqR"
      },
      "outputs": [],
      "source": [
        "SV_model = pipeline.fit(X_train, y_train)"
      ]
    },
    {
      "cell_type": "code",
      "execution_count": null,
      "metadata": {
        "colab": {
          "base_uri": "https://localhost:8080/",
          "height": 195
        },
        "id": "VujSSXdgVfqS",
        "outputId": "e60ea111-4757-41a7-8361-983523d08d99"
      },
      "outputs": [
        {
          "data": {
            "text/html": [
              "<style>#sk-container-id-5 {color: black;background-color: white;}#sk-container-id-5 pre{padding: 0;}#sk-container-id-5 div.sk-toggleable {background-color: white;}#sk-container-id-5 label.sk-toggleable__label {cursor: pointer;display: block;width: 100%;margin-bottom: 0;padding: 0.3em;box-sizing: border-box;text-align: center;}#sk-container-id-5 label.sk-toggleable__label-arrow:before {content: \"▸\";float: left;margin-right: 0.25em;color: #696969;}#sk-container-id-5 label.sk-toggleable__label-arrow:hover:before {color: black;}#sk-container-id-5 div.sk-estimator:hover label.sk-toggleable__label-arrow:before {color: black;}#sk-container-id-5 div.sk-toggleable__content {max-height: 0;max-width: 0;overflow: hidden;text-align: left;background-color: #f0f8ff;}#sk-container-id-5 div.sk-toggleable__content pre {margin: 0.2em;color: black;border-radius: 0.25em;background-color: #f0f8ff;}#sk-container-id-5 input.sk-toggleable__control:checked~div.sk-toggleable__content {max-height: 200px;max-width: 100%;overflow: auto;}#sk-container-id-5 input.sk-toggleable__control:checked~label.sk-toggleable__label-arrow:before {content: \"▾\";}#sk-container-id-5 div.sk-estimator input.sk-toggleable__control:checked~label.sk-toggleable__label {background-color: #d4ebff;}#sk-container-id-5 div.sk-label input.sk-toggleable__control:checked~label.sk-toggleable__label {background-color: #d4ebff;}#sk-container-id-5 input.sk-hidden--visually {border: 0;clip: rect(1px 1px 1px 1px);clip: rect(1px, 1px, 1px, 1px);height: 1px;margin: -1px;overflow: hidden;padding: 0;position: absolute;width: 1px;}#sk-container-id-5 div.sk-estimator {font-family: monospace;background-color: #f0f8ff;border: 1px dotted black;border-radius: 0.25em;box-sizing: border-box;margin-bottom: 0.5em;}#sk-container-id-5 div.sk-estimator:hover {background-color: #d4ebff;}#sk-container-id-5 div.sk-parallel-item::after {content: \"\";width: 100%;border-bottom: 1px solid gray;flex-grow: 1;}#sk-container-id-5 div.sk-label:hover label.sk-toggleable__label {background-color: #d4ebff;}#sk-container-id-5 div.sk-serial::before {content: \"\";position: absolute;border-left: 1px solid gray;box-sizing: border-box;top: 0;bottom: 0;left: 50%;z-index: 0;}#sk-container-id-5 div.sk-serial {display: flex;flex-direction: column;align-items: center;background-color: white;padding-right: 0.2em;padding-left: 0.2em;position: relative;}#sk-container-id-5 div.sk-item {position: relative;z-index: 1;}#sk-container-id-5 div.sk-parallel {display: flex;align-items: stretch;justify-content: center;background-color: white;position: relative;}#sk-container-id-5 div.sk-item::before, #sk-container-id-5 div.sk-parallel-item::before {content: \"\";position: absolute;border-left: 1px solid gray;box-sizing: border-box;top: 0;bottom: 0;left: 50%;z-index: -1;}#sk-container-id-5 div.sk-parallel-item {display: flex;flex-direction: column;z-index: 1;position: relative;background-color: white;}#sk-container-id-5 div.sk-parallel-item:first-child::after {align-self: flex-end;width: 50%;}#sk-container-id-5 div.sk-parallel-item:last-child::after {align-self: flex-start;width: 50%;}#sk-container-id-5 div.sk-parallel-item:only-child::after {width: 0;}#sk-container-id-5 div.sk-dashed-wrapped {border: 1px dashed gray;margin: 0 0.4em 0.5em 0.4em;box-sizing: border-box;padding-bottom: 0.4em;background-color: white;}#sk-container-id-5 div.sk-label label {font-family: monospace;font-weight: bold;display: inline-block;line-height: 1.2em;}#sk-container-id-5 div.sk-label-container {text-align: center;}#sk-container-id-5 div.sk-container {/* jupyter's `normalize.less` sets `[hidden] { display: none; }` but bootstrap.min.css set `[hidden] { display: none !important; }` so we also need the `!important` here to be able to override the default hidden behavior on the sphinx rendered scikit-learn.org. See: https://github.com/scikit-learn/scikit-learn/issues/21755 */display: inline-block !important;position: relative;}#sk-container-id-5 div.sk-text-repr-fallback {display: none;}</style><div id=\"sk-container-id-5\" class=\"sk-top-container\"><div class=\"sk-text-repr-fallback\"><pre>Pipeline(steps=[(&#x27;preprocessor&#x27;,\n",
              "                 ColumnTransformer(transformers=[(&#x27;num&#x27;, StandardScaler(),\n",
              "                                                  [&#x27;Number_of_Riders&#x27;,\n",
              "                                                   &#x27;Number_of_Drivers&#x27;,\n",
              "                                                   &#x27;Number_of_Past_Rides&#x27;,\n",
              "                                                   &#x27;Average_Ratings&#x27;,\n",
              "                                                   &#x27;Expected_Ride_Duration&#x27;]),\n",
              "                                                 (&#x27;loyl&#x27;,\n",
              "                                                  OrdinalEncoder(categories=[[&#x27;Regular&#x27;,\n",
              "                                                                              &#x27;Silver&#x27;,\n",
              "                                                                              &#x27;Gold&#x27;]]),\n",
              "                                                  [&#x27;Customer_Loyalty_Status&#x27;]),\n",
              "                                                 (&#x27;vehi&#x27;,\n",
              "                                                  OrdinalEncoder(categories=[[&#x27;Economy&#x27;,\n",
              "                                                                              &#x27;Premium&#x27;]]),\n",
              "                                                  [&#x27;Vehicle_Type&#x27;]),\n",
              "                                                 (&#x27;nomi&#x27;, OneHotEncoder(),\n",
              "                                                  [&#x27;Location_Category&#x27;,\n",
              "                                                   &#x27;Time_of_Booking&#x27;])])),\n",
              "                (&#x27;regressor&#x27;, SVR())])</pre><b>In a Jupyter environment, please rerun this cell to show the HTML representation or trust the notebook. <br />On GitHub, the HTML representation is unable to render, please try loading this page with nbviewer.org.</b></div><div class=\"sk-container\" hidden><div class=\"sk-item sk-dashed-wrapped\"><div class=\"sk-label-container\"><div class=\"sk-label sk-toggleable\"><input class=\"sk-toggleable__control sk-hidden--visually\" id=\"sk-estimator-id-46\" type=\"checkbox\" ><label for=\"sk-estimator-id-46\" class=\"sk-toggleable__label sk-toggleable__label-arrow\">Pipeline</label><div class=\"sk-toggleable__content\"><pre>Pipeline(steps=[(&#x27;preprocessor&#x27;,\n",
              "                 ColumnTransformer(transformers=[(&#x27;num&#x27;, StandardScaler(),\n",
              "                                                  [&#x27;Number_of_Riders&#x27;,\n",
              "                                                   &#x27;Number_of_Drivers&#x27;,\n",
              "                                                   &#x27;Number_of_Past_Rides&#x27;,\n",
              "                                                   &#x27;Average_Ratings&#x27;,\n",
              "                                                   &#x27;Expected_Ride_Duration&#x27;]),\n",
              "                                                 (&#x27;loyl&#x27;,\n",
              "                                                  OrdinalEncoder(categories=[[&#x27;Regular&#x27;,\n",
              "                                                                              &#x27;Silver&#x27;,\n",
              "                                                                              &#x27;Gold&#x27;]]),\n",
              "                                                  [&#x27;Customer_Loyalty_Status&#x27;]),\n",
              "                                                 (&#x27;vehi&#x27;,\n",
              "                                                  OrdinalEncoder(categories=[[&#x27;Economy&#x27;,\n",
              "                                                                              &#x27;Premium&#x27;]]),\n",
              "                                                  [&#x27;Vehicle_Type&#x27;]),\n",
              "                                                 (&#x27;nomi&#x27;, OneHotEncoder(),\n",
              "                                                  [&#x27;Location_Category&#x27;,\n",
              "                                                   &#x27;Time_of_Booking&#x27;])])),\n",
              "                (&#x27;regressor&#x27;, SVR())])</pre></div></div></div><div class=\"sk-serial\"><div class=\"sk-item sk-dashed-wrapped\"><div class=\"sk-label-container\"><div class=\"sk-label sk-toggleable\"><input class=\"sk-toggleable__control sk-hidden--visually\" id=\"sk-estimator-id-47\" type=\"checkbox\" ><label for=\"sk-estimator-id-47\" class=\"sk-toggleable__label sk-toggleable__label-arrow\">preprocessor: ColumnTransformer</label><div class=\"sk-toggleable__content\"><pre>ColumnTransformer(transformers=[(&#x27;num&#x27;, StandardScaler(),\n",
              "                                 [&#x27;Number_of_Riders&#x27;, &#x27;Number_of_Drivers&#x27;,\n",
              "                                  &#x27;Number_of_Past_Rides&#x27;, &#x27;Average_Ratings&#x27;,\n",
              "                                  &#x27;Expected_Ride_Duration&#x27;]),\n",
              "                                (&#x27;loyl&#x27;,\n",
              "                                 OrdinalEncoder(categories=[[&#x27;Regular&#x27;,\n",
              "                                                             &#x27;Silver&#x27;,\n",
              "                                                             &#x27;Gold&#x27;]]),\n",
              "                                 [&#x27;Customer_Loyalty_Status&#x27;]),\n",
              "                                (&#x27;vehi&#x27;,\n",
              "                                 OrdinalEncoder(categories=[[&#x27;Economy&#x27;,\n",
              "                                                             &#x27;Premium&#x27;]]),\n",
              "                                 [&#x27;Vehicle_Type&#x27;]),\n",
              "                                (&#x27;nomi&#x27;, OneHotEncoder(),\n",
              "                                 [&#x27;Location_Category&#x27;, &#x27;Time_of_Booking&#x27;])])</pre></div></div></div><div class=\"sk-parallel\"><div class=\"sk-parallel-item\"><div class=\"sk-item\"><div class=\"sk-label-container\"><div class=\"sk-label sk-toggleable\"><input class=\"sk-toggleable__control sk-hidden--visually\" id=\"sk-estimator-id-48\" type=\"checkbox\" ><label for=\"sk-estimator-id-48\" class=\"sk-toggleable__label sk-toggleable__label-arrow\">num</label><div class=\"sk-toggleable__content\"><pre>[&#x27;Number_of_Riders&#x27;, &#x27;Number_of_Drivers&#x27;, &#x27;Number_of_Past_Rides&#x27;, &#x27;Average_Ratings&#x27;, &#x27;Expected_Ride_Duration&#x27;]</pre></div></div></div><div class=\"sk-serial\"><div class=\"sk-item\"><div class=\"sk-estimator sk-toggleable\"><input class=\"sk-toggleable__control sk-hidden--visually\" id=\"sk-estimator-id-49\" type=\"checkbox\" ><label for=\"sk-estimator-id-49\" class=\"sk-toggleable__label sk-toggleable__label-arrow\">StandardScaler</label><div class=\"sk-toggleable__content\"><pre>StandardScaler()</pre></div></div></div></div></div></div><div class=\"sk-parallel-item\"><div class=\"sk-item\"><div class=\"sk-label-container\"><div class=\"sk-label sk-toggleable\"><input class=\"sk-toggleable__control sk-hidden--visually\" id=\"sk-estimator-id-50\" type=\"checkbox\" ><label for=\"sk-estimator-id-50\" class=\"sk-toggleable__label sk-toggleable__label-arrow\">loyl</label><div class=\"sk-toggleable__content\"><pre>[&#x27;Customer_Loyalty_Status&#x27;]</pre></div></div></div><div class=\"sk-serial\"><div class=\"sk-item\"><div class=\"sk-estimator sk-toggleable\"><input class=\"sk-toggleable__control sk-hidden--visually\" id=\"sk-estimator-id-51\" type=\"checkbox\" ><label for=\"sk-estimator-id-51\" class=\"sk-toggleable__label sk-toggleable__label-arrow\">OrdinalEncoder</label><div class=\"sk-toggleable__content\"><pre>OrdinalEncoder(categories=[[&#x27;Regular&#x27;, &#x27;Silver&#x27;, &#x27;Gold&#x27;]])</pre></div></div></div></div></div></div><div class=\"sk-parallel-item\"><div class=\"sk-item\"><div class=\"sk-label-container\"><div class=\"sk-label sk-toggleable\"><input class=\"sk-toggleable__control sk-hidden--visually\" id=\"sk-estimator-id-52\" type=\"checkbox\" ><label for=\"sk-estimator-id-52\" class=\"sk-toggleable__label sk-toggleable__label-arrow\">vehi</label><div class=\"sk-toggleable__content\"><pre>[&#x27;Vehicle_Type&#x27;]</pre></div></div></div><div class=\"sk-serial\"><div class=\"sk-item\"><div class=\"sk-estimator sk-toggleable\"><input class=\"sk-toggleable__control sk-hidden--visually\" id=\"sk-estimator-id-53\" type=\"checkbox\" ><label for=\"sk-estimator-id-53\" class=\"sk-toggleable__label sk-toggleable__label-arrow\">OrdinalEncoder</label><div class=\"sk-toggleable__content\"><pre>OrdinalEncoder(categories=[[&#x27;Economy&#x27;, &#x27;Premium&#x27;]])</pre></div></div></div></div></div></div><div class=\"sk-parallel-item\"><div class=\"sk-item\"><div class=\"sk-label-container\"><div class=\"sk-label sk-toggleable\"><input class=\"sk-toggleable__control sk-hidden--visually\" id=\"sk-estimator-id-54\" type=\"checkbox\" ><label for=\"sk-estimator-id-54\" class=\"sk-toggleable__label sk-toggleable__label-arrow\">nomi</label><div class=\"sk-toggleable__content\"><pre>[&#x27;Location_Category&#x27;, &#x27;Time_of_Booking&#x27;]</pre></div></div></div><div class=\"sk-serial\"><div class=\"sk-item\"><div class=\"sk-estimator sk-toggleable\"><input class=\"sk-toggleable__control sk-hidden--visually\" id=\"sk-estimator-id-55\" type=\"checkbox\" ><label for=\"sk-estimator-id-55\" class=\"sk-toggleable__label sk-toggleable__label-arrow\">OneHotEncoder</label><div class=\"sk-toggleable__content\"><pre>OneHotEncoder()</pre></div></div></div></div></div></div></div></div><div class=\"sk-item\"><div class=\"sk-estimator sk-toggleable\"><input class=\"sk-toggleable__control sk-hidden--visually\" id=\"sk-estimator-id-56\" type=\"checkbox\" ><label for=\"sk-estimator-id-56\" class=\"sk-toggleable__label sk-toggleable__label-arrow\">SVR</label><div class=\"sk-toggleable__content\"><pre>SVR()</pre></div></div></div></div></div></div></div>"
            ],
            "text/plain": [
              "Pipeline(steps=[('preprocessor',\n",
              "                 ColumnTransformer(transformers=[('num', StandardScaler(),\n",
              "                                                  ['Number_of_Riders',\n",
              "                                                   'Number_of_Drivers',\n",
              "                                                   'Number_of_Past_Rides',\n",
              "                                                   'Average_Ratings',\n",
              "                                                   'Expected_Ride_Duration']),\n",
              "                                                 ('loyl',\n",
              "                                                  OrdinalEncoder(categories=[['Regular',\n",
              "                                                                              'Silver',\n",
              "                                                                              'Gold']]),\n",
              "                                                  ['Customer_Loyalty_Status']),\n",
              "                                                 ('vehi',\n",
              "                                                  OrdinalEncoder(categories=[['Economy',\n",
              "                                                                              'Premium']]),\n",
              "                                                  ['Vehicle_Type']),\n",
              "                                                 ('nomi', OneHotEncoder(),\n",
              "                                                  ['Location_Category',\n",
              "                                                   'Time_of_Booking'])])),\n",
              "                ('regressor', SVR())])"
            ]
          },
          "execution_count": 44,
          "metadata": {},
          "output_type": "execute_result"
        }
      ],
      "source": [
        "SV_model"
      ]
    },
    {
      "cell_type": "markdown",
      "metadata": {
        "id": "paGDYX5aVfqT"
      },
      "source": [
        "# model accuracy without tuning"
      ]
    },
    {
      "cell_type": "code",
      "execution_count": null,
      "metadata": {
        "id": "tsN5ot_5VfqT"
      },
      "outputs": [],
      "source": []
    },
    {
      "cell_type": "code",
      "execution_count": null,
      "metadata": {
        "colab": {
          "base_uri": "https://localhost:8080/"
        },
        "id": "_IovnxAGVfqU",
        "outputId": "18b361b6-9296-4b58-8589-90e5bcfae77b"
      },
      "outputs": [
        {
          "name": "stdout",
          "output_type": "stream",
          "text": [
            "SVM w/o tuning: \n",
            "\n",
            "R2 Score (Test): 0.1272\n",
            "R2 Score (Train): 0.1012\n",
            "RMSE (Test): 77.6813\n",
            "RMSE (Train):84.5347\n",
            "\n",
            "\n"
          ]
        }
      ],
      "source": [
        "y_pred_test = SV_model.predict(X_test)\n",
        "y_pred_train = SV_model.predict(X_train)\n",
        "\n",
        "# Evaluate the model\n",
        "\n",
        "# Calculate R2 scores\n",
        "r2_score_test = r2_score(y_test, y_pred_test)\n",
        "r2_score_train = r2_score(y_train, y_pred_train)\n",
        "\n",
        "# Calculate mean squared error\n",
        "mse_test = mean_squared_error(y_test, y_pred_test)\n",
        "mse_train = mean_squared_error(y_train, y_pred_train)\n",
        "\n",
        "# Print the evaluation metrics\n",
        "print(\"SVM w/o tuning: \\n\")\n",
        "print(f\"R2 Score (Test): {r2_score_test:.4f}\")\n",
        "print(f\"R2 Score (Train): {r2_score_train:.4f}\")\n",
        "print(f\"RMSE (Test): {np.sqrt(mse_test):.4f}\")\n",
        "print(f\"RMSE (Train):{np.sqrt( mse_train):.4f}\")\n",
        "print(\"\\n\")"
      ]
    },
    {
      "cell_type": "markdown",
      "source": [
        "# model save"
      ],
      "metadata": {
        "id": "K_fY10xFJXyZ"
      }
    },
    {
      "cell_type": "code",
      "execution_count": null,
      "metadata": {
        "id": "GlrgPaA-VWQS"
      },
      "outputs": [],
      "source": [
        "import pickle\n",
        "with open('predictor.pickle', 'wb') as file:\n",
        "    pickle.dump(XG_model1, file)"
      ]
    },
    {
      "cell_type": "code",
      "execution_count": null,
      "metadata": {
        "id": "Zk-LOqwFVWf8"
      },
      "outputs": [],
      "source": [
        "from google.colab import files\n",
        "#files.download('predictor.pickle')"
      ]
    },
    {
      "cell_type": "code",
      "source": [],
      "metadata": {
        "id": "tPUqrKD0MsbH"
      },
      "execution_count": null,
      "outputs": []
    }
  ],
  "metadata": {
    "colab": {
      "provenance": []
    },
    "kernelspec": {
      "display_name": "Python 3",
      "name": "python3"
    },
    "language_info": {
      "name": "python"
    }
  },
  "nbformat": 4,
  "nbformat_minor": 0
}